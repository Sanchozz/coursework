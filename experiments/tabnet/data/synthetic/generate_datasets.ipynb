{
 "cells": [
  {
   "cell_type": "code",
   "execution_count": 1,
   "metadata": {},
   "outputs": [],
   "source": [
    "import numpy as np\n",
    "import pandas as pd\n",
    "from sklearn.model_selection import train_test_split"
   ]
  },
  {
   "cell_type": "code",
   "execution_count": 2,
   "metadata": {},
   "outputs": [],
   "source": [
    "def generate_XOR_labels(X, feats=[0, 1]):\n",
    "    y = np.exp(X[:,feats[0]]*X[:,feats[1]])\n",
    "\n",
    "    prob_1 = np.expand_dims(1 / (1+y) ,1)\n",
    "    prob_0 = np.expand_dims(y / (1+y) ,1)\n",
    "\n",
    "    y = np.concatenate((prob_0,prob_1), axis = 1)\n",
    "\n",
    "    return y"
   ]
  },
  {
   "cell_type": "code",
   "execution_count": 3,
   "metadata": {},
   "outputs": [],
   "source": [
    "def generate_orange_labels(X, feats=list(range(4))):\n",
    "    logit = np.exp(np.sum(X[:,feats]**2, axis = 1) - 4.0) \n",
    "\n",
    "    prob_1 = np.expand_dims(1 / (1+logit) ,1)\n",
    "    prob_0 = np.expand_dims(logit / (1+logit) ,1)\n",
    "\n",
    "    y = np.concatenate((prob_0,prob_1), axis = 1)\n",
    "\n",
    "    return y"
   ]
  },
  {
   "cell_type": "code",
   "execution_count": 4,
   "metadata": {},
   "outputs": [],
   "source": [
    "def generate_additive_labels(X, feats=[0, 1, 2, 3]):\n",
    "    logit = np.exp(-100 * np.sin(0.2*X[:, feats[0]]) + abs(X[:,feats[1]]) + X[:,feats[2]] + np.exp(-X[:,feats[3]])  - 2.4) \n",
    "\n",
    "    prob_1 = np.expand_dims(1 / (1+logit) ,1)\n",
    "    prob_0 = np.expand_dims(logit / (1+logit) ,1)\n",
    "\n",
    "    y = np.concatenate((prob_0,prob_1), axis = 1)\n",
    "\n",
    "    return y"
   ]
  },
  {
   "cell_type": "code",
   "execution_count": 5,
   "metadata": {},
   "outputs": [],
   "source": [
    "def generate_data(n=10000, datatype='', feats=[], size=11, seed = 0):\n",
    "    np.random.seed(seed)\n",
    "\n",
    "    X = np.random.randn(n, 11)\n",
    "\n",
    "    datatypes = None \n",
    "    \n",
    "    y = []\n",
    "    if datatype == 'orange_skin': \n",
    "        y = generate_orange_labels(X, feats) \n",
    "\n",
    "    elif datatype == 'XOR':\n",
    "        y = generate_XOR_labels(X, feats)    \n",
    "\n",
    "    elif datatype == 'nonlinear_additive':  \n",
    "        y = generate_additive_labels(X, feats) \n",
    "\n",
    "    elif datatype == 'switch':\n",
    "\n",
    "        # Construct X as a mixture of two Gaussians.\n",
    "        X[:n//2,-1] += 3\n",
    "        X[n//2:,-1] += -3\n",
    "        X1 = X[:n//2]; X2 = X[n//2:]\n",
    "\n",
    "        y1 = generate_orange_labels(X1, feats[0])\n",
    "        y2 = generate_additive_labels(X2, feats[1])\n",
    "\n",
    "        # Set the key features of X2 to be the 4-8th features.\n",
    "        X2[:,4:8],X2[:,:4] = X2[:,:4],X2[:,4:8]\n",
    "\n",
    "        X = np.concatenate([X1,X2], axis = 0)\n",
    "        y = np.concatenate([y1,y2], axis = 0) \n",
    "\n",
    "        # Used for evaluation purposes.\n",
    "        datatypes = np.array(['orange_skin'] * len(y1) + ['nonlinear_additive'] * len(y2)) \n",
    "\n",
    "        # Permute the instances randomly.\n",
    "        perm_inds = np.random.permutation(n)\n",
    "        X,y = X[perm_inds],y[perm_inds]\n",
    "        datatypes = datatypes[perm_inds]\n",
    "\n",
    "\n",
    "    return X, y, datatypes "
   ]
  },
  {
   "cell_type": "code",
   "execution_count": 6,
   "metadata": {},
   "outputs": [],
   "source": [
    "params = [\n",
    "    [\"XOR\", [0, 1], 0],\n",
    "    [\"orange_skin\", [0, 1, 2, 3], 1],\n",
    "    [\"nonlinear_additive\", [0, 1, 2, 3], 2],\n",
    "    [\"switch\", [[0, 1], [2, 3, 4, 5]], 3],\n",
    "    [\"switch\", [[0, 1], [2, 3, 4, 5]], 4],\n",
    "    [\"switch\", [[0, 1], [2, 3, 4, 5]], 5],\n",
    "]"
   ]
  },
  {
   "cell_type": "code",
   "execution_count": 7,
   "metadata": {},
   "outputs": [],
   "source": [
    "featnames = [\"X\" + str(i) for i in range(11)]\n",
    "target = \"TARGET\""
   ]
  },
  {
   "cell_type": "code",
   "execution_count": 8,
   "metadata": {},
   "outputs": [],
   "source": [
    "train_ratio = 0.70\n",
    "validation_ratio = 0.15\n",
    "test_ratio = 0.15"
   ]
  },
  {
   "cell_type": "code",
   "execution_count": 9,
   "metadata": {},
   "outputs": [],
   "source": [
    "n = 10000"
   ]
  },
  {
   "cell_type": "code",
   "execution_count": 10,
   "metadata": {},
   "outputs": [],
   "source": [
    "for i, param in enumerate(params):\n",
    "    X, y, d = generate_data(n, param[0], param[1], 11, param[2])\n",
    "    if d is None:\n",
    "        d = np.array([param[0]] * n)\n",
    "    \n",
    "    data = pd.DataFrame(X, columns=featnames)\n",
    "    data[\"TARGET\"] = [1 if x[0] > 0.5 else 0 for x in y]\n",
    "    datatypes = pd.DataFrame(d, columns=[\"type\"])\n",
    "    data.to_csv(\"syn\" + str(i + 1) + \"/data.csv\", index=False)\n",
    "    datatypes.to_csv(\"syn\" + str(i + 1) + \"/types.csv\", index=False)\n",
    "    \n",
    "    data_train, data_test, datatypes_train, datatypes_test = train_test_split(data, datatypes, test_size=1 - train_ratio, random_state=42, shuffle=True)\n",
    "    data_val, data_test, datatypes_val, datatypes_test = train_test_split(data_test, datatypes_test, test_size=test_ratio/(test_ratio + validation_ratio), random_state=42, shuffle=True)\n",
    "    \n",
    "    data_train.to_csv(\"syn\"+str(i + 1)+\"/train.csv\", index=False)\n",
    "    data_val.to_csv(\"syn\"+str(i + 1)+\"/val.csv\", index=False)\n",
    "    data_test.to_csv(\"syn\"+str(i + 1)+\"/test.csv\", index=False)\n",
    "    datatypes_train.to_csv(\"syn\"+str(i + 1)+\"/train_types.csv\", index=False)\n",
    "    datatypes_val.to_csv(\"syn\"+str(i + 1)+\"/val_types.csv\", index=False)\n",
    "    datatypes_test.to_csv(\"syn\"+str(i + 1)+\"/test_types.csv\", index=False)"
   ]
  }
 ],
 "metadata": {
  "kernelspec": {
   "display_name": "Python 3",
   "language": "python",
   "name": "python3"
  },
  "language_info": {
   "codemirror_mode": {
    "name": "ipython",
    "version": 3
   },
   "file_extension": ".py",
   "mimetype": "text/x-python",
   "name": "python",
   "nbconvert_exporter": "python",
   "pygments_lexer": "ipython3",
   "version": "3.8.5"
  }
 },
 "nbformat": 4,
 "nbformat_minor": 4
}
