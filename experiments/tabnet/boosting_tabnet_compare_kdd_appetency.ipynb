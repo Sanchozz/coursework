{
 "cells": [
  {
   "cell_type": "code",
   "execution_count": 16,
   "metadata": {},
   "outputs": [],
   "source": [
    "import numpy as np\n",
    "import pandas as pd\n",
    "import gc\n",
    "from lightgbm import LGBMClassifier\n",
    "from xgboost import XGBClassifier\n",
    "import lightgbm as lgb\n",
    "import xgboost as xgb\n",
    "from pytorch_tabnet.tab_model import TabNetClassifier\n",
    "import pickle\n",
    "import shap\n",
    "import matplotlib.pyplot as plt\n",
    "import xgboost\n",
    "\n",
    "from sklearn.preprocessing import LabelEncoder\n",
    "from sklearn.metrics import accuracy_score, roc_auc_score, confusion_matrix, log_loss\n",
    "from sklearn.feature_selection import VarianceThreshold\n",
    "from sklearn.model_selection import train_test_split\n",
    "\n",
    "from functools import partial\n",
    "\n",
    "from skopt.space import Real, Integer, Categorical\n",
    "from skopt.utils import use_named_args\n",
    "from skopt import gp_minimize\n",
    "from skopt.plots import plot_convergence\n",
    "\n",
    "from bo_parameters import *"
   ]
  },
  {
   "cell_type": "code",
   "execution_count": 2,
   "metadata": {},
   "outputs": [],
   "source": [
    "lgbm_tuned = {\n",
    "    \"learning_rate\" : 0.1281147437213422, \n",
    "    \"max_depth\" : 8, \n",
    "    \"n_estimators\" : 993\n",
    "}\n",
    "# lgbm_tuned += LIGHTGBM_PARAMS\n",
    "\n",
    "xgb_tuned = {\n",
    "    \"learning_rate\" : 0.11111908522416483, \n",
    "    \"max_depth\" : 7, \n",
    "    \"n_estimators\" : 343\n",
    "}\n",
    "# xgb_tuned += XGBOOST_PARAMS\n",
    "\n",
    "\n",
    "tabnet_tuned = {\n",
    "    \"gamma\" : 1.2917828325804677, \n",
    "    \"lambda_sparse\" : 0.0001, \n",
    "    \"n_steps\" : 3,\n",
    "    \"n_a\" : 32,\n",
    "    \"momentum\" : 0.98,\n",
    "}\n",
    "\n",
    "tabnet_tuned[\"n_d\"] = tabnet_tuned[\"n_a\"]\n",
    "\n",
    "tabnet_paper = {\n",
    "    \"gamma\" : 1.2, \n",
    "    \"lambda_sparse\" : 0.0001, \n",
    "    \"n_steps\" : 7,\n",
    "    \"n_a\" : 32,\n",
    "    \"momentum\" : 0.9,\n",
    "    \"optimizer_params\" : dict(lr=1e-2)\n",
    "}\n",
    "tabnet_paper[\"n_d\"] = tabnet_paper[\"n_a\"]\n",
    "\n",
    "xgb_paper = {\n",
    "    \"max_depth\" : 6, \n",
    "}\n",
    "\n",
    "lgbm_paper = {\n",
    "    \"num_leaves\" : 64,\n",
    "}"
   ]
  },
  {
   "cell_type": "code",
   "execution_count": 3,
   "metadata": {},
   "outputs": [],
   "source": [
    "train = pd.read_csv(\"data/kdd/small/appetency/train.csv\")\n",
    "valid = pd.read_csv(\"data/kdd/small/appetency/val.csv\")\n",
    "test = pd.read_csv(\"data/kdd/small/appetency/test.csv\")"
   ]
  },
  {
   "cell_type": "code",
   "execution_count": 4,
   "metadata": {},
   "outputs": [],
   "source": [
    "categorical_idx = list(range(190, train.shape[1] - 1))\n",
    "\n",
    "categorical_dims = [len(set(list(train.iloc[:, x].unique()) + list(valid.iloc[:, x].unique()) + list(test.iloc[:, x].unique()))) for x in categorical_idx]"
   ]
  },
  {
   "cell_type": "code",
   "execution_count": 5,
   "metadata": {},
   "outputs": [],
   "source": [
    "for idx in range(0, len(categorical_dims)):\n",
    "    if categorical_dims[idx] > 1:\n",
    "        train.iloc[:, categorical_idx[idx]] = [int(x) for x in train.iloc[:, categorical_idx[idx]]]\n",
    "        valid.iloc[:, categorical_idx[idx]] = [int(x) for x in valid.iloc[:, categorical_idx[idx]]]\n",
    "        test.iloc[:, categorical_idx[idx]] = [int(x) for x in test.iloc[:, categorical_idx[idx]]]\n",
    "    else:\n",
    "        train.iloc[:, categorical_idx[idx]] = [0] * train.shape[0]\n",
    "        valid.iloc[:, categorical_idx[idx]] = [0] * valid.shape[0]\n",
    "        test.iloc[:, categorical_idx[idx]] = [0] * test.shape[0]"
   ]
  },
  {
   "cell_type": "code",
   "execution_count": 6,
   "metadata": {},
   "outputs": [],
   "source": [
    "train = pd.concat([train, valid])"
   ]
  },
  {
   "cell_type": "code",
   "execution_count": 7,
   "metadata": {},
   "outputs": [],
   "source": [
    "train_X = train.drop([\"TARGET\"], axis=1)\n",
    "train_y = train[\"TARGET\"]\n",
    "\n",
    "test_X = test.drop([\"TARGET\"], axis=1)\n",
    "test_y = test[\"TARGET\"]"
   ]
  },
  {
   "cell_type": "code",
   "execution_count": 8,
   "metadata": {},
   "outputs": [
    {
     "name": "stderr",
     "output_type": "stream",
     "text": [
      "Using categorical_feature in Dataset.\n"
     ]
    },
    {
     "name": "stdout",
     "output_type": "stream",
     "text": [
      "[LightGBM] [Warning] Accuracy may be bad since you didn't explicitly set num_leaves OR 2^max_depth > num_leaves. (num_leaves=31).\n"
     ]
    },
    {
     "data": {
      "text/plain": [
       "LGBMClassifier(learning_rate=0.1281147437213422, max_depth=8, metric='auc',\n",
       "               n_estimators=993, objective='binary', random_state=42)"
      ]
     },
     "execution_count": 8,
     "metadata": {},
     "output_type": "execute_result"
    }
   ],
   "source": [
    "model_lgbm = LGBMClassifier(**{**lgbm_tuned, **LIGHTGBM_PARAMS})\n",
    "model_lgbm.fit(train_X, train_y, verbose=1, categorical_feature=categorical_idx)"
   ]
  },
  {
   "cell_type": "code",
   "execution_count": 9,
   "metadata": {},
   "outputs": [
    {
     "data": {
      "text/plain": [
       "LGBMClassifier(metric='auc', num_leaves=64, objective='binary', random_state=42)"
      ]
     },
     "execution_count": 9,
     "metadata": {},
     "output_type": "execute_result"
    }
   ],
   "source": [
    "model_lgbm_paper = LGBMClassifier(**{**lgbm_paper, **LIGHTGBM_PARAMS})\n",
    "model_lgbm_paper.fit(train_X, train_y, verbose=1, categorical_feature=categorical_idx)"
   ]
  },
  {
   "cell_type": "code",
   "execution_count": 10,
   "metadata": {
    "scrolled": true
   },
   "outputs": [
    {
     "name": "stderr",
     "output_type": "stream",
     "text": [
      "The use of label encoder in XGBClassifier is deprecated and will be removed in a future release. To remove this warning, do the following: 1) Pass option use_label_encoder=False when constructing XGBClassifier object; and 2) Encode your labels (y) as integers starting with 0, i.e. 0, 1, 2, ..., [num_class - 1].\n"
     ]
    },
    {
     "name": "stdout",
     "output_type": "stream",
     "text": [
      "[15:22:10] WARNING: ../src/learner.cc:541: \n",
      "Parameters: { silent } might not be used.\n",
      "\n",
      "  This may not be accurate due to some parameters are only used in language bindings but\n",
      "  passed down to XGBoost core.  Or some parameters are not used but slip through this\n",
      "  verification. Please open an issue if you find above cases.\n",
      "\n",
      "\n",
      "[15:22:11] WARNING: ../src/learner.cc:1061: Starting in XGBoost 1.3.0, the default evaluation metric used with the objective 'binary:logistic' was changed from 'error' to 'logloss'. Explicitly set eval_metric if you'd like to restore the old behavior.\n"
     ]
    },
    {
     "data": {
      "text/plain": [
       "XGBClassifier(base_score=0.5, booster='gbtree', colsample_bylevel=1,\n",
       "              colsample_bynode=1, colsample_bytree=1, gamma=0, gpu_id=-1,\n",
       "              importance_type='gain', interaction_constraints='',\n",
       "              learning_rate=0.11111908522416483, max_delta_step=0, max_depth=7,\n",
       "              min_child_weight=1, missing=nan, monotone_constraints='()',\n",
       "              n_estimators=343, n_jobs=-1, num_parallel_tree=1, random_state=42,\n",
       "              reg_alpha=0, reg_lambda=1, scale_pos_weight=1, silent=True,\n",
       "              subsample=1, tree_method='exact', validate_parameters=1,\n",
       "              verbosity=None)"
      ]
     },
     "execution_count": 10,
     "metadata": {},
     "output_type": "execute_result"
    }
   ],
   "source": [
    "model_xgb = XGBClassifier(**{**xgb_tuned, **XGBOOST_PARAMS})\n",
    "model_xgb.fit(train_X, train_y, verbose=1)"
   ]
  },
  {
   "cell_type": "code",
   "execution_count": 11,
   "metadata": {
    "scrolled": true
   },
   "outputs": [
    {
     "name": "stdout",
     "output_type": "stream",
     "text": [
      "[15:23:25] WARNING: ../src/learner.cc:541: \n",
      "Parameters: { silent } might not be used.\n",
      "\n",
      "  This may not be accurate due to some parameters are only used in language bindings but\n",
      "  passed down to XGBoost core.  Or some parameters are not used but slip through this\n",
      "  verification. Please open an issue if you find above cases.\n",
      "\n",
      "\n",
      "[15:23:26] WARNING: ../src/learner.cc:1061: Starting in XGBoost 1.3.0, the default evaluation metric used with the objective 'binary:logistic' was changed from 'error' to 'logloss'. Explicitly set eval_metric if you'd like to restore the old behavior.\n"
     ]
    },
    {
     "data": {
      "text/plain": [
       "XGBClassifier(base_score=0.5, booster='gbtree', colsample_bylevel=1,\n",
       "              colsample_bynode=1, colsample_bytree=1, gamma=0, gpu_id=-1,\n",
       "              importance_type='gain', interaction_constraints='',\n",
       "              learning_rate=0.300000012, max_delta_step=0, max_depth=6,\n",
       "              min_child_weight=1, missing=nan, monotone_constraints='()',\n",
       "              n_estimators=100, n_jobs=-1, num_parallel_tree=1, random_state=42,\n",
       "              reg_alpha=0, reg_lambda=1, scale_pos_weight=1, silent=True,\n",
       "              subsample=1, tree_method='exact', validate_parameters=1,\n",
       "              verbosity=None)"
      ]
     },
     "execution_count": 11,
     "metadata": {},
     "output_type": "execute_result"
    }
   ],
   "source": [
    "model_xgb_paper = XGBClassifier(**{**xgb_paper, **XGBOOST_PARAMS})\n",
    "model_xgb_paper.fit(train_X, train_y, verbose=1)"
   ]
  },
  {
   "cell_type": "code",
   "execution_count": 12,
   "metadata": {},
   "outputs": [],
   "source": [
    "TABNET_PARAMS[\"verbose\"] = 1"
   ]
  },
  {
   "cell_type": "code",
   "execution_count": 13,
   "metadata": {
    "scrolled": false
   },
   "outputs": [
    {
     "name": "stdout",
     "output_type": "stream",
     "text": [
      "Device used : cpu\n",
      "No early stopping will be performed, last training weights will be used.\n",
      "epoch 0  | loss: 0.45275 |  0:00:50s\n",
      "epoch 1  | loss: 0.13552 |  0:01:37s\n",
      "epoch 2  | loss: 0.1122  |  0:02:28s\n",
      "epoch 3  | loss: 0.10866 |  0:03:19s\n",
      "epoch 4  | loss: 0.10052 |  0:04:09s\n",
      "epoch 5  | loss: 0.09495 |  0:04:56s\n",
      "epoch 6  | loss: 0.09335 |  0:05:44s\n",
      "epoch 7  | loss: 0.09339 |  0:06:34s\n",
      "epoch 8  | loss: 0.09204 |  0:07:22s\n",
      "epoch 9  | loss: 0.0903  |  0:08:08s\n",
      "epoch 10 | loss: 0.0881  |  0:08:58s\n",
      "epoch 11 | loss: 0.08688 |  0:09:47s\n",
      "epoch 12 | loss: 0.08651 |  0:10:35s\n",
      "epoch 13 | loss: 0.08591 |  0:11:24s\n",
      "epoch 14 | loss: 0.08503 |  0:12:12s\n",
      "epoch 15 | loss: 0.08523 |  0:13:02s\n",
      "epoch 16 | loss: 0.08472 |  0:13:51s\n",
      "epoch 17 | loss: 0.08403 |  0:14:36s\n",
      "epoch 18 | loss: 0.08367 |  0:15:26s\n",
      "epoch 19 | loss: 0.08308 |  0:16:15s\n",
      "epoch 20 | loss: 0.08277 |  0:17:02s\n",
      "epoch 21 | loss: 0.08247 |  0:17:48s\n",
      "epoch 22 | loss: 0.08275 |  0:18:36s\n",
      "epoch 23 | loss: 0.08168 |  0:19:25s\n",
      "epoch 24 | loss: 0.08085 |  0:20:12s\n",
      "epoch 25 | loss: 0.07974 |  0:20:59s\n",
      "epoch 26 | loss: 0.07877 |  0:21:49s\n",
      "epoch 27 | loss: 0.07868 |  0:22:37s\n",
      "epoch 28 | loss: 0.07834 |  0:23:27s\n",
      "epoch 29 | loss: 0.07738 |  0:24:16s\n"
     ]
    }
   ],
   "source": [
    "model_tabnet = TabNetClassifier(**{**tabnet_tuned, **TABNET_PARAMS}, cat_idxs=categorical_idx, cat_dims=categorical_dims)\n",
    "model_tabnet.fit(train_X.values, train_y.values, max_epochs=30, batch_size=8192, virtual_batch_size=256)"
   ]
  },
  {
   "cell_type": "code",
   "execution_count": 14,
   "metadata": {
    "scrolled": true
   },
   "outputs": [
    {
     "name": "stdout",
     "output_type": "stream",
     "text": [
      "Device used : cpu\n",
      "No early stopping will be performed, last training weights will be used.\n",
      "epoch 0  | loss: 0.68364 |  0:01:05s\n",
      "epoch 1  | loss: 0.15025 |  0:02:10s\n",
      "epoch 2  | loss: 0.14513 |  0:03:12s\n",
      "epoch 3  | loss: 0.13577 |  0:04:17s\n",
      "epoch 4  | loss: 0.13261 |  0:05:19s\n",
      "epoch 5  | loss: 0.12932 |  0:06:19s\n",
      "epoch 6  | loss: 0.11857 |  0:07:25s\n",
      "epoch 7  | loss: 0.11329 |  0:08:30s\n",
      "epoch 8  | loss: 0.11013 |  0:09:31s\n",
      "epoch 9  | loss: 0.10445 |  0:10:35s\n",
      "epoch 10 | loss: 0.10074 |  0:11:38s\n",
      "epoch 11 | loss: 0.10024 |  0:12:41s\n",
      "epoch 12 | loss: 0.09873 |  0:13:43s\n",
      "epoch 13 | loss: 0.09217 |  0:14:48s\n",
      "epoch 14 | loss: 0.09167 |  0:15:52s\n",
      "epoch 15 | loss: 0.09026 |  0:16:58s\n",
      "epoch 16 | loss: 0.08836 |  0:18:04s\n",
      "epoch 17 | loss: 0.08998 |  0:19:08s\n",
      "epoch 18 | loss: 0.08803 |  0:20:14s\n",
      "epoch 19 | loss: 0.08802 |  0:21:20s\n",
      "epoch 20 | loss: 0.08541 |  0:22:23s\n",
      "epoch 21 | loss: 0.08599 |  0:23:28s\n",
      "epoch 22 | loss: 0.08623 |  0:24:33s\n",
      "epoch 23 | loss: 0.08545 |  0:25:37s\n",
      "epoch 24 | loss: 0.08535 |  0:26:42s\n",
      "epoch 25 | loss: 0.08427 |  0:27:47s\n",
      "epoch 26 | loss: 0.08891 |  0:28:53s\n",
      "epoch 27 | loss: 0.0896  |  0:29:56s\n",
      "epoch 28 | loss: 0.08592 |  0:30:59s\n",
      "epoch 29 | loss: 0.08367 |  0:32:01s\n",
      "epoch 30 | loss: 0.0851  |  0:33:04s\n",
      "epoch 31 | loss: 0.0845  |  0:34:08s\n",
      "epoch 32 | loss: 0.08355 |  0:35:11s\n",
      "epoch 33 | loss: 0.08699 |  0:36:13s\n",
      "epoch 34 | loss: 0.10341 |  0:37:17s\n",
      "epoch 35 | loss: 0.09885 |  0:38:22s\n",
      "epoch 36 | loss: 0.08927 |  0:39:27s\n",
      "epoch 37 | loss: 0.09104 |  0:40:30s\n",
      "epoch 38 | loss: 0.09368 |  0:41:04s\n",
      "epoch 39 | loss: 0.08754 |  0:41:38s\n",
      "epoch 40 | loss: 0.08493 |  0:42:12s\n",
      "epoch 41 | loss: 0.08431 |  0:42:45s\n",
      "epoch 42 | loss: 0.08341 |  0:43:18s\n",
      "epoch 43 | loss: 0.08368 |  0:43:53s\n",
      "epoch 44 | loss: 0.08421 |  0:44:26s\n"
     ]
    }
   ],
   "source": [
    "model_tabnet_paper = TabNetClassifier(**{**tabnet_paper, **TABNET_PARAMS}, cat_idxs=categorical_idx, cat_dims=categorical_dims)\n",
    "model_tabnet_paper.fit(train_X.values, train_y.values, max_epochs=45, batch_size=8192, virtual_batch_size=256)"
   ]
  },
  {
   "cell_type": "code",
   "execution_count": 175,
   "metadata": {},
   "outputs": [],
   "source": [
    "with open('model_tabnet_kdd_appetency.pickle', 'wb') as f:\n",
    "    pickle.dump(model_tabnet, f)\n",
    "with open('model_tabnet_paper_kdd_appetency.pickle', 'wb') as f:\n",
    "    pickle.dump(model_tabnet_paper, f)"
   ]
  },
  {
   "cell_type": "code",
   "execution_count": 10,
   "metadata": {},
   "outputs": [],
   "source": [
    "with open('model_tabnet.pickle', 'rb') as f:\n",
    "    model_tabnet = pickle.load(f)\n",
    "with open('model_tabnet_paper.pickle', 'rb') as f:\n",
    "    model_tabnet_paper = pickle.load(f)"
   ]
  },
  {
   "cell_type": "code",
   "execution_count": 64,
   "metadata": {},
   "outputs": [
    {
     "name": "stdout",
     "output_type": "stream",
     "text": [
      "LightGBM auc:  0.75436\n",
      "LightGBM Paper auc:  0.763391\n",
      "XGBoost auc:  0.764413\n",
      "XGBoost Paper auc:  0.767356\n",
      "TabNet auc:  0.772021\n",
      "TabNet Paper auc:  0.712255\n"
     ]
    }
   ],
   "source": [
    "print(\"LightGBM auc: \", round(roc_auc_score(test_y, model_lgbm.predict_proba(test_X)[:, 1]), 6))\n",
    "print(\"LightGBM Paper auc: \", round(roc_auc_score(test_y, model_lgbm_paper.predict_proba(test_X)[:, 1]), 6))\n",
    "print(\"XGBoost auc: \", round(roc_auc_score(test_y, model_xgb.predict_proba(test_X)[:, 1]), 6))\n",
    "print(\"XGBoost Paper auc: \", round(roc_auc_score(test_y, model_xgb_paper.predict_proba(test_X)[:, 1]), 6))\n",
    "print(\"TabNet auc: \", round(roc_auc_score(test_y, model_tabnet.predict_proba(test_X.values)[:, 1]), 6))\n",
    "print(\"TabNet Paper auc: \", round(roc_auc_score(test_y, model_tabnet_paper.predict_proba(test_X.values)[:, 1]), 6))"
   ]
  },
  {
   "cell_type": "code",
   "execution_count": 65,
   "metadata": {},
   "outputs": [
    {
     "name": "stdout",
     "output_type": "stream",
     "text": [
      "LightGBM acc:  0.982002\n",
      "LightGBM Paper acc:  0.981469\n",
      "XGBoost acc:  0.981869\n",
      "XGBoost Paper acc:  0.981869\n",
      "TabNet acc:  0.980269\n",
      "TabNet Paper acc:  0.982002\n"
     ]
    }
   ],
   "source": [
    "print(\"LightGBM acc: \", round(accuracy_score(test_y, model_lgbm.predict(test_X)), 6))\n",
    "print(\"LightGBM Paper acc: \", round(accuracy_score(test_y, model_lgbm_paper.predict(test_X)), 6))\n",
    "print(\"XGBoost acc: \", round(accuracy_score(test_y, model_xgb.predict(test_X)), 6))\n",
    "print(\"XGBoost Paper acc: \", round(accuracy_score(test_y, model_xgb_paper.predict(test_X)), 6))\n",
    "print(\"TabNet acc: \", round(accuracy_score(test_y, model_tabnet.predict(test_X.values)), 6))\n",
    "print(\"TabNet Paper acc: \", round(accuracy_score(test_y, model_tabnet_paper.predict(test_X.values)), 6))"
   ]
  },
  {
   "cell_type": "code",
   "execution_count": 17,
   "metadata": {},
   "outputs": [
    {
     "name": "stdout",
     "output_type": "stream",
     "text": [
      "LightGBM log_loss:  0.229265\n",
      "LightGBM Paper log_loss:  0.126765\n",
      "XGBoost log_loss:  0.095654\n",
      "XGBoost Paper log_loss:  0.088594\n",
      "TabNet log_loss:  0.088978\n",
      "TabNet Paper log_loss:  0.086604\n"
     ]
    }
   ],
   "source": [
    "print(\"LightGBM log_loss: \", round(log_loss(test_y, model_lgbm.predict_proba(test_X)), 6))\n",
    "print(\"LightGBM Paper log_loss: \", round(log_loss(test_y, model_lgbm_paper.predict_proba(test_X)), 6))\n",
    "print(\"XGBoost log_loss: \", round(log_loss(test_y, model_xgb.predict_proba(test_X)), 6))\n",
    "print(\"XGBoost Paper log_loss: \", round(log_loss(test_y, model_xgb_paper.predict_proba(test_X)), 6))\n",
    "print(\"TabNet log_loss: \", round(log_loss(test_y, model_tabnet.predict_proba(test_X.values)), 6))\n",
    "print(\"TabNet Paper log_loss: \", round(log_loss(test_y, model_tabnet_paper.predict_proba(test_X.values)), 6))"
   ]
  },
  {
   "cell_type": "code",
   "execution_count": 18,
   "metadata": {},
   "outputs": [],
   "source": [
    "importance_lgbm = list(enumerate(model_lgbm.feature_importances_))\n",
    "importance_lgbm_paper = list(enumerate(model_lgbm_paper.feature_importances_))\n",
    "importance_xgb = model_xgb.get_booster().get_score(importance_type='weight').items()\n",
    "importance_xgb_paper = model_xgb_paper.get_booster().get_score(importance_type='weight').items()\n",
    "importance_tabnet = list(enumerate(model_tabnet.feature_importances_))\n",
    "importance_tabnet_paper = list(enumerate(model_tabnet_paper.feature_importances_))"
   ]
  },
  {
   "cell_type": "code",
   "execution_count": 19,
   "metadata": {},
   "outputs": [],
   "source": [
    "importance_lgbm = sorted(importance_lgbm, key=lambda x: x[1], reverse=True)\n",
    "importance_lgbm = sorted(importance_lgbm_paper, key=lambda x: x[1], reverse=True)\n",
    "importance_xgb = sorted(importance_xgb, key=lambda x: x[1], reverse=True)\n",
    "importance_xgb_paper = sorted(importance_xgb_paper, key=lambda x: x[1], reverse=True)\n",
    "importance_tabnet = sorted(importance_tabnet, key=lambda x: x[1], reverse=True)\n",
    "importance_tabnet_paper = sorted(importance_tabnet_paper, key=lambda x: x[1], reverse=True)"
   ]
  },
  {
   "cell_type": "code",
   "execution_count": 20,
   "metadata": {
    "scrolled": true
   },
   "outputs": [
    {
     "data": {
      "image/png": "[encoded data removed]",
      "text/plain": [
       "<Figure size 576x684 with 1 Axes>"
      ]
     },
     "metadata": {
      "needs_background": "light"
     },
     "output_type": "display_data"
    }
   ],
   "source": [
    "shap_values = shap.TreeExplainer(model_xgb).shap_values(train_X)\n",
    "shap.summary_plot(shap_values, train_X, plot_type=\"bar\")"
   ]
  },
  {
   "cell_type": "code",
   "execution_count": 21,
   "metadata": {},
   "outputs": [
    {
     "data": {
      "image/png": "[encoded data removed]",
      "text/plain": [
       "<Figure size 576x684 with 1 Axes>"
      ]
     },
     "metadata": {
      "needs_background": "light"
     },
     "output_type": "display_data"
    }
   ],
   "source": [
    "shap_values_paper = shap.TreeExplainer(model_xgb_paper).shap_values(train_X)\n",
    "shap.summary_plot(shap_values_paper, train_X, plot_type=\"bar\")"
   ]
  },
  {
   "cell_type": "code",
   "execution_count": 22,
   "metadata": {},
   "outputs": [],
   "source": [
    "df_compare = pd.DataFrame([train_X.columns[x[0]] for x in importance_lgbm], columns=[\"LightGBM\"])\n",
    "df_compare[\"LightGBM_Paper\"] = [train_X.columns[x[0]] for x in importance_lgbm]\n",
    "df_compare[\"XGBoost\"] = [x[0] for x in importance_xgb] + list(set(train_X.columns[:-1]) - set([x[0] for x in importance_xgb])) + [train_X.columns[-1]]\n",
    "df_compare[\"XGBoost_Paper\"] = [x[0] for x in importance_xgb_paper] + list(set(train_X.columns[:-1]) - set([x[0] for x in importance_xgb_paper])) + [train_X.columns[-1]]\n",
    "df_compare[\"SHAP_XGBoost\"] = train_X.columns[np.argsort(np.abs(shap_values).mean(0))][::-1]\n",
    "df_compare[\"SHAP_XGBoost_Paper\"] = train_X.columns[np.argsort(np.abs(shap_values_paper).mean(0))][::-1]\n",
    "df_compare[\"TabNet\"] = [train_X.columns[x[0]] for x in importance_tabnet]\n",
    "df_compare[\"TabNet_Paper\"] = [train_X.columns[x[0]] for x in importance_tabnet_paper]"
   ]
  },
  {
   "cell_type": "code",
   "execution_count": 24,
   "metadata": {
    "scrolled": true
   },
   "outputs": [
    {
     "data": {
      "text/html": [
       "<div>\n",
       "<style scoped>\n",
       "    .dataframe tbody tr th:only-of-type {\n",
       "        vertical-align: middle;\n",
       "    }\n",
       "\n",
       "    .dataframe tbody tr th {\n",
       "        vertical-align: top;\n",
       "    }\n",
       "\n",
       "    .dataframe thead th {\n",
       "        text-align: right;\n",
       "    }\n",
       "</style>\n",
       "<table border=\"1\" class=\"dataframe\">\n",
       "  <thead>\n",
       "    <tr style=\"text-align: right;\">\n",
       "      <th></th>\n",
       "      <th>LightGBM</th>\n",
       "      <th>LightGBM_Paper</th>\n",
       "      <th>XGBoost</th>\n",
       "      <th>XGBoost_Paper</th>\n",
       "      <th>SHAP_XGBoost</th>\n",
       "      <th>SHAP_XGBoost_Paper</th>\n",
       "      <th>TabNet</th>\n",
       "      <th>TabNet_Paper</th>\n",
       "    </tr>\n",
       "  </thead>\n",
       "  <tbody>\n",
       "    <tr>\n",
       "      <th>0</th>\n",
       "      <td>Var126</td>\n",
       "      <td>Var126</td>\n",
       "      <td>Var113</td>\n",
       "      <td>Var217</td>\n",
       "      <td>Var126</td>\n",
       "      <td>Var126</td>\n",
       "      <td>Var218</td>\n",
       "      <td>Var126</td>\n",
       "    </tr>\n",
       "    <tr>\n",
       "      <th>1</th>\n",
       "      <td>Var113</td>\n",
       "      <td>Var113</td>\n",
       "      <td>Var199</td>\n",
       "      <td>Var199</td>\n",
       "      <td>Var218</td>\n",
       "      <td>Var218</td>\n",
       "      <td>Var21_imputed</td>\n",
       "      <td>Var88_imputed</td>\n",
       "    </tr>\n",
       "    <tr>\n",
       "      <th>2</th>\n",
       "      <td>Var202</td>\n",
       "      <td>Var202</td>\n",
       "      <td>Var202</td>\n",
       "      <td>Var222</td>\n",
       "      <td>Var216</td>\n",
       "      <td>Var216</td>\n",
       "      <td>Var190</td>\n",
       "      <td>Var59_imputed</td>\n",
       "    </tr>\n",
       "    <tr>\n",
       "      <th>3</th>\n",
       "      <td>Var198</td>\n",
       "      <td>Var198</td>\n",
       "      <td>Var222</td>\n",
       "      <td>Var192</td>\n",
       "      <td>Var189</td>\n",
       "      <td>Var189</td>\n",
       "      <td>Var126_imputed</td>\n",
       "      <td>Var156</td>\n",
       "    </tr>\n",
       "    <tr>\n",
       "      <th>4</th>\n",
       "      <td>Var199</td>\n",
       "      <td>Var199</td>\n",
       "      <td>Var217</td>\n",
       "      <td>Var202</td>\n",
       "      <td>Var13</td>\n",
       "      <td>Var200</td>\n",
       "      <td>Var187_imputed</td>\n",
       "      <td>Var164_imputed</td>\n",
       "    </tr>\n",
       "    <tr>\n",
       "      <th>5</th>\n",
       "      <td>Var94</td>\n",
       "      <td>Var94</td>\n",
       "      <td>Var192</td>\n",
       "      <td>Var198</td>\n",
       "      <td>Var153</td>\n",
       "      <td>Var81</td>\n",
       "      <td>Var216</td>\n",
       "      <td>Var201</td>\n",
       "    </tr>\n",
       "    <tr>\n",
       "      <th>6</th>\n",
       "      <td>Var28</td>\n",
       "      <td>Var28</td>\n",
       "      <td>Var220</td>\n",
       "      <td>Var113</td>\n",
       "      <td>Var28</td>\n",
       "      <td>Var217</td>\n",
       "      <td>Var34</td>\n",
       "      <td>Var229</td>\n",
       "    </tr>\n",
       "    <tr>\n",
       "      <th>7</th>\n",
       "      <td>Var73</td>\n",
       "      <td>Var73</td>\n",
       "      <td>Var198</td>\n",
       "      <td>Var126</td>\n",
       "      <td>Var199</td>\n",
       "      <td>Var199</td>\n",
       "      <td>Var178_imputed</td>\n",
       "      <td>Var130_imputed</td>\n",
       "    </tr>\n",
       "    <tr>\n",
       "      <th>8</th>\n",
       "      <td>Var81</td>\n",
       "      <td>Var81</td>\n",
       "      <td>Var204</td>\n",
       "      <td>Var81</td>\n",
       "      <td>Var81</td>\n",
       "      <td>Var113</td>\n",
       "      <td>Var112</td>\n",
       "      <td>Var147_imputed</td>\n",
       "    </tr>\n",
       "    <tr>\n",
       "      <th>9</th>\n",
       "      <td>Var192</td>\n",
       "      <td>Var192</td>\n",
       "      <td>Var216</td>\n",
       "      <td>Var220</td>\n",
       "      <td>Var217</td>\n",
       "      <td>Var28</td>\n",
       "      <td>Var111</td>\n",
       "      <td>Var84</td>\n",
       "    </tr>\n",
       "  </tbody>\n",
       "</table>\n",
       "</div>"
      ],
      "text/plain": [
       "  LightGBM LightGBM_Paper XGBoost XGBoost_Paper SHAP_XGBoost  \\\n",
       "0   Var126         Var126  Var113        Var217       Var126   \n",
       "1   Var113         Var113  Var199        Var199       Var218   \n",
       "2   Var202         Var202  Var202        Var222       Var216   \n",
       "3   Var198         Var198  Var222        Var192       Var189   \n",
       "4   Var199         Var199  Var217        Var202        Var13   \n",
       "5    Var94          Var94  Var192        Var198       Var153   \n",
       "6    Var28          Var28  Var220        Var113        Var28   \n",
       "7    Var73          Var73  Var198        Var126       Var199   \n",
       "8    Var81          Var81  Var204         Var81        Var81   \n",
       "9   Var192         Var192  Var216        Var220       Var217   \n",
       "\n",
       "  SHAP_XGBoost_Paper          TabNet    TabNet_Paper  \n",
       "0             Var126          Var218          Var126  \n",
       "1             Var218   Var21_imputed   Var88_imputed  \n",
       "2             Var216          Var190   Var59_imputed  \n",
       "3             Var189  Var126_imputed          Var156  \n",
       "4             Var200  Var187_imputed  Var164_imputed  \n",
       "5              Var81          Var216          Var201  \n",
       "6             Var217           Var34          Var229  \n",
       "7             Var199  Var178_imputed  Var130_imputed  \n",
       "8             Var113          Var112  Var147_imputed  \n",
       "9              Var28          Var111           Var84  "
      ]
     },
     "execution_count": 24,
     "metadata": {},
     "output_type": "execute_result"
    }
   ],
   "source": [
    "df_compare.head(10)"
   ]
  },
  {
   "cell_type": "code",
   "execution_count": 25,
   "metadata": {},
   "outputs": [],
   "source": [
    "top3_feats = {}\n",
    "top3_feats[\"xgboost\"] = [\"Var113\", \"Var199\", \"Var202\"]\n",
    "top3_feats[\"shap\"] = [\"Var126\", \"Var218\", \"Var216\"]\n",
    "top3_feats[\"tabnet\"] = [\"Var218\", \"Var21_imputed\", \"Var190\"]"
   ]
  },
  {
   "cell_type": "code",
   "execution_count": 26,
   "metadata": {},
   "outputs": [],
   "source": [
    "top10_feats = {}\n",
    "top10_feats[\"xgboost\"] = [\"Var113\", \"Var199\", \"Var202\", \"Var222\", \"Var217\", \"Var192\", \"Var220\", \"Var198\", \"Var204\", \"Var216\"]\n",
    "top10_feats[\"shap\"] = [\"Var126\", \"Var218\", \"Var216\", \"Var189\", \"Var13\", \"Var153\", \"Var28\", \"Var199\", \"Var81\", \"Var217\"]\n",
    "top10_feats[\"tabnet\"] = [\"Var218\", \"Var21_imputed\", \"Var190\", \"Var126_imputed\", \"Var187_imputed\", \"Var216\", \"Var34\", \"Var178_imputed\", \"Var112\", \"Var111\"]"
   ]
  },
  {
   "cell_type": "code",
   "execution_count": 90,
   "metadata": {},
   "outputs": [],
   "source": [
    "top_3 = []\n",
    "\n",
    "for i in range(len(df_compare.columns)):\n",
    "    for j in range(len(df_compare.columns)):\n",
    "        col1 = df_compare.columns[i]\n",
    "        col2 = df_compare.columns[j]\n",
    "        d = []\n",
    "        d.append(col1)\n",
    "        d.append(col2)\n",
    "        d.append(len(set(df_compare.loc[:2, col1]) & set(df_compare.loc[:2, col2])))\n",
    "        top_3.append(d)\n",
    "top_3_data = pd.DataFrame(top_3, columns=[\"Model1\", \"Model2\", \"Sim\"])\n",
    "    "
   ]
  },
  {
   "cell_type": "code",
   "execution_count": 91,
   "metadata": {},
   "outputs": [
    {
     "data": {
      "text/html": [
       "<div>\n",
       "<style scoped>\n",
       "    .dataframe tbody tr th:only-of-type {\n",
       "        vertical-align: middle;\n",
       "    }\n",
       "\n",
       "    .dataframe tbody tr th {\n",
       "        vertical-align: top;\n",
       "    }\n",
       "\n",
       "    .dataframe thead th {\n",
       "        text-align: right;\n",
       "    }\n",
       "</style>\n",
       "<table border=\"1\" class=\"dataframe\">\n",
       "  <thead>\n",
       "    <tr style=\"text-align: right;\">\n",
       "      <th>Model2</th>\n",
       "      <th>LightGBM</th>\n",
       "      <th>LightGBM_Paper</th>\n",
       "      <th>SHAP_XGBoost</th>\n",
       "      <th>SHAP_XGBoost_Paper</th>\n",
       "      <th>TabNet</th>\n",
       "      <th>TabNet_Paper</th>\n",
       "      <th>XGBoost</th>\n",
       "      <th>XGBoost_Paper</th>\n",
       "    </tr>\n",
       "    <tr>\n",
       "      <th>Model1</th>\n",
       "      <th></th>\n",
       "      <th></th>\n",
       "      <th></th>\n",
       "      <th></th>\n",
       "      <th></th>\n",
       "      <th></th>\n",
       "      <th></th>\n",
       "      <th></th>\n",
       "    </tr>\n",
       "  </thead>\n",
       "  <tbody>\n",
       "    <tr>\n",
       "      <th>LightGBM</th>\n",
       "      <td>3</td>\n",
       "      <td>3</td>\n",
       "      <td>1</td>\n",
       "      <td>1</td>\n",
       "      <td>0</td>\n",
       "      <td>1</td>\n",
       "      <td>2</td>\n",
       "      <td>0</td>\n",
       "    </tr>\n",
       "    <tr>\n",
       "      <th>LightGBM_Paper</th>\n",
       "      <td>3</td>\n",
       "      <td>3</td>\n",
       "      <td>1</td>\n",
       "      <td>1</td>\n",
       "      <td>0</td>\n",
       "      <td>1</td>\n",
       "      <td>2</td>\n",
       "      <td>0</td>\n",
       "    </tr>\n",
       "    <tr>\n",
       "      <th>SHAP_XGBoost</th>\n",
       "      <td>1</td>\n",
       "      <td>1</td>\n",
       "      <td>3</td>\n",
       "      <td>3</td>\n",
       "      <td>1</td>\n",
       "      <td>1</td>\n",
       "      <td>0</td>\n",
       "      <td>0</td>\n",
       "    </tr>\n",
       "    <tr>\n",
       "      <th>SHAP_XGBoost_Paper</th>\n",
       "      <td>1</td>\n",
       "      <td>1</td>\n",
       "      <td>3</td>\n",
       "      <td>3</td>\n",
       "      <td>1</td>\n",
       "      <td>1</td>\n",
       "      <td>0</td>\n",
       "      <td>0</td>\n",
       "    </tr>\n",
       "    <tr>\n",
       "      <th>TabNet</th>\n",
       "      <td>0</td>\n",
       "      <td>0</td>\n",
       "      <td>1</td>\n",
       "      <td>1</td>\n",
       "      <td>3</td>\n",
       "      <td>0</td>\n",
       "      <td>0</td>\n",
       "      <td>0</td>\n",
       "    </tr>\n",
       "    <tr>\n",
       "      <th>TabNet_Paper</th>\n",
       "      <td>1</td>\n",
       "      <td>1</td>\n",
       "      <td>1</td>\n",
       "      <td>1</td>\n",
       "      <td>0</td>\n",
       "      <td>3</td>\n",
       "      <td>0</td>\n",
       "      <td>0</td>\n",
       "    </tr>\n",
       "    <tr>\n",
       "      <th>XGBoost</th>\n",
       "      <td>2</td>\n",
       "      <td>2</td>\n",
       "      <td>0</td>\n",
       "      <td>0</td>\n",
       "      <td>0</td>\n",
       "      <td>0</td>\n",
       "      <td>3</td>\n",
       "      <td>1</td>\n",
       "    </tr>\n",
       "    <tr>\n",
       "      <th>XGBoost_Paper</th>\n",
       "      <td>0</td>\n",
       "      <td>0</td>\n",
       "      <td>0</td>\n",
       "      <td>0</td>\n",
       "      <td>0</td>\n",
       "      <td>0</td>\n",
       "      <td>1</td>\n",
       "      <td>3</td>\n",
       "    </tr>\n",
       "  </tbody>\n",
       "</table>\n",
       "</div>"
      ],
      "text/plain": [
       "Model2              LightGBM  LightGBM_Paper  SHAP_XGBoost  \\\n",
       "Model1                                                       \n",
       "LightGBM                   3               3             1   \n",
       "LightGBM_Paper             3               3             1   \n",
       "SHAP_XGBoost               1               1             3   \n",
       "SHAP_XGBoost_Paper         1               1             3   \n",
       "TabNet                     0               0             1   \n",
       "TabNet_Paper               1               1             1   \n",
       "XGBoost                    2               2             0   \n",
       "XGBoost_Paper              0               0             0   \n",
       "\n",
       "Model2              SHAP_XGBoost_Paper  TabNet  TabNet_Paper  XGBoost  \\\n",
       "Model1                                                                  \n",
       "LightGBM                             1       0             1        2   \n",
       "LightGBM_Paper                       1       0             1        2   \n",
       "SHAP_XGBoost                         3       1             1        0   \n",
       "SHAP_XGBoost_Paper                   3       1             1        0   \n",
       "TabNet                               1       3             0        0   \n",
       "TabNet_Paper                         1       0             3        0   \n",
       "XGBoost                              0       0             0        3   \n",
       "XGBoost_Paper                        0       0             0        1   \n",
       "\n",
       "Model2              XGBoost_Paper  \n",
       "Model1                             \n",
       "LightGBM                        0  \n",
       "LightGBM_Paper                  0  \n",
       "SHAP_XGBoost                    0  \n",
       "SHAP_XGBoost_Paper              0  \n",
       "TabNet                          0  \n",
       "TabNet_Paper                    0  \n",
       "XGBoost                         1  \n",
       "XGBoost_Paper                   3  "
      ]
     },
     "execution_count": 91,
     "metadata": {},
     "output_type": "execute_result"
    }
   ],
   "source": [
    "pd.pivot_table(top_3_data, values='Sim', index=['Model1'], columns=['Model2'])"
   ]
  },
  {
   "cell_type": "code",
   "execution_count": 92,
   "metadata": {},
   "outputs": [],
   "source": [
    "top_5 = []\n",
    "\n",
    "for i in range(len(df_compare.columns)):\n",
    "    for j in range(len(df_compare.columns)):\n",
    "        col1 = df_compare.columns[i]\n",
    "        col2 = df_compare.columns[j]\n",
    "        d = []\n",
    "        d.append(col1)\n",
    "        d.append(col2)\n",
    "        d.append(len(set(df_compare.loc[:4, col1]) & set(df_compare.loc[:4, col2])))\n",
    "        top_5.append(d)\n",
    "top_5_data = pd.DataFrame(top_5, columns=[\"Model1\", \"Model2\", \"Sim\"])\n",
    "    "
   ]
  },
  {
   "cell_type": "markdown",
   "metadata": {},
   "source": [
    "pd.pivot_table(top_5_data, values='Sim', index=['Model1'], columns=['Model2'])"
   ]
  },
  {
   "cell_type": "code",
   "execution_count": 94,
   "metadata": {},
   "outputs": [],
   "source": [
    "top_10 = []\n",
    "\n",
    "for i in range(len(df_compare.columns)):\n",
    "    for j in range(len(df_compare.columns)):\n",
    "        col1 = df_compare.columns[i]\n",
    "        col2 = df_compare.columns[j]\n",
    "        d = []\n",
    "        d.append(col1)\n",
    "        d.append(col2)\n",
    "        d.append(len(set(df_compare.loc[:9, col1]) & set(df_compare.loc[:9, col2])))\n",
    "        top_10.append(d)\n",
    "top_10_data = pd.DataFrame(top_10, columns=[\"Model1\", \"Model2\", \"Sim\"])\n",
    "    "
   ]
  },
  {
   "cell_type": "code",
   "execution_count": 95,
   "metadata": {},
   "outputs": [
    {
     "data": {
      "text/html": [
       "<div>\n",
       "<style scoped>\n",
       "    .dataframe tbody tr th:only-of-type {\n",
       "        vertical-align: middle;\n",
       "    }\n",
       "\n",
       "    .dataframe tbody tr th {\n",
       "        vertical-align: top;\n",
       "    }\n",
       "\n",
       "    .dataframe thead th {\n",
       "        text-align: right;\n",
       "    }\n",
       "</style>\n",
       "<table border=\"1\" class=\"dataframe\">\n",
       "  <thead>\n",
       "    <tr style=\"text-align: right;\">\n",
       "      <th>Model2</th>\n",
       "      <th>LightGBM</th>\n",
       "      <th>LightGBM_Paper</th>\n",
       "      <th>SHAP_XGBoost</th>\n",
       "      <th>SHAP_XGBoost_Paper</th>\n",
       "      <th>TabNet</th>\n",
       "      <th>TabNet_Paper</th>\n",
       "      <th>XGBoost</th>\n",
       "      <th>XGBoost_Paper</th>\n",
       "    </tr>\n",
       "    <tr>\n",
       "      <th>Model1</th>\n",
       "      <th></th>\n",
       "      <th></th>\n",
       "      <th></th>\n",
       "      <th></th>\n",
       "      <th></th>\n",
       "      <th></th>\n",
       "      <th></th>\n",
       "      <th></th>\n",
       "    </tr>\n",
       "  </thead>\n",
       "  <tbody>\n",
       "    <tr>\n",
       "      <th>LightGBM</th>\n",
       "      <td>10</td>\n",
       "      <td>10</td>\n",
       "      <td>4</td>\n",
       "      <td>5</td>\n",
       "      <td>0</td>\n",
       "      <td>1</td>\n",
       "      <td>5</td>\n",
       "      <td>7</td>\n",
       "    </tr>\n",
       "    <tr>\n",
       "      <th>LightGBM_Paper</th>\n",
       "      <td>10</td>\n",
       "      <td>10</td>\n",
       "      <td>4</td>\n",
       "      <td>5</td>\n",
       "      <td>0</td>\n",
       "      <td>1</td>\n",
       "      <td>5</td>\n",
       "      <td>7</td>\n",
       "    </tr>\n",
       "    <tr>\n",
       "      <th>SHAP_XGBoost</th>\n",
       "      <td>4</td>\n",
       "      <td>4</td>\n",
       "      <td>10</td>\n",
       "      <td>8</td>\n",
       "      <td>2</td>\n",
       "      <td>1</td>\n",
       "      <td>3</td>\n",
       "      <td>4</td>\n",
       "    </tr>\n",
       "    <tr>\n",
       "      <th>SHAP_XGBoost_Paper</th>\n",
       "      <td>5</td>\n",
       "      <td>5</td>\n",
       "      <td>8</td>\n",
       "      <td>10</td>\n",
       "      <td>2</td>\n",
       "      <td>1</td>\n",
       "      <td>4</td>\n",
       "      <td>5</td>\n",
       "    </tr>\n",
       "    <tr>\n",
       "      <th>TabNet</th>\n",
       "      <td>0</td>\n",
       "      <td>0</td>\n",
       "      <td>2</td>\n",
       "      <td>2</td>\n",
       "      <td>10</td>\n",
       "      <td>0</td>\n",
       "      <td>1</td>\n",
       "      <td>0</td>\n",
       "    </tr>\n",
       "    <tr>\n",
       "      <th>TabNet_Paper</th>\n",
       "      <td>1</td>\n",
       "      <td>1</td>\n",
       "      <td>1</td>\n",
       "      <td>1</td>\n",
       "      <td>0</td>\n",
       "      <td>10</td>\n",
       "      <td>0</td>\n",
       "      <td>1</td>\n",
       "    </tr>\n",
       "    <tr>\n",
       "      <th>XGBoost</th>\n",
       "      <td>5</td>\n",
       "      <td>5</td>\n",
       "      <td>3</td>\n",
       "      <td>4</td>\n",
       "      <td>1</td>\n",
       "      <td>0</td>\n",
       "      <td>10</td>\n",
       "      <td>8</td>\n",
       "    </tr>\n",
       "    <tr>\n",
       "      <th>XGBoost_Paper</th>\n",
       "      <td>7</td>\n",
       "      <td>7</td>\n",
       "      <td>4</td>\n",
       "      <td>5</td>\n",
       "      <td>0</td>\n",
       "      <td>1</td>\n",
       "      <td>8</td>\n",
       "      <td>10</td>\n",
       "    </tr>\n",
       "  </tbody>\n",
       "</table>\n",
       "</div>"
      ],
      "text/plain": [
       "Model2              LightGBM  LightGBM_Paper  SHAP_XGBoost  \\\n",
       "Model1                                                       \n",
       "LightGBM                  10              10             4   \n",
       "LightGBM_Paper            10              10             4   \n",
       "SHAP_XGBoost               4               4            10   \n",
       "SHAP_XGBoost_Paper         5               5             8   \n",
       "TabNet                     0               0             2   \n",
       "TabNet_Paper               1               1             1   \n",
       "XGBoost                    5               5             3   \n",
       "XGBoost_Paper              7               7             4   \n",
       "\n",
       "Model2              SHAP_XGBoost_Paper  TabNet  TabNet_Paper  XGBoost  \\\n",
       "Model1                                                                  \n",
       "LightGBM                             5       0             1        5   \n",
       "LightGBM_Paper                       5       0             1        5   \n",
       "SHAP_XGBoost                         8       2             1        3   \n",
       "SHAP_XGBoost_Paper                  10       2             1        4   \n",
       "TabNet                               2      10             0        1   \n",
       "TabNet_Paper                         1       0            10        0   \n",
       "XGBoost                              4       1             0       10   \n",
       "XGBoost_Paper                        5       0             1        8   \n",
       "\n",
       "Model2              XGBoost_Paper  \n",
       "Model1                             \n",
       "LightGBM                        7  \n",
       "LightGBM_Paper                  7  \n",
       "SHAP_XGBoost                    4  \n",
       "SHAP_XGBoost_Paper              5  \n",
       "TabNet                          0  \n",
       "TabNet_Paper                    1  \n",
       "XGBoost                         8  \n",
       "XGBoost_Paper                  10  "
      ]
     },
     "execution_count": 95,
     "metadata": {},
     "output_type": "execute_result"
    }
   ],
   "source": [
    "pd.pivot_table(top_10_data, values='Sim', index=['Model1'], columns=['Model2'])"
   ]
  },
  {
   "cell_type": "code",
   "execution_count": 29,
   "metadata": {
    "scrolled": true
   },
   "outputs": [
    {
     "name": "stderr",
     "output_type": "stream",
     "text": [
      "The use of label encoder in XGBClassifier is deprecated and will be removed in a future release. To remove this warning, do the following: 1) Pass option use_label_encoder=False when constructing XGBClassifier object; and 2) Encode your labels (y) as integers starting with 0, i.e. 0, 1, 2, ..., [num_class - 1].\n"
     ]
    },
    {
     "name": "stdout",
     "output_type": "stream",
     "text": [
      "[16:51:13] WARNING: ../src/learner.cc:541: \n",
      "Parameters: { silent } might not be used.\n",
      "\n",
      "  This may not be accurate due to some parameters are only used in language bindings but\n",
      "  passed down to XGBoost core.  Or some parameters are not used but slip through this\n",
      "  verification. Please open an issue if you find above cases.\n",
      "\n",
      "\n",
      "[16:51:13] WARNING: ../src/learner.cc:1061: Starting in XGBoost 1.3.0, the default evaluation metric used with the objective 'binary:logistic' was changed from 'error' to 'logloss'. Explicitly set eval_metric if you'd like to restore the old behavior.\n",
      "Device used : cpu\n",
      "No early stopping will be performed, last training weights will be used.\n",
      "epoch 0  | loss: 0.13339 |  0:00:05s\n",
      "epoch 1  | loss: 0.09092 |  0:00:11s\n",
      "epoch 2  | loss: 0.09012 |  0:00:17s\n",
      "epoch 3  | loss: 0.0895  |  0:00:23s\n",
      "epoch 4  | loss: 0.08739 |  0:00:29s\n",
      "epoch 5  | loss: 0.08385 |  0:00:34s\n",
      "epoch 6  | loss: 0.08206 |  0:00:40s\n",
      "epoch 7  | loss: 0.07749 |  0:00:46s\n",
      "epoch 8  | loss: 0.07403 |  0:00:52s\n",
      "epoch 9  | loss: 0.07249 |  0:00:57s\n",
      "epoch 10 | loss: 0.07005 |  0:01:03s\n",
      "epoch 11 | loss: 0.07046 |  0:01:08s\n",
      "epoch 12 | loss: 0.06709 |  0:01:14s\n",
      "epoch 13 | loss: 0.06575 |  0:01:20s\n",
      "epoch 14 | loss: 0.06419 |  0:01:25s\n",
      "epoch 15 | loss: 0.06293 |  0:01:31s\n",
      "epoch 16 | loss: 0.06554 |  0:01:37s\n",
      "epoch 17 | loss: 0.06298 |  0:01:44s\n",
      "epoch 18 | loss: 0.06104 |  0:01:50s\n",
      "epoch 19 | loss: 0.06148 |  0:01:56s\n",
      "epoch 20 | loss: 0.06171 |  0:02:02s\n",
      "epoch 21 | loss: 0.0602  |  0:02:07s\n",
      "epoch 22 | loss: 0.06473 |  0:02:13s\n",
      "epoch 23 | loss: 0.06281 |  0:02:19s\n",
      "epoch 24 | loss: 0.05967 |  0:02:25s\n",
      "epoch 25 | loss: 0.06206 |  0:02:30s\n",
      "epoch 26 | loss: 0.05989 |  0:02:36s\n",
      "epoch 27 | loss: 0.05788 |  0:02:42s\n",
      "epoch 28 | loss: 0.05847 |  0:02:47s\n",
      "epoch 29 | loss: 0.05799 |  0:02:53s\n"
     ]
    },
    {
     "name": "stderr",
     "output_type": "stream",
     "text": [
      "The use of label encoder in XGBClassifier is deprecated and will be removed in a future release. To remove this warning, do the following: 1) Pass option use_label_encoder=False when constructing XGBClassifier object; and 2) Encode your labels (y) as integers starting with 0, i.e. 0, 1, 2, ..., [num_class - 1].\n"
     ]
    },
    {
     "name": "stdout",
     "output_type": "stream",
     "text": [
      "[16:54:18] WARNING: ../src/learner.cc:541: \n",
      "Parameters: { silent } might not be used.\n",
      "\n",
      "  This may not be accurate due to some parameters are only used in language bindings but\n",
      "  passed down to XGBoost core.  Or some parameters are not used but slip through this\n",
      "  verification. Please open an issue if you find above cases.\n",
      "\n",
      "\n",
      "[16:54:18] WARNING: ../src/learner.cc:1061: Starting in XGBoost 1.3.0, the default evaluation metric used with the objective 'binary:logistic' was changed from 'error' to 'logloss'. Explicitly set eval_metric if you'd like to restore the old behavior.\n",
      "Device used : cpu\n",
      "No early stopping will be performed, last training weights will be used.\n",
      "epoch 0  | loss: 0.10293 |  0:00:05s\n",
      "epoch 1  | loss: 0.07967 |  0:00:11s\n",
      "epoch 2  | loss: 0.07885 |  0:00:17s\n",
      "epoch 3  | loss: 0.07963 |  0:00:23s\n",
      "epoch 4  | loss: 0.07755 |  0:00:29s\n",
      "epoch 5  | loss: 0.07747 |  0:00:34s\n",
      "epoch 6  | loss: 0.07681 |  0:00:40s\n",
      "epoch 7  | loss: 0.07728 |  0:00:47s\n",
      "epoch 8  | loss: 0.07561 |  0:00:54s\n",
      "epoch 9  | loss: 0.07482 |  0:01:00s\n",
      "epoch 10 | loss: 0.07521 |  0:01:05s\n",
      "epoch 11 | loss: 0.07472 |  0:01:11s\n",
      "epoch 12 | loss: 0.0734  |  0:01:17s\n",
      "epoch 13 | loss: 0.07366 |  0:01:23s\n",
      "epoch 14 | loss: 0.07334 |  0:01:29s\n",
      "epoch 15 | loss: 0.07285 |  0:01:35s\n",
      "epoch 16 | loss: 0.0733  |  0:01:41s\n",
      "epoch 17 | loss: 0.07319 |  0:01:47s\n",
      "epoch 18 | loss: 0.07313 |  0:01:52s\n",
      "epoch 19 | loss: 0.07371 |  0:01:58s\n",
      "epoch 20 | loss: 0.07291 |  0:02:04s\n",
      "epoch 21 | loss: 0.07335 |  0:02:10s\n",
      "epoch 22 | loss: 0.07292 |  0:02:16s\n",
      "epoch 23 | loss: 0.07335 |  0:02:21s\n",
      "epoch 24 | loss: 0.07286 |  0:02:27s\n",
      "epoch 25 | loss: 0.07263 |  0:02:33s\n",
      "epoch 26 | loss: 0.07264 |  0:02:38s\n",
      "epoch 27 | loss: 0.07255 |  0:02:44s\n",
      "epoch 28 | loss: 0.07239 |  0:02:50s\n",
      "epoch 29 | loss: 0.07216 |  0:02:57s\n"
     ]
    },
    {
     "name": "stderr",
     "output_type": "stream",
     "text": [
      "The use of label encoder in XGBClassifier is deprecated and will be removed in a future release. To remove this warning, do the following: 1) Pass option use_label_encoder=False when constructing XGBClassifier object; and 2) Encode your labels (y) as integers starting with 0, i.e. 0, 1, 2, ..., [num_class - 1].\n"
     ]
    },
    {
     "name": "stdout",
     "output_type": "stream",
     "text": [
      "[16:57:20] WARNING: ../src/learner.cc:541: \n",
      "Parameters: { silent } might not be used.\n",
      "\n",
      "  This may not be accurate due to some parameters are only used in language bindings but\n",
      "  passed down to XGBoost core.  Or some parameters are not used but slip through this\n",
      "  verification. Please open an issue if you find above cases.\n",
      "\n",
      "\n",
      "[16:57:21] WARNING: ../src/learner.cc:1061: Starting in XGBoost 1.3.0, the default evaluation metric used with the objective 'binary:logistic' was changed from 'error' to 'logloss'. Explicitly set eval_metric if you'd like to restore the old behavior.\n",
      "Device used : cpu\n",
      "No early stopping will be performed, last training weights will be used.\n",
      "epoch 0  | loss: 0.14081 |  0:00:05s\n",
      "epoch 1  | loss: 0.08728 |  0:00:11s\n",
      "epoch 2  | loss: 0.08782 |  0:00:17s\n",
      "epoch 3  | loss: 0.08629 |  0:00:23s\n",
      "epoch 4  | loss: 0.0858  |  0:00:29s\n",
      "epoch 5  | loss: 0.08577 |  0:00:35s\n",
      "epoch 6  | loss: 0.08485 |  0:00:41s\n",
      "epoch 7  | loss: 0.08522 |  0:00:47s\n",
      "epoch 8  | loss: 0.08518 |  0:00:52s\n",
      "epoch 9  | loss: 0.08599 |  0:00:58s\n",
      "epoch 10 | loss: 0.08616 |  0:01:04s\n",
      "epoch 11 | loss: 0.08494 |  0:01:11s\n",
      "epoch 12 | loss: 0.08515 |  0:01:17s\n",
      "epoch 13 | loss: 0.08491 |  0:01:23s\n",
      "epoch 14 | loss: 0.08477 |  0:01:29s\n",
      "epoch 15 | loss: 0.08497 |  0:01:35s\n",
      "epoch 16 | loss: 0.08558 |  0:01:41s\n",
      "epoch 17 | loss: 0.08469 |  0:01:49s\n",
      "epoch 18 | loss: 0.08501 |  0:01:57s\n",
      "epoch 19 | loss: 0.08467 |  0:02:04s\n",
      "epoch 20 | loss: 0.08455 |  0:02:10s\n",
      "epoch 21 | loss: 0.08484 |  0:02:16s\n",
      "epoch 22 | loss: 0.08505 |  0:02:22s\n",
      "epoch 23 | loss: 0.08455 |  0:02:28s\n",
      "epoch 24 | loss: 0.0849  |  0:02:34s\n",
      "epoch 25 | loss: 0.08462 |  0:02:40s\n",
      "epoch 26 | loss: 0.08456 |  0:02:46s\n",
      "epoch 27 | loss: 0.08492 |  0:02:52s\n",
      "epoch 28 | loss: 0.08484 |  0:02:58s\n",
      "epoch 29 | loss: 0.08452 |  0:03:04s\n"
     ]
    }
   ],
   "source": [
    "top3_results = []\n",
    "for model, feats in top3_feats.items():\n",
    "    train_X_slice = train_X[feats]\n",
    "    test_X_slice = test_X[feats]\n",
    "    cat_feats = set(train_X_slice.columns) & set([train_X.columns[x] for x in categorical_idx])\n",
    "    cat_idx = sorted([list(train_X_slice.columns).index(x) for x in cat_feats])\n",
    "    cat_dims = [len(set(list(train_X_slice.iloc[:, x].unique()) + list(test_X_slice.iloc[:, x].unique()))) for x in cat_idx]\n",
    "    \n",
    "    model_xgb = XGBClassifier(**{**xgb_tuned, **XGBOOST_PARAMS})\n",
    "    model_xgb.fit(train_X_slice, train_y, verbose=1)\n",
    "    top3_results.append([model, \"XGBoost\", \"acc\", round(accuracy_score(test_y, model_xgb.predict(test_X_slice)), 6)])\n",
    "    top3_results.append([model, \"XGBoost\", \"auc\", round(roc_auc_score(test_y, model_xgb.predict_proba(test_X_slice)[:, 1]), 6)])\n",
    "    result = []\n",
    "    model_tabnet = TabNetClassifier(**{**tabnet_tuned, **TABNET_PARAMS}, cat_idxs=cat_idx, cat_dims=cat_dims)\n",
    "    model_tabnet.fit(train_X_slice.values, train_y.values, max_epochs=30)\n",
    "    top3_results.append([model, \"TabNet\", \"acc\", round(accuracy_score(test_y, model_tabnet.predict(test_X_slice.values)), 6)])\n",
    "    top3_results.append([model, \"TabNet\", \"auc\", round(roc_auc_score(test_y, model_tabnet.predict_proba(test_X_slice.values)[:, 1]), 6)])\n",
    "    "
   ]
  },
  {
   "cell_type": "code",
   "execution_count": 30,
   "metadata": {},
   "outputs": [],
   "source": [
    "top_3_scores = pd.DataFrame(top3_results, columns=[\"Features\", \"Model\", \"Score\", \"Value\"])"
   ]
  },
  {
   "cell_type": "code",
   "execution_count": 31,
   "metadata": {},
   "outputs": [
    {
     "data": {
      "text/html": [
       "<div>\n",
       "<style scoped>\n",
       "    .dataframe tbody tr th:only-of-type {\n",
       "        vertical-align: middle;\n",
       "    }\n",
       "\n",
       "    .dataframe tbody tr th {\n",
       "        vertical-align: top;\n",
       "    }\n",
       "\n",
       "    .dataframe thead tr th {\n",
       "        text-align: left;\n",
       "    }\n",
       "\n",
       "    .dataframe thead tr:last-of-type th {\n",
       "        text-align: right;\n",
       "    }\n",
       "</style>\n",
       "<table border=\"1\" class=\"dataframe\">\n",
       "  <thead>\n",
       "    <tr>\n",
       "      <th>Model</th>\n",
       "      <th colspan=\"2\" halign=\"left\">TabNet</th>\n",
       "      <th colspan=\"2\" halign=\"left\">XGBoost</th>\n",
       "    </tr>\n",
       "    <tr>\n",
       "      <th>Score</th>\n",
       "      <th>acc</th>\n",
       "      <th>auc</th>\n",
       "      <th>acc</th>\n",
       "      <th>auc</th>\n",
       "    </tr>\n",
       "    <tr>\n",
       "      <th>Features</th>\n",
       "      <th></th>\n",
       "      <th></th>\n",
       "      <th></th>\n",
       "      <th></th>\n",
       "    </tr>\n",
       "  </thead>\n",
       "  <tbody>\n",
       "    <tr>\n",
       "      <th>shap</th>\n",
       "      <td>0.982002</td>\n",
       "      <td>0.758138</td>\n",
       "      <td>0.982002</td>\n",
       "      <td>0.775170</td>\n",
       "    </tr>\n",
       "    <tr>\n",
       "      <th>tabnet</th>\n",
       "      <td>0.982002</td>\n",
       "      <td>0.684538</td>\n",
       "      <td>0.982002</td>\n",
       "      <td>0.685575</td>\n",
       "    </tr>\n",
       "    <tr>\n",
       "      <th>xgboost</th>\n",
       "      <td>0.982002</td>\n",
       "      <td>0.649726</td>\n",
       "      <td>0.981869</td>\n",
       "      <td>0.586327</td>\n",
       "    </tr>\n",
       "  </tbody>\n",
       "</table>\n",
       "</div>"
      ],
      "text/plain": [
       "Model       TabNet             XGBoost          \n",
       "Score          acc       auc       acc       auc\n",
       "Features                                        \n",
       "shap      0.982002  0.758138  0.982002  0.775170\n",
       "tabnet    0.982002  0.684538  0.982002  0.685575\n",
       "xgboost   0.982002  0.649726  0.981869  0.586327"
      ]
     },
     "execution_count": 31,
     "metadata": {},
     "output_type": "execute_result"
    }
   ],
   "source": [
    "pd.pivot_table(top_3_scores, values='Value', index=['Features'], columns=['Model', \"Score\"])"
   ]
  },
  {
   "cell_type": "code",
   "execution_count": 32,
   "metadata": {
    "scrolled": true
   },
   "outputs": [
    {
     "name": "stderr",
     "output_type": "stream",
     "text": [
      "The use of label encoder in XGBClassifier is deprecated and will be removed in a future release. To remove this warning, do the following: 1) Pass option use_label_encoder=False when constructing XGBClassifier object; and 2) Encode your labels (y) as integers starting with 0, i.e. 0, 1, 2, ..., [num_class - 1].\n"
     ]
    },
    {
     "name": "stdout",
     "output_type": "stream",
     "text": [
      "[17:03:12] WARNING: ../src/learner.cc:541: \n",
      "Parameters: { silent } might not be used.\n",
      "\n",
      "  This may not be accurate due to some parameters are only used in language bindings but\n",
      "  passed down to XGBoost core.  Or some parameters are not used but slip through this\n",
      "  verification. Please open an issue if you find above cases.\n",
      "\n",
      "\n",
      "[17:03:12] WARNING: ../src/learner.cc:1061: Starting in XGBoost 1.3.0, the default evaluation metric used with the objective 'binary:logistic' was changed from 'error' to 'logloss'. Explicitly set eval_metric if you'd like to restore the old behavior.\n",
      "Device used : cpu\n",
      "No early stopping will be performed, last training weights will be used.\n",
      "epoch 0  | loss: 0.16808 |  0:00:11s\n",
      "epoch 1  | loss: 0.09161 |  0:00:25s\n",
      "epoch 2  | loss: 0.08997 |  0:00:38s\n",
      "epoch 3  | loss: 0.08913 |  0:00:50s\n",
      "epoch 4  | loss: 0.08933 |  0:01:02s\n",
      "epoch 5  | loss: 0.08839 |  0:01:15s\n",
      "epoch 6  | loss: 0.0867  |  0:01:28s\n",
      "epoch 7  | loss: 0.08603 |  0:01:41s\n",
      "epoch 8  | loss: 0.08523 |  0:01:54s\n",
      "epoch 9  | loss: 0.0844  |  0:02:06s\n",
      "epoch 10 | loss: 0.08157 |  0:02:18s\n",
      "epoch 11 | loss: 0.0806  |  0:02:30s\n",
      "epoch 12 | loss: 0.07904 |  0:02:42s\n",
      "epoch 13 | loss: 0.07763 |  0:02:54s\n",
      "epoch 14 | loss: 0.0745  |  0:03:07s\n",
      "epoch 15 | loss: 0.07218 |  0:03:19s\n",
      "epoch 16 | loss: 0.07175 |  0:03:33s\n",
      "epoch 17 | loss: 0.07116 |  0:03:46s\n",
      "epoch 18 | loss: 0.07125 |  0:03:59s\n",
      "epoch 19 | loss: 0.06821 |  0:04:11s\n",
      "epoch 20 | loss: 0.06545 |  0:04:24s\n",
      "epoch 21 | loss: 0.06603 |  0:04:37s\n",
      "epoch 22 | loss: 0.06449 |  0:04:50s\n",
      "epoch 23 | loss: 0.06683 |  0:05:02s\n",
      "epoch 24 | loss: 0.0642  |  0:05:15s\n",
      "epoch 25 | loss: 0.06512 |  0:05:26s\n",
      "epoch 26 | loss: 0.06191 |  0:05:38s\n",
      "epoch 27 | loss: 0.05968 |  0:05:53s\n",
      "epoch 28 | loss: 0.05794 |  0:06:07s\n",
      "epoch 29 | loss: 0.05521 |  0:06:20s\n"
     ]
    },
    {
     "name": "stderr",
     "output_type": "stream",
     "text": [
      "The use of label encoder in XGBClassifier is deprecated and will be removed in a future release. To remove this warning, do the following: 1) Pass option use_label_encoder=False when constructing XGBClassifier object; and 2) Encode your labels (y) as integers starting with 0, i.e. 0, 1, 2, ..., [num_class - 1].\n"
     ]
    },
    {
     "name": "stdout",
     "output_type": "stream",
     "text": [
      "[17:09:51] WARNING: ../src/learner.cc:541: \n",
      "Parameters: { silent } might not be used.\n",
      "\n",
      "  This may not be accurate due to some parameters are only used in language bindings but\n",
      "  passed down to XGBoost core.  Or some parameters are not used but slip through this\n",
      "  verification. Please open an issue if you find above cases.\n",
      "\n",
      "\n",
      "[17:09:51] WARNING: ../src/learner.cc:1061: Starting in XGBoost 1.3.0, the default evaluation metric used with the objective 'binary:logistic' was changed from 'error' to 'logloss'. Explicitly set eval_metric if you'd like to restore the old behavior.\n",
      "Device used : cpu\n",
      "No early stopping will be performed, last training weights will be used.\n",
      "epoch 0  | loss: 0.12541 |  0:00:11s\n",
      "epoch 1  | loss: 0.08223 |  0:00:22s\n",
      "epoch 2  | loss: 0.08004 |  0:00:33s\n",
      "epoch 3  | loss: 0.07834 |  0:00:45s\n",
      "epoch 4  | loss: 0.07807 |  0:00:57s\n",
      "epoch 5  | loss: 0.07736 |  0:01:12s\n",
      "epoch 6  | loss: 0.07738 |  0:01:25s\n",
      "epoch 7  | loss: 0.07704 |  0:01:38s\n",
      "epoch 8  | loss: 0.07603 |  0:01:51s\n",
      "epoch 9  | loss: 0.07548 |  0:02:04s\n",
      "epoch 10 | loss: 0.07469 |  0:02:16s\n",
      "epoch 11 | loss: 0.07517 |  0:02:29s\n",
      "epoch 12 | loss: 0.07448 |  0:02:42s\n",
      "epoch 13 | loss: 0.07282 |  0:02:54s\n",
      "epoch 14 | loss: 0.07253 |  0:03:07s\n",
      "epoch 15 | loss: 0.07176 |  0:03:21s\n",
      "epoch 16 | loss: 0.07152 |  0:03:33s\n",
      "epoch 17 | loss: 0.07198 |  0:03:46s\n",
      "epoch 18 | loss: 0.07258 |  0:03:58s\n",
      "epoch 19 | loss: 0.0712  |  0:04:10s\n",
      "epoch 20 | loss: 0.06988 |  0:04:23s\n",
      "epoch 21 | loss: 0.06875 |  0:04:35s\n",
      "epoch 22 | loss: 0.068   |  0:04:49s\n",
      "epoch 23 | loss: 0.06972 |  0:05:02s\n",
      "epoch 24 | loss: 0.06847 |  0:05:13s\n",
      "epoch 25 | loss: 0.06777 |  0:05:25s\n",
      "epoch 26 | loss: 0.06725 |  0:05:37s\n",
      "epoch 27 | loss: 0.06593 |  0:05:50s\n",
      "epoch 28 | loss: 0.06667 |  0:06:02s\n",
      "epoch 29 | loss: 0.06613 |  0:06:15s\n"
     ]
    },
    {
     "name": "stderr",
     "output_type": "stream",
     "text": [
      "The use of label encoder in XGBClassifier is deprecated and will be removed in a future release. To remove this warning, do the following: 1) Pass option use_label_encoder=False when constructing XGBClassifier object; and 2) Encode your labels (y) as integers starting with 0, i.e. 0, 1, 2, ..., [num_class - 1].\n"
     ]
    },
    {
     "name": "stdout",
     "output_type": "stream",
     "text": [
      "[17:16:25] WARNING: ../src/learner.cc:541: \n",
      "Parameters: { silent } might not be used.\n",
      "\n",
      "  This may not be accurate due to some parameters are only used in language bindings but\n",
      "  passed down to XGBoost core.  Or some parameters are not used but slip through this\n",
      "  verification. Please open an issue if you find above cases.\n",
      "\n",
      "\n",
      "[17:16:25] WARNING: ../src/learner.cc:1061: Starting in XGBoost 1.3.0, the default evaluation metric used with the objective 'binary:logistic' was changed from 'error' to 'logloss'. Explicitly set eval_metric if you'd like to restore the old behavior.\n",
      "Device used : cpu\n",
      "No early stopping will be performed, last training weights will be used.\n",
      "epoch 0  | loss: 0.13801 |  0:00:12s\n",
      "epoch 1  | loss: 0.08897 |  0:00:23s\n",
      "epoch 2  | loss: 0.08666 |  0:00:36s\n",
      "epoch 3  | loss: 0.0866  |  0:00:48s\n",
      "epoch 4  | loss: 0.08604 |  0:01:00s\n",
      "epoch 5  | loss: 0.08432 |  0:01:13s\n",
      "epoch 6  | loss: 0.08412 |  0:01:26s\n",
      "epoch 7  | loss: 0.08473 |  0:01:38s\n",
      "epoch 8  | loss: 0.08559 |  0:01:51s\n",
      "epoch 9  | loss: 0.08445 |  0:02:04s\n",
      "epoch 10 | loss: 0.0835  |  0:02:16s\n",
      "epoch 11 | loss: 0.08366 |  0:02:29s\n",
      "epoch 12 | loss: 0.08419 |  0:02:43s\n",
      "epoch 13 | loss: 0.08469 |  0:02:57s\n",
      "epoch 14 | loss: 0.08372 |  0:03:11s\n",
      "epoch 15 | loss: 0.08326 |  0:03:23s\n",
      "epoch 16 | loss: 0.08247 |  0:03:36s\n",
      "epoch 17 | loss: 0.08199 |  0:03:49s\n",
      "epoch 18 | loss: 0.08201 |  0:04:02s\n",
      "epoch 19 | loss: 0.08191 |  0:04:15s\n",
      "epoch 20 | loss: 0.08112 |  0:04:28s\n",
      "epoch 21 | loss: 0.08013 |  0:04:42s\n",
      "epoch 22 | loss: 0.08036 |  0:04:56s\n",
      "epoch 23 | loss: 0.08081 |  0:05:10s\n",
      "epoch 24 | loss: 0.08039 |  0:05:25s\n",
      "epoch 25 | loss: 0.08146 |  0:05:39s\n",
      "epoch 26 | loss: 0.0807  |  0:05:49s\n",
      "epoch 27 | loss: 0.07992 |  0:05:56s\n",
      "epoch 28 | loss: 0.07974 |  0:06:02s\n",
      "epoch 29 | loss: 0.07972 |  0:06:09s\n"
     ]
    }
   ],
   "source": [
    "top10_results = []\n",
    "for model, feats in top10_feats.items():\n",
    "    train_X_slice = train_X[feats]\n",
    "    test_X_slice = test_X[feats]\n",
    "    cat_feats = set(train_X_slice.columns) & set([train_X.columns[x] for x in categorical_idx])\n",
    "    cat_idx = sorted([list(train_X_slice.columns).index(x) for x in cat_feats])\n",
    "    cat_dims = [len(set(list(train_X_slice.iloc[:, x].unique()) + list(test_X_slice.iloc[:, x].unique()))) for x in cat_idx]\n",
    "    \n",
    "    model_xgb = XGBClassifier(**{**xgb_tuned, **XGBOOST_PARAMS})\n",
    "    model_xgb.fit(train_X_slice, train_y, verbose=1)\n",
    "    top10_results.append([model, \"XGBoost\", \"acc\", round(accuracy_score(test_y, model_xgb.predict(test_X_slice)), 6)])\n",
    "    top10_results.append([model, \"XGBoost\", \"auc\", round(roc_auc_score(test_y, model_xgb.predict_proba(test_X_slice)[:, 1]), 6)])\n",
    "    result = []\n",
    "    model_tabnet = TabNetClassifier(**{**tabnet_tuned, **TABNET_PARAMS}, cat_idxs=cat_idx, cat_dims=cat_dims)\n",
    "    model_tabnet.fit(train_X_slice.values, train_y.values, max_epochs=30)\n",
    "    top10_results.append([model, \"TabNet\", \"acc\", round(accuracy_score(test_y, model_tabnet.predict(test_X_slice.values)), 6)])\n",
    "    top10_results.append([model, \"TabNet\", \"auc\", round(roc_auc_score(test_y, model_tabnet.predict_proba(test_X_slice.values)[:, 1]), 6)])\n",
    "    "
   ]
  },
  {
   "cell_type": "code",
   "execution_count": 33,
   "metadata": {},
   "outputs": [],
   "source": [
    "top_10_scores = pd.DataFrame(top10_results, columns=[\"Features\", \"Model\", \"Score\", \"Value\"])"
   ]
  },
  {
   "cell_type": "code",
   "execution_count": 34,
   "metadata": {},
   "outputs": [
    {
     "data": {
      "text/html": [
       "<div>\n",
       "<style scoped>\n",
       "    .dataframe tbody tr th:only-of-type {\n",
       "        vertical-align: middle;\n",
       "    }\n",
       "\n",
       "    .dataframe tbody tr th {\n",
       "        vertical-align: top;\n",
       "    }\n",
       "\n",
       "    .dataframe thead tr th {\n",
       "        text-align: left;\n",
       "    }\n",
       "\n",
       "    .dataframe thead tr:last-of-type th {\n",
       "        text-align: right;\n",
       "    }\n",
       "</style>\n",
       "<table border=\"1\" class=\"dataframe\">\n",
       "  <thead>\n",
       "    <tr>\n",
       "      <th>Model</th>\n",
       "      <th colspan=\"2\" halign=\"left\">TabNet</th>\n",
       "      <th colspan=\"2\" halign=\"left\">XGBoost</th>\n",
       "    </tr>\n",
       "    <tr>\n",
       "      <th>Score</th>\n",
       "      <th>acc</th>\n",
       "      <th>auc</th>\n",
       "      <th>acc</th>\n",
       "      <th>auc</th>\n",
       "    </tr>\n",
       "    <tr>\n",
       "      <th>Features</th>\n",
       "      <th></th>\n",
       "      <th></th>\n",
       "      <th></th>\n",
       "      <th></th>\n",
       "    </tr>\n",
       "  </thead>\n",
       "  <tbody>\n",
       "    <tr>\n",
       "      <th>shap</th>\n",
       "      <td>0.975603</td>\n",
       "      <td>0.744122</td>\n",
       "      <td>0.981736</td>\n",
       "      <td>0.758761</td>\n",
       "    </tr>\n",
       "    <tr>\n",
       "      <th>tabnet</th>\n",
       "      <td>0.982002</td>\n",
       "      <td>0.636967</td>\n",
       "      <td>0.982002</td>\n",
       "      <td>0.709242</td>\n",
       "    </tr>\n",
       "    <tr>\n",
       "      <th>xgboost</th>\n",
       "      <td>0.978403</td>\n",
       "      <td>0.600809</td>\n",
       "      <td>0.982002</td>\n",
       "      <td>0.613696</td>\n",
       "    </tr>\n",
       "  </tbody>\n",
       "</table>\n",
       "</div>"
      ],
      "text/plain": [
       "Model       TabNet             XGBoost          \n",
       "Score          acc       auc       acc       auc\n",
       "Features                                        \n",
       "shap      0.975603  0.744122  0.981736  0.758761\n",
       "tabnet    0.982002  0.636967  0.982002  0.709242\n",
       "xgboost   0.978403  0.600809  0.982002  0.613696"
      ]
     },
     "execution_count": 34,
     "metadata": {},
     "output_type": "execute_result"
    }
   ],
   "source": [
    "pd.pivot_table(top_10_scores, values='Value', index=['Features'], columns=['Model', \"Score\"])"
   ]
  },
  {
   "cell_type": "code",
   "execution_count": null,
   "metadata": {},
   "outputs": [],
   "source": []
  }
 ],
 "metadata": {
  "kernelspec": {
   "display_name": "Python 3",
   "language": "python",
   "name": "python3"
  },
  "language_info": {
   "codemirror_mode": {
    "name": "ipython",
    "version": 3
   },
   "file_extension": ".py",
   "mimetype": "text/x-python",
   "name": "python",
   "nbconvert_exporter": "python",
   "pygments_lexer": "ipython3",
   "version": "3.8.5"
  }
 },
 "nbformat": 4,
 "nbformat_minor": 4
}
