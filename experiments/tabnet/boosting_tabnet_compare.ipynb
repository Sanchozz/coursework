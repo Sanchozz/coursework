{
 "cells": [
  {
   "cell_type": "code",
   "execution_count": 1,
   "metadata": {},
   "outputs": [],
   "source": [
    "import numpy as np\n",
    "import pandas as pd\n",
    "import gc\n",
    "from lightgbm import LGBMClassifier\n",
    "from xgboost import XGBClassifier\n",
    "import lightgbm as lgb\n",
    "import xgboost as xgb\n",
    "from pytorch_tabnet.tab_model import TabNetClassifier\n",
    "import pickle\n",
    "import shap\n",
    "import matplotlib.pyplot as plt\n",
    "import xgboost\n",
    "\n",
    "from sklearn.preprocessing import LabelEncoder\n",
    "from sklearn.metrics import accuracy_score, roc_auc_score, confusion_matrix\n",
    "from sklearn.feature_selection import VarianceThreshold\n",
    "from sklearn.model_selection import train_test_split\n",
    "\n",
    "from functools import partial\n",
    "\n",
    "from skopt.space import Real, Integer, Categorical\n",
    "from skopt.utils import use_named_args\n",
    "from skopt import gp_minimize\n",
    "from skopt.plots import plot_convergence\n",
    "\n",
    "from bo_parameters import *"
   ]
  },
  {
   "cell_type": "code",
   "execution_count": 3,
   "metadata": {},
   "outputs": [],
   "source": [
    "lgbm_tuned = {\n",
    "    \"learning_rate\" : 0.10284216487315759, \n",
    "    \"max_depth\" : 4, \n",
    "    \"n_estimators\" : 955\n",
    "}\n",
    "# lgbm_tuned += LIGHTGBM_PARAMS\n",
    "\n",
    "xgb_tuned = {\n",
    "    \"learning_rate\" : 0.3317433223693123, \n",
    "    \"max_depth\" : 4, \n",
    "    \"n_estimators\" : 772\n",
    "}\n",
    "# xgb_tuned += XGBOOST_PARAMS\n",
    "\n",
    "tabnet_tuned = {\n",
    "    \"gamma\" : 1.0131059206061017, \n",
    "    \"lambda_sparse\" : 0.0051151725754103195, \n",
    "    \"n_steps\" : 10,\n",
    "    \"n_a\" : 54,\n",
    "}\n",
    "tabnet_tuned[\"n_d\"] = tabnet_tuned[\"n_a\"]\n",
    "\n",
    "tabnet_paper = {\n",
    "    \"gamma\" : 1.5, \n",
    "    \"lambda_sparse\" : 0.0001, \n",
    "    \"n_steps\" : 5,\n",
    "    \"n_a\" : 16,\n",
    "    \"momentum\" : 0.98,\n",
    "}\n",
    "tabnet_paper[\"n_d\"] = tabnet_paper[\"n_a\"]\n",
    "\n",
    "xgb_paper = {\n",
    "    \"base_score\" : 0.5,\n",
    "    \"max_depth\" : 5, \n",
    "    \"n_estimators\" : 500\n",
    "}"
   ]
  },
  {
   "cell_type": "code",
   "execution_count": 4,
   "metadata": {},
   "outputs": [],
   "source": [
    "column_names = [\"age\", \"workclass\", \"fnlwgt\", \"education\", \"education_num\", \"martial_status\", \"occupation\", \"relationship\",\n",
    "               \"race\", \"sex\", \"capital_gain\", \"capital_loss\", \"hours_per_week\", \"native_country\", \"TARGET\"]"
   ]
  },
  {
   "cell_type": "code",
   "execution_count": 5,
   "metadata": {},
   "outputs": [],
   "source": [
    "data = pd.read_csv(\"data/census_income/train.csv\", names=column_names, header=0)"
   ]
  },
  {
   "cell_type": "code",
   "execution_count": 6,
   "metadata": {},
   "outputs": [],
   "source": [
    "train = pd.read_csv(\"data/census_income/train.csv\", names=column_names, header=0)\n",
    "valid = pd.read_csv(\"data/census_income/val.csv\", names=column_names, header=0)\n",
    "test = pd.read_csv(\"data/census_income/test.csv\", names=column_names, header=0)"
   ]
  },
  {
   "cell_type": "code",
   "execution_count": 6,
   "metadata": {},
   "outputs": [],
   "source": [
    "column_names = {\n",
    "    0 : \"age\",\n",
    "    1 : \"workclass\",\n",
    "    2 : \"fnlwgt\",\n",
    "    3 : \"education\",\n",
    "    4 : \"education_num\",\n",
    "    5 : \"martial_status\",\n",
    "    6 : \"occupation\",\n",
    "    7 : \"relationship\",\n",
    "    8 : \"race\",\n",
    "    9 : \"sex\", \n",
    "    10 : \"capital_gain\",\n",
    "    11 : \"capital_loss\",\n",
    "    12 : \"hours_per_week\",\n",
    "    13 : \"native_country\"\n",
    "}"
   ]
  },
  {
   "cell_type": "code",
   "execution_count": 7,
   "metadata": {},
   "outputs": [
    {
     "data": {
      "text/html": [
       "<div>\n",
       "<style scoped>\n",
       "    .dataframe tbody tr th:only-of-type {\n",
       "        vertical-align: middle;\n",
       "    }\n",
       "\n",
       "    .dataframe tbody tr th {\n",
       "        vertical-align: top;\n",
       "    }\n",
       "\n",
       "    .dataframe thead th {\n",
       "        text-align: right;\n",
       "    }\n",
       "</style>\n",
       "<table border=\"1\" class=\"dataframe\">\n",
       "  <thead>\n",
       "    <tr style=\"text-align: right;\">\n",
       "      <th></th>\n",
       "      <th>age</th>\n",
       "      <th>workclass</th>\n",
       "      <th>fnlwgt</th>\n",
       "      <th>education</th>\n",
       "      <th>education_num</th>\n",
       "      <th>martial_status</th>\n",
       "      <th>occupation</th>\n",
       "      <th>relationship</th>\n",
       "      <th>race</th>\n",
       "      <th>sex</th>\n",
       "      <th>capital_gain</th>\n",
       "      <th>capital_loss</th>\n",
       "      <th>hours_per_week</th>\n",
       "      <th>native_country</th>\n",
       "      <th>TARGET</th>\n",
       "    </tr>\n",
       "  </thead>\n",
       "  <tbody>\n",
       "    <tr>\n",
       "      <th>0</th>\n",
       "      <td>34</td>\n",
       "      <td>6</td>\n",
       "      <td>56460</td>\n",
       "      <td>11</td>\n",
       "      <td>9</td>\n",
       "      <td>2</td>\n",
       "      <td>5</td>\n",
       "      <td>5</td>\n",
       "      <td>4</td>\n",
       "      <td>0</td>\n",
       "      <td>0</td>\n",
       "      <td>2179</td>\n",
       "      <td>12</td>\n",
       "      <td>39</td>\n",
       "      <td>0</td>\n",
       "    </tr>\n",
       "    <tr>\n",
       "      <th>1</th>\n",
       "      <td>48</td>\n",
       "      <td>6</td>\n",
       "      <td>243631</td>\n",
       "      <td>15</td>\n",
       "      <td>10</td>\n",
       "      <td>2</td>\n",
       "      <td>3</td>\n",
       "      <td>0</td>\n",
       "      <td>0</td>\n",
       "      <td>1</td>\n",
       "      <td>7688</td>\n",
       "      <td>0</td>\n",
       "      <td>40</td>\n",
       "      <td>39</td>\n",
       "      <td>1</td>\n",
       "    </tr>\n",
       "    <tr>\n",
       "      <th>2</th>\n",
       "      <td>23</td>\n",
       "      <td>7</td>\n",
       "      <td>56402</td>\n",
       "      <td>15</td>\n",
       "      <td>10</td>\n",
       "      <td>2</td>\n",
       "      <td>10</td>\n",
       "      <td>0</td>\n",
       "      <td>4</td>\n",
       "      <td>1</td>\n",
       "      <td>0</td>\n",
       "      <td>0</td>\n",
       "      <td>30</td>\n",
       "      <td>39</td>\n",
       "      <td>0</td>\n",
       "    </tr>\n",
       "    <tr>\n",
       "      <th>3</th>\n",
       "      <td>56</td>\n",
       "      <td>2</td>\n",
       "      <td>255406</td>\n",
       "      <td>11</td>\n",
       "      <td>9</td>\n",
       "      <td>0</td>\n",
       "      <td>4</td>\n",
       "      <td>1</td>\n",
       "      <td>4</td>\n",
       "      <td>0</td>\n",
       "      <td>0</td>\n",
       "      <td>0</td>\n",
       "      <td>40</td>\n",
       "      <td>39</td>\n",
       "      <td>0</td>\n",
       "    </tr>\n",
       "    <tr>\n",
       "      <th>4</th>\n",
       "      <td>17</td>\n",
       "      <td>4</td>\n",
       "      <td>297246</td>\n",
       "      <td>1</td>\n",
       "      <td>7</td>\n",
       "      <td>4</td>\n",
       "      <td>9</td>\n",
       "      <td>3</td>\n",
       "      <td>4</td>\n",
       "      <td>0</td>\n",
       "      <td>0</td>\n",
       "      <td>0</td>\n",
       "      <td>9</td>\n",
       "      <td>39</td>\n",
       "      <td>0</td>\n",
       "    </tr>\n",
       "  </tbody>\n",
       "</table>\n",
       "</div>"
      ],
      "text/plain": [
       "   age  workclass  fnlwgt  education  education_num  martial_status  \\\n",
       "0   34          6   56460         11              9               2   \n",
       "1   48          6  243631         15             10               2   \n",
       "2   23          7   56402         15             10               2   \n",
       "3   56          2  255406         11              9               0   \n",
       "4   17          4  297246          1              7               4   \n",
       "\n",
       "   occupation  relationship  race  sex  capital_gain  capital_loss  \\\n",
       "0           5             5     4    0             0          2179   \n",
       "1           3             0     0    1          7688             0   \n",
       "2          10             0     4    1             0             0   \n",
       "3           4             1     4    0             0             0   \n",
       "4           9             3     4    0             0             0   \n",
       "\n",
       "   hours_per_week  native_country  TARGET  \n",
       "0              12              39       0  \n",
       "1              40              39       1  \n",
       "2              30              39       0  \n",
       "3              40              39       0  \n",
       "4               9              39       0  "
      ]
     },
     "execution_count": 7,
     "metadata": {},
     "output_type": "execute_result"
    }
   ],
   "source": [
    "train.head()"
   ]
  },
  {
   "cell_type": "code",
   "execution_count": 8,
   "metadata": {},
   "outputs": [],
   "source": [
    "categorical_idx = [1, 3, 5, 6, 7 ,8 , 9, 13]\n",
    "categorical_dims = [len(set(list(train.iloc[:, x].unique()) + list(valid.iloc[:, x].unique()) + list(test.iloc[:, x].unique()))) for x in categorical_idx]"
   ]
  },
  {
   "cell_type": "code",
   "execution_count": 9,
   "metadata": {},
   "outputs": [],
   "source": [
    "train = pd.concat([train, valid])"
   ]
  },
  {
   "cell_type": "code",
   "execution_count": 10,
   "metadata": {},
   "outputs": [],
   "source": [
    "train_X = train.drop([\"TARGET\"], axis=1)\n",
    "train_y = train[\"TARGET\"]\n",
    "\n",
    "test_X = test.drop([\"TARGET\"], axis=1)\n",
    "test_y = test[\"TARGET\"]"
   ]
  },
  {
   "cell_type": "code",
   "execution_count": null,
   "metadata": {},
   "outputs": [],
   "source": []
  },
  {
   "cell_type": "code",
   "execution_count": 9,
   "metadata": {},
   "outputs": [],
   "source": [
    "X = data.drop([\"TARGET\"], axis=1)\n",
    "y = data[\"TARGET\"]"
   ]
  },
  {
   "cell_type": "code",
   "execution_count": 10,
   "metadata": {},
   "outputs": [],
   "source": [
    "train_X, test_X, train_y, test_y = train_test_split(X, y, test_size=0.2, shuffle=True, random_state=78)"
   ]
  },
  {
   "cell_type": "code",
   "execution_count": 11,
   "metadata": {},
   "outputs": [
    {
     "name": "stderr",
     "output_type": "stream",
     "text": [
      "Using categorical_feature in Dataset.\n"
     ]
    },
    {
     "data": {
      "text/plain": [
       "LGBMClassifier(learning_rate=0.10284216487315759, max_depth=4, metric='auc',\n",
       "               n_estimators=955, objective='binary', random_state=42)"
      ]
     },
     "execution_count": 11,
     "metadata": {},
     "output_type": "execute_result"
    }
   ],
   "source": [
    "model_lgbm = LGBMClassifier(**{**lgbm_tuned, **LIGHTGBM_PARAMS})\n",
    "model_lgbm.fit(train_X, train_y, verbose=1, categorical_feature=categorical_idx)"
   ]
  },
  {
   "cell_type": "code",
   "execution_count": 12,
   "metadata": {
    "scrolled": true
   },
   "outputs": [
    {
     "name": "stderr",
     "output_type": "stream",
     "text": [
      "The use of label encoder in XGBClassifier is deprecated and will be removed in a future release. To remove this warning, do the following: 1) Pass option use_label_encoder=False when constructing XGBClassifier object; and 2) Encode your labels (y) as integers starting with 0, i.e. 0, 1, 2, ..., [num_class - 1].\n"
     ]
    },
    {
     "name": "stdout",
     "output_type": "stream",
     "text": [
      "[01:43:41] WARNING: ../src/learner.cc:541: \n",
      "Parameters: { silent } might not be used.\n",
      "\n",
      "  This may not be accurate due to some parameters are only used in language bindings but\n",
      "  passed down to XGBoost core.  Or some parameters are not used but slip through this\n",
      "  verification. Please open an issue if you find above cases.\n",
      "\n",
      "\n",
      "[01:43:41] WARNING: ../src/learner.cc:1061: Starting in XGBoost 1.3.0, the default evaluation metric used with the objective 'binary:logistic' was changed from 'error' to 'logloss'. Explicitly set eval_metric if you'd like to restore the old behavior.\n"
     ]
    },
    {
     "data": {
      "text/plain": [
       "XGBClassifier(base_score=0.5, booster='gbtree', colsample_bylevel=1,\n",
       "              colsample_bynode=1, colsample_bytree=1, gamma=0, gpu_id=-1,\n",
       "              importance_type='gain', interaction_constraints='',\n",
       "              learning_rate=0.3317433223693123, max_delta_step=0, max_depth=4,\n",
       "              min_child_weight=1, missing=nan, monotone_constraints='()',\n",
       "              n_estimators=772, n_jobs=-1, num_parallel_tree=1, random_state=42,\n",
       "              reg_alpha=0, reg_lambda=1, scale_pos_weight=1, silent=True,\n",
       "              subsample=1, tree_method='exact', validate_parameters=1,\n",
       "              verbosity=None)"
      ]
     },
     "execution_count": 12,
     "metadata": {},
     "output_type": "execute_result"
    }
   ],
   "source": [
    "model_xgb = XGBClassifier(**{**xgb_tuned, **XGBOOST_PARAMS})\n",
    "model_xgb.fit(train_X, train_y, verbose=1)"
   ]
  },
  {
   "cell_type": "code",
   "execution_count": 13,
   "metadata": {},
   "outputs": [
    {
     "name": "stdout",
     "output_type": "stream",
     "text": [
      "[01:43:56] WARNING: ../src/learner.cc:541: \n",
      "Parameters: { silent } might not be used.\n",
      "\n",
      "  This may not be accurate due to some parameters are only used in language bindings but\n",
      "  passed down to XGBoost core.  Or some parameters are not used but slip through this\n",
      "  verification. Please open an issue if you find above cases.\n",
      "\n",
      "\n",
      "[01:43:56] WARNING: ../src/learner.cc:1061: Starting in XGBoost 1.3.0, the default evaluation metric used with the objective 'binary:logistic' was changed from 'error' to 'logloss'. Explicitly set eval_metric if you'd like to restore the old behavior.\n"
     ]
    },
    {
     "data": {
      "text/plain": [
       "XGBClassifier(base_score=0.5, booster='gbtree', colsample_bylevel=1,\n",
       "              colsample_bynode=1, colsample_bytree=1, gamma=0, gpu_id=-1,\n",
       "              importance_type='gain', interaction_constraints='',\n",
       "              learning_rate=0.300000012, max_delta_step=0, max_depth=5,\n",
       "              min_child_weight=1, missing=nan, monotone_constraints='()',\n",
       "              n_estimators=500, n_jobs=-1, num_parallel_tree=1, random_state=42,\n",
       "              reg_alpha=0, reg_lambda=1, scale_pos_weight=1, silent=True,\n",
       "              subsample=1, tree_method='exact', validate_parameters=1,\n",
       "              verbosity=None)"
      ]
     },
     "execution_count": 13,
     "metadata": {},
     "output_type": "execute_result"
    }
   ],
   "source": [
    "model_xgb_paper = XGBClassifier(**{**xgb_paper, **XGBOOST_PARAMS})\n",
    "model_xgb_paper.fit(train_X, train_y, verbose=1)"
   ]
  },
  {
   "cell_type": "code",
   "execution_count": 14,
   "metadata": {},
   "outputs": [],
   "source": [
    "TABNET_PARAMS[\"verbose\"] = 1"
   ]
  },
  {
   "cell_type": "code",
   "execution_count": 15,
   "metadata": {
    "scrolled": true
   },
   "outputs": [
    {
     "name": "stdout",
     "output_type": "stream",
     "text": [
      "Device used : cpu\n",
      "No early stopping will be performed, last training weights will be used.\n",
      "epoch 0  | loss: 0.92176 |  0:00:17s\n",
      "epoch 1  | loss: 0.42582 |  0:00:35s\n",
      "epoch 2  | loss: 0.38057 |  0:00:53s\n",
      "epoch 3  | loss: 0.34665 |  0:01:12s\n",
      "epoch 4  | loss: 0.33823 |  0:01:31s\n",
      "epoch 5  | loss: 0.33607 |  0:01:49s\n",
      "epoch 6  | loss: 0.33196 |  0:02:07s\n",
      "epoch 7  | loss: 0.33481 |  0:02:25s\n",
      "epoch 8  | loss: 0.33147 |  0:02:42s\n",
      "epoch 9  | loss: 0.33245 |  0:03:00s\n",
      "epoch 10 | loss: 0.33212 |  0:03:17s\n",
      "epoch 11 | loss: 0.33384 |  0:03:34s\n",
      "epoch 12 | loss: 0.33043 |  0:03:52s\n",
      "epoch 13 | loss: 0.32611 |  0:04:09s\n",
      "epoch 14 | loss: 0.32923 |  0:04:26s\n",
      "epoch 15 | loss: 0.33246 |  0:04:43s\n",
      "epoch 16 | loss: 0.32817 |  0:05:00s\n",
      "epoch 17 | loss: 0.33344 |  0:05:16s\n",
      "epoch 18 | loss: 0.32603 |  0:05:34s\n",
      "epoch 19 | loss: 0.3291  |  0:05:50s\n",
      "epoch 20 | loss: 0.32969 |  0:06:09s\n",
      "epoch 21 | loss: 0.3273  |  0:06:26s\n",
      "epoch 22 | loss: 0.32244 |  0:06:43s\n",
      "epoch 23 | loss: 0.32381 |  0:07:03s\n",
      "epoch 24 | loss: 0.32355 |  0:07:21s\n",
      "epoch 25 | loss: 0.32188 |  0:07:39s\n",
      "epoch 26 | loss: 0.32547 |  0:07:56s\n",
      "epoch 27 | loss: 0.32425 |  0:08:14s\n",
      "epoch 28 | loss: 0.32293 |  0:08:32s\n",
      "epoch 29 | loss: 0.32481 |  0:08:50s\n",
      "epoch 30 | loss: 0.32806 |  0:09:06s\n",
      "epoch 31 | loss: 0.32584 |  0:09:20s\n",
      "epoch 32 | loss: 0.32669 |  0:09:34s\n",
      "epoch 33 | loss: 0.32614 |  0:09:47s\n",
      "epoch 34 | loss: 0.32338 |  0:10:01s\n",
      "epoch 35 | loss: 0.32319 |  0:10:15s\n",
      "epoch 36 | loss: 0.32326 |  0:10:28s\n",
      "epoch 37 | loss: 0.32342 |  0:10:42s\n",
      "epoch 38 | loss: 0.32657 |  0:10:55s\n",
      "epoch 39 | loss: 0.32356 |  0:11:08s\n",
      "epoch 40 | loss: 0.32306 |  0:11:22s\n",
      "epoch 41 | loss: 0.32249 |  0:11:36s\n",
      "epoch 42 | loss: 0.31877 |  0:11:49s\n",
      "epoch 43 | loss: 0.32355 |  0:12:02s\n",
      "epoch 44 | loss: 0.31826 |  0:12:17s\n",
      "epoch 45 | loss: 0.32636 |  0:12:30s\n",
      "epoch 46 | loss: 0.32533 |  0:12:43s\n",
      "epoch 47 | loss: 0.32431 |  0:12:56s\n",
      "epoch 48 | loss: 0.32679 |  0:13:10s\n",
      "epoch 49 | loss: 0.31946 |  0:13:23s\n",
      "epoch 50 | loss: 0.31893 |  0:13:37s\n",
      "epoch 51 | loss: 0.31956 |  0:13:50s\n",
      "epoch 52 | loss: 0.31655 |  0:14:03s\n",
      "epoch 53 | loss: 0.3199  |  0:14:16s\n",
      "epoch 54 | loss: 0.31465 |  0:14:30s\n",
      "epoch 55 | loss: 0.31546 |  0:14:43s\n",
      "epoch 56 | loss: 0.31389 |  0:14:56s\n",
      "epoch 57 | loss: 0.31327 |  0:15:09s\n",
      "epoch 58 | loss: 0.31687 |  0:15:22s\n",
      "epoch 59 | loss: 0.31283 |  0:15:35s\n"
     ]
    }
   ],
   "source": [
    "model_tabnet = TabNetClassifier(**{**tabnet_tuned, **TABNET_PARAMS}, cat_idxs=categorical_idx, cat_dims=categorical_dims)\n",
    "model_tabnet.fit(train_X.values, train_y.values, max_epochs=60)"
   ]
  },
  {
   "cell_type": "code",
   "execution_count": 16,
   "metadata": {
    "scrolled": true
   },
   "outputs": [
    {
     "name": "stdout",
     "output_type": "stream",
     "text": [
      "Device used : cpu\n",
      "No early stopping will be performed, last training weights will be used.\n",
      "epoch 0  | loss: 0.80463 |  0:00:03s\n",
      "epoch 1  | loss: 0.45054 |  0:00:07s\n",
      "epoch 2  | loss: 0.40788 |  0:00:10s\n",
      "epoch 3  | loss: 0.39419 |  0:00:13s\n",
      "epoch 4  | loss: 0.38162 |  0:00:17s\n",
      "epoch 5  | loss: 0.37134 |  0:00:20s\n",
      "epoch 6  | loss: 0.36961 |  0:00:24s\n",
      "epoch 7  | loss: 0.36316 |  0:00:27s\n",
      "epoch 8  | loss: 0.35604 |  0:00:31s\n",
      "epoch 9  | loss: 0.35892 |  0:00:34s\n",
      "epoch 10 | loss: 0.3559  |  0:00:37s\n",
      "epoch 11 | loss: 0.34944 |  0:00:41s\n",
      "epoch 12 | loss: 0.34844 |  0:00:45s\n",
      "epoch 13 | loss: 0.34495 |  0:00:48s\n",
      "epoch 14 | loss: 0.34338 |  0:00:52s\n",
      "epoch 15 | loss: 0.34147 |  0:00:55s\n",
      "epoch 16 | loss: 0.34162 |  0:00:59s\n",
      "epoch 17 | loss: 0.34165 |  0:01:02s\n",
      "epoch 18 | loss: 0.33842 |  0:01:05s\n",
      "epoch 19 | loss: 0.34187 |  0:01:09s\n",
      "epoch 20 | loss: 0.33774 |  0:01:12s\n",
      "epoch 21 | loss: 0.33907 |  0:01:16s\n",
      "epoch 22 | loss: 0.33802 |  0:01:19s\n",
      "epoch 23 | loss: 0.33535 |  0:01:23s\n",
      "epoch 24 | loss: 0.3321  |  0:01:26s\n",
      "epoch 25 | loss: 0.332   |  0:01:30s\n",
      "epoch 26 | loss: 0.33154 |  0:01:34s\n",
      "epoch 27 | loss: 0.33155 |  0:01:37s\n",
      "epoch 28 | loss: 0.33177 |  0:01:41s\n",
      "epoch 29 | loss: 0.33206 |  0:01:44s\n",
      "epoch 30 | loss: 0.33121 |  0:01:48s\n",
      "epoch 31 | loss: 0.33102 |  0:01:51s\n",
      "epoch 32 | loss: 0.32995 |  0:01:55s\n",
      "epoch 33 | loss: 0.3276  |  0:01:58s\n",
      "epoch 34 | loss: 0.3287  |  0:02:01s\n",
      "epoch 35 | loss: 0.32716 |  0:02:05s\n",
      "epoch 36 | loss: 0.32401 |  0:02:08s\n",
      "epoch 37 | loss: 0.32528 |  0:02:12s\n",
      "epoch 38 | loss: 0.32432 |  0:02:15s\n",
      "epoch 39 | loss: 0.32244 |  0:02:19s\n",
      "epoch 40 | loss: 0.32214 |  0:02:23s\n",
      "epoch 41 | loss: 0.32449 |  0:02:26s\n",
      "epoch 42 | loss: 0.32406 |  0:02:30s\n",
      "epoch 43 | loss: 0.32456 |  0:02:33s\n",
      "epoch 44 | loss: 0.32322 |  0:02:37s\n",
      "epoch 45 | loss: 0.32442 |  0:02:40s\n",
      "epoch 46 | loss: 0.3246  |  0:02:43s\n",
      "epoch 47 | loss: 0.32288 |  0:02:47s\n",
      "epoch 48 | loss: 0.32207 |  0:02:50s\n",
      "epoch 49 | loss: 0.32001 |  0:02:54s\n",
      "epoch 50 | loss: 0.32367 |  0:02:57s\n",
      "epoch 51 | loss: 0.32115 |  0:03:02s\n",
      "epoch 52 | loss: 0.31988 |  0:03:05s\n",
      "epoch 53 | loss: 0.31788 |  0:03:08s\n",
      "epoch 54 | loss: 0.31867 |  0:03:12s\n",
      "epoch 55 | loss: 0.31803 |  0:03:15s\n",
      "epoch 56 | loss: 0.31896 |  0:03:19s\n",
      "epoch 57 | loss: 0.31714 |  0:03:22s\n",
      "epoch 58 | loss: 0.31667 |  0:03:25s\n",
      "epoch 59 | loss: 0.31589 |  0:03:29s\n"
     ]
    }
   ],
   "source": [
    "model_tabnet_paper = TabNetClassifier(**{**tabnet_paper, **TABNET_PARAMS}, cat_idxs=categorical_idx, cat_dims=categorical_dims)\n",
    "model_tabnet_paper.fit(train_X.values, train_y.values, max_epochs=60, batch_size=4096)"
   ]
  },
  {
   "cell_type": "code",
   "execution_count": 11,
   "metadata": {},
   "outputs": [],
   "source": [
    "with open('model_tabnet.pickle', 'wb') as f:\n",
    "    pickle.dump(model_tabnet, f)\n",
    "with open('model_tabnet_paper.pickle', 'wb') as f:\n",
    "    pickle.dump(model_tabnet_paper, f)"
   ]
  },
  {
   "cell_type": "code",
   "execution_count": 10,
   "metadata": {},
   "outputs": [],
   "source": [
    "with open('model_tabnet.pickle', 'rb') as f:\n",
    "    model_tabnet = pickle.load(f)\n",
    "with open('model_tabnet_paper.pickle', 'rb') as f:\n",
    "    model_tabnet_paper = pickle.load(f)"
   ]
  },
  {
   "cell_type": "code",
   "execution_count": 17,
   "metadata": {},
   "outputs": [
    {
     "name": "stdout",
     "output_type": "stream",
     "text": [
      "LightGBM auc:  0.921625\n",
      "XGBoost auc:  0.913813\n",
      "XGBoost Paper auc:  0.913702\n",
      "TabNet auc:  0.908718\n",
      "TabNet Paper auc:  0.901131\n"
     ]
    }
   ],
   "source": [
    "print(\"LightGBM auc: \", round(roc_auc_score(test_y, model_lgbm.predict_proba(test_X)[:, 1]), 6))\n",
    "print(\"XGBoost auc: \", round(roc_auc_score(test_y, model_xgb.predict_proba(test_X)[:, 1]), 6))\n",
    "print(\"XGBoost Paper auc: \", round(roc_auc_score(test_y, model_xgb_paper.predict_proba(test_X)[:, 1]), 6))\n",
    "print(\"TabNet auc: \", round(roc_auc_score(test_y, model_tabnet.predict_proba(test_X.values)[:, 1]), 6))\n",
    "print(\"TabNet Paper auc: \", round(roc_auc_score(test_y, model_tabnet_paper.predict_proba(test_X.values)[:, 1]), 6))"
   ]
  },
  {
   "cell_type": "code",
   "execution_count": 18,
   "metadata": {},
   "outputs": [
    {
     "name": "stdout",
     "output_type": "stream",
     "text": [
      "LightGBM acc:  0.870829\n",
      "XGBoost acc:  0.86346\n",
      "XGBoost Paper acc:  0.864483\n",
      "TabNet acc:  0.855271\n",
      "TabNet Paper acc:  0.850358\n"
     ]
    }
   ],
   "source": [
    "print(\"LightGBM acc: \", round(accuracy_score(test_y, model_lgbm.predict(test_X)), 6))\n",
    "print(\"XGBoost acc: \", round(accuracy_score(test_y, model_xgb.predict(test_X)), 6))\n",
    "print(\"XGBoost Paper acc: \", round(accuracy_score(test_y, model_xgb_paper.predict(test_X)), 6))\n",
    "print(\"TabNet acc: \", round(accuracy_score(test_y, model_tabnet.predict(test_X.values)), 6))\n",
    "print(\"TabNet Paper acc: \", round(accuracy_score(test_y, model_tabnet_paper.predict(test_X.values)), 6))"
   ]
  },
  {
   "cell_type": "code",
   "execution_count": 34,
   "metadata": {},
   "outputs": [
    {
     "data": {
      "text/plain": [
       "array([2468,  327, 3060,  497,  969,  232,  911,  220,   78,  206,  970,\n",
       "        787, 1575,  453], dtype=int32)"
      ]
     },
     "execution_count": 34,
     "metadata": {},
     "output_type": "execute_result"
    }
   ],
   "source": [
    "model_lgbm.feature_importances_"
   ]
  },
  {
   "cell_type": "code",
   "execution_count": 33,
   "metadata": {},
   "outputs": [
    {
     "data": {
      "text/plain": [
       "array([0.03652314, 0.02215287, 0.01783302, 0.01717239, 0.12828383,\n",
       "       0.10453314, 0.03037683, 0.33732754, 0.02034082, 0.03909687,\n",
       "       0.13433015, 0.06816406, 0.03022396, 0.01364144], dtype=float32)"
      ]
     },
     "execution_count": 33,
     "metadata": {},
     "output_type": "execute_result"
    }
   ],
   "source": [
    "model_xgb.feature_importances_"
   ]
  },
  {
   "cell_type": "code",
   "execution_count": 19,
   "metadata": {},
   "outputs": [
    {
     "data": {
      "text/plain": [
       "array([0.14039684, 0.03198697, 0.02561015, 0.05409149, 0.12356052,\n",
       "       0.00399008, 0.12925596, 0.16550778, 0.02876345, 0.04100787,\n",
       "       0.08514628, 0.0299493 , 0.12511469, 0.01561862])"
      ]
     },
     "execution_count": 19,
     "metadata": {},
     "output_type": "execute_result"
    }
   ],
   "source": [
    "model_tabnet.feature_importances_"
   ]
  },
  {
   "cell_type": "code",
   "execution_count": 22,
   "metadata": {},
   "outputs": [],
   "source": [
    "importance_lgbm = list(enumerate(model_lgbm.feature_importances_))\n",
    "importance_xgb = model_xgb.get_booster().get_score(importance_type='weight').items()\n",
    "importance_xgb_paper = model_xgb_paper.get_booster().get_score(importance_type='weight').items()\n",
    "importance_tabnet = list(enumerate(model_tabnet.feature_importances_))\n",
    "importance_tabnet_paper = list(enumerate(model_tabnet_paper.feature_importances_))"
   ]
  },
  {
   "cell_type": "code",
   "execution_count": 23,
   "metadata": {},
   "outputs": [],
   "source": [
    "importance_lgbm = sorted(importance_lgbm, key=lambda x: x[1], reverse=True)\n",
    "importance_xgb = sorted(importance_xgb, key=lambda x: x[1], reverse=True)\n",
    "importance_xgb_paper = sorted(importance_xgb_paper, key=lambda x: x[1], reverse=True)\n",
    "importance_tabnet = sorted(importance_tabnet, key=lambda x: x[1], reverse=True)\n",
    "importance_tabnet_paper = sorted(importance_tabnet_paper, key=lambda x: x[1], reverse=True)"
   ]
  },
  {
   "cell_type": "code",
   "execution_count": 24,
   "metadata": {
    "scrolled": true
   },
   "outputs": [
    {
     "data": {
      "image/png": "[encoded data removed]",
      "text/plain": [
       "<Figure size 576x511.2 with 1 Axes>"
      ]
     },
     "metadata": {
      "needs_background": "light"
     },
     "output_type": "display_data"
    }
   ],
   "source": [
    "shap_values = shap.TreeExplainer(model_xgb).shap_values(train_X)\n",
    "shap.summary_plot(shap_values, train_X, plot_type=\"bar\")"
   ]
  },
  {
   "cell_type": "code",
   "execution_count": 25,
   "metadata": {},
   "outputs": [
    {
     "data": {
      "image/png": "[encoded data removed]",
      "text/plain": [
       "<Figure size 576x511.2 with 1 Axes>"
      ]
     },
     "metadata": {
      "needs_background": "light"
     },
     "output_type": "display_data"
    }
   ],
   "source": [
    "shap_values_paper = shap.TreeExplainer(model_xgb_paper).shap_values(train_X)\n",
    "shap.summary_plot(shap_values_paper, train_X, plot_type=\"bar\")"
   ]
  },
  {
   "cell_type": "code",
   "execution_count": 50,
   "metadata": {},
   "outputs": [
    {
     "data": {
      "text/plain": [
       "Index(['age', 'martial_status', 'relationship', 'capital_gain',\n",
       "       'education_num', 'hours_per_week', 'fnlwgt', 'occupation',\n",
       "       'capital_loss', 'sex', 'workclass', 'education', 'race',\n",
       "       'native_country'],\n",
       "      dtype='object')"
      ]
     },
     "execution_count": 50,
     "metadata": {},
     "output_type": "execute_result"
    }
   ],
   "source": [
    "train_X.columns[np.argsort(np.abs(shap_values).mean(0))][::-1]"
   ]
  },
  {
   "cell_type": "code",
   "execution_count": 26,
   "metadata": {},
   "outputs": [],
   "source": [
    "df_compare = pd.DataFrame([column_names[x[0]] for x in importance_lgbm], columns=[\"LightGBM\"])\n",
    "df_compare[\"XGBoost\"] = [x[0] for x in importance_xgb]\n",
    "df_compare[\"XGBoost_Paper\"] = [x[0] for x in importance_xgb_paper]\n",
    "df_compare[\"SHAP_XGBoost\"] = train_X.columns[np.argsort(np.abs(shap_values).mean(0))][::-1]\n",
    "df_compare[\"SHAP_XGBoost_Paper\"] = train_X.columns[np.argsort(np.abs(shap_values_paper).mean(0))][::-1]\n",
    "df_compare[\"TabNet\"] = [column_names[x[0]] for x in importance_tabnet]\n",
    "df_compare[\"TabNet_Paper\"] = [column_names[x[0]] for x in importance_tabnet_paper]"
   ]
  },
  {
   "cell_type": "code",
   "execution_count": 28,
   "metadata": {
    "scrolled": false
   },
   "outputs": [
    {
     "data": {
      "text/html": [
       "<div>\n",
       "<style scoped>\n",
       "    .dataframe tbody tr th:only-of-type {\n",
       "        vertical-align: middle;\n",
       "    }\n",
       "\n",
       "    .dataframe tbody tr th {\n",
       "        vertical-align: top;\n",
       "    }\n",
       "\n",
       "    .dataframe thead th {\n",
       "        text-align: right;\n",
       "    }\n",
       "</style>\n",
       "<table border=\"1\" class=\"dataframe\">\n",
       "  <thead>\n",
       "    <tr style=\"text-align: right;\">\n",
       "      <th></th>\n",
       "      <th>LightGBM</th>\n",
       "      <th>XGBoost</th>\n",
       "      <th>XGBoost_Paper</th>\n",
       "      <th>SHAP_XGBoost</th>\n",
       "      <th>SHAP_XGBoost_Paper</th>\n",
       "      <th>TabNet</th>\n",
       "      <th>TabNet_Paper</th>\n",
       "    </tr>\n",
       "  </thead>\n",
       "  <tbody>\n",
       "    <tr>\n",
       "      <th>0</th>\n",
       "      <td>fnlwgt</td>\n",
       "      <td>fnlwgt</td>\n",
       "      <td>fnlwgt</td>\n",
       "      <td>age</td>\n",
       "      <td>age</td>\n",
       "      <td>relationship</td>\n",
       "      <td>martial_status</td>\n",
       "    </tr>\n",
       "    <tr>\n",
       "      <th>1</th>\n",
       "      <td>age</td>\n",
       "      <td>age</td>\n",
       "      <td>age</td>\n",
       "      <td>martial_status</td>\n",
       "      <td>martial_status</td>\n",
       "      <td>age</td>\n",
       "      <td>education_num</td>\n",
       "    </tr>\n",
       "    <tr>\n",
       "      <th>2</th>\n",
       "      <td>hours_per_week</td>\n",
       "      <td>hours_per_week</td>\n",
       "      <td>hours_per_week</td>\n",
       "      <td>capital_gain</td>\n",
       "      <td>capital_gain</td>\n",
       "      <td>occupation</td>\n",
       "      <td>capital_gain</td>\n",
       "    </tr>\n",
       "    <tr>\n",
       "      <th>3</th>\n",
       "      <td>education_num</td>\n",
       "      <td>occupation</td>\n",
       "      <td>occupation</td>\n",
       "      <td>relationship</td>\n",
       "      <td>relationship</td>\n",
       "      <td>hours_per_week</td>\n",
       "      <td>occupation</td>\n",
       "    </tr>\n",
       "    <tr>\n",
       "      <th>4</th>\n",
       "      <td>capital_gain</td>\n",
       "      <td>education_num</td>\n",
       "      <td>education_num</td>\n",
       "      <td>education_num</td>\n",
       "      <td>education_num</td>\n",
       "      <td>education_num</td>\n",
       "      <td>capital_loss</td>\n",
       "    </tr>\n",
       "    <tr>\n",
       "      <th>5</th>\n",
       "      <td>occupation</td>\n",
       "      <td>capital_gain</td>\n",
       "      <td>education</td>\n",
       "      <td>occupation</td>\n",
       "      <td>occupation</td>\n",
       "      <td>capital_gain</td>\n",
       "      <td>age</td>\n",
       "    </tr>\n",
       "    <tr>\n",
       "      <th>6</th>\n",
       "      <td>capital_loss</td>\n",
       "      <td>education</td>\n",
       "      <td>capital_gain</td>\n",
       "      <td>fnlwgt</td>\n",
       "      <td>hours_per_week</td>\n",
       "      <td>education</td>\n",
       "      <td>relationship</td>\n",
       "    </tr>\n",
       "    <tr>\n",
       "      <th>7</th>\n",
       "      <td>education</td>\n",
       "      <td>workclass</td>\n",
       "      <td>workclass</td>\n",
       "      <td>hours_per_week</td>\n",
       "      <td>fnlwgt</td>\n",
       "      <td>sex</td>\n",
       "      <td>hours_per_week</td>\n",
       "    </tr>\n",
       "    <tr>\n",
       "      <th>8</th>\n",
       "      <td>native_country</td>\n",
       "      <td>capital_loss</td>\n",
       "      <td>capital_loss</td>\n",
       "      <td>sex</td>\n",
       "      <td>sex</td>\n",
       "      <td>workclass</td>\n",
       "      <td>native_country</td>\n",
       "    </tr>\n",
       "    <tr>\n",
       "      <th>9</th>\n",
       "      <td>workclass</td>\n",
       "      <td>native_country</td>\n",
       "      <td>relationship</td>\n",
       "      <td>capital_loss</td>\n",
       "      <td>capital_loss</td>\n",
       "      <td>capital_loss</td>\n",
       "      <td>education</td>\n",
       "    </tr>\n",
       "    <tr>\n",
       "      <th>10</th>\n",
       "      <td>martial_status</td>\n",
       "      <td>relationship</td>\n",
       "      <td>native_country</td>\n",
       "      <td>workclass</td>\n",
       "      <td>workclass</td>\n",
       "      <td>race</td>\n",
       "      <td>fnlwgt</td>\n",
       "    </tr>\n",
       "    <tr>\n",
       "      <th>11</th>\n",
       "      <td>relationship</td>\n",
       "      <td>martial_status</td>\n",
       "      <td>martial_status</td>\n",
       "      <td>education</td>\n",
       "      <td>education</td>\n",
       "      <td>fnlwgt</td>\n",
       "      <td>workclass</td>\n",
       "    </tr>\n",
       "    <tr>\n",
       "      <th>12</th>\n",
       "      <td>sex</td>\n",
       "      <td>race</td>\n",
       "      <td>race</td>\n",
       "      <td>race</td>\n",
       "      <td>race</td>\n",
       "      <td>native_country</td>\n",
       "      <td>sex</td>\n",
       "    </tr>\n",
       "    <tr>\n",
       "      <th>13</th>\n",
       "      <td>race</td>\n",
       "      <td>sex</td>\n",
       "      <td>sex</td>\n",
       "      <td>native_country</td>\n",
       "      <td>native_country</td>\n",
       "      <td>martial_status</td>\n",
       "      <td>race</td>\n",
       "    </tr>\n",
       "  </tbody>\n",
       "</table>\n",
       "</div>"
      ],
      "text/plain": [
       "          LightGBM         XGBoost   XGBoost_Paper    SHAP_XGBoost  \\\n",
       "0           fnlwgt          fnlwgt          fnlwgt             age   \n",
       "1              age             age             age  martial_status   \n",
       "2   hours_per_week  hours_per_week  hours_per_week    capital_gain   \n",
       "3    education_num      occupation      occupation    relationship   \n",
       "4     capital_gain   education_num   education_num   education_num   \n",
       "5       occupation    capital_gain       education      occupation   \n",
       "6     capital_loss       education    capital_gain          fnlwgt   \n",
       "7        education       workclass       workclass  hours_per_week   \n",
       "8   native_country    capital_loss    capital_loss             sex   \n",
       "9        workclass  native_country    relationship    capital_loss   \n",
       "10  martial_status    relationship  native_country       workclass   \n",
       "11    relationship  martial_status  martial_status       education   \n",
       "12             sex            race            race            race   \n",
       "13            race             sex             sex  native_country   \n",
       "\n",
       "   SHAP_XGBoost_Paper          TabNet    TabNet_Paper  \n",
       "0                 age    relationship  martial_status  \n",
       "1      martial_status             age   education_num  \n",
       "2        capital_gain      occupation    capital_gain  \n",
       "3        relationship  hours_per_week      occupation  \n",
       "4       education_num   education_num    capital_loss  \n",
       "5          occupation    capital_gain             age  \n",
       "6      hours_per_week       education    relationship  \n",
       "7              fnlwgt             sex  hours_per_week  \n",
       "8                 sex       workclass  native_country  \n",
       "9        capital_loss    capital_loss       education  \n",
       "10          workclass            race          fnlwgt  \n",
       "11          education          fnlwgt       workclass  \n",
       "12               race  native_country             sex  \n",
       "13     native_country  martial_status            race  "
      ]
     },
     "execution_count": 28,
     "metadata": {},
     "output_type": "execute_result"
    }
   ],
   "source": [
    "df_compare"
   ]
  },
  {
   "cell_type": "code",
   "execution_count": 56,
   "metadata": {},
   "outputs": [],
   "source": [
    "top_3 = []\n",
    "\n",
    "for i in range(len(df_compare.columns)):\n",
    "    for j in range(len(df_compare.columns)):\n",
    "        col1 = df_compare.columns[i]\n",
    "        col2 = df_compare.columns[j]\n",
    "        d = []\n",
    "        d.append(col1)\n",
    "        d.append(col2)\n",
    "        d.append(len(set(df_compare.loc[:2, col1]) & set(df_compare.loc[:2, col2])))\n",
    "        top_3.append(d)\n",
    "top_3_data = pd.DataFrame(top_3, columns=[\"Model1\", \"Model2\", \"Sim\"])\n",
    "    "
   ]
  },
  {
   "cell_type": "code",
   "execution_count": 57,
   "metadata": {},
   "outputs": [
    {
     "data": {
      "text/html": [
       "<div>\n",
       "<style scoped>\n",
       "    .dataframe tbody tr th:only-of-type {\n",
       "        vertical-align: middle;\n",
       "    }\n",
       "\n",
       "    .dataframe tbody tr th {\n",
       "        vertical-align: top;\n",
       "    }\n",
       "\n",
       "    .dataframe thead th {\n",
       "        text-align: right;\n",
       "    }\n",
       "</style>\n",
       "<table border=\"1\" class=\"dataframe\">\n",
       "  <thead>\n",
       "    <tr style=\"text-align: right;\">\n",
       "      <th>Model2</th>\n",
       "      <th>LightGBM</th>\n",
       "      <th>SHAP_XGBoost</th>\n",
       "      <th>SHAP_XGBoost_Paper</th>\n",
       "      <th>TabNet</th>\n",
       "      <th>TabNet_Paper</th>\n",
       "      <th>XGBoost</th>\n",
       "      <th>XGBoost_Paper</th>\n",
       "    </tr>\n",
       "    <tr>\n",
       "      <th>Model1</th>\n",
       "      <th></th>\n",
       "      <th></th>\n",
       "      <th></th>\n",
       "      <th></th>\n",
       "      <th></th>\n",
       "      <th></th>\n",
       "      <th></th>\n",
       "    </tr>\n",
       "  </thead>\n",
       "  <tbody>\n",
       "    <tr>\n",
       "      <th>LightGBM</th>\n",
       "      <td>3</td>\n",
       "      <td>1</td>\n",
       "      <td>1</td>\n",
       "      <td>1</td>\n",
       "      <td>0</td>\n",
       "      <td>3</td>\n",
       "      <td>3</td>\n",
       "    </tr>\n",
       "    <tr>\n",
       "      <th>SHAP_XGBoost</th>\n",
       "      <td>1</td>\n",
       "      <td>3</td>\n",
       "      <td>3</td>\n",
       "      <td>1</td>\n",
       "      <td>2</td>\n",
       "      <td>1</td>\n",
       "      <td>1</td>\n",
       "    </tr>\n",
       "    <tr>\n",
       "      <th>SHAP_XGBoost_Paper</th>\n",
       "      <td>1</td>\n",
       "      <td>3</td>\n",
       "      <td>3</td>\n",
       "      <td>1</td>\n",
       "      <td>2</td>\n",
       "      <td>1</td>\n",
       "      <td>1</td>\n",
       "    </tr>\n",
       "    <tr>\n",
       "      <th>TabNet</th>\n",
       "      <td>1</td>\n",
       "      <td>1</td>\n",
       "      <td>1</td>\n",
       "      <td>3</td>\n",
       "      <td>0</td>\n",
       "      <td>1</td>\n",
       "      <td>1</td>\n",
       "    </tr>\n",
       "    <tr>\n",
       "      <th>TabNet_Paper</th>\n",
       "      <td>0</td>\n",
       "      <td>2</td>\n",
       "      <td>2</td>\n",
       "      <td>0</td>\n",
       "      <td>3</td>\n",
       "      <td>0</td>\n",
       "      <td>0</td>\n",
       "    </tr>\n",
       "    <tr>\n",
       "      <th>XGBoost</th>\n",
       "      <td>3</td>\n",
       "      <td>1</td>\n",
       "      <td>1</td>\n",
       "      <td>1</td>\n",
       "      <td>0</td>\n",
       "      <td>3</td>\n",
       "      <td>3</td>\n",
       "    </tr>\n",
       "    <tr>\n",
       "      <th>XGBoost_Paper</th>\n",
       "      <td>3</td>\n",
       "      <td>1</td>\n",
       "      <td>1</td>\n",
       "      <td>1</td>\n",
       "      <td>0</td>\n",
       "      <td>3</td>\n",
       "      <td>3</td>\n",
       "    </tr>\n",
       "  </tbody>\n",
       "</table>\n",
       "</div>"
      ],
      "text/plain": [
       "Model2              LightGBM  SHAP_XGBoost  SHAP_XGBoost_Paper  TabNet  \\\n",
       "Model1                                                                   \n",
       "LightGBM                   3             1                   1       1   \n",
       "SHAP_XGBoost               1             3                   3       1   \n",
       "SHAP_XGBoost_Paper         1             3                   3       1   \n",
       "TabNet                     1             1                   1       3   \n",
       "TabNet_Paper               0             2                   2       0   \n",
       "XGBoost                    3             1                   1       1   \n",
       "XGBoost_Paper              3             1                   1       1   \n",
       "\n",
       "Model2              TabNet_Paper  XGBoost  XGBoost_Paper  \n",
       "Model1                                                    \n",
       "LightGBM                       0        3              3  \n",
       "SHAP_XGBoost                   2        1              1  \n",
       "SHAP_XGBoost_Paper             2        1              1  \n",
       "TabNet                         0        1              1  \n",
       "TabNet_Paper                   3        0              0  \n",
       "XGBoost                        0        3              3  \n",
       "XGBoost_Paper                  0        3              3  "
      ]
     },
     "execution_count": 57,
     "metadata": {},
     "output_type": "execute_result"
    }
   ],
   "source": [
    "pd.pivot_table(top_3_data, values='Sim', index=['Model1'], columns=['Model2'])"
   ]
  },
  {
   "cell_type": "markdown",
   "metadata": {},
   "source": [
    "TODO: 3 признака из каждой и обучить бустинги"
   ]
  },
  {
   "cell_type": "code",
   "execution_count": 60,
   "metadata": {},
   "outputs": [],
   "source": [
    "top_5 = []\n",
    "\n",
    "for i in range(len(df_compare.columns)):\n",
    "    for j in range(len(df_compare.columns)):\n",
    "        col1 = df_compare.columns[i]\n",
    "        col2 = df_compare.columns[j]\n",
    "        d = []\n",
    "        d.append(col1)\n",
    "        d.append(col2)\n",
    "        d.append(len(set(df_compare.loc[:4, col1]) & set(df_compare.loc[:4, col2])))\n",
    "        top_5.append(d)\n",
    "top_5_data = pd.DataFrame(top_5, columns=[\"Model1\", \"Model2\", \"Sim\"])\n",
    "    "
   ]
  },
  {
   "cell_type": "code",
   "execution_count": 61,
   "metadata": {},
   "outputs": [
    {
     "data": {
      "text/html": [
       "<div>\n",
       "<style scoped>\n",
       "    .dataframe tbody tr th:only-of-type {\n",
       "        vertical-align: middle;\n",
       "    }\n",
       "\n",
       "    .dataframe tbody tr th {\n",
       "        vertical-align: top;\n",
       "    }\n",
       "\n",
       "    .dataframe thead th {\n",
       "        text-align: right;\n",
       "    }\n",
       "</style>\n",
       "<table border=\"1\" class=\"dataframe\">\n",
       "  <thead>\n",
       "    <tr style=\"text-align: right;\">\n",
       "      <th>Model2</th>\n",
       "      <th>LightGBM</th>\n",
       "      <th>SHAP_XGBoost</th>\n",
       "      <th>SHAP_XGBoost_Paper</th>\n",
       "      <th>TabNet</th>\n",
       "      <th>TabNet_Paper</th>\n",
       "      <th>XGBoost</th>\n",
       "      <th>XGBoost_Paper</th>\n",
       "    </tr>\n",
       "    <tr>\n",
       "      <th>Model1</th>\n",
       "      <th></th>\n",
       "      <th></th>\n",
       "      <th></th>\n",
       "      <th></th>\n",
       "      <th></th>\n",
       "      <th></th>\n",
       "      <th></th>\n",
       "    </tr>\n",
       "  </thead>\n",
       "  <tbody>\n",
       "    <tr>\n",
       "      <th>LightGBM</th>\n",
       "      <td>5</td>\n",
       "      <td>3</td>\n",
       "      <td>3</td>\n",
       "      <td>3</td>\n",
       "      <td>2</td>\n",
       "      <td>4</td>\n",
       "      <td>4</td>\n",
       "    </tr>\n",
       "    <tr>\n",
       "      <th>SHAP_XGBoost</th>\n",
       "      <td>3</td>\n",
       "      <td>5</td>\n",
       "      <td>5</td>\n",
       "      <td>3</td>\n",
       "      <td>3</td>\n",
       "      <td>2</td>\n",
       "      <td>2</td>\n",
       "    </tr>\n",
       "    <tr>\n",
       "      <th>SHAP_XGBoost_Paper</th>\n",
       "      <td>3</td>\n",
       "      <td>5</td>\n",
       "      <td>5</td>\n",
       "      <td>3</td>\n",
       "      <td>3</td>\n",
       "      <td>2</td>\n",
       "      <td>2</td>\n",
       "    </tr>\n",
       "    <tr>\n",
       "      <th>TabNet</th>\n",
       "      <td>3</td>\n",
       "      <td>3</td>\n",
       "      <td>3</td>\n",
       "      <td>5</td>\n",
       "      <td>2</td>\n",
       "      <td>4</td>\n",
       "      <td>4</td>\n",
       "    </tr>\n",
       "    <tr>\n",
       "      <th>TabNet_Paper</th>\n",
       "      <td>2</td>\n",
       "      <td>3</td>\n",
       "      <td>3</td>\n",
       "      <td>2</td>\n",
       "      <td>5</td>\n",
       "      <td>2</td>\n",
       "      <td>2</td>\n",
       "    </tr>\n",
       "    <tr>\n",
       "      <th>XGBoost</th>\n",
       "      <td>4</td>\n",
       "      <td>2</td>\n",
       "      <td>2</td>\n",
       "      <td>4</td>\n",
       "      <td>2</td>\n",
       "      <td>5</td>\n",
       "      <td>5</td>\n",
       "    </tr>\n",
       "    <tr>\n",
       "      <th>XGBoost_Paper</th>\n",
       "      <td>4</td>\n",
       "      <td>2</td>\n",
       "      <td>2</td>\n",
       "      <td>4</td>\n",
       "      <td>2</td>\n",
       "      <td>5</td>\n",
       "      <td>5</td>\n",
       "    </tr>\n",
       "  </tbody>\n",
       "</table>\n",
       "</div>"
      ],
      "text/plain": [
       "Model2              LightGBM  SHAP_XGBoost  SHAP_XGBoost_Paper  TabNet  \\\n",
       "Model1                                                                   \n",
       "LightGBM                   5             3                   3       3   \n",
       "SHAP_XGBoost               3             5                   5       3   \n",
       "SHAP_XGBoost_Paper         3             5                   5       3   \n",
       "TabNet                     3             3                   3       5   \n",
       "TabNet_Paper               2             3                   3       2   \n",
       "XGBoost                    4             2                   2       4   \n",
       "XGBoost_Paper              4             2                   2       4   \n",
       "\n",
       "Model2              TabNet_Paper  XGBoost  XGBoost_Paper  \n",
       "Model1                                                    \n",
       "LightGBM                       2        4              4  \n",
       "SHAP_XGBoost                   3        2              2  \n",
       "SHAP_XGBoost_Paper             3        2              2  \n",
       "TabNet                         2        4              4  \n",
       "TabNet_Paper                   5        2              2  \n",
       "XGBoost                        2        5              5  \n",
       "XGBoost_Paper                  2        5              5  "
      ]
     },
     "execution_count": 61,
     "metadata": {},
     "output_type": "execute_result"
    }
   ],
   "source": [
    "pd.pivot_table(top_5_data, values='Sim', index=['Model1'], columns=['Model2'])"
   ]
  },
  {
   "cell_type": "code",
   "execution_count": 62,
   "metadata": {},
   "outputs": [],
   "source": [
    "top_10 = []\n",
    "\n",
    "for i in range(len(df_compare.columns)):\n",
    "    for j in range(len(df_compare.columns)):\n",
    "        col1 = df_compare.columns[i]\n",
    "        col2 = df_compare.columns[j]\n",
    "        d = []\n",
    "        d.append(col1)\n",
    "        d.append(col2)\n",
    "        d.append(len(set(df_compare.loc[:9, col1]) & set(df_compare.loc[:9, col2])))\n",
    "        top_10.append(d)\n",
    "top_10_data = pd.DataFrame(top_10, columns=[\"Model1\", \"Model2\", \"Sim\"])\n",
    "    "
   ]
  },
  {
   "cell_type": "code",
   "execution_count": 63,
   "metadata": {},
   "outputs": [
    {
     "data": {
      "text/html": [
       "<div>\n",
       "<style scoped>\n",
       "    .dataframe tbody tr th:only-of-type {\n",
       "        vertical-align: middle;\n",
       "    }\n",
       "\n",
       "    .dataframe tbody tr th {\n",
       "        vertical-align: top;\n",
       "    }\n",
       "\n",
       "    .dataframe thead th {\n",
       "        text-align: right;\n",
       "    }\n",
       "</style>\n",
       "<table border=\"1\" class=\"dataframe\">\n",
       "  <thead>\n",
       "    <tr style=\"text-align: right;\">\n",
       "      <th>Model2</th>\n",
       "      <th>LightGBM</th>\n",
       "      <th>SHAP_XGBoost</th>\n",
       "      <th>SHAP_XGBoost_Paper</th>\n",
       "      <th>TabNet</th>\n",
       "      <th>TabNet_Paper</th>\n",
       "      <th>XGBoost</th>\n",
       "      <th>XGBoost_Paper</th>\n",
       "    </tr>\n",
       "    <tr>\n",
       "      <th>Model1</th>\n",
       "      <th></th>\n",
       "      <th></th>\n",
       "      <th></th>\n",
       "      <th></th>\n",
       "      <th></th>\n",
       "      <th></th>\n",
       "      <th></th>\n",
       "    </tr>\n",
       "  </thead>\n",
       "  <tbody>\n",
       "    <tr>\n",
       "      <th>LightGBM</th>\n",
       "      <td>10</td>\n",
       "      <td>7</td>\n",
       "      <td>7</td>\n",
       "      <td>8</td>\n",
       "      <td>8</td>\n",
       "      <td>10</td>\n",
       "      <td>9</td>\n",
       "    </tr>\n",
       "    <tr>\n",
       "      <th>SHAP_XGBoost</th>\n",
       "      <td>7</td>\n",
       "      <td>10</td>\n",
       "      <td>10</td>\n",
       "      <td>8</td>\n",
       "      <td>8</td>\n",
       "      <td>7</td>\n",
       "      <td>8</td>\n",
       "    </tr>\n",
       "    <tr>\n",
       "      <th>SHAP_XGBoost_Paper</th>\n",
       "      <td>7</td>\n",
       "      <td>10</td>\n",
       "      <td>10</td>\n",
       "      <td>8</td>\n",
       "      <td>8</td>\n",
       "      <td>7</td>\n",
       "      <td>8</td>\n",
       "    </tr>\n",
       "    <tr>\n",
       "      <th>TabNet</th>\n",
       "      <td>8</td>\n",
       "      <td>8</td>\n",
       "      <td>8</td>\n",
       "      <td>10</td>\n",
       "      <td>8</td>\n",
       "      <td>8</td>\n",
       "      <td>9</td>\n",
       "    </tr>\n",
       "    <tr>\n",
       "      <th>TabNet_Paper</th>\n",
       "      <td>8</td>\n",
       "      <td>8</td>\n",
       "      <td>8</td>\n",
       "      <td>8</td>\n",
       "      <td>10</td>\n",
       "      <td>8</td>\n",
       "      <td>8</td>\n",
       "    </tr>\n",
       "    <tr>\n",
       "      <th>XGBoost</th>\n",
       "      <td>10</td>\n",
       "      <td>7</td>\n",
       "      <td>7</td>\n",
       "      <td>8</td>\n",
       "      <td>8</td>\n",
       "      <td>10</td>\n",
       "      <td>9</td>\n",
       "    </tr>\n",
       "    <tr>\n",
       "      <th>XGBoost_Paper</th>\n",
       "      <td>9</td>\n",
       "      <td>8</td>\n",
       "      <td>8</td>\n",
       "      <td>9</td>\n",
       "      <td>8</td>\n",
       "      <td>9</td>\n",
       "      <td>10</td>\n",
       "    </tr>\n",
       "  </tbody>\n",
       "</table>\n",
       "</div>"
      ],
      "text/plain": [
       "Model2              LightGBM  SHAP_XGBoost  SHAP_XGBoost_Paper  TabNet  \\\n",
       "Model1                                                                   \n",
       "LightGBM                  10             7                   7       8   \n",
       "SHAP_XGBoost               7            10                  10       8   \n",
       "SHAP_XGBoost_Paper         7            10                  10       8   \n",
       "TabNet                     8             8                   8      10   \n",
       "TabNet_Paper               8             8                   8       8   \n",
       "XGBoost                   10             7                   7       8   \n",
       "XGBoost_Paper              9             8                   8       9   \n",
       "\n",
       "Model2              TabNet_Paper  XGBoost  XGBoost_Paper  \n",
       "Model1                                                    \n",
       "LightGBM                       8       10              9  \n",
       "SHAP_XGBoost                   8        7              8  \n",
       "SHAP_XGBoost_Paper             8        7              8  \n",
       "TabNet                         8        8              9  \n",
       "TabNet_Paper                  10        8              8  \n",
       "XGBoost                        8       10              9  \n",
       "XGBoost_Paper                  8        9             10  "
      ]
     },
     "execution_count": 63,
     "metadata": {},
     "output_type": "execute_result"
    }
   ],
   "source": [
    "pd.pivot_table(top_10_data, values='Sim', index=['Model1'], columns=['Model2'])"
   ]
  },
  {
   "cell_type": "code",
   "execution_count": null,
   "metadata": {},
   "outputs": [],
   "source": []
  }
 ],
 "metadata": {
  "kernelspec": {
   "display_name": "Python 3",
   "language": "python",
   "name": "python3"
  },
  "language_info": {
   "codemirror_mode": {
    "name": "ipython",
    "version": 3
   },
   "file_extension": ".py",
   "mimetype": "text/x-python",
   "name": "python",
   "nbconvert_exporter": "python",
   "pygments_lexer": "ipython3",
   "version": "3.8.5"
  }
 },
 "nbformat": 4,
 "nbformat_minor": 4
}
