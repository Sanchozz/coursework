{
 "cells": [
  {
   "cell_type": "code",
   "execution_count": 12,
   "metadata": {},
   "outputs": [],
   "source": [
    "import numpy as np\n",
    "import pandas as pd\n",
    "import gc\n",
    "from lightgbm import LGBMClassifier\n",
    "from xgboost import XGBClassifier\n",
    "import lightgbm as lgb\n",
    "import xgboost as xgb\n",
    "from pytorch_tabnet.tab_model import TabNetClassifier\n",
    "import pickle\n",
    "import shap\n",
    "import matplotlib.pyplot as plt\n",
    "import xgboost\n",
    "\n",
    "from sklearn.preprocessing import LabelEncoder\n",
    "from sklearn.metrics import accuracy_score, roc_auc_score, confusion_matrix, log_loss\n",
    "from sklearn.feature_selection import VarianceThreshold\n",
    "from sklearn.model_selection import train_test_split\n",
    "\n",
    "from functools import partial\n",
    "\n",
    "from skopt.space import Real, Integer, Categorical\n",
    "from skopt.utils import use_named_args\n",
    "from skopt import gp_minimize\n",
    "from skopt.plots import plot_convergence\n",
    "\n",
    "from bo_parameters import *"
   ]
  },
  {
   "cell_type": "code",
   "execution_count": 13,
   "metadata": {},
   "outputs": [],
   "source": [
    "lgbm_tuned = {\n",
    "    \"learning_rate\" : 0.1281147437213422, \n",
    "    \"max_depth\" : 8, \n",
    "    \"n_estimators\" : 993\n",
    "}\n",
    "# lgbm_tuned += LIGHTGBM_PARAMS\n",
    "\n",
    "xgb_tuned = {\n",
    "    \"learning_rate\" : 0.11111908522416483, \n",
    "    \"max_depth\" : 7, \n",
    "    \"n_estimators\" : 343\n",
    "}\n",
    "# xgb_tuned += XGBOOST_PARAMS\n",
    "\n",
    "\n",
    "tabnet_tuned = {\n",
    "    \"gamma\" : 1.2917828325804677, \n",
    "    \"lambda_sparse\" : 0.0001, \n",
    "    \"n_steps\" : 3,\n",
    "    \"n_a\" : 32,\n",
    "    \"momentum\" : 0.98,\n",
    "}\n",
    "\n",
    "tabnet_tuned[\"n_d\"] = tabnet_tuned[\"n_a\"]\n",
    "\n",
    "tabnet_paper = {\n",
    "    \"gamma\" : 1.2, \n",
    "    \"lambda_sparse\" : 0.0001, \n",
    "    \"n_steps\" : 7,\n",
    "    \"n_a\" : 32,\n",
    "    \"momentum\" : 0.9,\n",
    "    \"optimizer_params\" : dict(lr=1e-2)\n",
    "}\n",
    "tabnet_paper[\"n_d\"] = tabnet_paper[\"n_a\"]\n",
    "\n",
    "xgb_paper = {\n",
    "    \"max_depth\" : 6, \n",
    "}\n",
    "\n",
    "lgbm_paper = {\n",
    "    \"num_leaves\" : 64,\n",
    "}"
   ]
  },
  {
   "cell_type": "code",
   "execution_count": 14,
   "metadata": {},
   "outputs": [],
   "source": [
    "data = pd.read_csv(\"data/kick_prediction/data_clean.csv\")"
   ]
  },
  {
   "cell_type": "code",
   "execution_count": 59,
   "metadata": {},
   "outputs": [
    {
     "data": {
      "text/plain": [
       "(72983, 44)"
      ]
     },
     "execution_count": 59,
     "metadata": {},
     "output_type": "execute_result"
    }
   ],
   "source": [
    "data.shape"
   ]
  },
  {
   "cell_type": "code",
   "execution_count": 15,
   "metadata": {},
   "outputs": [],
   "source": [
    "train = pd.read_csv(\"data/kick_prediction/train.csv\")\n",
    "valid = pd.read_csv(\"data/kick_prediction/val.csv\")\n",
    "test = pd.read_csv(\"data/kick_prediction/test.csv\")"
   ]
  },
  {
   "cell_type": "code",
   "execution_count": 16,
   "metadata": {},
   "outputs": [],
   "source": [
    "categorical_idx = [0, 1, 3, 4, 5, 6, 7, 8, 9, 10, 12, 13, 14, 23, 24, 25, 26, 27, 29, 31, 32, 33, 34]\n",
    "\n",
    "categorical_dims = [data.iloc[:, x].nunique() for x in categorical_idx]"
   ]
  },
  {
   "cell_type": "code",
   "execution_count": 62,
   "metadata": {},
   "outputs": [
    {
     "data": {
      "text/plain": [
       "23"
      ]
     },
     "execution_count": 62,
     "metadata": {},
     "output_type": "execute_result"
    }
   ],
   "source": [
    "len(categorical_idx)"
   ]
  },
  {
   "cell_type": "code",
   "execution_count": 5,
   "metadata": {},
   "outputs": [],
   "source": [
    "for idx in range(0, len(categorical_dims)):\n",
    "    if categorical_dims[idx] > 1:\n",
    "        train.iloc[:, categorical_idx[idx]] = [int(x) for x in train.iloc[:, categorical_idx[idx]]]\n",
    "        valid.iloc[:, categorical_idx[idx]] = [int(x) for x in valid.iloc[:, categorical_idx[idx]]]\n",
    "        test.iloc[:, categorical_idx[idx]] = [int(x) for x in test.iloc[:, categorical_idx[idx]]]\n",
    "    else:\n",
    "        train.iloc[:, categorical_idx[idx]] = [0] * train.shape[0]\n",
    "        valid.iloc[:, categorical_idx[idx]] = [0] * valid.shape[0]\n",
    "        test.iloc[:, categorical_idx[idx]] = [0] * test.shape[0]"
   ]
  },
  {
   "cell_type": "code",
   "execution_count": 18,
   "metadata": {},
   "outputs": [],
   "source": [
    "train = pd.concat([train, valid])"
   ]
  },
  {
   "cell_type": "code",
   "execution_count": 19,
   "metadata": {},
   "outputs": [],
   "source": [
    "train_X = train.drop([\"TARGET\"], axis=1)\n",
    "train_y = train[\"TARGET\"]\n",
    "\n",
    "test_X = test.drop([\"TARGET\"], axis=1)\n",
    "test_y = test[\"TARGET\"]"
   ]
  },
  {
   "cell_type": "code",
   "execution_count": 22,
   "metadata": {},
   "outputs": [
    {
     "data": {
      "text/plain": [
       "LGBMClassifier(learning_rate=0.1281147437213422, max_depth=8, metric='auc',\n",
       "               n_estimators=993, objective='binary', random_state=42)"
      ]
     },
     "execution_count": 22,
     "metadata": {},
     "output_type": "execute_result"
    }
   ],
   "source": [
    "model_lgbm = LGBMClassifier(**{**lgbm_tuned, **LIGHTGBM_PARAMS})\n",
    "model_lgbm.fit(train_X, train_y, verbose=1, categorical_feature=categorical_idx)"
   ]
  },
  {
   "cell_type": "code",
   "execution_count": 20,
   "metadata": {},
   "outputs": [
    {
     "name": "stderr",
     "output_type": "stream",
     "text": [
      "Using categorical_feature in Dataset.\n"
     ]
    },
    {
     "data": {
      "text/plain": [
       "LGBMClassifier(metric='auc', num_leaves=64, objective='binary', random_state=42)"
      ]
     },
     "execution_count": 20,
     "metadata": {},
     "output_type": "execute_result"
    }
   ],
   "source": [
    "model_lgbm_paper = LGBMClassifier(**{**lgbm_paper, **LIGHTGBM_PARAMS})\n",
    "model_lgbm_paper.fit(train_X, train_y, verbose=1, categorical_feature=categorical_idx)"
   ]
  },
  {
   "cell_type": "code",
   "execution_count": 23,
   "metadata": {
    "scrolled": true
   },
   "outputs": [
    {
     "name": "stdout",
     "output_type": "stream",
     "text": [
      "[14:01:58] WARNING: ../src/learner.cc:541: \n",
      "Parameters: { silent } might not be used.\n",
      "\n",
      "  This may not be accurate due to some parameters are only used in language bindings but\n",
      "  passed down to XGBoost core.  Or some parameters are not used but slip through this\n",
      "  verification. Please open an issue if you find above cases.\n",
      "\n",
      "\n",
      "[14:01:58] WARNING: ../src/learner.cc:1061: Starting in XGBoost 1.3.0, the default evaluation metric used with the objective 'binary:logistic' was changed from 'error' to 'logloss'. Explicitly set eval_metric if you'd like to restore the old behavior.\n"
     ]
    },
    {
     "data": {
      "text/plain": [
       "XGBClassifier(base_score=0.5, booster='gbtree', colsample_bylevel=1,\n",
       "              colsample_bynode=1, colsample_bytree=1, gamma=0, gpu_id=-1,\n",
       "              importance_type='gain', interaction_constraints='',\n",
       "              learning_rate=0.11111908522416483, max_delta_step=0, max_depth=7,\n",
       "              min_child_weight=1, missing=nan, monotone_constraints='()',\n",
       "              n_estimators=343, n_jobs=-1, num_parallel_tree=1, random_state=42,\n",
       "              reg_alpha=0, reg_lambda=1, scale_pos_weight=1, silent=True,\n",
       "              subsample=1, tree_method='exact', validate_parameters=1,\n",
       "              verbosity=None)"
      ]
     },
     "execution_count": 23,
     "metadata": {},
     "output_type": "execute_result"
    }
   ],
   "source": [
    "model_xgb = XGBClassifier(**{**xgb_tuned, **XGBOOST_PARAMS})\n",
    "model_xgb.fit(train_X, train_y, verbose=1)"
   ]
  },
  {
   "cell_type": "code",
   "execution_count": 21,
   "metadata": {
    "scrolled": true
   },
   "outputs": [
    {
     "name": "stderr",
     "output_type": "stream",
     "text": [
      "The use of label encoder in XGBClassifier is deprecated and will be removed in a future release. To remove this warning, do the following: 1) Pass option use_label_encoder=False when constructing XGBClassifier object; and 2) Encode your labels (y) as integers starting with 0, i.e. 0, 1, 2, ..., [num_class - 1].\n"
     ]
    },
    {
     "name": "stdout",
     "output_type": "stream",
     "text": [
      "[14:01:45] WARNING: ../src/learner.cc:541: \n",
      "Parameters: { silent } might not be used.\n",
      "\n",
      "  This may not be accurate due to some parameters are only used in language bindings but\n",
      "  passed down to XGBoost core.  Or some parameters are not used but slip through this\n",
      "  verification. Please open an issue if you find above cases.\n",
      "\n",
      "\n",
      "[14:01:45] WARNING: ../src/learner.cc:1061: Starting in XGBoost 1.3.0, the default evaluation metric used with the objective 'binary:logistic' was changed from 'error' to 'logloss'. Explicitly set eval_metric if you'd like to restore the old behavior.\n"
     ]
    },
    {
     "data": {
      "text/plain": [
       "XGBClassifier(base_score=0.5, booster='gbtree', colsample_bylevel=1,\n",
       "              colsample_bynode=1, colsample_bytree=1, gamma=0, gpu_id=-1,\n",
       "              importance_type='gain', interaction_constraints='',\n",
       "              learning_rate=0.300000012, max_delta_step=0, max_depth=6,\n",
       "              min_child_weight=1, missing=nan, monotone_constraints='()',\n",
       "              n_estimators=100, n_jobs=-1, num_parallel_tree=1, random_state=42,\n",
       "              reg_alpha=0, reg_lambda=1, scale_pos_weight=1, silent=True,\n",
       "              subsample=1, tree_method='exact', validate_parameters=1,\n",
       "              verbosity=None)"
      ]
     },
     "execution_count": 21,
     "metadata": {},
     "output_type": "execute_result"
    }
   ],
   "source": [
    "model_xgb_paper = XGBClassifier(**{**xgb_paper, **XGBOOST_PARAMS})\n",
    "model_xgb_paper.fit(train_X, train_y, verbose=1)"
   ]
  },
  {
   "cell_type": "code",
   "execution_count": 12,
   "metadata": {},
   "outputs": [],
   "source": [
    "TABNET_PARAMS[\"verbose\"] = 1"
   ]
  },
  {
   "cell_type": "code",
   "execution_count": 27,
   "metadata": {
    "scrolled": true
   },
   "outputs": [
    {
     "name": "stdout",
     "output_type": "stream",
     "text": [
      "Device used : cpu\n",
      "No early stopping will be performed, last training weights will be used.\n",
      "epoch 0  | loss: 0.37947 |  0:00:07s\n",
      "epoch 1  | loss: 0.32056 |  0:00:15s\n",
      "epoch 2  | loss: 0.31726 |  0:00:23s\n",
      "epoch 3  | loss: 0.31482 |  0:00:31s\n",
      "epoch 4  | loss: 0.31453 |  0:00:38s\n",
      "epoch 5  | loss: 0.31201 |  0:00:46s\n",
      "epoch 6  | loss: 0.31254 |  0:00:54s\n",
      "epoch 7  | loss: 0.31201 |  0:01:01s\n",
      "epoch 8  | loss: 0.31007 |  0:01:09s\n",
      "epoch 9  | loss: 0.30877 |  0:01:17s\n",
      "epoch 10 | loss: 0.30848 |  0:01:25s\n",
      "epoch 11 | loss: 0.30685 |  0:01:32s\n",
      "epoch 12 | loss: 0.30707 |  0:01:40s\n",
      "epoch 13 | loss: 0.3063  |  0:01:48s\n",
      "epoch 14 | loss: 0.30583 |  0:01:56s\n",
      "epoch 15 | loss: 0.30433 |  0:02:03s\n",
      "epoch 16 | loss: 0.30321 |  0:02:11s\n",
      "epoch 17 | loss: 0.30188 |  0:02:19s\n",
      "epoch 18 | loss: 0.2998  |  0:02:26s\n",
      "epoch 19 | loss: 0.29933 |  0:02:34s\n",
      "epoch 20 | loss: 0.29631 |  0:02:42s\n",
      "epoch 21 | loss: 0.29734 |  0:02:50s\n",
      "epoch 22 | loss: 0.29595 |  0:02:57s\n",
      "epoch 23 | loss: 0.29765 |  0:03:05s\n",
      "epoch 24 | loss: 0.29595 |  0:03:13s\n",
      "epoch 25 | loss: 0.29378 |  0:03:20s\n",
      "epoch 26 | loss: 0.2913  |  0:03:28s\n",
      "epoch 27 | loss: 0.28653 |  0:03:36s\n",
      "epoch 28 | loss: 0.28472 |  0:03:44s\n",
      "epoch 29 | loss: 0.28612 |  0:03:51s\n"
     ]
    }
   ],
   "source": [
    "model_tabnet = TabNetClassifier(**{**tabnet_tuned, **TABNET_PARAMS}, cat_idxs=categorical_idx, cat_dims=categorical_dims)\n",
    "model_tabnet.fit(train_X.values, train_y.values, max_epochs=30)"
   ]
  },
  {
   "cell_type": "code",
   "execution_count": 14,
   "metadata": {
    "scrolled": true
   },
   "outputs": [
    {
     "name": "stdout",
     "output_type": "stream",
     "text": [
      "Device used : cpu\n",
      "No early stopping will be performed, last training weights will be used.\n",
      "epoch 0  | loss: 0.68364 |  0:01:05s\n",
      "epoch 1  | loss: 0.15025 |  0:02:10s\n",
      "epoch 2  | loss: 0.14513 |  0:03:12s\n",
      "epoch 3  | loss: 0.13577 |  0:04:17s\n",
      "epoch 4  | loss: 0.13261 |  0:05:19s\n",
      "epoch 5  | loss: 0.12932 |  0:06:19s\n",
      "epoch 6  | loss: 0.11857 |  0:07:25s\n",
      "epoch 7  | loss: 0.11329 |  0:08:30s\n",
      "epoch 8  | loss: 0.11013 |  0:09:31s\n",
      "epoch 9  | loss: 0.10445 |  0:10:35s\n",
      "epoch 10 | loss: 0.10074 |  0:11:38s\n",
      "epoch 11 | loss: 0.10024 |  0:12:41s\n",
      "epoch 12 | loss: 0.09873 |  0:13:43s\n",
      "epoch 13 | loss: 0.09217 |  0:14:48s\n",
      "epoch 14 | loss: 0.09167 |  0:15:52s\n",
      "epoch 15 | loss: 0.09026 |  0:16:58s\n",
      "epoch 16 | loss: 0.08836 |  0:18:04s\n",
      "epoch 17 | loss: 0.08998 |  0:19:08s\n",
      "epoch 18 | loss: 0.08803 |  0:20:14s\n",
      "epoch 19 | loss: 0.08802 |  0:21:20s\n",
      "epoch 20 | loss: 0.08541 |  0:22:23s\n",
      "epoch 21 | loss: 0.08599 |  0:23:28s\n",
      "epoch 22 | loss: 0.08623 |  0:24:33s\n",
      "epoch 23 | loss: 0.08545 |  0:25:37s\n",
      "epoch 24 | loss: 0.08535 |  0:26:42s\n",
      "epoch 25 | loss: 0.08427 |  0:27:47s\n",
      "epoch 26 | loss: 0.08891 |  0:28:53s\n",
      "epoch 27 | loss: 0.0896  |  0:29:56s\n",
      "epoch 28 | loss: 0.08592 |  0:30:59s\n",
      "epoch 29 | loss: 0.08367 |  0:32:01s\n",
      "epoch 30 | loss: 0.0851  |  0:33:04s\n",
      "epoch 31 | loss: 0.0845  |  0:34:08s\n",
      "epoch 32 | loss: 0.08355 |  0:35:11s\n",
      "epoch 33 | loss: 0.08699 |  0:36:13s\n",
      "epoch 34 | loss: 0.10341 |  0:37:17s\n",
      "epoch 35 | loss: 0.09885 |  0:38:22s\n",
      "epoch 36 | loss: 0.08927 |  0:39:27s\n",
      "epoch 37 | loss: 0.09104 |  0:40:30s\n",
      "epoch 38 | loss: 0.09368 |  0:41:04s\n",
      "epoch 39 | loss: 0.08754 |  0:41:38s\n",
      "epoch 40 | loss: 0.08493 |  0:42:12s\n",
      "epoch 41 | loss: 0.08431 |  0:42:45s\n",
      "epoch 42 | loss: 0.08341 |  0:43:18s\n",
      "epoch 43 | loss: 0.08368 |  0:43:53s\n",
      "epoch 44 | loss: 0.08421 |  0:44:26s\n"
     ]
    }
   ],
   "source": [
    "model_tabnet_paper = TabNetClassifier(**{**tabnet_paper, **TABNET_PARAMS}, cat_idxs=categorical_idx, cat_dims=categorical_dims)\n",
    "model_tabnet_paper.fit(train_X.values, train_y.values, max_epochs=45, batch_size=8192, virtual_batch_size=256)"
   ]
  },
  {
   "cell_type": "code",
   "execution_count": 175,
   "metadata": {},
   "outputs": [],
   "source": [
    "with open('model_tabnet_kdd_appetency.pickle', 'wb') as f:\n",
    "    pickle.dump(model_tabnet, f)\n",
    "with open('model_tabnet_paper_kdd_appetency.pickle', 'wb') as f:\n",
    "    pickle.dump(model_tabnet_paper, f)"
   ]
  },
  {
   "cell_type": "code",
   "execution_count": 10,
   "metadata": {},
   "outputs": [],
   "source": [
    "with open('model_tabnet.pickle', 'rb') as f:\n",
    "    model_tabnet = pickle.load(f)\n",
    "with open('model_tabnet_paper.pickle', 'rb') as f:\n",
    "    model_tabnet_paper = pickle.load(f)"
   ]
  },
  {
   "cell_type": "code",
   "execution_count": 30,
   "metadata": {},
   "outputs": [
    {
     "name": "stdout",
     "output_type": "stream",
     "text": [
      "LightGBM auc:  0.747989\n",
      "LightGBM Paper auc:  0.764274\n",
      "XGBoost auc:  0.770257\n",
      "XGBoost Paper auc:  0.77188\n",
      "TabNet auc:  0.760058\n"
     ]
    }
   ],
   "source": [
    "print(\"LightGBM auc: \", round(roc_auc_score(test_y, model_lgbm.predict_proba(test_X)[:, 1]), 6))\n",
    "print(\"LightGBM Paper auc: \", round(roc_auc_score(test_y, model_lgbm_paper.predict_proba(test_X)[:, 1]), 6))\n",
    "print(\"XGBoost auc: \", round(roc_auc_score(test_y, model_xgb.predict_proba(test_X)[:, 1]), 6))\n",
    "print(\"XGBoost Paper auc: \", round(roc_auc_score(test_y, model_xgb_paper.predict_proba(test_X)[:, 1]), 6))\n",
    "print(\"TabNet auc: \", round(roc_auc_score(test_y, model_tabnet.predict_proba(test_X.values)[:, 1]), 6))"
   ]
  },
  {
   "cell_type": "code",
   "execution_count": 28,
   "metadata": {},
   "outputs": [
    {
     "name": "stdout",
     "output_type": "stream",
     "text": [
      "LightGBM acc:  0.898886\n",
      "LightGBM Paper acc:  0.903179\n",
      "XGBoost acc:  0.903453\n",
      "XGBoost Paper acc:  0.901443\n",
      "TabNet acc:  0.900712\n"
     ]
    }
   ],
   "source": [
    "print(\"LightGBM acc: \", round(accuracy_score(test_y, model_lgbm.predict(test_X)), 6))\n",
    "print(\"LightGBM Paper acc: \", round(accuracy_score(test_y, model_lgbm_paper.predict(test_X)), 6))\n",
    "print(\"XGBoost acc: \", round(accuracy_score(test_y, model_xgb.predict(test_X)), 6))\n",
    "print(\"XGBoost Paper acc: \", round(accuracy_score(test_y, model_xgb_paper.predict(test_X)), 6))\n",
    "print(\"TabNet acc: \", round(accuracy_score(test_y, model_tabnet.predict(test_X.values)), 6))"
   ]
  },
  {
   "cell_type": "code",
   "execution_count": 29,
   "metadata": {},
   "outputs": [
    {
     "name": "stdout",
     "output_type": "stream",
     "text": [
      "LightGBM log_loss:  0.371005\n",
      "LightGBM Paper log_loss:  0.298891\n",
      "XGBoost log_loss:  0.297067\n",
      "XGBoost Paper log_loss:  0.296704\n",
      "TabNet log_loss:  0.306538\n"
     ]
    }
   ],
   "source": [
    "print(\"LightGBM log_loss: \", round(log_loss(test_y, model_lgbm.predict_proba(test_X)), 6))\n",
    "print(\"LightGBM Paper log_loss: \", round(log_loss(test_y, model_lgbm_paper.predict_proba(test_X)), 6))\n",
    "print(\"XGBoost log_loss: \", round(log_loss(test_y, model_xgb.predict_proba(test_X)), 6))\n",
    "print(\"XGBoost Paper log_loss: \", round(log_loss(test_y, model_xgb_paper.predict_proba(test_X)), 6))\n",
    "print(\"TabNet log_loss: \", round(log_loss(test_y, model_tabnet.predict_proba(test_X.values)), 6))"
   ]
  },
  {
   "cell_type": "code",
   "execution_count": 34,
   "metadata": {},
   "outputs": [],
   "source": [
    "importance_lgbm = list(enumerate(model_lgbm.feature_importances_))\n",
    "importance_lgbm_paper = list(enumerate(model_lgbm_paper.feature_importances_))\n",
    "importance_xgb = model_xgb.get_booster().get_score(importance_type='weight').items()\n",
    "importance_xgb_paper = model_xgb_paper.get_booster().get_score(importance_type='weight').items()\n",
    "importance_tabnet = list(enumerate(model_tabnet.feature_importances_))\n",
    "# importance_tabnet_paper = list(enumerate(model_tabnet_paper.feature_importances_))"
   ]
  },
  {
   "cell_type": "code",
   "execution_count": 35,
   "metadata": {},
   "outputs": [],
   "source": [
    "importance_lgbm = sorted(importance_lgbm, key=lambda x: x[1], reverse=True)\n",
    "importance_lgbm = sorted(importance_lgbm_paper, key=lambda x: x[1], reverse=True)\n",
    "importance_xgb = sorted(importance_xgb, key=lambda x: x[1], reverse=True)\n",
    "importance_xgb_paper = sorted(importance_xgb_paper, key=lambda x: x[1], reverse=True)\n",
    "importance_tabnet = sorted(importance_tabnet, key=lambda x: x[1], reverse=True)\n",
    "# importance_tabnet_paper = sorted(importance_tabnet_paper, key=lambda x: x[1], reverse=True)"
   ]
  },
  {
   "cell_type": "code",
   "execution_count": 31,
   "metadata": {
    "scrolled": true
   },
   "outputs": [
    {
     "data": {
      "image/png": "[encoded data removed]",
      "text/plain": [
       "<Figure size 576x684 with 1 Axes>"
      ]
     },
     "metadata": {
      "needs_background": "light"
     },
     "output_type": "display_data"
    }
   ],
   "source": [
    "shap_values = shap.TreeExplainer(model_xgb).shap_values(train_X)\n",
    "shap.summary_plot(shap_values, train_X, plot_type=\"bar\")"
   ]
  },
  {
   "cell_type": "code",
   "execution_count": 32,
   "metadata": {},
   "outputs": [
    {
     "data": {
      "image/png": "[encoded data removed]",
      "text/plain": [
       "<Figure size 576x684 with 1 Axes>"
      ]
     },
     "metadata": {
      "needs_background": "light"
     },
     "output_type": "display_data"
    }
   ],
   "source": [
    "shap_values_paper = shap.TreeExplainer(model_xgb_paper).shap_values(train_X)\n",
    "shap.summary_plot(shap_values_paper, train_X, plot_type=\"bar\")"
   ]
  },
  {
   "cell_type": "code",
   "execution_count": 61,
   "metadata": {},
   "outputs": [
    {
     "data": {
      "text/plain": [
       "array([42, 29, 35, 36, 38, 37, 40, 41, 39, 24, 12,  8,  7, 14,  1, 13, 34,\n",
       "       27,  3,  5, 33,  6,  0, 30, 18,  4, 15, 17, 23, 16, 20, 11, 31, 21,\n",
       "       26, 22, 10, 32, 19, 25,  9, 28,  2])"
      ]
     },
     "execution_count": 61,
     "metadata": {},
     "output_type": "execute_result"
    }
   ],
   "source": [
    "np.argsort(np.abs(shap_values_paper).mean(0))"
   ]
  },
  {
   "cell_type": "code",
   "execution_count": 40,
   "metadata": {},
   "outputs": [],
   "source": [
    "df_compare = pd.DataFrame([train_X.columns[x[0]] for x in importance_lgbm], columns=[\"LightGBM\"])\n",
    "df_compare[\"LightGBM_Paper\"] = [train_X.columns[x[0]] for x in importance_lgbm]\n",
    "# df_compare[\"XGBoost\"] = [x[0] for x in importance_xgb] + list(set(train_X.columns[:-1]) - set([x[0] for x in importance_xgb])) + [train_X.columns[-1]]\n",
    "df_compare[\"XGBoost_Paper\"] = [x[0] for x in importance_xgb_paper] + list(set(train_X.columns[:-1]) - set([x[0] for x in importance_xgb_paper])) + [train_X.columns[-1]]\n",
    "# df_compare[\"SHAP_XGBoost\"] = train_X.columns[np.argsort(np.abs(shap_values).mean(0))][::-1]\n",
    "df_compare[\"SHAP_XGBoost_Paper\"] = train_X.columns[np.argsort(np.abs(shap_values_paper).mean(0))][::-1]\n",
    "df_compare[\"TabNet\"] = [train_X.columns[x[0]] for x in importance_tabnet]\n",
    "# df_compare[\"TabNet_Paper\"] = [train_X.columns[x[0]] for x in importance_tabnet_paper]"
   ]
  },
  {
   "cell_type": "code",
   "execution_count": 41,
   "metadata": {
    "scrolled": true
   },
   "outputs": [
    {
     "data": {
      "text/html": [
       "<div>\n",
       "<style scoped>\n",
       "    .dataframe tbody tr th:only-of-type {\n",
       "        vertical-align: middle;\n",
       "    }\n",
       "\n",
       "    .dataframe tbody tr th {\n",
       "        vertical-align: top;\n",
       "    }\n",
       "\n",
       "    .dataframe thead th {\n",
       "        text-align: right;\n",
       "    }\n",
       "</style>\n",
       "<table border=\"1\" class=\"dataframe\">\n",
       "  <thead>\n",
       "    <tr style=\"text-align: right;\">\n",
       "      <th></th>\n",
       "      <th>LightGBM</th>\n",
       "      <th>LightGBM_Paper</th>\n",
       "      <th>XGBoost_Paper</th>\n",
       "      <th>SHAP_XGBoost_Paper</th>\n",
       "      <th>TabNet</th>\n",
       "    </tr>\n",
       "  </thead>\n",
       "  <tbody>\n",
       "    <tr>\n",
       "      <th>0</th>\n",
       "      <td>Model</td>\n",
       "      <td>Model</td>\n",
       "      <td>VehOdo</td>\n",
       "      <td>VehicleAge</td>\n",
       "      <td>WheelTypeID</td>\n",
       "    </tr>\n",
       "    <tr>\n",
       "      <th>1</th>\n",
       "      <td>PurchDay</td>\n",
       "      <td>PurchDay</td>\n",
       "      <td>VehBCost</td>\n",
       "      <td>VehBCost</td>\n",
       "      <td>Nationality</td>\n",
       "    </tr>\n",
       "    <tr>\n",
       "      <th>2</th>\n",
       "      <td>VNZIP1</td>\n",
       "      <td>VNZIP1</td>\n",
       "      <td>VNZIP1</td>\n",
       "      <td>WheelTypeID</td>\n",
       "      <td>VehicleAge</td>\n",
       "    </tr>\n",
       "    <tr>\n",
       "      <th>3</th>\n",
       "      <td>SubModel</td>\n",
       "      <td>SubModel</td>\n",
       "      <td>BYRNO</td>\n",
       "      <td>BYRNO</td>\n",
       "      <td>VehBCost</td>\n",
       "    </tr>\n",
       "    <tr>\n",
       "      <th>4</th>\n",
       "      <td>BYRNO</td>\n",
       "      <td>BYRNO</td>\n",
       "      <td>Model</td>\n",
       "      <td>MMRCurrentAuctionAveragePrice</td>\n",
       "      <td>TopThreeAmericanName</td>\n",
       "    </tr>\n",
       "    <tr>\n",
       "      <th>5</th>\n",
       "      <td>VehOdo</td>\n",
       "      <td>VehOdo</td>\n",
       "      <td>PurchDay</td>\n",
       "      <td>PurchMonth</td>\n",
       "      <td>PurchWeekday</td>\n",
       "    </tr>\n",
       "    <tr>\n",
       "      <th>6</th>\n",
       "      <td>VehBCost</td>\n",
       "      <td>VehBCost</td>\n",
       "      <td>WarrantyCost</td>\n",
       "      <td>WheelType</td>\n",
       "      <td>PRIMEUNIT</td>\n",
       "    </tr>\n",
       "    <tr>\n",
       "      <th>7</th>\n",
       "      <td>MMRCurrentRetailAveragePrice</td>\n",
       "      <td>MMRCurrentRetailAveragePrice</td>\n",
       "      <td>MMRCurrentAuctionCleanPrice</td>\n",
       "      <td>MMRCurrentRetailCleanPrice</td>\n",
       "      <td>VNST</td>\n",
       "    </tr>\n",
       "    <tr>\n",
       "      <th>8</th>\n",
       "      <td>PurchMonth</td>\n",
       "      <td>PurchMonth</td>\n",
       "      <td>MMRCurrentAuctionAveragePrice</td>\n",
       "      <td>VNZIP1</td>\n",
       "      <td>VehYear</td>\n",
       "    </tr>\n",
       "    <tr>\n",
       "      <th>9</th>\n",
       "      <td>MMRCurrentRetailCleanPrice</td>\n",
       "      <td>MMRCurrentRetailCleanPrice</td>\n",
       "      <td>MMRCurrentRetailAveragePrice</td>\n",
       "      <td>MMRCurrentRetailAveragePrice</td>\n",
       "      <td>WarrantyCost</td>\n",
       "    </tr>\n",
       "  </tbody>\n",
       "</table>\n",
       "</div>"
      ],
      "text/plain": [
       "                       LightGBM                LightGBM_Paper  \\\n",
       "0                         Model                         Model   \n",
       "1                      PurchDay                      PurchDay   \n",
       "2                        VNZIP1                        VNZIP1   \n",
       "3                      SubModel                      SubModel   \n",
       "4                         BYRNO                         BYRNO   \n",
       "5                        VehOdo                        VehOdo   \n",
       "6                      VehBCost                      VehBCost   \n",
       "7  MMRCurrentRetailAveragePrice  MMRCurrentRetailAveragePrice   \n",
       "8                    PurchMonth                    PurchMonth   \n",
       "9    MMRCurrentRetailCleanPrice    MMRCurrentRetailCleanPrice   \n",
       "\n",
       "                   XGBoost_Paper             SHAP_XGBoost_Paper  \\\n",
       "0                         VehOdo                     VehicleAge   \n",
       "1                       VehBCost                       VehBCost   \n",
       "2                         VNZIP1                    WheelTypeID   \n",
       "3                          BYRNO                          BYRNO   \n",
       "4                          Model  MMRCurrentAuctionAveragePrice   \n",
       "5                       PurchDay                     PurchMonth   \n",
       "6                   WarrantyCost                      WheelType   \n",
       "7    MMRCurrentAuctionCleanPrice     MMRCurrentRetailCleanPrice   \n",
       "8  MMRCurrentAuctionAveragePrice                         VNZIP1   \n",
       "9   MMRCurrentRetailAveragePrice   MMRCurrentRetailAveragePrice   \n",
       "\n",
       "                 TabNet  \n",
       "0           WheelTypeID  \n",
       "1           Nationality  \n",
       "2            VehicleAge  \n",
       "3              VehBCost  \n",
       "4  TopThreeAmericanName  \n",
       "5          PurchWeekday  \n",
       "6             PRIMEUNIT  \n",
       "7                  VNST  \n",
       "8               VehYear  \n",
       "9          WarrantyCost  "
      ]
     },
     "execution_count": 41,
     "metadata": {},
     "output_type": "execute_result"
    }
   ],
   "source": [
    "df_compare.head(10)"
   ]
  },
  {
   "cell_type": "code",
   "execution_count": 49,
   "metadata": {},
   "outputs": [],
   "source": [
    "top3_feats = {}\n",
    "top3_feats[\"xgboost\"] = [\"VehOdo\", \"VehBCost\", \"VNZIP1\"]\n",
    "top3_feats[\"shap\"] = [\"VehicleAge\", \"VehBCost\", \"WheelTypeID\"]\n",
    "top3_feats[\"tabnet\"] = [\"WheelTypeID\", \"Nationality\", \"VehicleAge\"]"
   ]
  },
  {
   "cell_type": "code",
   "execution_count": 50,
   "metadata": {},
   "outputs": [],
   "source": [
    "top10_feats = {}\n",
    "top10_feats[\"xgboost\"] = [\"VehOdo\", \"VehBCost\", \"VNZIP1\", \"BYRNO\", \"Model\", \"PurchDay\", \"WarrantyCost\", \"MMRCurrentAuctionCleanPrice\", \"MMRCurrentAuctionAveragePrice\", \"MMRCurrentRetailAveragePrice\"]\n",
    "top10_feats[\"shap\"] = [\"VehicleAge\", \"VehBCost\", \"WheelTypeID\", \"BYRNO\", \"MMRCurrentAuctionAveragePrice\", \"PurchMonth\", \"WheelType\", \"MMRCurrentRetailCleanPrice\", \"VNZIP1\", \"MMRCurrentRetailAveragePrice\"]\n",
    "top10_feats[\"tabnet\"] = [\"WheelTypeID\", \"Nationality\", \"VehicleAge\", \"VehBCost\", \"TopThreeAmericanName\", \"PurchWeekday\", \"PRIMEUNIT\", \"VNST\", \"VehYear\", \"WarrantyCost\"]"
   ]
  },
  {
   "cell_type": "code",
   "execution_count": 43,
   "metadata": {},
   "outputs": [],
   "source": [
    "top_3 = []\n",
    "\n",
    "for i in range(len(df_compare.columns)):\n",
    "    for j in range(len(df_compare.columns)):\n",
    "        col1 = df_compare.columns[i]\n",
    "        col2 = df_compare.columns[j]\n",
    "        d = []\n",
    "        d.append(col1)\n",
    "        d.append(col2)\n",
    "        d.append(len(set(df_compare.loc[:2, col1]) & set(df_compare.loc[:2, col2])))\n",
    "        top_3.append(d)\n",
    "top_3_data = pd.DataFrame(top_3, columns=[\"Model1\", \"Model2\", \"Sim\"])\n",
    "    "
   ]
  },
  {
   "cell_type": "code",
   "execution_count": 44,
   "metadata": {},
   "outputs": [
    {
     "data": {
      "text/html": [
       "<div>\n",
       "<style scoped>\n",
       "    .dataframe tbody tr th:only-of-type {\n",
       "        vertical-align: middle;\n",
       "    }\n",
       "\n",
       "    .dataframe tbody tr th {\n",
       "        vertical-align: top;\n",
       "    }\n",
       "\n",
       "    .dataframe thead th {\n",
       "        text-align: right;\n",
       "    }\n",
       "</style>\n",
       "<table border=\"1\" class=\"dataframe\">\n",
       "  <thead>\n",
       "    <tr style=\"text-align: right;\">\n",
       "      <th>Model2</th>\n",
       "      <th>LightGBM</th>\n",
       "      <th>LightGBM_Paper</th>\n",
       "      <th>SHAP_XGBoost_Paper</th>\n",
       "      <th>TabNet</th>\n",
       "      <th>XGBoost_Paper</th>\n",
       "    </tr>\n",
       "    <tr>\n",
       "      <th>Model1</th>\n",
       "      <th></th>\n",
       "      <th></th>\n",
       "      <th></th>\n",
       "      <th></th>\n",
       "      <th></th>\n",
       "    </tr>\n",
       "  </thead>\n",
       "  <tbody>\n",
       "    <tr>\n",
       "      <th>LightGBM</th>\n",
       "      <td>3</td>\n",
       "      <td>3</td>\n",
       "      <td>0</td>\n",
       "      <td>0</td>\n",
       "      <td>1</td>\n",
       "    </tr>\n",
       "    <tr>\n",
       "      <th>LightGBM_Paper</th>\n",
       "      <td>3</td>\n",
       "      <td>3</td>\n",
       "      <td>0</td>\n",
       "      <td>0</td>\n",
       "      <td>1</td>\n",
       "    </tr>\n",
       "    <tr>\n",
       "      <th>SHAP_XGBoost_Paper</th>\n",
       "      <td>0</td>\n",
       "      <td>0</td>\n",
       "      <td>3</td>\n",
       "      <td>2</td>\n",
       "      <td>1</td>\n",
       "    </tr>\n",
       "    <tr>\n",
       "      <th>TabNet</th>\n",
       "      <td>0</td>\n",
       "      <td>0</td>\n",
       "      <td>2</td>\n",
       "      <td>3</td>\n",
       "      <td>0</td>\n",
       "    </tr>\n",
       "    <tr>\n",
       "      <th>XGBoost_Paper</th>\n",
       "      <td>1</td>\n",
       "      <td>1</td>\n",
       "      <td>1</td>\n",
       "      <td>0</td>\n",
       "      <td>3</td>\n",
       "    </tr>\n",
       "  </tbody>\n",
       "</table>\n",
       "</div>"
      ],
      "text/plain": [
       "Model2              LightGBM  LightGBM_Paper  SHAP_XGBoost_Paper  TabNet  \\\n",
       "Model1                                                                     \n",
       "LightGBM                   3               3                   0       0   \n",
       "LightGBM_Paper             3               3                   0       0   \n",
       "SHAP_XGBoost_Paper         0               0                   3       2   \n",
       "TabNet                     0               0                   2       3   \n",
       "XGBoost_Paper              1               1                   1       0   \n",
       "\n",
       "Model2              XGBoost_Paper  \n",
       "Model1                             \n",
       "LightGBM                        1  \n",
       "LightGBM_Paper                  1  \n",
       "SHAP_XGBoost_Paper              1  \n",
       "TabNet                          0  \n",
       "XGBoost_Paper                   3  "
      ]
     },
     "execution_count": 44,
     "metadata": {},
     "output_type": "execute_result"
    }
   ],
   "source": [
    "pd.pivot_table(top_3_data, values='Sim', index=['Model1'], columns=['Model2'])"
   ]
  },
  {
   "cell_type": "code",
   "execution_count": 45,
   "metadata": {},
   "outputs": [],
   "source": [
    "top_5 = []\n",
    "\n",
    "for i in range(len(df_compare.columns)):\n",
    "    for j in range(len(df_compare.columns)):\n",
    "        col1 = df_compare.columns[i]\n",
    "        col2 = df_compare.columns[j]\n",
    "        d = []\n",
    "        d.append(col1)\n",
    "        d.append(col2)\n",
    "        d.append(len(set(df_compare.loc[:4, col1]) & set(df_compare.loc[:4, col2])))\n",
    "        top_5.append(d)\n",
    "top_5_data = pd.DataFrame(top_5, columns=[\"Model1\", \"Model2\", \"Sim\"])\n",
    "    "
   ]
  },
  {
   "cell_type": "code",
   "execution_count": 46,
   "metadata": {},
   "outputs": [
    {
     "data": {
      "text/html": [
       "<div>\n",
       "<style scoped>\n",
       "    .dataframe tbody tr th:only-of-type {\n",
       "        vertical-align: middle;\n",
       "    }\n",
       "\n",
       "    .dataframe tbody tr th {\n",
       "        vertical-align: top;\n",
       "    }\n",
       "\n",
       "    .dataframe thead th {\n",
       "        text-align: right;\n",
       "    }\n",
       "</style>\n",
       "<table border=\"1\" class=\"dataframe\">\n",
       "  <thead>\n",
       "    <tr style=\"text-align: right;\">\n",
       "      <th>Model2</th>\n",
       "      <th>LightGBM</th>\n",
       "      <th>LightGBM_Paper</th>\n",
       "      <th>SHAP_XGBoost_Paper</th>\n",
       "      <th>TabNet</th>\n",
       "      <th>XGBoost_Paper</th>\n",
       "    </tr>\n",
       "    <tr>\n",
       "      <th>Model1</th>\n",
       "      <th></th>\n",
       "      <th></th>\n",
       "      <th></th>\n",
       "      <th></th>\n",
       "      <th></th>\n",
       "    </tr>\n",
       "  </thead>\n",
       "  <tbody>\n",
       "    <tr>\n",
       "      <th>LightGBM</th>\n",
       "      <td>5</td>\n",
       "      <td>5</td>\n",
       "      <td>1</td>\n",
       "      <td>0</td>\n",
       "      <td>3</td>\n",
       "    </tr>\n",
       "    <tr>\n",
       "      <th>LightGBM_Paper</th>\n",
       "      <td>5</td>\n",
       "      <td>5</td>\n",
       "      <td>1</td>\n",
       "      <td>0</td>\n",
       "      <td>3</td>\n",
       "    </tr>\n",
       "    <tr>\n",
       "      <th>SHAP_XGBoost_Paper</th>\n",
       "      <td>1</td>\n",
       "      <td>1</td>\n",
       "      <td>5</td>\n",
       "      <td>3</td>\n",
       "      <td>2</td>\n",
       "    </tr>\n",
       "    <tr>\n",
       "      <th>TabNet</th>\n",
       "      <td>0</td>\n",
       "      <td>0</td>\n",
       "      <td>3</td>\n",
       "      <td>5</td>\n",
       "      <td>1</td>\n",
       "    </tr>\n",
       "    <tr>\n",
       "      <th>XGBoost_Paper</th>\n",
       "      <td>3</td>\n",
       "      <td>3</td>\n",
       "      <td>2</td>\n",
       "      <td>1</td>\n",
       "      <td>5</td>\n",
       "    </tr>\n",
       "  </tbody>\n",
       "</table>\n",
       "</div>"
      ],
      "text/plain": [
       "Model2              LightGBM  LightGBM_Paper  SHAP_XGBoost_Paper  TabNet  \\\n",
       "Model1                                                                     \n",
       "LightGBM                   5               5                   1       0   \n",
       "LightGBM_Paper             5               5                   1       0   \n",
       "SHAP_XGBoost_Paper         1               1                   5       3   \n",
       "TabNet                     0               0                   3       5   \n",
       "XGBoost_Paper              3               3                   2       1   \n",
       "\n",
       "Model2              XGBoost_Paper  \n",
       "Model1                             \n",
       "LightGBM                        3  \n",
       "LightGBM_Paper                  3  \n",
       "SHAP_XGBoost_Paper              2  \n",
       "TabNet                          1  \n",
       "XGBoost_Paper                   5  "
      ]
     },
     "execution_count": 46,
     "metadata": {},
     "output_type": "execute_result"
    }
   ],
   "source": [
    "pd.pivot_table(top_5_data, values='Sim', index=['Model1'], columns=['Model2'])"
   ]
  },
  {
   "cell_type": "code",
   "execution_count": 47,
   "metadata": {},
   "outputs": [],
   "source": [
    "top_10 = []\n",
    "\n",
    "for i in range(len(df_compare.columns)):\n",
    "    for j in range(len(df_compare.columns)):\n",
    "        col1 = df_compare.columns[i]\n",
    "        col2 = df_compare.columns[j]\n",
    "        d = []\n",
    "        d.append(col1)\n",
    "        d.append(col2)\n",
    "        d.append(len(set(df_compare.loc[:9, col1]) & set(df_compare.loc[:9, col2])))\n",
    "        top_10.append(d)\n",
    "top_10_data = pd.DataFrame(top_10, columns=[\"Model1\", \"Model2\", \"Sim\"])\n",
    "    "
   ]
  },
  {
   "cell_type": "code",
   "execution_count": 48,
   "metadata": {},
   "outputs": [
    {
     "data": {
      "text/html": [
       "<div>\n",
       "<style scoped>\n",
       "    .dataframe tbody tr th:only-of-type {\n",
       "        vertical-align: middle;\n",
       "    }\n",
       "\n",
       "    .dataframe tbody tr th {\n",
       "        vertical-align: top;\n",
       "    }\n",
       "\n",
       "    .dataframe thead th {\n",
       "        text-align: right;\n",
       "    }\n",
       "</style>\n",
       "<table border=\"1\" class=\"dataframe\">\n",
       "  <thead>\n",
       "    <tr style=\"text-align: right;\">\n",
       "      <th>Model2</th>\n",
       "      <th>LightGBM</th>\n",
       "      <th>LightGBM_Paper</th>\n",
       "      <th>SHAP_XGBoost_Paper</th>\n",
       "      <th>TabNet</th>\n",
       "      <th>XGBoost_Paper</th>\n",
       "    </tr>\n",
       "    <tr>\n",
       "      <th>Model1</th>\n",
       "      <th></th>\n",
       "      <th></th>\n",
       "      <th></th>\n",
       "      <th></th>\n",
       "      <th></th>\n",
       "    </tr>\n",
       "  </thead>\n",
       "  <tbody>\n",
       "    <tr>\n",
       "      <th>LightGBM</th>\n",
       "      <td>10</td>\n",
       "      <td>10</td>\n",
       "      <td>6</td>\n",
       "      <td>1</td>\n",
       "      <td>7</td>\n",
       "    </tr>\n",
       "    <tr>\n",
       "      <th>LightGBM_Paper</th>\n",
       "      <td>10</td>\n",
       "      <td>10</td>\n",
       "      <td>6</td>\n",
       "      <td>1</td>\n",
       "      <td>7</td>\n",
       "    </tr>\n",
       "    <tr>\n",
       "      <th>SHAP_XGBoost_Paper</th>\n",
       "      <td>6</td>\n",
       "      <td>6</td>\n",
       "      <td>10</td>\n",
       "      <td>3</td>\n",
       "      <td>5</td>\n",
       "    </tr>\n",
       "    <tr>\n",
       "      <th>TabNet</th>\n",
       "      <td>1</td>\n",
       "      <td>1</td>\n",
       "      <td>3</td>\n",
       "      <td>10</td>\n",
       "      <td>2</td>\n",
       "    </tr>\n",
       "    <tr>\n",
       "      <th>XGBoost_Paper</th>\n",
       "      <td>7</td>\n",
       "      <td>7</td>\n",
       "      <td>5</td>\n",
       "      <td>2</td>\n",
       "      <td>10</td>\n",
       "    </tr>\n",
       "  </tbody>\n",
       "</table>\n",
       "</div>"
      ],
      "text/plain": [
       "Model2              LightGBM  LightGBM_Paper  SHAP_XGBoost_Paper  TabNet  \\\n",
       "Model1                                                                     \n",
       "LightGBM                  10              10                   6       1   \n",
       "LightGBM_Paper            10              10                   6       1   \n",
       "SHAP_XGBoost_Paper         6               6                  10       3   \n",
       "TabNet                     1               1                   3      10   \n",
       "XGBoost_Paper              7               7                   5       2   \n",
       "\n",
       "Model2              XGBoost_Paper  \n",
       "Model1                             \n",
       "LightGBM                        7  \n",
       "LightGBM_Paper                  7  \n",
       "SHAP_XGBoost_Paper              5  \n",
       "TabNet                          2  \n",
       "XGBoost_Paper                  10  "
      ]
     },
     "execution_count": 48,
     "metadata": {},
     "output_type": "execute_result"
    }
   ],
   "source": [
    "pd.pivot_table(top_10_data, values='Sim', index=['Model1'], columns=['Model2'])"
   ]
  },
  {
   "cell_type": "code",
   "execution_count": 53,
   "metadata": {
    "scrolled": true
   },
   "outputs": [
    {
     "name": "stdout",
     "output_type": "stream",
     "text": [
      "[14:19:10] WARNING: ../src/learner.cc:541: \n",
      "Parameters: { silent } might not be used.\n",
      "\n",
      "  This may not be accurate due to some parameters are only used in language bindings but\n",
      "  passed down to XGBoost core.  Or some parameters are not used but slip through this\n",
      "  verification. Please open an issue if you find above cases.\n",
      "\n",
      "\n",
      "[14:19:10] WARNING: ../src/learner.cc:1061: Starting in XGBoost 1.3.0, the default evaluation metric used with the objective 'binary:logistic' was changed from 'error' to 'logloss'. Explicitly set eval_metric if you'd like to restore the old behavior.\n",
      "Device used : cpu\n",
      "No early stopping will be performed, last training weights will be used.\n",
      "epoch 0  | loss: 0.40028 |  0:00:07s\n",
      "epoch 1  | loss: 0.36723 |  0:00:14s\n",
      "epoch 2  | loss: 0.36474 |  0:00:22s\n",
      "epoch 3  | loss: 0.3631  |  0:00:29s\n",
      "epoch 4  | loss: 0.36242 |  0:00:36s\n",
      "epoch 5  | loss: 0.36172 |  0:00:44s\n",
      "epoch 6  | loss: 0.3606  |  0:00:51s\n",
      "epoch 7  | loss: 0.36042 |  0:00:58s\n",
      "epoch 8  | loss: 0.36126 |  0:01:05s\n",
      "epoch 9  | loss: 0.36024 |  0:01:13s\n",
      "epoch 10 | loss: 0.36052 |  0:01:20s\n",
      "epoch 11 | loss: 0.36001 |  0:01:28s\n",
      "epoch 12 | loss: 0.36015 |  0:01:35s\n",
      "epoch 13 | loss: 0.35919 |  0:01:42s\n",
      "epoch 14 | loss: 0.36044 |  0:01:50s\n",
      "epoch 15 | loss: 0.35967 |  0:01:58s\n",
      "epoch 16 | loss: 0.35967 |  0:02:05s\n",
      "epoch 17 | loss: 0.36214 |  0:02:13s\n",
      "epoch 18 | loss: 0.36126 |  0:02:20s\n",
      "epoch 19 | loss: 0.36106 |  0:02:27s\n",
      "epoch 20 | loss: 0.36105 |  0:02:34s\n",
      "epoch 21 | loss: 0.3606  |  0:02:43s\n",
      "epoch 22 | loss: 0.3598  |  0:02:51s\n",
      "epoch 23 | loss: 0.36048 |  0:02:58s\n",
      "epoch 24 | loss: 0.36134 |  0:03:05s\n",
      "epoch 25 | loss: 0.36048 |  0:03:13s\n",
      "epoch 26 | loss: 0.35983 |  0:03:20s\n",
      "epoch 27 | loss: 0.36006 |  0:03:28s\n",
      "epoch 28 | loss: 0.3599  |  0:03:35s\n",
      "epoch 29 | loss: 0.35983 |  0:03:42s\n"
     ]
    },
    {
     "name": "stderr",
     "output_type": "stream",
     "text": [
      "The use of label encoder in XGBClassifier is deprecated and will be removed in a future release. To remove this warning, do the following: 1) Pass option use_label_encoder=False when constructing XGBClassifier object; and 2) Encode your labels (y) as integers starting with 0, i.e. 0, 1, 2, ..., [num_class - 1].\n"
     ]
    },
    {
     "name": "stdout",
     "output_type": "stream",
     "text": [
      "[14:22:58] WARNING: ../src/learner.cc:541: \n",
      "Parameters: { silent } might not be used.\n",
      "\n",
      "  This may not be accurate due to some parameters are only used in language bindings but\n",
      "  passed down to XGBoost core.  Or some parameters are not used but slip through this\n",
      "  verification. Please open an issue if you find above cases.\n",
      "\n",
      "\n",
      "[14:22:58] WARNING: ../src/learner.cc:1061: Starting in XGBoost 1.3.0, the default evaluation metric used with the objective 'binary:logistic' was changed from 'error' to 'logloss'. Explicitly set eval_metric if you'd like to restore the old behavior.\n",
      "Device used : cpu\n",
      "No early stopping will be performed, last training weights will be used.\n",
      "epoch 0  | loss: 0.378   |  0:00:07s\n",
      "epoch 1  | loss: 0.31985 |  0:00:15s\n",
      "epoch 2  | loss: 0.31762 |  0:00:22s\n",
      "epoch 3  | loss: 0.31683 |  0:00:30s\n",
      "epoch 4  | loss: 0.31646 |  0:00:37s\n",
      "epoch 5  | loss: 0.31653 |  0:00:44s\n",
      "epoch 6  | loss: 0.31611 |  0:00:51s\n",
      "epoch 7  | loss: 0.3154  |  0:00:59s\n",
      "epoch 8  | loss: 0.31489 |  0:01:06s\n",
      "epoch 9  | loss: 0.31504 |  0:01:14s\n",
      "epoch 10 | loss: 0.31489 |  0:01:21s\n",
      "epoch 11 | loss: 0.31535 |  0:01:28s\n",
      "epoch 12 | loss: 0.31496 |  0:01:36s\n",
      "epoch 13 | loss: 0.31579 |  0:01:43s\n",
      "epoch 14 | loss: 0.31471 |  0:01:50s\n",
      "epoch 15 | loss: 0.31545 |  0:01:58s\n",
      "epoch 16 | loss: 0.31539 |  0:02:05s\n",
      "epoch 17 | loss: 0.31482 |  0:02:12s\n",
      "epoch 18 | loss: 0.31476 |  0:02:20s\n",
      "epoch 19 | loss: 0.31446 |  0:02:27s\n",
      "epoch 20 | loss: 0.3147  |  0:02:34s\n",
      "epoch 21 | loss: 0.31406 |  0:02:42s\n",
      "epoch 22 | loss: 0.3152  |  0:02:49s\n",
      "epoch 23 | loss: 0.31436 |  0:02:56s\n",
      "epoch 24 | loss: 0.31456 |  0:03:04s\n",
      "epoch 25 | loss: 0.31437 |  0:03:11s\n",
      "epoch 26 | loss: 0.3145  |  0:03:18s\n",
      "epoch 27 | loss: 0.31427 |  0:03:26s\n",
      "epoch 28 | loss: 0.31464 |  0:03:33s\n",
      "epoch 29 | loss: 0.31447 |  0:03:41s\n"
     ]
    },
    {
     "name": "stderr",
     "output_type": "stream",
     "text": [
      "The use of label encoder in XGBClassifier is deprecated and will be removed in a future release. To remove this warning, do the following: 1) Pass option use_label_encoder=False when constructing XGBClassifier object; and 2) Encode your labels (y) as integers starting with 0, i.e. 0, 1, 2, ..., [num_class - 1].\n"
     ]
    },
    {
     "name": "stdout",
     "output_type": "stream",
     "text": [
      "[14:26:43] WARNING: ../src/learner.cc:541: \n",
      "Parameters: { silent } might not be used.\n",
      "\n",
      "  This may not be accurate due to some parameters are only used in language bindings but\n",
      "  passed down to XGBoost core.  Or some parameters are not used but slip through this\n",
      "  verification. Please open an issue if you find above cases.\n",
      "\n",
      "\n",
      "[14:26:43] WARNING: ../src/learner.cc:1061: Starting in XGBoost 1.3.0, the default evaluation metric used with the objective 'binary:logistic' was changed from 'error' to 'logloss'. Explicitly set eval_metric if you'd like to restore the old behavior.\n",
      "Device used : cpu\n",
      "No early stopping will be performed, last training weights will be used.\n",
      "epoch 0  | loss: 0.35676 |  0:00:07s\n",
      "epoch 1  | loss: 0.32234 |  0:00:14s\n",
      "epoch 2  | loss: 0.31943 |  0:00:22s\n",
      "epoch 3  | loss: 0.31911 |  0:00:30s\n",
      "epoch 4  | loss: 0.31789 |  0:00:39s\n",
      "epoch 5  | loss: 0.3175  |  0:00:46s\n",
      "epoch 6  | loss: 0.31824 |  0:00:54s\n",
      "epoch 7  | loss: 0.31851 |  0:01:01s\n",
      "epoch 8  | loss: 0.31838 |  0:01:09s\n",
      "epoch 9  | loss: 0.31794 |  0:01:17s\n",
      "epoch 10 | loss: 0.31745 |  0:01:24s\n",
      "epoch 11 | loss: 0.31762 |  0:01:32s\n",
      "epoch 12 | loss: 0.31756 |  0:01:39s\n",
      "epoch 13 | loss: 0.31753 |  0:01:47s\n",
      "epoch 14 | loss: 0.3173  |  0:01:55s\n",
      "epoch 15 | loss: 0.31754 |  0:02:02s\n",
      "epoch 16 | loss: 0.31724 |  0:02:11s\n",
      "epoch 17 | loss: 0.31759 |  0:02:18s\n",
      "epoch 18 | loss: 0.31719 |  0:02:27s\n",
      "epoch 19 | loss: 0.31702 |  0:02:34s\n",
      "epoch 20 | loss: 0.31805 |  0:02:42s\n",
      "epoch 21 | loss: 0.31779 |  0:02:49s\n",
      "epoch 22 | loss: 0.31753 |  0:02:57s\n",
      "epoch 23 | loss: 0.31789 |  0:03:04s\n",
      "epoch 24 | loss: 0.3181  |  0:03:12s\n",
      "epoch 25 | loss: 0.31787 |  0:03:20s\n",
      "epoch 26 | loss: 0.31796 |  0:03:27s\n",
      "epoch 27 | loss: 0.31706 |  0:03:35s\n",
      "epoch 28 | loss: 0.31745 |  0:03:42s\n",
      "epoch 29 | loss: 0.31764 |  0:03:50s\n"
     ]
    }
   ],
   "source": [
    "top3_results = []\n",
    "for model, feats in top3_feats.items():\n",
    "    train_X_slice = train_X[feats]\n",
    "    test_X_slice = test_X[feats]\n",
    "    cat_feats = set(train_X_slice.columns) & set([train_X.columns[x] for x in categorical_idx])\n",
    "    cat_idx = sorted([list(train_X_slice.columns).index(x) for x in cat_feats])\n",
    "    cat_dims = [len(set(list(train_X_slice.iloc[:, x].unique()) + list(test_X_slice.iloc[:, x].unique()))) for x in cat_idx]\n",
    "    \n",
    "    model_xgb = XGBClassifier(**{**xgb_paper, **XGBOOST_PARAMS})\n",
    "    model_xgb.fit(train_X_slice, train_y, verbose=1)\n",
    "    top3_results.append([model, \"XGBoost\", \"acc\", round(accuracy_score(test_y, model_xgb.predict(test_X_slice)), 6)])\n",
    "    top3_results.append([model, \"XGBoost\", \"auc\", round(roc_auc_score(test_y, model_xgb.predict_proba(test_X_slice)[:, 1]), 6)])\n",
    "    result = []\n",
    "    model_tabnet = TabNetClassifier(**{**tabnet_tuned, **TABNET_PARAMS}, cat_idxs=cat_idx, cat_dims=cat_dims)\n",
    "    model_tabnet.fit(train_X_slice.values, train_y.values, max_epochs=30)\n",
    "    top3_results.append([model, \"TabNet\", \"acc\", round(accuracy_score(test_y, model_tabnet.predict(test_X_slice.values)), 6)])\n",
    "    top3_results.append([model, \"TabNet\", \"auc\", round(roc_auc_score(test_y, model_tabnet.predict_proba(test_X_slice.values)[:, 1]), 6)])\n",
    "    "
   ]
  },
  {
   "cell_type": "code",
   "execution_count": 54,
   "metadata": {},
   "outputs": [],
   "source": [
    "top_3_scores = pd.DataFrame(top3_results, columns=[\"Features\", \"Model\", \"Score\", \"Value\"])"
   ]
  },
  {
   "cell_type": "code",
   "execution_count": 55,
   "metadata": {},
   "outputs": [
    {
     "data": {
      "text/html": [
       "<div>\n",
       "<style scoped>\n",
       "    .dataframe tbody tr th:only-of-type {\n",
       "        vertical-align: middle;\n",
       "    }\n",
       "\n",
       "    .dataframe tbody tr th {\n",
       "        vertical-align: top;\n",
       "    }\n",
       "\n",
       "    .dataframe thead tr th {\n",
       "        text-align: left;\n",
       "    }\n",
       "\n",
       "    .dataframe thead tr:last-of-type th {\n",
       "        text-align: right;\n",
       "    }\n",
       "</style>\n",
       "<table border=\"1\" class=\"dataframe\">\n",
       "  <thead>\n",
       "    <tr>\n",
       "      <th>Model</th>\n",
       "      <th colspan=\"2\" halign=\"left\">TabNet</th>\n",
       "      <th colspan=\"2\" halign=\"left\">XGBoost</th>\n",
       "    </tr>\n",
       "    <tr>\n",
       "      <th>Score</th>\n",
       "      <th>acc</th>\n",
       "      <th>auc</th>\n",
       "      <th>acc</th>\n",
       "      <th>auc</th>\n",
       "    </tr>\n",
       "    <tr>\n",
       "      <th>Features</th>\n",
       "      <th></th>\n",
       "      <th></th>\n",
       "      <th></th>\n",
       "      <th></th>\n",
       "    </tr>\n",
       "  </thead>\n",
       "  <tbody>\n",
       "    <tr>\n",
       "      <th>shap</th>\n",
       "      <td>0.894593</td>\n",
       "      <td>0.741298</td>\n",
       "      <td>0.893679</td>\n",
       "      <td>0.739811</td>\n",
       "    </tr>\n",
       "    <tr>\n",
       "      <th>tabnet</th>\n",
       "      <td>0.894501</td>\n",
       "      <td>0.733256</td>\n",
       "      <td>0.894501</td>\n",
       "      <td>0.733235</td>\n",
       "    </tr>\n",
       "    <tr>\n",
       "      <th>xgboost</th>\n",
       "      <td>0.877055</td>\n",
       "      <td>0.640115</td>\n",
       "      <td>0.875776</td>\n",
       "      <td>0.620905</td>\n",
       "    </tr>\n",
       "  </tbody>\n",
       "</table>\n",
       "</div>"
      ],
      "text/plain": [
       "Model       TabNet             XGBoost          \n",
       "Score          acc       auc       acc       auc\n",
       "Features                                        \n",
       "shap      0.894593  0.741298  0.893679  0.739811\n",
       "tabnet    0.894501  0.733256  0.894501  0.733235\n",
       "xgboost   0.877055  0.640115  0.875776  0.620905"
      ]
     },
     "execution_count": 55,
     "metadata": {},
     "output_type": "execute_result"
    }
   ],
   "source": [
    "pd.pivot_table(top_3_scores, values='Value', index=['Features'], columns=['Model', \"Score\"])"
   ]
  },
  {
   "cell_type": "code",
   "execution_count": 56,
   "metadata": {
    "scrolled": true
   },
   "outputs": [
    {
     "name": "stderr",
     "output_type": "stream",
     "text": [
      "The use of label encoder in XGBClassifier is deprecated and will be removed in a future release. To remove this warning, do the following: 1) Pass option use_label_encoder=False when constructing XGBClassifier object; and 2) Encode your labels (y) as integers starting with 0, i.e. 0, 1, 2, ..., [num_class - 1].\n"
     ]
    },
    {
     "name": "stdout",
     "output_type": "stream",
     "text": [
      "[14:30:38] WARNING: ../src/learner.cc:541: \n",
      "Parameters: { silent } might not be used.\n",
      "\n",
      "  This may not be accurate due to some parameters are only used in language bindings but\n",
      "  passed down to XGBoost core.  Or some parameters are not used but slip through this\n",
      "  verification. Please open an issue if you find above cases.\n",
      "\n",
      "\n",
      "[14:30:38] WARNING: ../src/learner.cc:1061: Starting in XGBoost 1.3.0, the default evaluation metric used with the objective 'binary:logistic' was changed from 'error' to 'logloss'. Explicitly set eval_metric if you'd like to restore the old behavior.\n",
      "Device used : cpu\n",
      "No early stopping will be performed, last training weights will be used.\n",
      "epoch 0  | loss: 0.38723 |  0:00:07s\n",
      "epoch 1  | loss: 0.36603 |  0:00:15s\n",
      "epoch 2  | loss: 0.3638  |  0:00:22s\n",
      "epoch 3  | loss: 0.36233 |  0:00:30s\n",
      "epoch 4  | loss: 0.36276 |  0:00:38s\n",
      "epoch 5  | loss: 0.36128 |  0:00:45s\n",
      "epoch 6  | loss: 0.35915 |  0:00:53s\n",
      "epoch 7  | loss: 0.3588  |  0:01:00s\n",
      "epoch 8  | loss: 0.35732 |  0:01:08s\n",
      "epoch 9  | loss: 0.35594 |  0:01:17s\n",
      "epoch 10 | loss: 0.35568 |  0:01:25s\n",
      "epoch 11 | loss: 0.35422 |  0:01:33s\n",
      "epoch 12 | loss: 0.3548  |  0:01:41s\n",
      "epoch 13 | loss: 0.35481 |  0:01:49s\n",
      "epoch 14 | loss: 0.3552  |  0:01:57s\n",
      "epoch 15 | loss: 0.35437 |  0:02:04s\n",
      "epoch 16 | loss: 0.35308 |  0:02:13s\n",
      "epoch 17 | loss: 0.352   |  0:02:22s\n",
      "epoch 18 | loss: 0.35112 |  0:02:30s\n",
      "epoch 19 | loss: 0.34939 |  0:02:38s\n",
      "epoch 20 | loss: 0.34891 |  0:02:45s\n",
      "epoch 21 | loss: 0.34852 |  0:02:53s\n",
      "epoch 22 | loss: 0.34802 |  0:03:00s\n",
      "epoch 23 | loss: 0.34727 |  0:03:08s\n",
      "epoch 24 | loss: 0.34612 |  0:03:16s\n",
      "epoch 25 | loss: 0.34595 |  0:03:23s\n",
      "epoch 26 | loss: 0.34558 |  0:03:31s\n",
      "epoch 27 | loss: 0.34486 |  0:03:39s\n",
      "epoch 28 | loss: 0.34499 |  0:03:46s\n",
      "epoch 29 | loss: 0.34482 |  0:03:54s\n"
     ]
    },
    {
     "name": "stderr",
     "output_type": "stream",
     "text": [
      "The use of label encoder in XGBClassifier is deprecated and will be removed in a future release. To remove this warning, do the following: 1) Pass option use_label_encoder=False when constructing XGBClassifier object; and 2) Encode your labels (y) as integers starting with 0, i.e. 0, 1, 2, ..., [num_class - 1].\n"
     ]
    },
    {
     "name": "stdout",
     "output_type": "stream",
     "text": [
      "[14:34:38] WARNING: ../src/learner.cc:541: \n",
      "Parameters: { silent } might not be used.\n",
      "\n",
      "  This may not be accurate due to some parameters are only used in language bindings but\n",
      "  passed down to XGBoost core.  Or some parameters are not used but slip through this\n",
      "  verification. Please open an issue if you find above cases.\n",
      "\n",
      "\n",
      "[14:34:38] WARNING: ../src/learner.cc:1061: Starting in XGBoost 1.3.0, the default evaluation metric used with the objective 'binary:logistic' was changed from 'error' to 'logloss'. Explicitly set eval_metric if you'd like to restore the old behavior.\n",
      "Device used : cpu\n",
      "No early stopping will be performed, last training weights will be used.\n",
      "epoch 0  | loss: 0.35438 |  0:00:07s\n",
      "epoch 1  | loss: 0.32018 |  0:00:15s\n",
      "epoch 2  | loss: 0.31798 |  0:00:23s\n",
      "epoch 3  | loss: 0.31765 |  0:00:31s\n",
      "epoch 4  | loss: 0.31689 |  0:00:39s\n",
      "epoch 5  | loss: 0.31615 |  0:00:47s\n",
      "epoch 6  | loss: 0.31639 |  0:00:55s\n",
      "epoch 7  | loss: 0.31499 |  0:01:03s\n",
      "epoch 8  | loss: 0.3152  |  0:01:10s\n",
      "epoch 9  | loss: 0.31566 |  0:01:18s\n",
      "epoch 10 | loss: 0.31405 |  0:01:26s\n",
      "epoch 11 | loss: 0.31311 |  0:01:34s\n",
      "epoch 12 | loss: 0.31337 |  0:01:42s\n",
      "epoch 13 | loss: 0.31275 |  0:01:50s\n",
      "epoch 14 | loss: 0.31259 |  0:01:58s\n",
      "epoch 15 | loss: 0.31243 |  0:02:06s\n",
      "epoch 16 | loss: 0.31084 |  0:02:14s\n",
      "epoch 17 | loss: 0.31218 |  0:02:21s\n",
      "epoch 18 | loss: 0.31116 |  0:02:29s\n",
      "epoch 19 | loss: 0.31064 |  0:02:37s\n",
      "epoch 20 | loss: 0.3104  |  0:02:45s\n",
      "epoch 21 | loss: 0.31006 |  0:02:53s\n",
      "epoch 22 | loss: 0.30971 |  0:03:01s\n",
      "epoch 23 | loss: 0.31017 |  0:03:15s\n",
      "epoch 24 | loss: 0.3091  |  0:03:28s\n",
      "epoch 25 | loss: 0.30872 |  0:03:35s\n",
      "epoch 26 | loss: 0.3088  |  0:03:43s\n",
      "epoch 27 | loss: 0.3089  |  0:03:51s\n",
      "epoch 28 | loss: 0.30875 |  0:03:59s\n",
      "epoch 29 | loss: 0.30839 |  0:04:07s\n"
     ]
    },
    {
     "name": "stderr",
     "output_type": "stream",
     "text": [
      "The use of label encoder in XGBClassifier is deprecated and will be removed in a future release. To remove this warning, do the following: 1) Pass option use_label_encoder=False when constructing XGBClassifier object; and 2) Encode your labels (y) as integers starting with 0, i.e. 0, 1, 2, ..., [num_class - 1].\n"
     ]
    },
    {
     "name": "stdout",
     "output_type": "stream",
     "text": [
      "[14:38:50] WARNING: ../src/learner.cc:541: \n",
      "Parameters: { silent } might not be used.\n",
      "\n",
      "  This may not be accurate due to some parameters are only used in language bindings but\n",
      "  passed down to XGBoost core.  Or some parameters are not used but slip through this\n",
      "  verification. Please open an issue if you find above cases.\n",
      "\n",
      "\n",
      "[14:38:50] WARNING: ../src/learner.cc:1061: Starting in XGBoost 1.3.0, the default evaluation metric used with the objective 'binary:logistic' was changed from 'error' to 'logloss'. Explicitly set eval_metric if you'd like to restore the old behavior.\n",
      "Device used : cpu\n",
      "No early stopping will be performed, last training weights will be used.\n",
      "epoch 0  | loss: 0.38096 |  0:00:08s\n",
      "epoch 1  | loss: 0.32079 |  0:00:17s\n",
      "epoch 2  | loss: 0.31878 |  0:00:25s\n",
      "epoch 3  | loss: 0.31577 |  0:00:33s\n",
      "epoch 4  | loss: 0.31581 |  0:00:42s\n",
      "epoch 5  | loss: 0.31616 |  0:00:55s\n",
      "epoch 6  | loss: 0.31554 |  0:01:10s\n",
      "epoch 7  | loss: 0.31427 |  0:01:25s\n",
      "epoch 8  | loss: 0.3133  |  0:01:35s\n",
      "epoch 9  | loss: 0.31196 |  0:01:49s\n",
      "epoch 10 | loss: 0.31221 |  0:02:05s\n",
      "epoch 11 | loss: 0.31199 |  0:02:20s\n",
      "epoch 12 | loss: 0.31106 |  0:02:38s\n",
      "epoch 13 | loss: 0.31115 |  0:02:55s\n",
      "epoch 14 | loss: 0.31113 |  0:03:13s\n",
      "epoch 15 | loss: 0.31065 |  0:03:30s\n",
      "epoch 16 | loss: 0.31117 |  0:03:47s\n",
      "epoch 17 | loss: 0.31152 |  0:04:05s\n",
      "epoch 18 | loss: 0.31024 |  0:04:24s\n",
      "epoch 19 | loss: 0.31039 |  0:04:42s\n",
      "epoch 20 | loss: 0.30996 |  0:05:01s\n",
      "epoch 21 | loss: 0.30969 |  0:05:18s\n",
      "epoch 22 | loss: 0.31036 |  0:05:34s\n",
      "epoch 23 | loss: 0.31086 |  0:05:42s\n",
      "epoch 24 | loss: 0.31097 |  0:05:51s\n",
      "epoch 25 | loss: 0.31016 |  0:05:59s\n",
      "epoch 26 | loss: 0.30977 |  0:06:43s\n",
      "epoch 27 | loss: 0.30906 |  0:08:08s\n",
      "epoch 28 | loss: 0.30929 |  0:08:22s\n",
      "epoch 29 | loss: 0.30882 |  0:08:38s\n"
     ]
    }
   ],
   "source": [
    "top10_results = []\n",
    "for model, feats in top10_feats.items():\n",
    "    train_X_slice = train_X[feats]\n",
    "    test_X_slice = test_X[feats]\n",
    "    cat_feats = set(train_X_slice.columns) & set([train_X.columns[x] for x in categorical_idx])\n",
    "    cat_idx = sorted([list(train_X_slice.columns).index(x) for x in cat_feats])\n",
    "    cat_dims = [len(set(list(train_X_slice.iloc[:, x].unique()) + list(test_X_slice.iloc[:, x].unique()))) for x in cat_idx]\n",
    "    \n",
    "    model_xgb = XGBClassifier(**{**xgb_paper, **XGBOOST_PARAMS})\n",
    "    model_xgb.fit(train_X_slice, train_y, verbose=1)\n",
    "    top10_results.append([model, \"XGBoost\", \"acc\", round(accuracy_score(test_y, model_xgb.predict(test_X_slice)), 6)])\n",
    "    top10_results.append([model, \"XGBoost\", \"auc\", round(roc_auc_score(test_y, model_xgb.predict_proba(test_X_slice)[:, 1]), 6)])\n",
    "    result = []\n",
    "    model_tabnet = TabNetClassifier(**{**tabnet_tuned, **TABNET_PARAMS}, cat_idxs=cat_idx, cat_dims=cat_dims)\n",
    "    model_tabnet.fit(train_X_slice.values, train_y.values, max_epochs=30)\n",
    "    top10_results.append([model, \"TabNet\", \"acc\", round(accuracy_score(test_y, model_tabnet.predict(test_X_slice.values)), 6)])\n",
    "    top10_results.append([model, \"TabNet\", \"auc\", round(roc_auc_score(test_y, model_tabnet.predict_proba(test_X_slice.values)[:, 1]), 6)])\n",
    "    "
   ]
  },
  {
   "cell_type": "code",
   "execution_count": 57,
   "metadata": {},
   "outputs": [],
   "source": [
    "top_10_scores = pd.DataFrame(top10_results, columns=[\"Features\", \"Model\", \"Score\", \"Value\"])"
   ]
  },
  {
   "cell_type": "code",
   "execution_count": 58,
   "metadata": {},
   "outputs": [
    {
     "data": {
      "text/html": [
       "<div>\n",
       "<style scoped>\n",
       "    .dataframe tbody tr th:only-of-type {\n",
       "        vertical-align: middle;\n",
       "    }\n",
       "\n",
       "    .dataframe tbody tr th {\n",
       "        vertical-align: top;\n",
       "    }\n",
       "\n",
       "    .dataframe thead tr th {\n",
       "        text-align: left;\n",
       "    }\n",
       "\n",
       "    .dataframe thead tr:last-of-type th {\n",
       "        text-align: right;\n",
       "    }\n",
       "</style>\n",
       "<table border=\"1\" class=\"dataframe\">\n",
       "  <thead>\n",
       "    <tr>\n",
       "      <th>Model</th>\n",
       "      <th colspan=\"2\" halign=\"left\">TabNet</th>\n",
       "      <th colspan=\"2\" halign=\"left\">XGBoost</th>\n",
       "    </tr>\n",
       "    <tr>\n",
       "      <th>Score</th>\n",
       "      <th>acc</th>\n",
       "      <th>auc</th>\n",
       "      <th>acc</th>\n",
       "      <th>auc</th>\n",
       "    </tr>\n",
       "    <tr>\n",
       "      <th>Features</th>\n",
       "      <th></th>\n",
       "      <th></th>\n",
       "      <th></th>\n",
       "      <th></th>\n",
       "    </tr>\n",
       "  </thead>\n",
       "  <tbody>\n",
       "    <tr>\n",
       "      <th>shap</th>\n",
       "      <td>0.894684</td>\n",
       "      <td>0.752550</td>\n",
       "      <td>0.901626</td>\n",
       "      <td>0.750535</td>\n",
       "    </tr>\n",
       "    <tr>\n",
       "      <th>tabnet</th>\n",
       "      <td>0.894775</td>\n",
       "      <td>0.753915</td>\n",
       "      <td>0.897790</td>\n",
       "      <td>0.750670</td>\n",
       "    </tr>\n",
       "    <tr>\n",
       "      <th>xgboost</th>\n",
       "      <td>0.876324</td>\n",
       "      <td>0.659135</td>\n",
       "      <td>0.876050</td>\n",
       "      <td>0.666310</td>\n",
       "    </tr>\n",
       "  </tbody>\n",
       "</table>\n",
       "</div>"
      ],
      "text/plain": [
       "Model       TabNet             XGBoost          \n",
       "Score          acc       auc       acc       auc\n",
       "Features                                        \n",
       "shap      0.894684  0.752550  0.901626  0.750535\n",
       "tabnet    0.894775  0.753915  0.897790  0.750670\n",
       "xgboost   0.876324  0.659135  0.876050  0.666310"
      ]
     },
     "execution_count": 58,
     "metadata": {},
     "output_type": "execute_result"
    }
   ],
   "source": [
    "pd.pivot_table(top_10_scores, values='Value', index=['Features'], columns=['Model', \"Score\"])"
   ]
  },
  {
   "cell_type": "code",
   "execution_count": null,
   "metadata": {},
   "outputs": [],
   "source": []
  }
 ],
 "metadata": {
  "kernelspec": {
   "display_name": "Python 3",
   "language": "python",
   "name": "python3"
  },
  "language_info": {
   "codemirror_mode": {
    "name": "ipython",
    "version": 3
   },
   "file_extension": ".py",
   "mimetype": "text/x-python",
   "name": "python",
   "nbconvert_exporter": "python",
   "pygments_lexer": "ipython3",
   "version": "3.8.5"
  }
 },
 "nbformat": 4,
 "nbformat_minor": 4
}
