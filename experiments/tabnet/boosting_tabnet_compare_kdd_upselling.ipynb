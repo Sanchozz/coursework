{
 "cells": [
  {
   "cell_type": "code",
   "execution_count": 3,
   "metadata": {},
   "outputs": [],
   "source": [
    "import numpy as np\n",
    "import pandas as pd\n",
    "import gc\n",
    "from lightgbm import LGBMClassifier\n",
    "from xgboost import XGBClassifier\n",
    "import lightgbm as lgb\n",
    "import xgboost as xgb\n",
    "from pytorch_tabnet.tab_model import TabNetClassifier\n",
    "import pickle\n",
    "import shap\n",
    "import matplotlib.pyplot as plt\n",
    "import xgboost\n",
    "\n",
    "from sklearn.preprocessing import LabelEncoder\n",
    "from sklearn.metrics import accuracy_score, roc_auc_score, confusion_matrix\n",
    "from sklearn.feature_selection import VarianceThreshold\n",
    "from sklearn.model_selection import train_test_split\n",
    "\n",
    "from functools import partial\n",
    "\n",
    "from skopt.space import Real, Integer, Categorical\n",
    "from skopt.utils import use_named_args\n",
    "from skopt import gp_minimize\n",
    "from skopt.plots import plot_convergence\n",
    "\n",
    "from bo_parameters import *"
   ]
  },
  {
   "cell_type": "code",
   "execution_count": 4,
   "metadata": {},
   "outputs": [],
   "source": [
    "lgbm_tuned = {\n",
    "    \"learning_rate\" : 0.10056036392812367, \n",
    "    \"max_depth\" : 9, \n",
    "    \"n_estimators\" : 574\n",
    "}\n",
    "# lgbm_tuned += LIGHTGBM_PARAMS\n",
    "\n",
    "xgb_tuned = {\n",
    "    \"learning_rate\" : 0.12505580158355423, \n",
    "    \"max_depth\" : 3, \n",
    "    \"n_estimators\" : 978\n",
    "}\n",
    "# xgb_tuned += XGBOOST_PARAMS\n",
    "\n",
    "# tabnet_tuned = {\n",
    "#     \"gamma\" : 1.0278804398968666, \n",
    "#     \"lambda_sparse\" : 0.060872939878532255, \n",
    "#     \"n_steps\" : 3,\n",
    "#     \"n_a\" : 54,\n",
    "# }\n",
    "\n",
    "tabnet_tuned = {\n",
    "    \"gamma\" : 1.2278804398968666, \n",
    "    \"lambda_sparse\" : 0.0001559825295252, \n",
    "    \"n_steps\" : 3,\n",
    "    \"n_a\" : 32,\n",
    "}\n",
    "\n",
    "\n",
    "tabnet_tuned[\"n_d\"] = tabnet_tuned[\"n_a\"]\n",
    "\n",
    "tabnet_paper = {\n",
    "    \"gamma\" : 1.2, \n",
    "    \"lambda_sparse\" : 0.0001, \n",
    "    \"n_steps\" : 7,\n",
    "    \"n_a\" : 32,\n",
    "    \"momentum\" : 0.9,\n",
    "    \"optimizer_params\" : dict(lr=1e-2)\n",
    "}\n",
    "tabnet_paper[\"n_d\"] = tabnet_paper[\"n_a\"]\n",
    "\n",
    "xgb_paper = {\n",
    "    \"max_depth\" : 6, \n",
    "}\n",
    "\n",
    "lgbm_paper = {\n",
    "    \"num_leaves\" : 64,\n",
    "}"
   ]
  },
  {
   "cell_type": "code",
   "execution_count": 4,
   "metadata": {},
   "outputs": [],
   "source": [
    "data = pd.read_csv(\"data/kdd/small/upselling/train.csv\")"
   ]
  },
  {
   "cell_type": "code",
   "execution_count": 5,
   "metadata": {},
   "outputs": [],
   "source": [
    "train = pd.read_csv(\"data/kdd/small/upselling/train.csv\")\n",
    "valid = pd.read_csv(\"data/kdd/small/upselling/val.csv\")\n",
    "test = pd.read_csv(\"data/kdd/small/upselling/test.csv\")"
   ]
  },
  {
   "cell_type": "code",
   "execution_count": 6,
   "metadata": {},
   "outputs": [],
   "source": [
    "categorical_idx = list(range(190, train.shape[1] - 1))\n",
    "\n",
    "categorical_dims = [len(set(list(train.iloc[:, x].unique()) + list(valid.iloc[:, x].unique()) + list(test.iloc[:, x].unique()))) for x in categorical_idx]"
   ]
  },
  {
   "cell_type": "code",
   "execution_count": 7,
   "metadata": {},
   "outputs": [],
   "source": [
    "for idx in range(0, len(categorical_dims)):\n",
    "    if categorical_dims[idx] > 1:\n",
    "        train.iloc[:, categorical_idx[idx]] = [int(x) for x in train.iloc[:, categorical_idx[idx]]]\n",
    "        valid.iloc[:, categorical_idx[idx]] = [int(x) for x in valid.iloc[:, categorical_idx[idx]]]\n",
    "        test.iloc[:, categorical_idx[idx]] = [int(x) for x in test.iloc[:, categorical_idx[idx]]]\n",
    "    else:\n",
    "        train.iloc[:, categorical_idx[idx]] = [0] * train.shape[0]\n",
    "        valid.iloc[:, categorical_idx[idx]] = [0] * valid.shape[0]\n",
    "        test.iloc[:, categorical_idx[idx]] = [0] * test.shape[0]"
   ]
  },
  {
   "cell_type": "code",
   "execution_count": 8,
   "metadata": {},
   "outputs": [],
   "source": [
    "train = pd.concat([train, valid])"
   ]
  },
  {
   "cell_type": "code",
   "execution_count": 9,
   "metadata": {},
   "outputs": [],
   "source": [
    "train_X = train.drop([\"TARGET\"], axis=1)\n",
    "train_y = train[\"TARGET\"]\n",
    "\n",
    "test_X = test.drop([\"TARGET\"], axis=1)\n",
    "test_y = test[\"TARGET\"]"
   ]
  },
  {
   "cell_type": "code",
   "execution_count": 10,
   "metadata": {},
   "outputs": [
    {
     "name": "stderr",
     "output_type": "stream",
     "text": [
      "Using categorical_feature in Dataset.\n"
     ]
    },
    {
     "name": "stdout",
     "output_type": "stream",
     "text": [
      "[LightGBM] [Warning] Accuracy may be bad since you didn't explicitly set num_leaves OR 2^max_depth > num_leaves. (num_leaves=31).\n"
     ]
    },
    {
     "data": {
      "text/plain": [
       "LGBMClassifier(learning_rate=0.10056036392812367, max_depth=9, metric='auc',\n",
       "               n_estimators=574, objective='binary', random_state=42)"
      ]
     },
     "execution_count": 10,
     "metadata": {},
     "output_type": "execute_result"
    }
   ],
   "source": [
    "model_lgbm = LGBMClassifier(**{**lgbm_tuned, **LIGHTGBM_PARAMS})\n",
    "model_lgbm.fit(train_X, train_y, verbose=1, categorical_feature=categorical_idx)"
   ]
  },
  {
   "cell_type": "code",
   "execution_count": 11,
   "metadata": {},
   "outputs": [
    {
     "data": {
      "text/plain": [
       "LGBMClassifier(metric='auc', num_leaves=64, objective='binary', random_state=42)"
      ]
     },
     "execution_count": 11,
     "metadata": {},
     "output_type": "execute_result"
    }
   ],
   "source": [
    "model_lgbm_paper = LGBMClassifier(**{**lgbm_paper, **LIGHTGBM_PARAMS})\n",
    "model_lgbm_paper.fit(train_X, train_y, verbose=1, categorical_feature=categorical_idx)"
   ]
  },
  {
   "cell_type": "code",
   "execution_count": 12,
   "metadata": {
    "scrolled": true
   },
   "outputs": [
    {
     "name": "stderr",
     "output_type": "stream",
     "text": [
      "The use of label encoder in XGBClassifier is deprecated and will be removed in a future release. To remove this warning, do the following: 1) Pass option use_label_encoder=False when constructing XGBClassifier object; and 2) Encode your labels (y) as integers starting with 0, i.e. 0, 1, 2, ..., [num_class - 1].\n"
     ]
    },
    {
     "name": "stdout",
     "output_type": "stream",
     "text": [
      "[09:14:42] WARNING: ../src/learner.cc:541: \n",
      "Parameters: { silent } might not be used.\n",
      "\n",
      "  This may not be accurate due to some parameters are only used in language bindings but\n",
      "  passed down to XGBoost core.  Or some parameters are not used but slip through this\n",
      "  verification. Please open an issue if you find above cases.\n",
      "\n",
      "\n",
      "[09:14:42] WARNING: ../src/learner.cc:1061: Starting in XGBoost 1.3.0, the default evaluation metric used with the objective 'binary:logistic' was changed from 'error' to 'logloss'. Explicitly set eval_metric if you'd like to restore the old behavior.\n"
     ]
    },
    {
     "data": {
      "text/plain": [
       "XGBClassifier(base_score=0.5, booster='gbtree', colsample_bylevel=1,\n",
       "              colsample_bynode=1, colsample_bytree=1, gamma=0, gpu_id=-1,\n",
       "              importance_type='gain', interaction_constraints='',\n",
       "              learning_rate=0.12505580158355423, max_delta_step=0, max_depth=3,\n",
       "              min_child_weight=1, missing=nan, monotone_constraints='()',\n",
       "              n_estimators=978, n_jobs=-1, num_parallel_tree=1, random_state=42,\n",
       "              reg_alpha=0, reg_lambda=1, scale_pos_weight=1, silent=True,\n",
       "              subsample=1, tree_method='exact', validate_parameters=1,\n",
       "              verbosity=None)"
      ]
     },
     "execution_count": 12,
     "metadata": {},
     "output_type": "execute_result"
    }
   ],
   "source": [
    "model_xgb = XGBClassifier(**{**xgb_tuned, **XGBOOST_PARAMS})\n",
    "model_xgb.fit(train_X, train_y, verbose=1)"
   ]
  },
  {
   "cell_type": "code",
   "execution_count": 13,
   "metadata": {
    "scrolled": true
   },
   "outputs": [
    {
     "name": "stdout",
     "output_type": "stream",
     "text": [
      "[09:15:20] WARNING: ../src/learner.cc:541: \n",
      "Parameters: { silent } might not be used.\n",
      "\n",
      "  This may not be accurate due to some parameters are only used in language bindings but\n",
      "  passed down to XGBoost core.  Or some parameters are not used but slip through this\n",
      "  verification. Please open an issue if you find above cases.\n",
      "\n",
      "\n",
      "[09:15:21] WARNING: ../src/learner.cc:1061: Starting in XGBoost 1.3.0, the default evaluation metric used with the objective 'binary:logistic' was changed from 'error' to 'logloss'. Explicitly set eval_metric if you'd like to restore the old behavior.\n"
     ]
    },
    {
     "data": {
      "text/plain": [
       "XGBClassifier(base_score=0.5, booster='gbtree', colsample_bylevel=1,\n",
       "              colsample_bynode=1, colsample_bytree=1, gamma=0, gpu_id=-1,\n",
       "              importance_type='gain', interaction_constraints='',\n",
       "              learning_rate=0.300000012, max_delta_step=0, max_depth=6,\n",
       "              min_child_weight=1, missing=nan, monotone_constraints='()',\n",
       "              n_estimators=100, n_jobs=-1, num_parallel_tree=1, random_state=42,\n",
       "              reg_alpha=0, reg_lambda=1, scale_pos_weight=1, silent=True,\n",
       "              subsample=1, tree_method='exact', validate_parameters=1,\n",
       "              verbosity=None)"
      ]
     },
     "execution_count": 13,
     "metadata": {},
     "output_type": "execute_result"
    }
   ],
   "source": [
    "model_xgb_paper = XGBClassifier(**{**xgb_paper, **XGBOOST_PARAMS})\n",
    "model_xgb_paper.fit(train_X, train_y, verbose=1)"
   ]
  },
  {
   "cell_type": "code",
   "execution_count": 14,
   "metadata": {},
   "outputs": [],
   "source": [
    "TABNET_PARAMS[\"verbose\"] = 1"
   ]
  },
  {
   "cell_type": "code",
   "execution_count": 15,
   "metadata": {
    "scrolled": true
   },
   "outputs": [
    {
     "name": "stdout",
     "output_type": "stream",
     "text": [
      "Device used : cpu\n",
      "No early stopping will be performed, last training weights will be used.\n",
      "epoch 0  | loss: 0.32699 |  0:00:26s\n",
      "epoch 1  | loss: 0.25846 |  0:00:52s\n",
      "epoch 2  | loss: 0.23238 |  0:01:18s\n",
      "epoch 3  | loss: 0.21664 |  0:01:45s\n",
      "epoch 4  | loss: 0.2062  |  0:02:11s\n",
      "epoch 5  | loss: 0.19795 |  0:02:37s\n",
      "epoch 6  | loss: 0.18917 |  0:03:03s\n",
      "epoch 7  | loss: 0.17193 |  0:03:29s\n",
      "epoch 8  | loss: 0.15147 |  0:03:55s\n",
      "epoch 9  | loss: 0.12619 |  0:04:21s\n",
      "epoch 10 | loss: 0.10555 |  0:04:47s\n",
      "epoch 11 | loss: 0.08796 |  0:05:13s\n",
      "epoch 12 | loss: 0.07501 |  0:05:39s\n",
      "epoch 13 | loss: 0.06507 |  0:06:05s\n",
      "epoch 14 | loss: 0.0589  |  0:06:31s\n",
      "epoch 15 | loss: 0.05763 |  0:06:57s\n",
      "epoch 16 | loss: 0.04916 |  0:07:23s\n",
      "epoch 17 | loss: 0.04604 |  0:07:49s\n",
      "epoch 18 | loss: 0.04009 |  0:08:15s\n",
      "epoch 19 | loss: 0.03864 |  0:08:41s\n"
     ]
    }
   ],
   "source": [
    "model_tabnet = TabNetClassifier(**{**tabnet_tuned, **TABNET_PARAMS}, cat_idxs=categorical_idx, cat_dims=categorical_dims)\n",
    "model_tabnet.fit(train_X.values, train_y.values, max_epochs=20)"
   ]
  },
  {
   "cell_type": "code",
   "execution_count": 16,
   "metadata": {
    "scrolled": true
   },
   "outputs": [
    {
     "name": "stdout",
     "output_type": "stream",
     "text": [
      "Device used : cpu\n",
      "No early stopping will be performed, last training weights will be used.\n",
      "epoch 0  | loss: 0.74049 |  0:00:30s\n",
      "epoch 1  | loss: 0.39088 |  0:01:01s\n",
      "epoch 2  | loss: 0.40221 |  0:01:31s\n",
      "epoch 3  | loss: 0.3463  |  0:02:02s\n",
      "epoch 4  | loss: 0.33755 |  0:02:32s\n",
      "epoch 5  | loss: 0.31824 |  0:03:03s\n",
      "epoch 6  | loss: 0.30284 |  0:03:34s\n",
      "epoch 7  | loss: 0.29257 |  0:04:04s\n",
      "epoch 8  | loss: 0.28821 |  0:04:35s\n",
      "epoch 9  | loss: 0.28041 |  0:05:06s\n",
      "epoch 10 | loss: 0.27601 |  0:05:37s\n",
      "epoch 11 | loss: 0.27072 |  0:06:08s\n",
      "epoch 12 | loss: 0.26299 |  0:06:39s\n",
      "epoch 13 | loss: 0.25482 |  0:07:09s\n",
      "epoch 14 | loss: 0.24864 |  0:07:40s\n",
      "epoch 15 | loss: 0.24214 |  0:08:10s\n",
      "epoch 16 | loss: 0.23968 |  0:08:41s\n",
      "epoch 17 | loss: 0.23497 |  0:09:11s\n",
      "epoch 18 | loss: 0.23276 |  0:09:42s\n",
      "epoch 19 | loss: 0.23114 |  0:10:12s\n",
      "epoch 20 | loss: 0.22721 |  0:10:42s\n",
      "epoch 21 | loss: 0.22397 |  0:11:13s\n",
      "epoch 22 | loss: 0.2239  |  0:11:43s\n",
      "epoch 23 | loss: 0.28733 |  0:12:13s\n",
      "epoch 24 | loss: 0.24725 |  0:12:44s\n",
      "epoch 25 | loss: 0.23926 |  0:13:14s\n",
      "epoch 26 | loss: 0.22364 |  0:13:45s\n",
      "epoch 27 | loss: 0.2277  |  0:14:15s\n",
      "epoch 28 | loss: 0.22155 |  0:14:46s\n",
      "epoch 29 | loss: 0.21932 |  0:15:16s\n",
      "epoch 30 | loss: 0.21722 |  0:15:46s\n",
      "epoch 31 | loss: 0.21194 |  0:16:17s\n",
      "epoch 32 | loss: 0.21445 |  0:16:47s\n",
      "epoch 33 | loss: 0.21116 |  0:17:17s\n",
      "epoch 34 | loss: 0.20403 |  0:17:48s\n"
     ]
    }
   ],
   "source": [
    "model_tabnet_paper = TabNetClassifier(**{**tabnet_paper, **TABNET_PARAMS}, cat_idxs=categorical_idx, cat_dims=categorical_dims)\n",
    "model_tabnet_paper.fit(train_X.values, train_y.values, max_epochs=35, batch_size=8192, virtual_batch_size=256)"
   ]
  },
  {
   "cell_type": "code",
   "execution_count": 16,
   "metadata": {},
   "outputs": [],
   "source": [
    "with open('model_tabnet_kdd_upselling.pickle', 'wb') as f:\n",
    "    pickle.dump(model_tabnet, f)\n",
    "with open('model_tabnet_paper_kdd_upselling.pickle', 'wb') as f:\n",
    "    pickle.dump(model_tabnet_paper, f)"
   ]
  },
  {
   "cell_type": "code",
   "execution_count": 10,
   "metadata": {},
   "outputs": [],
   "source": [
    "with open('model_tabnet.pickle', 'rb') as f:\n",
    "    model_tabnet = pickle.load(f)\n",
    "with open('model_tabnet_paper.pickle', 'rb') as f:\n",
    "    model_tabnet_paper = pickle.load(f)"
   ]
  },
  {
   "cell_type": "code",
   "execution_count": 21,
   "metadata": {},
   "outputs": [
    {
     "name": "stdout",
     "output_type": "stream",
     "text": [
      "LightGBM auc:  0.853051\n",
      "LightGBM Paper auc:  0.850889\n",
      "XGBoost auc:  0.864907\n",
      "XGBoost Paper auc:  0.86182\n",
      "TabNet auc:  0.732455\n",
      "TabNet Paper auc:  0.694395\n"
     ]
    }
   ],
   "source": [
    "print(\"LightGBM auc: \", round(roc_auc_score(test_y, model_lgbm.predict_proba(test_X)[:, 1]), 6))\n",
    "print(\"LightGBM Paper auc: \", round(roc_auc_score(test_y, model_lgbm_paper.predict_proba(test_X)[:, 1]), 6))\n",
    "print(\"XGBoost auc: \", round(roc_auc_score(test_y, model_xgb.predict_proba(test_X)[:, 1]), 6))\n",
    "print(\"XGBoost Paper auc: \", round(roc_auc_score(test_y, model_xgb_paper.predict_proba(test_X)[:, 1]), 6))\n",
    "print(\"TabNet auc: \", round(roc_auc_score(test_y, model_tabnet.predict_proba(test_X.values)[:, 1]), 6))\n",
    "print(\"TabNet Paper auc: \", round(roc_auc_score(test_y, model_tabnet_paper.predict_proba(test_X.values)[:, 1]), 6))"
   ]
  },
  {
   "cell_type": "code",
   "execution_count": 22,
   "metadata": {},
   "outputs": [
    {
     "name": "stdout",
     "output_type": "stream",
     "text": [
      "LightGBM acc:  0.952006\n",
      "LightGBM Paper acc:  0.95174\n",
      "XGBoost acc:  0.95334\n",
      "XGBoost Paper acc:  0.95254\n",
      "TabNet acc:  0.834155\n",
      "TabNet Paper acc:  0.918944\n"
     ]
    }
   ],
   "source": [
    "print(\"LightGBM acc: \", round(accuracy_score(test_y, model_lgbm.predict(test_X)), 6))\n",
    "print(\"LightGBM Paper acc: \", round(accuracy_score(test_y, model_lgbm_paper.predict(test_X)), 6))\n",
    "print(\"XGBoost acc: \", round(accuracy_score(test_y, model_xgb.predict(test_X)), 6))\n",
    "print(\"XGBoost Paper acc: \", round(accuracy_score(test_y, model_xgb_paper.predict(test_X)), 6))\n",
    "print(\"TabNet acc: \", round(accuracy_score(test_y, model_tabnet.predict(test_X.values)), 6))\n",
    "print(\"TabNet Paper acc: \", round(accuracy_score(test_y, model_tabnet_paper.predict(test_X.values)), 6))"
   ]
  },
  {
   "cell_type": "code",
   "execution_count": 23,
   "metadata": {},
   "outputs": [],
   "source": [
    "importance_lgbm = list(enumerate(model_lgbm.feature_importances_))\n",
    "importance_lgbm_paper = list(enumerate(model_lgbm_paper.feature_importances_))\n",
    "importance_xgb = model_xgb.get_booster().get_score(importance_type='weight').items()\n",
    "importance_xgb_paper = model_xgb_paper.get_booster().get_score(importance_type='weight').items()\n",
    "importance_tabnet = list(enumerate(model_tabnet.feature_importances_))\n",
    "importance_tabnet_paper = list(enumerate(model_tabnet_paper.feature_importances_))"
   ]
  },
  {
   "cell_type": "code",
   "execution_count": 24,
   "metadata": {},
   "outputs": [],
   "source": [
    "importance_lgbm = sorted(importance_lgbm, key=lambda x: x[1], reverse=True)\n",
    "importance_lgbm = sorted(importance_lgbm_paper, key=lambda x: x[1], reverse=True)\n",
    "importance_xgb = sorted(importance_xgb, key=lambda x: x[1], reverse=True)\n",
    "importance_xgb_paper = sorted(importance_xgb_paper, key=lambda x: x[1], reverse=True)\n",
    "importance_tabnet = sorted(importance_tabnet, key=lambda x: x[1], reverse=True)\n",
    "importance_tabnet_paper = sorted(importance_tabnet_paper, key=lambda x: x[1], reverse=True)"
   ]
  },
  {
   "cell_type": "code",
   "execution_count": 25,
   "metadata": {
    "scrolled": true
   },
   "outputs": [
    {
     "data": {
      "image/png": "[encoded data removed]",
      "text/plain": [
       "<Figure size 576x684 with 1 Axes>"
      ]
     },
     "metadata": {
      "needs_background": "light"
     },
     "output_type": "display_data"
    }
   ],
   "source": [
    "shap_values = shap.TreeExplainer(model_xgb).shap_values(train_X)\n",
    "shap.summary_plot(shap_values, train_X, plot_type=\"bar\")"
   ]
  },
  {
   "cell_type": "code",
   "execution_count": 26,
   "metadata": {},
   "outputs": [
    {
     "data": {
      "image/png": "[encoded data removed]",
      "text/plain": [
       "<Figure size 576x684 with 1 Axes>"
      ]
     },
     "metadata": {
      "needs_background": "light"
     },
     "output_type": "display_data"
    }
   ],
   "source": [
    "shap_values_paper = shap.TreeExplainer(model_xgb_paper).shap_values(train_X)\n",
    "shap.summary_plot(shap_values_paper, train_X, plot_type=\"bar\")"
   ]
  },
  {
   "cell_type": "code",
   "execution_count": 50,
   "metadata": {},
   "outputs": [
    {
     "data": {
      "text/plain": [
       "Index(['age', 'martial_status', 'relationship', 'capital_gain',\n",
       "       'education_num', 'hours_per_week', 'fnlwgt', 'occupation',\n",
       "       'capital_loss', 'sex', 'workclass', 'education', 'race',\n",
       "       'native_country'],\n",
       "      dtype='object')"
      ]
     },
     "execution_count": 50,
     "metadata": {},
     "output_type": "execute_result"
    }
   ],
   "source": [
    "train_X.columns[np.argsort(np.abs(shap_values).mean(0))][::-1]"
   ]
  },
  {
   "cell_type": "code",
   "execution_count": null,
   "metadata": {},
   "outputs": [],
   "source": []
  },
  {
   "cell_type": "code",
   "execution_count": 29,
   "metadata": {},
   "outputs": [],
   "source": [
    "df_compare = pd.DataFrame([train_X.columns[x[0]] for x in importance_lgbm], columns=[\"LightGBM\"])\n",
    "df_compare[\"LightGBM_Paper\"] = [train_X.columns[x[0]] for x in importance_lgbm]\n",
    "df_compare[\"XGBoost\"] = [x[0] for x in importance_xgb] + list(set(train_X.columns[:-1]) - set([x[0] for x in importance_xgb])) + [train_X.columns[-1]]\n",
    "df_compare[\"XGBoost_Paper\"] = [x[0] for x in importance_xgb_paper] + list(set(train_X.columns[:-1]) - set([x[0] for x in importance_xgb_paper])) + [train_X.columns[-1]]\n",
    "df_compare[\"SHAP_XGBoost\"] = train_X.columns[np.argsort(np.abs(shap_values).mean(0))][::-1]\n",
    "df_compare[\"SHAP_XGBoost_Paper\"] = train_X.columns[np.argsort(np.abs(shap_values_paper).mean(0))][::-1]\n",
    "df_compare[\"TabNet\"] = [train_X.columns[x[0]] for x in importance_tabnet]\n",
    "df_compare[\"TabNet_Paper\"] = [train_X.columns[x[0]] for x in importance_tabnet_paper]"
   ]
  },
  {
   "cell_type": "code",
   "execution_count": 30,
   "metadata": {},
   "outputs": [
    {
     "data": {
      "text/html": [
       "<div>\n",
       "<style scoped>\n",
       "    .dataframe tbody tr th:only-of-type {\n",
       "        vertical-align: middle;\n",
       "    }\n",
       "\n",
       "    .dataframe tbody tr th {\n",
       "        vertical-align: top;\n",
       "    }\n",
       "\n",
       "    .dataframe thead th {\n",
       "        text-align: right;\n",
       "    }\n",
       "</style>\n",
       "<table border=\"1\" class=\"dataframe\">\n",
       "  <thead>\n",
       "    <tr style=\"text-align: right;\">\n",
       "      <th></th>\n",
       "      <th>LightGBM</th>\n",
       "      <th>LightGBM_Paper</th>\n",
       "      <th>XGBoost</th>\n",
       "      <th>XGBoost_Paper</th>\n",
       "      <th>SHAP_XGBoost</th>\n",
       "      <th>SHAP_XGBoost_Paper</th>\n",
       "      <th>TabNet</th>\n",
       "      <th>TabNet_Paper</th>\n",
       "    </tr>\n",
       "  </thead>\n",
       "  <tbody>\n",
       "    <tr>\n",
       "      <th>0</th>\n",
       "      <td>Var202</td>\n",
       "      <td>Var202</td>\n",
       "      <td>Var126</td>\n",
       "      <td>Var113</td>\n",
       "      <td>Var126</td>\n",
       "      <td>Var126</td>\n",
       "      <td>Var211</td>\n",
       "      <td>Var126</td>\n",
       "    </tr>\n",
       "    <tr>\n",
       "      <th>1</th>\n",
       "      <td>Var198</td>\n",
       "      <td>Var198</td>\n",
       "      <td>Var113</td>\n",
       "      <td>Var202</td>\n",
       "      <td>Var28</td>\n",
       "      <td>Var28</td>\n",
       "      <td>Var70_imputed</td>\n",
       "      <td>Var205</td>\n",
       "    </tr>\n",
       "    <tr>\n",
       "      <th>2</th>\n",
       "      <td>Var192</td>\n",
       "      <td>Var192</td>\n",
       "      <td>Var202</td>\n",
       "      <td>Var126</td>\n",
       "      <td>Var211</td>\n",
       "      <td>Var211</td>\n",
       "      <td>Var202</td>\n",
       "      <td>Var96</td>\n",
       "    </tr>\n",
       "    <tr>\n",
       "      <th>3</th>\n",
       "      <td>Var199</td>\n",
       "      <td>Var199</td>\n",
       "      <td>Var217</td>\n",
       "      <td>Var28</td>\n",
       "      <td>Var218</td>\n",
       "      <td>Var113</td>\n",
       "      <td>Var220</td>\n",
       "      <td>Var141_imputed</td>\n",
       "    </tr>\n",
       "    <tr>\n",
       "      <th>4</th>\n",
       "      <td>Var126</td>\n",
       "      <td>Var126</td>\n",
       "      <td>Var28</td>\n",
       "      <td>Var217</td>\n",
       "      <td>Var113</td>\n",
       "      <td>Var218</td>\n",
       "      <td>Var82_imputed</td>\n",
       "      <td>Var41</td>\n",
       "    </tr>\n",
       "    <tr>\n",
       "      <th>5</th>\n",
       "      <td>Var204</td>\n",
       "      <td>Var204</td>\n",
       "      <td>Var220</td>\n",
       "      <td>Var222</td>\n",
       "      <td>Var216</td>\n",
       "      <td>Var202</td>\n",
       "      <td>Var129</td>\n",
       "      <td>Var172</td>\n",
       "    </tr>\n",
       "    <tr>\n",
       "      <th>6</th>\n",
       "      <td>Var28</td>\n",
       "      <td>Var28</td>\n",
       "      <td>Var81</td>\n",
       "      <td>Var199</td>\n",
       "      <td>Var202</td>\n",
       "      <td>Var216</td>\n",
       "      <td>Var175</td>\n",
       "      <td>Var11_imputed</td>\n",
       "    </tr>\n",
       "    <tr>\n",
       "      <th>7</th>\n",
       "      <td>Var217</td>\n",
       "      <td>Var217</td>\n",
       "      <td>Var222</td>\n",
       "      <td>Var198</td>\n",
       "      <td>Var144</td>\n",
       "      <td>Var210</td>\n",
       "      <td>Var47_imputed</td>\n",
       "      <td>Var28</td>\n",
       "    </tr>\n",
       "    <tr>\n",
       "      <th>8</th>\n",
       "      <td>Var216</td>\n",
       "      <td>Var216</td>\n",
       "      <td>Var199</td>\n",
       "      <td>Var220</td>\n",
       "      <td>Var210</td>\n",
       "      <td>Var144</td>\n",
       "      <td>Var84_imputed</td>\n",
       "      <td>Var209_imputed</td>\n",
       "    </tr>\n",
       "    <tr>\n",
       "      <th>9</th>\n",
       "      <td>Var197</td>\n",
       "      <td>Var197</td>\n",
       "      <td>Var214</td>\n",
       "      <td>Var81</td>\n",
       "      <td>Var217</td>\n",
       "      <td>Var222</td>\n",
       "      <td>Var80</td>\n",
       "      <td>Var60_imputed</td>\n",
       "    </tr>\n",
       "  </tbody>\n",
       "</table>\n",
       "</div>"
      ],
      "text/plain": [
       "  LightGBM LightGBM_Paper XGBoost XGBoost_Paper SHAP_XGBoost  \\\n",
       "0   Var202         Var202  Var126        Var113       Var126   \n",
       "1   Var198         Var198  Var113        Var202        Var28   \n",
       "2   Var192         Var192  Var202        Var126       Var211   \n",
       "3   Var199         Var199  Var217         Var28       Var218   \n",
       "4   Var126         Var126   Var28        Var217       Var113   \n",
       "5   Var204         Var204  Var220        Var222       Var216   \n",
       "6    Var28          Var28   Var81        Var199       Var202   \n",
       "7   Var217         Var217  Var222        Var198       Var144   \n",
       "8   Var216         Var216  Var199        Var220       Var210   \n",
       "9   Var197         Var197  Var214         Var81       Var217   \n",
       "\n",
       "  SHAP_XGBoost_Paper         TabNet    TabNet_Paper  \n",
       "0             Var126         Var211          Var126  \n",
       "1              Var28  Var70_imputed          Var205  \n",
       "2             Var211         Var202           Var96  \n",
       "3             Var113         Var220  Var141_imputed  \n",
       "4             Var218  Var82_imputed           Var41  \n",
       "5             Var202         Var129          Var172  \n",
       "6             Var216         Var175   Var11_imputed  \n",
       "7             Var210  Var47_imputed           Var28  \n",
       "8             Var144  Var84_imputed  Var209_imputed  \n",
       "9             Var222          Var80   Var60_imputed  "
      ]
     },
     "execution_count": 30,
     "metadata": {},
     "output_type": "execute_result"
    }
   ],
   "source": [
    "df_compare.head(10)"
   ]
  },
  {
   "cell_type": "code",
   "execution_count": 31,
   "metadata": {},
   "outputs": [],
   "source": [
    "top_3 = []\n",
    "\n",
    "for i in range(len(df_compare.columns)):\n",
    "    for j in range(len(df_compare.columns)):\n",
    "        col1 = df_compare.columns[i]\n",
    "        col2 = df_compare.columns[j]\n",
    "        d = []\n",
    "        d.append(col1)\n",
    "        d.append(col2)\n",
    "        d.append(len(set(df_compare.loc[:3, col1]) & set(df_compare.loc[:3, col2])))\n",
    "        top_3.append(d)\n",
    "top_3_data = pd.DataFrame(top_3, columns=[\"Model1\", \"Model2\", \"Sim\"])\n",
    "    "
   ]
  },
  {
   "cell_type": "code",
   "execution_count": 32,
   "metadata": {},
   "outputs": [
    {
     "data": {
      "text/html": [
       "<div>\n",
       "<style scoped>\n",
       "    .dataframe tbody tr th:only-of-type {\n",
       "        vertical-align: middle;\n",
       "    }\n",
       "\n",
       "    .dataframe tbody tr th {\n",
       "        vertical-align: top;\n",
       "    }\n",
       "\n",
       "    .dataframe thead th {\n",
       "        text-align: right;\n",
       "    }\n",
       "</style>\n",
       "<table border=\"1\" class=\"dataframe\">\n",
       "  <thead>\n",
       "    <tr style=\"text-align: right;\">\n",
       "      <th>Model2</th>\n",
       "      <th>LightGBM</th>\n",
       "      <th>LightGBM_Paper</th>\n",
       "      <th>SHAP_XGBoost</th>\n",
       "      <th>SHAP_XGBoost_Paper</th>\n",
       "      <th>TabNet</th>\n",
       "      <th>TabNet_Paper</th>\n",
       "      <th>XGBoost</th>\n",
       "      <th>XGBoost_Paper</th>\n",
       "    </tr>\n",
       "    <tr>\n",
       "      <th>Model1</th>\n",
       "      <th></th>\n",
       "      <th></th>\n",
       "      <th></th>\n",
       "      <th></th>\n",
       "      <th></th>\n",
       "      <th></th>\n",
       "      <th></th>\n",
       "      <th></th>\n",
       "    </tr>\n",
       "  </thead>\n",
       "  <tbody>\n",
       "    <tr>\n",
       "      <th>LightGBM</th>\n",
       "      <td>4</td>\n",
       "      <td>4</td>\n",
       "      <td>0</td>\n",
       "      <td>0</td>\n",
       "      <td>1</td>\n",
       "      <td>0</td>\n",
       "      <td>1</td>\n",
       "      <td>1</td>\n",
       "    </tr>\n",
       "    <tr>\n",
       "      <th>LightGBM_Paper</th>\n",
       "      <td>4</td>\n",
       "      <td>4</td>\n",
       "      <td>0</td>\n",
       "      <td>0</td>\n",
       "      <td>1</td>\n",
       "      <td>0</td>\n",
       "      <td>1</td>\n",
       "      <td>1</td>\n",
       "    </tr>\n",
       "    <tr>\n",
       "      <th>SHAP_XGBoost</th>\n",
       "      <td>0</td>\n",
       "      <td>0</td>\n",
       "      <td>4</td>\n",
       "      <td>3</td>\n",
       "      <td>1</td>\n",
       "      <td>1</td>\n",
       "      <td>1</td>\n",
       "      <td>2</td>\n",
       "    </tr>\n",
       "    <tr>\n",
       "      <th>SHAP_XGBoost_Paper</th>\n",
       "      <td>0</td>\n",
       "      <td>0</td>\n",
       "      <td>3</td>\n",
       "      <td>4</td>\n",
       "      <td>1</td>\n",
       "      <td>1</td>\n",
       "      <td>2</td>\n",
       "      <td>3</td>\n",
       "    </tr>\n",
       "    <tr>\n",
       "      <th>TabNet</th>\n",
       "      <td>1</td>\n",
       "      <td>1</td>\n",
       "      <td>1</td>\n",
       "      <td>1</td>\n",
       "      <td>4</td>\n",
       "      <td>0</td>\n",
       "      <td>1</td>\n",
       "      <td>1</td>\n",
       "    </tr>\n",
       "    <tr>\n",
       "      <th>TabNet_Paper</th>\n",
       "      <td>0</td>\n",
       "      <td>0</td>\n",
       "      <td>1</td>\n",
       "      <td>1</td>\n",
       "      <td>0</td>\n",
       "      <td>4</td>\n",
       "      <td>1</td>\n",
       "      <td>1</td>\n",
       "    </tr>\n",
       "    <tr>\n",
       "      <th>XGBoost</th>\n",
       "      <td>1</td>\n",
       "      <td>1</td>\n",
       "      <td>1</td>\n",
       "      <td>2</td>\n",
       "      <td>1</td>\n",
       "      <td>1</td>\n",
       "      <td>4</td>\n",
       "      <td>3</td>\n",
       "    </tr>\n",
       "    <tr>\n",
       "      <th>XGBoost_Paper</th>\n",
       "      <td>1</td>\n",
       "      <td>1</td>\n",
       "      <td>2</td>\n",
       "      <td>3</td>\n",
       "      <td>1</td>\n",
       "      <td>1</td>\n",
       "      <td>3</td>\n",
       "      <td>4</td>\n",
       "    </tr>\n",
       "  </tbody>\n",
       "</table>\n",
       "</div>"
      ],
      "text/plain": [
       "Model2              LightGBM  LightGBM_Paper  SHAP_XGBoost  \\\n",
       "Model1                                                       \n",
       "LightGBM                   4               4             0   \n",
       "LightGBM_Paper             4               4             0   \n",
       "SHAP_XGBoost               0               0             4   \n",
       "SHAP_XGBoost_Paper         0               0             3   \n",
       "TabNet                     1               1             1   \n",
       "TabNet_Paper               0               0             1   \n",
       "XGBoost                    1               1             1   \n",
       "XGBoost_Paper              1               1             2   \n",
       "\n",
       "Model2              SHAP_XGBoost_Paper  TabNet  TabNet_Paper  XGBoost  \\\n",
       "Model1                                                                  \n",
       "LightGBM                             0       1             0        1   \n",
       "LightGBM_Paper                       0       1             0        1   \n",
       "SHAP_XGBoost                         3       1             1        1   \n",
       "SHAP_XGBoost_Paper                   4       1             1        2   \n",
       "TabNet                               1       4             0        1   \n",
       "TabNet_Paper                         1       0             4        1   \n",
       "XGBoost                              2       1             1        4   \n",
       "XGBoost_Paper                        3       1             1        3   \n",
       "\n",
       "Model2              XGBoost_Paper  \n",
       "Model1                             \n",
       "LightGBM                        1  \n",
       "LightGBM_Paper                  1  \n",
       "SHAP_XGBoost                    2  \n",
       "SHAP_XGBoost_Paper              3  \n",
       "TabNet                          1  \n",
       "TabNet_Paper                    1  \n",
       "XGBoost                         3  \n",
       "XGBoost_Paper                   4  "
      ]
     },
     "execution_count": 32,
     "metadata": {},
     "output_type": "execute_result"
    }
   ],
   "source": [
    "pd.pivot_table(top_3_data, values='Sim', index=['Model1'], columns=['Model2'])"
   ]
  },
  {
   "cell_type": "code",
   "execution_count": 33,
   "metadata": {},
   "outputs": [],
   "source": [
    "top_5 = []\n",
    "\n",
    "for i in range(len(df_compare.columns)):\n",
    "    for j in range(len(df_compare.columns)):\n",
    "        col1 = df_compare.columns[i]\n",
    "        col2 = df_compare.columns[j]\n",
    "        d = []\n",
    "        d.append(col1)\n",
    "        d.append(col2)\n",
    "        d.append(len(set(df_compare.loc[:3, col1]) & set(df_compare.loc[:5, col2])))\n",
    "        top_5.append(d)\n",
    "top_5_data = pd.DataFrame(top_5, columns=[\"Model1\", \"Model2\", \"Sim\"])\n",
    "    "
   ]
  },
  {
   "cell_type": "code",
   "execution_count": 34,
   "metadata": {},
   "outputs": [
    {
     "data": {
      "text/html": [
       "<div>\n",
       "<style scoped>\n",
       "    .dataframe tbody tr th:only-of-type {\n",
       "        vertical-align: middle;\n",
       "    }\n",
       "\n",
       "    .dataframe tbody tr th {\n",
       "        vertical-align: top;\n",
       "    }\n",
       "\n",
       "    .dataframe thead th {\n",
       "        text-align: right;\n",
       "    }\n",
       "</style>\n",
       "<table border=\"1\" class=\"dataframe\">\n",
       "  <thead>\n",
       "    <tr style=\"text-align: right;\">\n",
       "      <th>Model2</th>\n",
       "      <th>LightGBM</th>\n",
       "      <th>LightGBM_Paper</th>\n",
       "      <th>SHAP_XGBoost</th>\n",
       "      <th>SHAP_XGBoost_Paper</th>\n",
       "      <th>TabNet</th>\n",
       "      <th>TabNet_Paper</th>\n",
       "      <th>XGBoost</th>\n",
       "      <th>XGBoost_Paper</th>\n",
       "    </tr>\n",
       "    <tr>\n",
       "      <th>Model1</th>\n",
       "      <th></th>\n",
       "      <th></th>\n",
       "      <th></th>\n",
       "      <th></th>\n",
       "      <th></th>\n",
       "      <th></th>\n",
       "      <th></th>\n",
       "      <th></th>\n",
       "    </tr>\n",
       "  </thead>\n",
       "  <tbody>\n",
       "    <tr>\n",
       "      <th>LightGBM</th>\n",
       "      <td>4</td>\n",
       "      <td>4</td>\n",
       "      <td>0</td>\n",
       "      <td>1</td>\n",
       "      <td>1</td>\n",
       "      <td>0</td>\n",
       "      <td>1</td>\n",
       "      <td>1</td>\n",
       "    </tr>\n",
       "    <tr>\n",
       "      <th>LightGBM_Paper</th>\n",
       "      <td>4</td>\n",
       "      <td>4</td>\n",
       "      <td>0</td>\n",
       "      <td>1</td>\n",
       "      <td>1</td>\n",
       "      <td>0</td>\n",
       "      <td>1</td>\n",
       "      <td>1</td>\n",
       "    </tr>\n",
       "    <tr>\n",
       "      <th>SHAP_XGBoost</th>\n",
       "      <td>1</td>\n",
       "      <td>1</td>\n",
       "      <td>4</td>\n",
       "      <td>4</td>\n",
       "      <td>1</td>\n",
       "      <td>1</td>\n",
       "      <td>2</td>\n",
       "      <td>2</td>\n",
       "    </tr>\n",
       "    <tr>\n",
       "      <th>SHAP_XGBoost_Paper</th>\n",
       "      <td>1</td>\n",
       "      <td>1</td>\n",
       "      <td>4</td>\n",
       "      <td>4</td>\n",
       "      <td>1</td>\n",
       "      <td>1</td>\n",
       "      <td>3</td>\n",
       "      <td>3</td>\n",
       "    </tr>\n",
       "    <tr>\n",
       "      <th>TabNet</th>\n",
       "      <td>1</td>\n",
       "      <td>1</td>\n",
       "      <td>1</td>\n",
       "      <td>2</td>\n",
       "      <td>4</td>\n",
       "      <td>0</td>\n",
       "      <td>2</td>\n",
       "      <td>1</td>\n",
       "    </tr>\n",
       "    <tr>\n",
       "      <th>TabNet_Paper</th>\n",
       "      <td>1</td>\n",
       "      <td>1</td>\n",
       "      <td>1</td>\n",
       "      <td>1</td>\n",
       "      <td>0</td>\n",
       "      <td>4</td>\n",
       "      <td>1</td>\n",
       "      <td>1</td>\n",
       "    </tr>\n",
       "    <tr>\n",
       "      <th>XGBoost</th>\n",
       "      <td>2</td>\n",
       "      <td>2</td>\n",
       "      <td>2</td>\n",
       "      <td>3</td>\n",
       "      <td>1</td>\n",
       "      <td>1</td>\n",
       "      <td>4</td>\n",
       "      <td>4</td>\n",
       "    </tr>\n",
       "    <tr>\n",
       "      <th>XGBoost_Paper</th>\n",
       "      <td>2</td>\n",
       "      <td>2</td>\n",
       "      <td>3</td>\n",
       "      <td>4</td>\n",
       "      <td>1</td>\n",
       "      <td>1</td>\n",
       "      <td>4</td>\n",
       "      <td>4</td>\n",
       "    </tr>\n",
       "  </tbody>\n",
       "</table>\n",
       "</div>"
      ],
      "text/plain": [
       "Model2              LightGBM  LightGBM_Paper  SHAP_XGBoost  \\\n",
       "Model1                                                       \n",
       "LightGBM                   4               4             0   \n",
       "LightGBM_Paper             4               4             0   \n",
       "SHAP_XGBoost               1               1             4   \n",
       "SHAP_XGBoost_Paper         1               1             4   \n",
       "TabNet                     1               1             1   \n",
       "TabNet_Paper               1               1             1   \n",
       "XGBoost                    2               2             2   \n",
       "XGBoost_Paper              2               2             3   \n",
       "\n",
       "Model2              SHAP_XGBoost_Paper  TabNet  TabNet_Paper  XGBoost  \\\n",
       "Model1                                                                  \n",
       "LightGBM                             1       1             0        1   \n",
       "LightGBM_Paper                       1       1             0        1   \n",
       "SHAP_XGBoost                         4       1             1        2   \n",
       "SHAP_XGBoost_Paper                   4       1             1        3   \n",
       "TabNet                               2       4             0        2   \n",
       "TabNet_Paper                         1       0             4        1   \n",
       "XGBoost                              3       1             1        4   \n",
       "XGBoost_Paper                        4       1             1        4   \n",
       "\n",
       "Model2              XGBoost_Paper  \n",
       "Model1                             \n",
       "LightGBM                        1  \n",
       "LightGBM_Paper                  1  \n",
       "SHAP_XGBoost                    2  \n",
       "SHAP_XGBoost_Paper              3  \n",
       "TabNet                          1  \n",
       "TabNet_Paper                    1  \n",
       "XGBoost                         4  \n",
       "XGBoost_Paper                   4  "
      ]
     },
     "execution_count": 34,
     "metadata": {},
     "output_type": "execute_result"
    }
   ],
   "source": [
    "pd.pivot_table(top_5_data, values='Sim', index=['Model1'], columns=['Model2'])"
   ]
  },
  {
   "cell_type": "code",
   "execution_count": 35,
   "metadata": {},
   "outputs": [],
   "source": [
    "top_10 = []\n",
    "\n",
    "for i in range(len(df_compare.columns)):\n",
    "    for j in range(len(df_compare.columns)):\n",
    "        col1 = df_compare.columns[i]\n",
    "        col2 = df_compare.columns[j]\n",
    "        d = []\n",
    "        d.append(col1)\n",
    "        d.append(col2)\n",
    "        d.append(len(set(df_compare.loc[:3, col1]) & set(df_compare.loc[:5, col2])))\n",
    "        top_10.append(d)\n",
    "top_10_data = pd.DataFrame(top_10, columns=[\"Model1\", \"Model2\", \"Sim\"])\n",
    "    "
   ]
  },
  {
   "cell_type": "code",
   "execution_count": 36,
   "metadata": {},
   "outputs": [
    {
     "data": {
      "text/html": [
       "<div>\n",
       "<style scoped>\n",
       "    .dataframe tbody tr th:only-of-type {\n",
       "        vertical-align: middle;\n",
       "    }\n",
       "\n",
       "    .dataframe tbody tr th {\n",
       "        vertical-align: top;\n",
       "    }\n",
       "\n",
       "    .dataframe thead th {\n",
       "        text-align: right;\n",
       "    }\n",
       "</style>\n",
       "<table border=\"1\" class=\"dataframe\">\n",
       "  <thead>\n",
       "    <tr style=\"text-align: right;\">\n",
       "      <th>Model2</th>\n",
       "      <th>LightGBM</th>\n",
       "      <th>LightGBM_Paper</th>\n",
       "      <th>SHAP_XGBoost</th>\n",
       "      <th>SHAP_XGBoost_Paper</th>\n",
       "      <th>TabNet</th>\n",
       "      <th>TabNet_Paper</th>\n",
       "      <th>XGBoost</th>\n",
       "      <th>XGBoost_Paper</th>\n",
       "    </tr>\n",
       "    <tr>\n",
       "      <th>Model1</th>\n",
       "      <th></th>\n",
       "      <th></th>\n",
       "      <th></th>\n",
       "      <th></th>\n",
       "      <th></th>\n",
       "      <th></th>\n",
       "      <th></th>\n",
       "      <th></th>\n",
       "    </tr>\n",
       "  </thead>\n",
       "  <tbody>\n",
       "    <tr>\n",
       "      <th>LightGBM</th>\n",
       "      <td>4</td>\n",
       "      <td>4</td>\n",
       "      <td>0</td>\n",
       "      <td>1</td>\n",
       "      <td>1</td>\n",
       "      <td>0</td>\n",
       "      <td>1</td>\n",
       "      <td>1</td>\n",
       "    </tr>\n",
       "    <tr>\n",
       "      <th>LightGBM_Paper</th>\n",
       "      <td>4</td>\n",
       "      <td>4</td>\n",
       "      <td>0</td>\n",
       "      <td>1</td>\n",
       "      <td>1</td>\n",
       "      <td>0</td>\n",
       "      <td>1</td>\n",
       "      <td>1</td>\n",
       "    </tr>\n",
       "    <tr>\n",
       "      <th>SHAP_XGBoost</th>\n",
       "      <td>1</td>\n",
       "      <td>1</td>\n",
       "      <td>4</td>\n",
       "      <td>4</td>\n",
       "      <td>1</td>\n",
       "      <td>1</td>\n",
       "      <td>2</td>\n",
       "      <td>2</td>\n",
       "    </tr>\n",
       "    <tr>\n",
       "      <th>SHAP_XGBoost_Paper</th>\n",
       "      <td>1</td>\n",
       "      <td>1</td>\n",
       "      <td>4</td>\n",
       "      <td>4</td>\n",
       "      <td>1</td>\n",
       "      <td>1</td>\n",
       "      <td>3</td>\n",
       "      <td>3</td>\n",
       "    </tr>\n",
       "    <tr>\n",
       "      <th>TabNet</th>\n",
       "      <td>1</td>\n",
       "      <td>1</td>\n",
       "      <td>1</td>\n",
       "      <td>2</td>\n",
       "      <td>4</td>\n",
       "      <td>0</td>\n",
       "      <td>2</td>\n",
       "      <td>1</td>\n",
       "    </tr>\n",
       "    <tr>\n",
       "      <th>TabNet_Paper</th>\n",
       "      <td>1</td>\n",
       "      <td>1</td>\n",
       "      <td>1</td>\n",
       "      <td>1</td>\n",
       "      <td>0</td>\n",
       "      <td>4</td>\n",
       "      <td>1</td>\n",
       "      <td>1</td>\n",
       "    </tr>\n",
       "    <tr>\n",
       "      <th>XGBoost</th>\n",
       "      <td>2</td>\n",
       "      <td>2</td>\n",
       "      <td>2</td>\n",
       "      <td>3</td>\n",
       "      <td>1</td>\n",
       "      <td>1</td>\n",
       "      <td>4</td>\n",
       "      <td>4</td>\n",
       "    </tr>\n",
       "    <tr>\n",
       "      <th>XGBoost_Paper</th>\n",
       "      <td>2</td>\n",
       "      <td>2</td>\n",
       "      <td>3</td>\n",
       "      <td>4</td>\n",
       "      <td>1</td>\n",
       "      <td>1</td>\n",
       "      <td>4</td>\n",
       "      <td>4</td>\n",
       "    </tr>\n",
       "  </tbody>\n",
       "</table>\n",
       "</div>"
      ],
      "text/plain": [
       "Model2              LightGBM  LightGBM_Paper  SHAP_XGBoost  \\\n",
       "Model1                                                       \n",
       "LightGBM                   4               4             0   \n",
       "LightGBM_Paper             4               4             0   \n",
       "SHAP_XGBoost               1               1             4   \n",
       "SHAP_XGBoost_Paper         1               1             4   \n",
       "TabNet                     1               1             1   \n",
       "TabNet_Paper               1               1             1   \n",
       "XGBoost                    2               2             2   \n",
       "XGBoost_Paper              2               2             3   \n",
       "\n",
       "Model2              SHAP_XGBoost_Paper  TabNet  TabNet_Paper  XGBoost  \\\n",
       "Model1                                                                  \n",
       "LightGBM                             1       1             0        1   \n",
       "LightGBM_Paper                       1       1             0        1   \n",
       "SHAP_XGBoost                         4       1             1        2   \n",
       "SHAP_XGBoost_Paper                   4       1             1        3   \n",
       "TabNet                               2       4             0        2   \n",
       "TabNet_Paper                         1       0             4        1   \n",
       "XGBoost                              3       1             1        4   \n",
       "XGBoost_Paper                        4       1             1        4   \n",
       "\n",
       "Model2              XGBoost_Paper  \n",
       "Model1                             \n",
       "LightGBM                        1  \n",
       "LightGBM_Paper                  1  \n",
       "SHAP_XGBoost                    2  \n",
       "SHAP_XGBoost_Paper              3  \n",
       "TabNet                          1  \n",
       "TabNet_Paper                    1  \n",
       "XGBoost                         4  \n",
       "XGBoost_Paper                   4  "
      ]
     },
     "execution_count": 36,
     "metadata": {},
     "output_type": "execute_result"
    }
   ],
   "source": [
    "pd.pivot_table(top_10_data, values='Sim', index=['Model1'], columns=['Model2'])"
   ]
  },
  {
   "cell_type": "code",
   "execution_count": null,
   "metadata": {},
   "outputs": [],
   "source": []
  }
 ],
 "metadata": {
  "kernelspec": {
   "display_name": "Python 3",
   "language": "python",
   "name": "python3"
  },
  "language_info": {
   "codemirror_mode": {
    "name": "ipython",
    "version": 3
   },
   "file_extension": ".py",
   "mimetype": "text/x-python",
   "name": "python",
   "nbconvert_exporter": "python",
   "pygments_lexer": "ipython3",
   "version": "3.8.5"
  }
 },
 "nbformat": 4,
 "nbformat_minor": 4
}
