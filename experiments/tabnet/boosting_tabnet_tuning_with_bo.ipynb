{
 "cells": [
  {
   "cell_type": "code",
   "execution_count": 1,
   "metadata": {
    "_cell_guid": "b1076dfc-b9ad-4769-8c92-a6c4dae69d19",
    "_uuid": "8f2839f25d086af736a60e9eeb907d3b93b6e0e5"
   },
   "outputs": [],
   "source": [
    "import numpy as np\n",
    "import pandas as pd\n",
    "import gc\n",
    "from lightgbm import LGBMClassifier\n",
    "from xgboost import XGBClassifier\n",
    "import lightgbm as lgb\n",
    "import xgboost as xgb\n",
    "from pytorch_tabnet.tab_model import TabNetClassifier\n",
    "import pickle\n",
    "\n",
    "from sklearn.preprocessing import LabelEncoder\n",
    "from sklearn.metrics import accuracy_score, roc_auc_score, confusion_matrix\n",
    "from sklearn.feature_selection import VarianceThreshold\n",
    "from sklearn.model_selection import train_test_split\n",
    "\n",
    "from functools import partial\n",
    "\n",
    "from skopt.space import Real, Integer, Categorical\n",
    "from skopt.utils import use_named_args\n",
    "from skopt import gp_minimize\n",
    "from skopt.plots import plot_convergence\n",
    "\n",
    "from bo_parameters import *"
   ]
  },
  {
   "cell_type": "code",
   "execution_count": 2,
   "metadata": {},
   "outputs": [],
   "source": [
    "classificators = [\n",
    "    (\"LGBMClassifier\", LGBMClassifier, SEARCH_SPACE_LGBM, LIGHTGBM_PARAMS),\n",
    "    (\"XGBClassifier\", XGBClassifier, SEARCH_SPACE_XGB, XGBOOST_PARAMS),\n",
    "    (\"TABNETClassifier\", TabNetClassifier, SEARCH_SPACE_TABNET, TABNET_PARAMS),\n",
    "]"
   ]
  },
  {
   "cell_type": "code",
   "execution_count": 4,
   "metadata": {},
   "outputs": [],
   "source": [
    "column_names = [\"age\", \"workclass\", \"education\", \"martial_status\", \"occupation\", \"relationship\",\n",
    "               \"race\", \"sex\", \"capital_gain\", \"capital_loss\", \"hours_per_week\", \"native_country\", \"TARGET\"]"
   ]
  },
  {
   "cell_type": "code",
   "execution_count": 4,
   "metadata": {},
   "outputs": [],
   "source": [
    "data = pd.read_csv(\"data/census_income/train.csv\", usecols=[0, 1, 3, 5, 6, 7, 8, 9, 10, 11, 12, 13, 14], names=column_names, header=0)"
   ]
  },
  {
   "cell_type": "code",
   "execution_count": 6,
   "metadata": {},
   "outputs": [],
   "source": [
    "train = pd.read_csv(\"data/census_income/train.csv\", usecols=[0, 1, 3, 5, 6, 7, 8, 9, 10, 11, 12, 13, 14], names=column_names, header=0)\n",
    "valid = pd.read_csv(\"data/census_income/val.csv\", usecols=[0, 1, 3, 5, 6, 7, 8, 9, 10, 11, 12, 13, 14], names=column_names, header=0)\n",
    "\n",
    "train_x = train.drop([\"TARGET\"], axis=1).values\n",
    "train_y = train[\"TARGET\"].values\n",
    "\n",
    "valid_x = valid.drop([\"TARGET\"], axis=1).values\n",
    "valid_y = valid[\"TARGET\"].values"
   ]
  },
  {
   "cell_type": "code",
   "execution_count": 7,
   "metadata": {},
   "outputs": [],
   "source": [
    "def BayesianOptimization(clf, params, search_range, model_name):\n",
    "    def func_gb(values):\n",
    "        for i, param in enumerate(search_range):\n",
    "            params[param.name] = values[i]\n",
    "            if param.name == \"n_a\":\n",
    "                params[\"n_d\"] = values[i]\n",
    "        print('\\nTesting next set of paramaters...', params)\n",
    "\n",
    "        model = clf(**params)\n",
    "        model.fit(train_x, train_y, eval_set=[(valid_x, valid_y)], eval_metric=[\"auc\"], early_stopping_rounds=10, verbose=0)\n",
    "        neg_auc = round(-roc_auc_score(valid_y, model.predict_proba(valid_x)[:, 1]), 6)\n",
    "\n",
    "        print('AUC: ', -neg_auc, ' of boosting iteration ')\n",
    "        return neg_auc\n",
    "    \n",
    "    def func_tabnet(values):\n",
    "        for i, param in enumerate(search_range):\n",
    "            params[param.name] = values[i]\n",
    "            if param.name == \"n_a\":\n",
    "                params[\"n_d\"] = values[i]\n",
    "        print('\\nTesting next set of paramaters...', params)\n",
    "\n",
    "        model = clf(**params)\n",
    "        model.fit(train_x, train_y, eval_set=[(valid_x, valid_y)], eval_metric=[\"auc\"], max_epochs=30)\n",
    "        neg_auc = round(-roc_auc_score(valid_y, model.predict_proba(valid_x)[:, 1]), 6)\n",
    "\n",
    "        print('AUC: ', -neg_auc, ' of boosting iteration ')\n",
    "        return neg_auc\n",
    "    \n",
    "    return func_gb if model_name != \"TABNETClassifier\" else func_tabnet"
   ]
  },
  {
   "cell_type": "code",
   "execution_count": 8,
   "metadata": {
    "scrolled": true
   },
   "outputs": [
    {
     "name": "stdout",
     "output_type": "stream",
     "text": [
      "Iteration No: 1 started. Evaluating function at random point.\n",
      "\n",
      "Testing next set of paramaters... {'boosting_type': 'gbdt', 'objective': 'binary', 'metric': 'auc', 'n_jobs': -1, 'random_state': 42, 'silent': True, 'learning_rate': 0.17333210008560201, 'max_depth': 15, 'n_estimators': 903}\n",
      "[LightGBM] [Warning] Accuracy may be bad since you didn't explicitly set num_leaves OR 2^max_depth > num_leaves. (num_leaves=31).\n",
      "AUC:  0.926499  of boosting iteration \n",
      "Iteration No: 1 ended. Evaluation done at random point.\n",
      "Time taken: 0.1140\n",
      "Function value obtained: -0.9265\n",
      "Current minimum: -0.9265\n",
      "Iteration No: 2 started. Evaluating function at random point.\n",
      "\n",
      "Testing next set of paramaters... {'boosting_type': 'gbdt', 'objective': 'binary', 'metric': 'auc', 'n_jobs': -1, 'random_state': 42, 'silent': True, 'learning_rate': 0.24085813272210033, 'max_depth': 12, 'n_estimators': 354}\n",
      "[LightGBM] [Warning] Accuracy may be bad since you didn't explicitly set num_leaves OR 2^max_depth > num_leaves. (num_leaves=31).\n",
      "AUC:  0.92706  of boosting iteration \n",
      "Iteration No: 2 ended. Evaluation done at random point.\n",
      "Time taken: 0.1168\n",
      "Function value obtained: -0.9271\n",
      "Current minimum: -0.9271\n",
      "Iteration No: 3 started. Evaluating function at random point.\n",
      "\n",
      "Testing next set of paramaters... {'boosting_type': 'gbdt', 'objective': 'binary', 'metric': 'auc', 'n_jobs': -1, 'random_state': 42, 'silent': True, 'learning_rate': 0.2333263231058207, 'max_depth': 8, 'n_estimators': 941}\n",
      "[LightGBM] [Warning] Accuracy may be bad since you didn't explicitly set num_leaves OR 2^max_depth > num_leaves. (num_leaves=31).\n",
      "AUC:  0.927006  of boosting iteration \n",
      "Iteration No: 3 ended. Evaluation done at random point.\n",
      "Time taken: 0.1246\n",
      "Function value obtained: -0.9270\n",
      "Current minimum: -0.9271\n",
      "Iteration No: 4 started. Evaluating function at random point.\n",
      "\n",
      "Testing next set of paramaters... {'boosting_type': 'gbdt', 'objective': 'binary', 'metric': 'auc', 'n_jobs': -1, 'random_state': 42, 'silent': True, 'learning_rate': 0.22596957258651912, 'max_depth': 9, 'n_estimators': 732}\n",
      "[LightGBM] [Warning] Accuracy may be bad since you didn't explicitly set num_leaves OR 2^max_depth > num_leaves. (num_leaves=31).\n",
      "AUC:  0.926921  of boosting iteration \n",
      "Iteration No: 4 ended. Evaluation done at random point.\n",
      "Time taken: 0.1018\n",
      "Function value obtained: -0.9269\n",
      "Current minimum: -0.9271\n",
      "Iteration No: 5 started. Evaluating function at random point.\n",
      "\n",
      "Testing next set of paramaters... {'boosting_type': 'gbdt', 'objective': 'binary', 'metric': 'auc', 'n_jobs': -1, 'random_state': 42, 'silent': True, 'learning_rate': 0.43334935617526027, 'max_depth': 7, 'n_estimators': 823}\n",
      "[LightGBM] [Warning] Accuracy may be bad since you didn't explicitly set num_leaves OR 2^max_depth > num_leaves. (num_leaves=31).\n",
      "AUC:  0.926478  of boosting iteration \n",
      "Iteration No: 5 ended. Evaluation done at random point.\n",
      "Time taken: 0.0749\n",
      "Function value obtained: -0.9265\n",
      "Current minimum: -0.9271\n",
      "Iteration No: 6 started. Evaluating function at random point.\n",
      "\n",
      "Testing next set of paramaters... {'boosting_type': 'gbdt', 'objective': 'binary', 'metric': 'auc', 'n_jobs': -1, 'random_state': 42, 'silent': True, 'learning_rate': 0.13757478161712752, 'max_depth': 7, 'n_estimators': 311}\n",
      "[LightGBM] [Warning] Accuracy may be bad since you didn't explicitly set num_leaves OR 2^max_depth > num_leaves. (num_leaves=31).\n",
      "AUC:  0.928208  of boosting iteration \n",
      "Iteration No: 6 ended. Evaluation done at random point.\n",
      "Time taken: 0.2038\n",
      "Function value obtained: -0.9282\n",
      "Current minimum: -0.9282\n",
      "Iteration No: 7 started. Evaluating function at random point.\n",
      "\n",
      "Testing next set of paramaters... {'boosting_type': 'gbdt', 'objective': 'binary', 'metric': 'auc', 'n_jobs': -1, 'random_state': 42, 'silent': True, 'learning_rate': 0.1523561764486931, 'max_depth': 15, 'n_estimators': 498}\n",
      "[LightGBM] [Warning] Accuracy may be bad since you didn't explicitly set num_leaves OR 2^max_depth > num_leaves. (num_leaves=31).\n",
      "AUC:  0.927943  of boosting iteration \n",
      "Iteration No: 7 ended. Evaluation done at random point.\n",
      "Time taken: 0.1374\n",
      "Function value obtained: -0.9279\n",
      "Current minimum: -0.9282\n",
      "Iteration No: 8 started. Evaluating function at random point.\n",
      "\n",
      "Testing next set of paramaters... {'boosting_type': 'gbdt', 'objective': 'binary', 'metric': 'auc', 'n_jobs': -1, 'random_state': 42, 'silent': True, 'learning_rate': 0.23509901239125852, 'max_depth': 13, 'n_estimators': 286}\n",
      "[LightGBM] [Warning] Accuracy may be bad since you didn't explicitly set num_leaves OR 2^max_depth > num_leaves. (num_leaves=31).\n",
      "AUC:  0.927417  of boosting iteration \n",
      "Iteration No: 8 ended. Evaluation done at random point.\n",
      "Time taken: 0.1263\n",
      "Function value obtained: -0.9274\n",
      "Current minimum: -0.9282\n",
      "Iteration No: 9 started. Evaluating function at random point.\n",
      "\n",
      "Testing next set of paramaters... {'boosting_type': 'gbdt', 'objective': 'binary', 'metric': 'auc', 'n_jobs': -1, 'random_state': 42, 'silent': True, 'learning_rate': 0.3642982130198248, 'max_depth': 8, 'n_estimators': 985}\n",
      "[LightGBM] [Warning] Accuracy may be bad since you didn't explicitly set num_leaves OR 2^max_depth > num_leaves. (num_leaves=31).\n",
      "AUC:  0.927043  of boosting iteration \n",
      "Iteration No: 9 ended. Evaluation done at random point.\n",
      "Time taken: 0.0909\n",
      "Function value obtained: -0.9270\n",
      "Current minimum: -0.9282\n",
      "Iteration No: 10 started. Evaluating function at random point.\n",
      "\n",
      "Testing next set of paramaters... {'boosting_type': 'gbdt', 'objective': 'binary', 'metric': 'auc', 'n_jobs': -1, 'random_state': 42, 'silent': True, 'learning_rate': 0.32790104306216694, 'max_depth': 4, 'n_estimators': 615}\n",
      "AUC:  0.927689  of boosting iteration \n",
      "Iteration No: 10 ended. Evaluation done at random point.\n",
      "Time taken: 2.3387\n",
      "Function value obtained: -0.9277\n",
      "Current minimum: -0.9282\n",
      "Iteration No: 11 started. Searching for the next optimal point.\n",
      "\n",
      "Testing next set of paramaters... {'boosting_type': 'gbdt', 'objective': 'binary', 'metric': 'auc', 'n_jobs': -1, 'random_state': 42, 'silent': True, 'learning_rate': 0.4694096540382714, 'max_depth': 8, 'n_estimators': 100}\n",
      "[LightGBM] [Warning] Accuracy may be bad since you didn't explicitly set num_leaves OR 2^max_depth > num_leaves. (num_leaves=31).\n",
      "AUC:  0.925315  of boosting iteration \n",
      "Iteration No: 11 ended. Search finished for the next optimal point.\n",
      "Time taken: 0.8583\n",
      "Function value obtained: -0.9253\n",
      "Current minimum: -0.9282\n",
      "Iteration No: 12 started. Searching for the next optimal point.\n",
      "\n",
      "Testing next set of paramaters... {'boosting_type': 'gbdt', 'objective': 'binary', 'metric': 'auc', 'n_jobs': -1, 'random_state': 42, 'silent': True, 'learning_rate': 0.1673389305882606, 'max_depth': 5, 'n_estimators': 100}\n",
      "[LightGBM] [Warning] Accuracy may be bad since you didn't explicitly set num_leaves OR 2^max_depth > num_leaves. (num_leaves=31).\n",
      "AUC:  0.927556  of boosting iteration \n",
      "Iteration No: 12 ended. Search finished for the next optimal point.\n",
      "Time taken: 0.3745\n",
      "Function value obtained: -0.9276\n",
      "Current minimum: -0.9282\n",
      "Iteration No: 13 started. Searching for the next optimal point.\n",
      "\n",
      "Testing next set of paramaters... {'boosting_type': 'gbdt', 'objective': 'binary', 'metric': 'auc', 'n_jobs': -1, 'random_state': 42, 'silent': True, 'learning_rate': 0.10164580221270003, 'max_depth': 7, 'n_estimators': 991}\n",
      "[LightGBM] [Warning] Accuracy may be bad since you didn't explicitly set num_leaves OR 2^max_depth > num_leaves. (num_leaves=31).\n",
      "AUC:  0.927887  of boosting iteration \n",
      "Iteration No: 13 ended. Search finished for the next optimal point.\n",
      "Time taken: 0.4006\n",
      "Function value obtained: -0.9279\n",
      "Current minimum: -0.9282\n",
      "Iteration No: 14 started. Searching for the next optimal point.\n",
      "\n",
      "Testing next set of paramaters... {'boosting_type': 'gbdt', 'objective': 'binary', 'metric': 'auc', 'n_jobs': -1, 'random_state': 42, 'silent': True, 'learning_rate': 0.28828715378887126, 'max_depth': 8, 'n_estimators': 997}\n",
      "[LightGBM] [Warning] Accuracy may be bad since you didn't explicitly set num_leaves OR 2^max_depth > num_leaves. (num_leaves=31).\n",
      "AUC:  0.926493  of boosting iteration \n",
      "Iteration No: 14 ended. Search finished for the next optimal point.\n",
      "Time taken: 0.3137\n",
      "Function value obtained: -0.9265\n",
      "Current minimum: -0.9282\n",
      "Iteration No: 15 started. Searching for the next optimal point.\n",
      "\n",
      "Testing next set of paramaters... {'boosting_type': 'gbdt', 'objective': 'binary', 'metric': 'auc', 'n_jobs': -1, 'random_state': 42, 'silent': True, 'learning_rate': 0.11151654525011137, 'max_depth': 13, 'n_estimators': 100}\n",
      "[LightGBM] [Warning] Accuracy may be bad since you didn't explicitly set num_leaves OR 2^max_depth > num_leaves. (num_leaves=31).\n",
      "AUC:  0.927914  of boosting iteration \n"
     ]
    },
    {
     "name": "stdout",
     "output_type": "stream",
     "text": [
      "Iteration No: 15 ended. Search finished for the next optimal point.\n",
      "Time taken: 0.4098\n",
      "Function value obtained: -0.9279\n",
      "Current minimum: -0.9282\n",
      "Iteration No: 16 started. Searching for the next optimal point.\n",
      "\n",
      "Testing next set of paramaters... {'boosting_type': 'gbdt', 'objective': 'binary', 'metric': 'auc', 'n_jobs': -1, 'random_state': 42, 'silent': True, 'learning_rate': 0.4995715139562299, 'max_depth': 10, 'n_estimators': 947}\n",
      "[LightGBM] [Warning] Accuracy may be bad since you didn't explicitly set num_leaves OR 2^max_depth > num_leaves. (num_leaves=31).\n",
      "AUC:  0.925044  of boosting iteration \n",
      "Iteration No: 16 ended. Search finished for the next optimal point.\n",
      "Time taken: 0.3529\n",
      "Function value obtained: -0.9250\n",
      "Current minimum: -0.9282\n",
      "Iteration No: 17 started. Searching for the next optimal point.\n",
      "\n",
      "Testing next set of paramaters... {'boosting_type': 'gbdt', 'objective': 'binary', 'metric': 'auc', 'n_jobs': -1, 'random_state': 42, 'silent': True, 'learning_rate': 0.3783107183347344, 'max_depth': 11, 'n_estimators': 102}\n",
      "[LightGBM] [Warning] Accuracy may be bad since you didn't explicitly set num_leaves OR 2^max_depth > num_leaves. (num_leaves=31).\n",
      "AUC:  0.924927  of boosting iteration \n",
      "Iteration No: 17 ended. Search finished for the next optimal point.\n",
      "Time taken: 0.3347\n",
      "Function value obtained: -0.9249\n",
      "Current minimum: -0.9282\n",
      "Iteration No: 18 started. Searching for the next optimal point.\n",
      "\n",
      "Testing next set of paramaters... {'boosting_type': 'gbdt', 'objective': 'binary', 'metric': 'auc', 'n_jobs': -1, 'random_state': 42, 'silent': True, 'learning_rate': 0.15693851465297692, 'max_depth': 3, 'n_estimators': 851}\n",
      "AUC:  0.926393  of boosting iteration \n",
      "Iteration No: 18 ended. Search finished for the next optimal point.\n",
      "Time taken: 0.5904\n",
      "Function value obtained: -0.9264\n",
      "Current minimum: -0.9282\n",
      "Iteration No: 19 started. Searching for the next optimal point.\n",
      "\n",
      "Testing next set of paramaters... {'boosting_type': 'gbdt', 'objective': 'binary', 'metric': 'auc', 'n_jobs': -1, 'random_state': 42, 'silent': True, 'learning_rate': 0.4980535251681749, 'max_depth': 3, 'n_estimators': 140}\n",
      "AUC:  0.926895  of boosting iteration \n",
      "Iteration No: 19 ended. Search finished for the next optimal point.\n",
      "Time taken: 0.4051\n",
      "Function value obtained: -0.9269\n",
      "Current minimum: -0.9282\n",
      "Iteration No: 20 started. Searching for the next optimal point.\n",
      "\n",
      "Testing next set of paramaters... {'boosting_type': 'gbdt', 'objective': 'binary', 'metric': 'auc', 'n_jobs': -1, 'random_state': 42, 'silent': True, 'learning_rate': 0.1, 'max_depth': 10, 'n_estimators': 532}\n",
      "[LightGBM] [Warning] Accuracy may be bad since you didn't explicitly set num_leaves OR 2^max_depth > num_leaves. (num_leaves=31).\n",
      "AUC:  0.926939  of boosting iteration \n",
      "Iteration No: 20 ended. Search finished for the next optimal point.\n",
      "Time taken: 0.4910\n",
      "Function value obtained: -0.9269\n",
      "Current minimum: -0.9282\n",
      "Iteration No: 1 started. Evaluating function at random point.\n",
      "\n",
      "Testing next set of paramaters... {'booster': 'gbtree', 'objective': 'binary:logistic', 'n_jobs': -1, 'random_state': 42, 'silent': True, 'learning_rate': 0.16402101457241486, 'max_depth': 11, 'n_estimators': 768}\n",
      "[14:07:58] WARNING: ../src/learner.cc:541: \n",
      "Parameters: { silent } might not be used.\n",
      "\n",
      "  This may not be accurate due to some parameters are only used in language bindings but\n",
      "  passed down to XGBoost core.  Or some parameters are not used but slip through this\n",
      "  verification. Please open an issue if you find above cases.\n",
      "\n",
      "\n"
     ]
    },
    {
     "name": "stderr",
     "output_type": "stream",
     "text": [
      "/home/marinamandarina_07/anaconda3/lib/python3.8/site-packages/xgboost/sklearn.py:888: UserWarning: The use of label encoder in XGBClassifier is deprecated and will be removed in a future release. To remove this warning, do the following: 1) Pass option use_label_encoder=False when constructing XGBClassifier object; and 2) Encode your labels (y) as integers starting with 0, i.e. 0, 1, 2, ..., [num_class - 1].\n",
      "  warnings.warn(label_encoder_deprecation_msg, UserWarning)\n"
     ]
    },
    {
     "name": "stdout",
     "output_type": "stream",
     "text": [
      "AUC:  0.924719  of boosting iteration \n",
      "Iteration No: 1 ended. Evaluation done at random point.\n",
      "Time taken: 0.7715\n",
      "Function value obtained: -0.9247\n",
      "Current minimum: -0.9247\n",
      "Iteration No: 2 started. Evaluating function at random point.\n",
      "\n",
      "Testing next set of paramaters... {'booster': 'gbtree', 'objective': 'binary:logistic', 'n_jobs': -1, 'random_state': 42, 'silent': True, 'learning_rate': 0.9376184238237958, 'max_depth': 8, 'n_estimators': 753}\n",
      "[14:07:59] WARNING: ../src/learner.cc:541: \n",
      "Parameters: { silent } might not be used.\n",
      "\n",
      "  This may not be accurate due to some parameters are only used in language bindings but\n",
      "  passed down to XGBoost core.  Or some parameters are not used but slip through this\n",
      "  verification. Please open an issue if you find above cases.\n",
      "\n",
      "\n",
      "AUC:  0.921201  of boosting iteration \n",
      "Iteration No: 2 ended. Evaluation done at random point.\n",
      "Time taken: 0.1414\n",
      "Function value obtained: -0.9212\n",
      "Current minimum: -0.9247\n",
      "Iteration No: 3 started. Evaluating function at random point.\n",
      "\n",
      "Testing next set of paramaters... {'booster': 'gbtree', 'objective': 'binary:logistic', 'n_jobs': -1, 'random_state': 42, 'silent': True, 'learning_rate': 0.13550232424191588, 'max_depth': 8, 'n_estimators': 613}\n",
      "[14:07:59] WARNING: ../src/learner.cc:541: \n",
      "Parameters: { silent } might not be used.\n",
      "\n",
      "  This may not be accurate due to some parameters are only used in language bindings but\n",
      "  passed down to XGBoost core.  Or some parameters are not used but slip through this\n",
      "  verification. Please open an issue if you find above cases.\n",
      "\n",
      "\n"
     ]
    },
    {
     "name": "stderr",
     "output_type": "stream",
     "text": [
      "/home/marinamandarina_07/anaconda3/lib/python3.8/site-packages/xgboost/sklearn.py:888: UserWarning: The use of label encoder in XGBClassifier is deprecated and will be removed in a future release. To remove this warning, do the following: 1) Pass option use_label_encoder=False when constructing XGBClassifier object; and 2) Encode your labels (y) as integers starting with 0, i.e. 0, 1, 2, ..., [num_class - 1].\n",
      "  warnings.warn(label_encoder_deprecation_msg, UserWarning)\n",
      "/home/marinamandarina_07/anaconda3/lib/python3.8/site-packages/xgboost/sklearn.py:888: UserWarning: The use of label encoder in XGBClassifier is deprecated and will be removed in a future release. To remove this warning, do the following: 1) Pass option use_label_encoder=False when constructing XGBClassifier object; and 2) Encode your labels (y) as integers starting with 0, i.e. 0, 1, 2, ..., [num_class - 1].\n",
      "  warnings.warn(label_encoder_deprecation_msg, UserWarning)\n"
     ]
    },
    {
     "name": "stdout",
     "output_type": "stream",
     "text": [
      "AUC:  0.927713  of boosting iteration \n",
      "Iteration No: 3 ended. Evaluation done at random point.\n",
      "Time taken: 0.6022\n",
      "Function value obtained: -0.9277\n",
      "Current minimum: -0.9277\n",
      "Iteration No: 4 started. Evaluating function at random point.\n",
      "\n",
      "Testing next set of paramaters... {'booster': 'gbtree', 'objective': 'binary:logistic', 'n_jobs': -1, 'random_state': 42, 'silent': True, 'learning_rate': 0.9996018153922194, 'max_depth': 3, 'n_estimators': 672}\n",
      "[14:07:59] WARNING: ../src/learner.cc:541: \n",
      "Parameters: { silent } might not be used.\n",
      "\n",
      "  This may not be accurate due to some parameters are only used in language bindings but\n",
      "  passed down to XGBoost core.  Or some parameters are not used but slip through this\n",
      "  verification. Please open an issue if you find above cases.\n",
      "\n",
      "\n",
      "AUC:  0.923934  of boosting iteration \n",
      "Iteration No: 4 ended. Evaluation done at random point.\n",
      "Time taken: 0.1971\n",
      "Function value obtained: -0.9239\n",
      "Current minimum: -0.9277\n",
      "Iteration No: 5 started. Evaluating function at random point.\n",
      "\n",
      "Testing next set of paramaters..."
     ]
    },
    {
     "name": "stderr",
     "output_type": "stream",
     "text": [
      "/home/marinamandarina_07/anaconda3/lib/python3.8/site-packages/xgboost/sklearn.py:888: UserWarning: The use of label encoder in XGBClassifier is deprecated and will be removed in a future release. To remove this warning, do the following: 1) Pass option use_label_encoder=False when constructing XGBClassifier object; and 2) Encode your labels (y) as integers starting with 0, i.e. 0, 1, 2, ..., [num_class - 1].\n",
      "  warnings.warn(label_encoder_deprecation_msg, UserWarning)\n",
      "/home/marinamandarina_07/anaconda3/lib/python3.8/site-packages/xgboost/sklearn.py:888: UserWarning: The use of label encoder in XGBClassifier is deprecated and will be removed in a future release. To remove this warning, do the following: 1) Pass option use_label_encoder=False when constructing XGBClassifier object; and 2) Encode your labels (y) as integers starting with 0, i.e. 0, 1, 2, ..., [num_class - 1].\n",
      "  warnings.warn(label_encoder_deprecation_msg, UserWarning)\n"
     ]
    },
    {
     "name": "stdout",
     "output_type": "stream",
     "text": [
      " {'booster': 'gbtree', 'objective': 'binary:logistic', 'n_jobs': -1, 'random_state': 42, 'silent': True, 'learning_rate': 0.28802565545305925, 'max_depth': 9, 'n_estimators': 441}\n",
      "[14:08:00] WARNING: ../src/learner.cc:541: \n",
      "Parameters: { silent } might not be used.\n",
      "\n",
      "  This may not be accurate due to some parameters are only used in language bindings but\n",
      "  passed down to XGBoost core.  Or some parameters are not used but slip through this\n",
      "  verification. Please open an issue if you find above cases.\n",
      "\n",
      "\n",
      "AUC:  0.925402  of boosting iteration \n",
      "Iteration No: 5 ended. Evaluation done at random point.\n",
      "Time taken: 0.3516\n",
      "Function value obtained: -0.9254\n",
      "Current minimum: -0.9277\n",
      "Iteration No: 6 started. Evaluating function at random point.\n",
      "\n",
      "Testing next set of paramaters... {'booster': 'gbtree', 'objective': 'binary:logistic', 'n_jobs': -1, 'random_state': 42, 'silent': True, 'learning_rate': 0.15611790283261492, 'max_depth': 8, 'n_estimators': 802}\n",
      "[14:08:00] WARNING: ../src/learner.cc:541: \n",
      "Parameters: { silent } might not be used.\n",
      "\n",
      "  This may not be accurate due to some parameters are only used in language bindings but\n",
      "  passed down to XGBoost core.  Or some parameters are not used but slip through this\n",
      "  verification. Please open an issue if you find above cases.\n",
      "\n",
      "\n"
     ]
    },
    {
     "name": "stderr",
     "output_type": "stream",
     "text": [
      "/home/marinamandarina_07/anaconda3/lib/python3.8/site-packages/xgboost/sklearn.py:888: UserWarning: The use of label encoder in XGBClassifier is deprecated and will be removed in a future release. To remove this warning, do the following: 1) Pass option use_label_encoder=False when constructing XGBClassifier object; and 2) Encode your labels (y) as integers starting with 0, i.e. 0, 1, 2, ..., [num_class - 1].\n",
      "  warnings.warn(label_encoder_deprecation_msg, UserWarning)\n"
     ]
    },
    {
     "name": "stdout",
     "output_type": "stream",
     "text": [
      "AUC:  0.928003  of boosting iteration \n",
      "Iteration No: 6 ended. Evaluation done at random point.\n",
      "Time taken: 0.6676\n",
      "Function value obtained: -0.9280\n",
      "Current minimum: -0.9280\n",
      "Iteration No: 7 started. Evaluating function at random point.\n",
      "\n",
      "Testing next set of paramaters... {'booster': 'gbtree', 'objective': 'binary:logistic', 'n_jobs': -1, 'random_state': 42, 'silent': True, 'learning_rate': 0.13409869155637594, 'max_depth': 7, 'n_estimators': 429}\n",
      "[14:08:01] WARNING: ../src/learner.cc:541: \n",
      "Parameters: { silent } might not be used.\n",
      "\n",
      "  This may not be accurate due to some parameters are only used in language bindings but\n",
      "  passed down to XGBoost core.  Or some parameters are not used but slip through this\n",
      "  verification. Please open an issue if you find above cases.\n",
      "\n",
      "\n"
     ]
    },
    {
     "name": "stderr",
     "output_type": "stream",
     "text": [
      "/home/marinamandarina_07/anaconda3/lib/python3.8/site-packages/xgboost/sklearn.py:888: UserWarning: The use of label encoder in XGBClassifier is deprecated and will be removed in a future release. To remove this warning, do the following: 1) Pass option use_label_encoder=False when constructing XGBClassifier object; and 2) Encode your labels (y) as integers starting with 0, i.e. 0, 1, 2, ..., [num_class - 1].\n",
      "  warnings.warn(label_encoder_deprecation_msg, UserWarning)\n"
     ]
    },
    {
     "name": "stdout",
     "output_type": "stream",
     "text": [
      "AUC:  0.928476  of boosting iteration \n",
      "Iteration No: 7 ended. Evaluation done at random point.\n",
      "Time taken: 0.5570\n",
      "Function value obtained: -0.9285\n",
      "Current minimum: -0.9285\n",
      "Iteration No: 8 started. Evaluating function at random point.\n",
      "\n",
      "Testing next set of paramaters... {'booster': 'gbtree', 'objective': 'binary:logistic', 'n_jobs': -1, 'random_state': 42, 'silent': True, 'learning_rate': 0.3573510711431971, 'max_depth': 7, 'n_estimators': 810}\n",
      "[14:08:01] WARNING: ../src/learner.cc:541: \n",
      "Parameters: { silent } might not be used.\n",
      "\n",
      "  This may not be accurate due to some parameters are only used in language bindings but\n",
      "  passed down to XGBoost core.  Or some parameters are not used but slip through this\n",
      "  verification. Please open an issue if you find above cases.\n",
      "\n",
      "\n"
     ]
    },
    {
     "name": "stderr",
     "output_type": "stream",
     "text": [
      "/home/marinamandarina_07/anaconda3/lib/python3.8/site-packages/xgboost/sklearn.py:888: UserWarning: The use of label encoder in XGBClassifier is deprecated and will be removed in a future release. To remove this warning, do the following: 1) Pass option use_label_encoder=False when constructing XGBClassifier object; and 2) Encode your labels (y) as integers starting with 0, i.e. 0, 1, 2, ..., [num_class - 1].\n",
      "  warnings.warn(label_encoder_deprecation_msg, UserWarning)\n"
     ]
    },
    {
     "name": "stdout",
     "output_type": "stream",
     "text": [
      "AUC:  0.926979  of boosting iteration \n",
      "Iteration No: 8 ended. Evaluation done at random point.\n",
      "Time taken: 0.2496\n",
      "Function value obtained: -0.9270\n",
      "Current minimum: -0.9285\n",
      "Iteration No: 9 started. Evaluating function at random point.\n",
      "\n",
      "Testing next set of paramaters... {'booster': 'gbtree', 'objective': 'binary:logistic', 'n_jobs': -1, 'random_state': 42, 'silent': True, 'learning_rate': 0.6584000321144287, 'max_depth': 13, 'n_estimators': 949}\n",
      "[14:08:01] WARNING: ../src/learner.cc:541: \n",
      "Parameters: { silent } might not be used.\n",
      "\n",
      "  This may not be accurate due to some parameters are only used in language bindings but\n",
      "  passed down to XGBoost core.  Or some parameters are not used but slip through this\n",
      "  verification. Please open an issue if you find above cases.\n",
      "\n",
      "\n"
     ]
    },
    {
     "name": "stderr",
     "output_type": "stream",
     "text": [
      "/home/marinamandarina_07/anaconda3/lib/python3.8/site-packages/xgboost/sklearn.py:888: UserWarning: The use of label encoder in XGBClassifier is deprecated and will be removed in a future release. To remove this warning, do the following: 1) Pass option use_label_encoder=False when constructing XGBClassifier object; and 2) Encode your labels (y) as integers starting with 0, i.e. 0, 1, 2, ..., [num_class - 1].\n",
      "  warnings.warn(label_encoder_deprecation_msg, UserWarning)\n"
     ]
    },
    {
     "name": "stdout",
     "output_type": "stream",
     "text": [
      "AUC:  0.916903  of boosting iteration \n",
      "Iteration No: 9 ended. Evaluation done at random point.\n",
      "Time taken: 0.2600\n",
      "Function value obtained: -0.9169\n",
      "Current minimum: -0.9285\n",
      "Iteration No: 10 started. Evaluating function at random point.\n",
      "\n",
      "Testing next set of paramaters... {'booster': 'gbtree', 'objective': 'binary:logistic', 'n_jobs': -1, 'random_state': 42, 'silent': True, 'learning_rate': 0.6235881748770362, 'max_depth': 5, 'n_estimators': 948}\n",
      "[14:08:02] WARNING: ../src/learner.cc:541: \n",
      "Parameters: { silent } might not be used.\n",
      "\n",
      "  This may not be accurate due to some parameters are only used in language bindings but\n",
      "  passed down to XGBoost core.  Or some parameters are not used but slip through this\n",
      "  verification. Please open an issue if you find above cases.\n",
      "\n",
      "\n",
      "AUC:  0.925312  of boosting iteration \n"
     ]
    },
    {
     "name": "stderr",
     "output_type": "stream",
     "text": [
      "/home/marinamandarina_07/anaconda3/lib/python3.8/site-packages/xgboost/sklearn.py:888: UserWarning: The use of label encoder in XGBClassifier is deprecated and will be removed in a future release. To remove this warning, do the following: 1) Pass option use_label_encoder=False when constructing XGBClassifier object; and 2) Encode your labels (y) as integers starting with 0, i.e. 0, 1, 2, ..., [num_class - 1].\n",
      "  warnings.warn(label_encoder_deprecation_msg, UserWarning)\n"
     ]
    },
    {
     "name": "stdout",
     "output_type": "stream",
     "text": [
      "Iteration No: 10 ended. Evaluation done at random point.\n",
      "Time taken: 0.4735\n",
      "Function value obtained: -0.9253\n",
      "Current minimum: -0.9285\n",
      "Iteration No: 11 started. Searching for the next optimal point.\n",
      "\n",
      "Testing next set of paramaters... {'booster': 'gbtree', 'objective': 'binary:logistic', 'n_jobs': -1, 'random_state': 42, 'silent': True, 'learning_rate': 0.1020596894577565, 'max_depth': 3, 'n_estimators': 926}\n",
      "[14:08:02] WARNING: ../src/learner.cc:541: \n",
      "Parameters: { silent } might not be used.\n",
      "\n",
      "  This may not be accurate due to some parameters are only used in language bindings but\n",
      "  passed down to XGBoost core.  Or some parameters are not used but slip through this\n",
      "  verification. Please open an issue if you find above cases.\n",
      "\n",
      "\n"
     ]
    },
    {
     "name": "stderr",
     "output_type": "stream",
     "text": [
      "/home/marinamandarina_07/anaconda3/lib/python3.8/site-packages/xgboost/sklearn.py:888: UserWarning: The use of label encoder in XGBClassifier is deprecated and will be removed in a future release. To remove this warning, do the following: 1) Pass option use_label_encoder=False when constructing XGBClassifier object; and 2) Encode your labels (y) as integers starting with 0, i.e. 0, 1, 2, ..., [num_class - 1].\n",
      "  warnings.warn(label_encoder_deprecation_msg, UserWarning)\n"
     ]
    },
    {
     "name": "stdout",
     "output_type": "stream",
     "text": [
      "AUC:  0.925721  of boosting iteration \n",
      "Iteration No: 11 ended. Search finished for the next optimal point.\n",
      "Time taken: 0.8983\n",
      "Function value obtained: -0.9257\n",
      "Current minimum: -0.9285\n",
      "Iteration No: 12 started. Searching for the next optimal point.\n",
      "\n",
      "Testing next set of paramaters... {'booster': 'gbtree', 'objective': 'binary:logistic', 'n_jobs': -1, 'random_state': 42, 'silent': True, 'learning_rate': 0.10355086976953168, 'max_depth': 15, 'n_estimators': 707}\n",
      "[14:08:03] WARNING: ../src/learner.cc:541: \n",
      "Parameters: { silent } might not be used.\n",
      "\n",
      "  This may not be accurate due to some parameters are only used in language bindings but\n",
      "  passed down to XGBoost core.  Or some parameters are not used but slip through this\n",
      "  verification. Please open an issue if you find above cases.\n",
      "\n",
      "\n"
     ]
    },
    {
     "name": "stderr",
     "output_type": "stream",
     "text": [
      "/home/marinamandarina_07/anaconda3/lib/python3.8/site-packages/xgboost/sklearn.py:888: UserWarning: The use of label encoder in XGBClassifier is deprecated and will be removed in a future release. To remove this warning, do the following: 1) Pass option use_label_encoder=False when constructing XGBClassifier object; and 2) Encode your labels (y) as integers starting with 0, i.e. 0, 1, 2, ..., [num_class - 1].\n",
      "  warnings.warn(label_encoder_deprecation_msg, UserWarning)\n"
     ]
    },
    {
     "name": "stdout",
     "output_type": "stream",
     "text": [
      "AUC:  0.921941  of boosting iteration \n",
      "Iteration No: 12 ended. Search finished for the next optimal point.\n",
      "Time taken: 1.4212\n",
      "Function value obtained: -0.9219\n",
      "Current minimum: -0.9285\n",
      "Iteration No: 13 started. Searching for the next optimal point.\n",
      "\n",
      "Testing next set of paramaters... {'booster': 'gbtree', 'objective': 'binary:logistic', 'n_jobs': -1, 'random_state': 42, 'silent': True, 'learning_rate': 0.1, 'max_depth': 6, 'n_estimators': 1000}\n",
      "[14:08:04] WARNING: ../src/learner.cc:541: \n",
      "Parameters: { silent } might not be used.\n",
      "\n",
      "  This may not be accurate due to some parameters are only used in language bindings but\n",
      "  passed down to XGBoost core.  Or some parameters are not used but slip through this\n",
      "  verification. Please open an issue if you find above cases.\n",
      "\n",
      "\n"
     ]
    },
    {
     "name": "stderr",
     "output_type": "stream",
     "text": [
      "/home/marinamandarina_07/anaconda3/lib/python3.8/site-packages/xgboost/sklearn.py:888: UserWarning: The use of label encoder in XGBClassifier is deprecated and will be removed in a future release. To remove this warning, do the following: 1) Pass option use_label_encoder=False when constructing XGBClassifier object; and 2) Encode your labels (y) as integers starting with 0, i.e. 0, 1, 2, ..., [num_class - 1].\n",
      "  warnings.warn(label_encoder_deprecation_msg, UserWarning)\n"
     ]
    },
    {
     "name": "stdout",
     "output_type": "stream",
     "text": [
      "AUC:  0.928206  of boosting iteration \n",
      "Iteration No: 13 ended. Search finished for the next optimal point.\n",
      "Time taken: 0.9872\n",
      "Function value obtained: -0.9282\n",
      "Current minimum: -0.9285\n",
      "Iteration No: 14 started. Searching for the next optimal point.\n",
      "\n",
      "Testing next set of paramaters... {'booster': 'gbtree', 'objective': 'binary:logistic', 'n_jobs': -1, 'random_state': 42, 'silent': True, 'learning_rate': 0.999319996067456, 'max_depth': 15, 'n_estimators': 111}\n",
      "[14:08:05] WARNING: ../src/learner.cc:541: \n",
      "Parameters: { silent } might not be used.\n",
      "\n",
      "  This may not be accurate due to some parameters are only used in language bindings but\n",
      "  passed down to XGBoost core.  Or some parameters are not used but slip through this\n",
      "  verification. Please open an issue if you find above cases.\n",
      "\n",
      "\n"
     ]
    },
    {
     "name": "stderr",
     "output_type": "stream",
     "text": [
      "/home/marinamandarina_07/anaconda3/lib/python3.8/site-packages/xgboost/sklearn.py:888: UserWarning: The use of label encoder in XGBClassifier is deprecated and will be removed in a future release. To remove this warning, do the following: 1) Pass option use_label_encoder=False when constructing XGBClassifier object; and 2) Encode your labels (y) as integers starting with 0, i.e. 0, 1, 2, ..., [num_class - 1].\n",
      "  warnings.warn(label_encoder_deprecation_msg, UserWarning)\n"
     ]
    },
    {
     "name": "stdout",
     "output_type": "stream",
     "text": [
      "AUC:  0.914783  of boosting iteration \n",
      "Iteration No: 14 ended. Search finished for the next optimal point.\n",
      "Time taken: 0.5219\n",
      "Function value obtained: -0.9148\n",
      "Current minimum: -0.9285\n",
      "Iteration No: 15 started. Searching for the next optimal point.\n",
      "\n",
      "Testing next set of paramaters... {'booster': 'gbtree', 'objective': 'binary:logistic', 'n_jobs': -1, 'random_state': 42, 'silent': True, 'learning_rate': 0.4978236771431458, 'max_depth': 3, 'n_estimators': 200}\n",
      "[14:08:06] WARNING: ../src/learner.cc:541: \n",
      "Parameters: { silent } might not be used.\n",
      "\n",
      "  This may not be accurate due to some parameters are only used in language bindings but\n",
      "  passed down to XGBoost core.  Or some parameters are not used but slip through this\n",
      "  verification. Please open an issue if you find above cases.\n",
      "\n",
      "\n",
      "AUC:  0.925692  of boosting iteration \n"
     ]
    },
    {
     "name": "stderr",
     "output_type": "stream",
     "text": [
      "/home/marinamandarina_07/anaconda3/lib/python3.8/site-packages/xgboost/sklearn.py:888: UserWarning: The use of label encoder in XGBClassifier is deprecated and will be removed in a future release. To remove this warning, do the following: 1) Pass option use_label_encoder=False when constructing XGBClassifier object; and 2) Encode your labels (y) as integers starting with 0, i.e. 0, 1, 2, ..., [num_class - 1].\n",
      "  warnings.warn(label_encoder_deprecation_msg, UserWarning)\n"
     ]
    },
    {
     "name": "stdout",
     "output_type": "stream",
     "text": [
      "Iteration No: 15 ended. Search finished for the next optimal point.\n",
      "Time taken: 0.4705\n",
      "Function value obtained: -0.9257\n",
      "Current minimum: -0.9285\n",
      "Iteration No: 16 started. Searching for the next optimal point.\n",
      "\n",
      "Testing next set of paramaters... {'booster': 'gbtree', 'objective': 'binary:logistic', 'n_jobs': -1, 'random_state': 42, 'silent': True, 'learning_rate': 0.9984113902261872, 'max_depth': 11, 'n_estimators': 855}\n",
      "[14:08:06] WARNING: ../src/learner.cc:541: \n",
      "Parameters: { silent } might not be used.\n",
      "\n",
      "  This may not be accurate due to some parameters are only used in language bindings but\n",
      "  passed down to XGBoost core.  Or some parameters are not used but slip through this\n",
      "  verification. Please open an issue if you find above cases.\n",
      "\n",
      "\n"
     ]
    },
    {
     "name": "stderr",
     "output_type": "stream",
     "text": [
      "/home/marinamandarina_07/anaconda3/lib/python3.8/site-packages/xgboost/sklearn.py:888: UserWarning: The use of label encoder in XGBClassifier is deprecated and will be removed in a future release. To remove this warning, do the following: 1) Pass option use_label_encoder=False when constructing XGBClassifier object; and 2) Encode your labels (y) as integers starting with 0, i.e. 0, 1, 2, ..., [num_class - 1].\n",
      "  warnings.warn(label_encoder_deprecation_msg, UserWarning)\n"
     ]
    },
    {
     "name": "stdout",
     "output_type": "stream",
     "text": [
      "AUC:  0.915114  of boosting iteration \n",
      "Iteration No: 16 ended. Search finished for the next optimal point.\n",
      "Time taken: 0.5158\n",
      "Function value obtained: -0.9151\n",
      "Current minimum: -0.9285\n",
      "Iteration No: 17 started. Searching for the next optimal point.\n",
      "\n",
      "Testing next set of paramaters... {'booster': 'gbtree', 'objective': 'binary:logistic', 'n_jobs': -1, 'random_state': 42, 'silent': True, 'learning_rate': 0.9996740731511043, 'max_depth': 5, 'n_estimators': 367}\n",
      "[14:08:07] WARNING: ../src/learner.cc:541: \n",
      "Parameters: { silent } might not be used.\n",
      "\n",
      "  This may not be accurate due to some parameters are only used in language bindings but\n",
      "  passed down to XGBoost core.  Or some parameters are not used but slip through this\n",
      "  verification. Please open an issue if you find above cases.\n",
      "\n",
      "\n",
      "AUC:  0.92148  of boosting iteration \n"
     ]
    },
    {
     "name": "stderr",
     "output_type": "stream",
     "text": [
      "/home/marinamandarina_07/anaconda3/lib/python3.8/site-packages/xgboost/sklearn.py:888: UserWarning: The use of label encoder in XGBClassifier is deprecated and will be removed in a future release. To remove this warning, do the following: 1) Pass option use_label_encoder=False when constructing XGBClassifier object; and 2) Encode your labels (y) as integers starting with 0, i.e. 0, 1, 2, ..., [num_class - 1].\n",
      "  warnings.warn(label_encoder_deprecation_msg, UserWarning)\n"
     ]
    },
    {
     "name": "stdout",
     "output_type": "stream",
     "text": [
      "Iteration No: 17 ended. Search finished for the next optimal point.\n",
      "Time taken: 0.5499\n",
      "Function value obtained: -0.9215\n",
      "Current minimum: -0.9285\n",
      "Iteration No: 18 started. Searching for the next optimal point.\n",
      "\n",
      "Testing next set of paramaters... {'booster': 'gbtree', 'objective': 'binary:logistic', 'n_jobs': -1, 'random_state': 42, 'silent': True, 'learning_rate': 0.1000462247463913, 'max_depth': 13, 'n_estimators': 669}\n",
      "[14:08:07] WARNING: ../src/learner.cc:541: \n",
      "Parameters: { silent } might not be used.\n",
      "\n",
      "  This may not be accurate due to some parameters are only used in language bindings but\n",
      "  passed down to XGBoost core.  Or some parameters are not used but slip through this\n",
      "  verification. Please open an issue if you find above cases.\n",
      "\n",
      "\n"
     ]
    },
    {
     "name": "stderr",
     "output_type": "stream",
     "text": [
      "/home/marinamandarina_07/anaconda3/lib/python3.8/site-packages/xgboost/sklearn.py:888: UserWarning: The use of label encoder in XGBClassifier is deprecated and will be removed in a future release. To remove this warning, do the following: 1) Pass option use_label_encoder=False when constructing XGBClassifier object; and 2) Encode your labels (y) as integers starting with 0, i.e. 0, 1, 2, ..., [num_class - 1].\n",
      "  warnings.warn(label_encoder_deprecation_msg, UserWarning)\n"
     ]
    },
    {
     "name": "stdout",
     "output_type": "stream",
     "text": [
      "AUC:  0.92353  of boosting iteration \n",
      "Iteration No: 18 ended. Search finished for the next optimal point.\n",
      "Time taken: 1.5491\n",
      "Function value obtained: -0.9235\n",
      "Current minimum: -0.9285\n",
      "Iteration No: 19 started. Searching for the next optimal point.\n",
      "\n",
      "Testing next set of paramaters... {'booster': 'gbtree', 'objective': 'binary:logistic', 'n_jobs': -1, 'random_state': 42, 'silent': True, 'learning_rate': 0.4897804945684179, 'max_depth': 15, 'n_estimators': 193}\n",
      "[14:08:09] WARNING: ../src/learner.cc:541: \n",
      "Parameters: { silent } might not be used.\n",
      "\n",
      "  This may not be accurate due to some parameters are only used in language bindings but\n",
      "  passed down to XGBoost core.  Or some parameters are not used but slip through this\n",
      "  verification. Please open an issue if you find above cases.\n",
      "\n",
      "\n"
     ]
    },
    {
     "name": "stderr",
     "output_type": "stream",
     "text": [
      "/home/marinamandarina_07/anaconda3/lib/python3.8/site-packages/xgboost/sklearn.py:888: UserWarning: The use of label encoder in XGBClassifier is deprecated and will be removed in a future release. To remove this warning, do the following: 1) Pass option use_label_encoder=False when constructing XGBClassifier object; and 2) Encode your labels (y) as integers starting with 0, i.e. 0, 1, 2, ..., [num_class - 1].\n",
      "  warnings.warn(label_encoder_deprecation_msg, UserWarning)\n"
     ]
    },
    {
     "name": "stdout",
     "output_type": "stream",
     "text": [
      "AUC:  0.916986  of boosting iteration \n",
      "Iteration No: 19 ended. Search finished for the next optimal point.\n",
      "Time taken: 0.8102\n",
      "Function value obtained: -0.9170\n",
      "Current minimum: -0.9285\n",
      "Iteration No: 20 started. Searching for the next optimal point.\n",
      "\n",
      "Testing next set of paramaters... {'booster': 'gbtree', 'objective': 'binary:logistic', 'n_jobs': -1, 'random_state': 42, 'silent': True, 'learning_rate': 0.1, 'max_depth': 7, 'n_estimators': 100}\n",
      "[14:08:10] WARNING: ../src/learner.cc:541: \n",
      "Parameters: { silent } might not be used.\n",
      "\n",
      "  This may not be accurate due to some parameters are only used in language bindings but\n",
      "  passed down to XGBoost core.  Or some parameters are not used but slip through this\n",
      "  verification. Please open an issue if you find above cases.\n",
      "\n",
      "\n"
     ]
    },
    {
     "name": "stderr",
     "output_type": "stream",
     "text": [
      "/home/marinamandarina_07/anaconda3/lib/python3.8/site-packages/xgboost/sklearn.py:888: UserWarning: The use of label encoder in XGBClassifier is deprecated and will be removed in a future release. To remove this warning, do the following: 1) Pass option use_label_encoder=False when constructing XGBClassifier object; and 2) Encode your labels (y) as integers starting with 0, i.e. 0, 1, 2, ..., [num_class - 1].\n",
      "  warnings.warn(label_encoder_deprecation_msg, UserWarning)\n"
     ]
    },
    {
     "name": "stdout",
     "output_type": "stream",
     "text": [
      "AUC:  0.928078  of boosting iteration \n",
      "Iteration No: 20 ended. Search finished for the next optimal point.\n",
      "Time taken: 0.9127\n",
      "Function value obtained: -0.9281\n",
      "Current minimum: -0.9285\n",
      "Iteration No: 1 started. Evaluating function at random point.\n",
      "\n",
      "Testing next set of paramaters... {'seed': 42, 'verbose': True, 'gamma': 1.8582325717022903, 'lambda_sparse': 0.003944753423342207, 'n_steps': 10, 'n_a': 16, 'n_d': 16}\n",
      "Device used : cpu\n",
      "epoch 0  | loss: 0.73234 | val_0_auc: 0.53651 |  0:00:06s\n",
      "epoch 1  | loss: 0.49668 | val_0_auc: 0.65552 |  0:00:12s\n",
      "epoch 2  | loss: 0.44088 | val_0_auc: 0.56899 |  0:00:18s\n",
      "epoch 3  | loss: 0.40695 | val_0_auc: 0.75849 |  0:00:24s\n",
      "epoch 4  | loss: 0.38764 | val_0_auc: 0.79179 |  0:00:31s\n",
      "epoch 5  | loss: 0.376   | val_0_auc: 0.78999 |  0:00:37s\n",
      "epoch 6  | loss: 0.38541 | val_0_auc: 0.83451 |  0:00:43s\n",
      "epoch 7  | loss: 0.39322 | val_0_auc: 0.84269 |  0:00:49s\n",
      "epoch 8  | loss: 0.40319 | val_0_auc: 0.84299 |  0:00:56s\n",
      "epoch 9  | loss: 0.41124 | val_0_auc: 0.84578 |  0:01:02s\n",
      "epoch 10 | loss: 0.39927 | val_0_auc: 0.85875 |  0:01:08s\n",
      "epoch 11 | loss: 0.39332 | val_0_auc: 0.86255 |  0:01:14s\n",
      "epoch 12 | loss: 0.37928 | val_0_auc: 0.87172 |  0:01:21s\n",
      "epoch 13 | loss: 0.37832 | val_0_auc: 0.86704 |  0:01:27s\n",
      "epoch 14 | loss: 0.37904 | val_0_auc: 0.87007 |  0:01:33s\n",
      "epoch 15 | loss: 0.37241 | val_0_auc: 0.87477 |  0:01:40s\n",
      "epoch 16 | loss: 0.37191 | val_0_auc: 0.8756  |  0:01:46s\n",
      "epoch 17 | loss: 0.36618 | val_0_auc: 0.8773  |  0:01:52s\n",
      "epoch 18 | loss: 0.36929 | val_0_auc: 0.87332 |  0:01:58s\n",
      "epoch 19 | loss: 0.36474 | val_0_auc: 0.88252 |  0:02:04s\n",
      "epoch 20 | loss: 0.37058 | val_0_auc: 0.8684  |  0:02:10s\n",
      "epoch 21 | loss: 0.37863 | val_0_auc: 0.8805  |  0:02:17s\n",
      "epoch 22 | loss: 0.36295 | val_0_auc: 0.87903 |  0:02:23s\n",
      "epoch 23 | loss: 0.35824 | val_0_auc: 0.88428 |  0:02:29s\n",
      "epoch 24 | loss: 0.35488 | val_0_auc: 0.88766 |  0:02:35s\n",
      "epoch 25 | loss: 0.35139 | val_0_auc: 0.88859 |  0:02:41s\n",
      "epoch 26 | loss: 0.34979 | val_0_auc: 0.88969 |  0:02:48s\n",
      "epoch 27 | loss: 0.35075 | val_0_auc: 0.88615 |  0:02:54s\n",
      "epoch 28 | loss: 0.35066 | val_0_auc: 0.88792 |  0:03:00s\n",
      "epoch 29 | loss: 0.3491  | val_0_auc: 0.88457 |  0:03:06s\n",
      "Stop training because you reached max_epochs = 30 with best_epoch = 26 and best_val_0_auc = 0.88969\n",
      "Best weights from best epoch are automatically used!\n",
      "AUC:  0.889686  of boosting iteration \n",
      "Iteration No: 1 ended. Evaluation done at random point.\n",
      "Time taken: 188.3995\n",
      "Function value obtained: -0.8897\n",
      "Current minimum: -0.8897\n",
      "Iteration No: 2 started. Evaluating function at random point.\n",
      "\n",
      "Testing next set of paramaters... {'seed': 42, 'verbose': True, 'gamma': 1.2902206407617043, 'lambda_sparse': 0.07385338291448974, 'n_steps': 5, 'n_a': 48, 'n_d': 48}\n",
      "Device used : cpu\n",
      "epoch 0  | loss: 0.61917 | val_0_auc: 0.54465 |  0:00:05s\n",
      "epoch 1  | loss: 0.44218 | val_0_auc: 0.73829 |  0:00:10s\n",
      "epoch 2  | loss: 0.41747 | val_0_auc: 0.77366 |  0:00:15s\n",
      "epoch 3  | loss: 0.39654 | val_0_auc: 0.72332 |  0:00:20s\n",
      "epoch 4  | loss: 0.39155 | val_0_auc: 0.77549 |  0:00:25s\n",
      "epoch 5  | loss: 0.38576 | val_0_auc: 0.78476 |  0:00:30s\n",
      "epoch 6  | loss: 0.38123 | val_0_auc: 0.80597 |  0:00:35s\n",
      "epoch 7  | loss: 0.3904  | val_0_auc: 0.82317 |  0:00:40s\n",
      "epoch 8  | loss: 0.38754 | val_0_auc: 0.83672 |  0:00:45s\n",
      "epoch 9  | loss: 0.37914 | val_0_auc: 0.85557 |  0:00:50s\n",
      "epoch 10 | loss: 0.37532 | val_0_auc: 0.86312 |  0:00:57s\n",
      "epoch 11 | loss: 0.37875 | val_0_auc: 0.87452 |  0:01:08s\n",
      "epoch 12 | loss: 0.38098 | val_0_auc: 0.87815 |  0:01:22s\n",
      "epoch 13 | loss: 0.37326 | val_0_auc: 0.88016 |  0:01:36s\n",
      "epoch 14 | loss: 0.3692  | val_0_auc: 0.88108 |  0:01:50s\n",
      "epoch 15 | loss: 0.3649  | val_0_auc: 0.87782 |  0:02:04s\n",
      "epoch 16 | loss: 0.37792 | val_0_auc: 0.87201 |  0:02:17s\n",
      "epoch 17 | loss: 0.37421 | val_0_auc: 0.87775 |  0:02:31s\n",
      "epoch 18 | loss: 0.36624 | val_0_auc: 0.8839  |  0:02:45s\n",
      "epoch 19 | loss: 0.36726 | val_0_auc: 0.87826 |  0:02:58s\n",
      "epoch 20 | loss: 0.36138 | val_0_auc: 0.88171 |  0:03:11s\n",
      "epoch 21 | loss: 0.3607  | val_0_auc: 0.88716 |  0:03:25s\n",
      "epoch 22 | loss: 0.3604  | val_0_auc: 0.89069 |  0:03:39s\n",
      "epoch 23 | loss: 0.36072 | val_0_auc: 0.88457 |  0:03:53s\n",
      "epoch 24 | loss: 0.35651 | val_0_auc: 0.88834 |  0:04:06s\n",
      "epoch 25 | loss: 0.35613 | val_0_auc: 0.88758 |  0:04:20s\n",
      "epoch 26 | loss: 0.35074 | val_0_auc: 0.88653 |  0:04:34s\n",
      "epoch 27 | loss: 0.35088 | val_0_auc: 0.88977 |  0:04:48s\n",
      "epoch 28 | loss: 0.34604 | val_0_auc: 0.89229 |  0:05:01s\n",
      "epoch 29 | loss: 0.34387 | val_0_auc: 0.89268 |  0:05:15s\n",
      "Stop training because you reached max_epochs = 30 with best_epoch = 29 and best_val_0_auc = 0.89268\n",
      "Best weights from best epoch are automatically used!\n",
      "AUC:  0.89268  of boosting iteration \n",
      "Iteration No: 2 ended. Evaluation done at random point.\n",
      "Time taken: 318.7791\n",
      "Function value obtained: -0.8927\n",
      "Current minimum: -0.8927\n",
      "Iteration No: 3 started. Evaluating function at random point.\n",
      "\n",
      "Testing next set of paramaters... {'seed': 42, 'verbose': True, 'gamma': 1.2590287036264607, 'lambda_sparse': 0.0964303799529634, 'n_steps': 3, 'n_a': 24, 'n_d': 24}\n",
      "Device used : cpu\n",
      "epoch 0  | loss: 0.57294 | val_0_auc: 0.50162 |  0:00:06s\n",
      "epoch 1  | loss: 0.44148 | val_0_auc: 0.7363  |  0:00:13s\n",
      "epoch 2  | loss: 0.40861 | val_0_auc: 0.70855 |  0:00:20s\n",
      "epoch 3  | loss: 0.40097 | val_0_auc: 0.78681 |  0:00:27s\n",
      "epoch 4  | loss: 0.39652 | val_0_auc: 0.81694 |  0:00:34s\n",
      "epoch 5  | loss: 0.3885  | val_0_auc: 0.82804 |  0:00:41s\n",
      "epoch 6  | loss: 0.39302 | val_0_auc: 0.84727 |  0:00:48s\n",
      "epoch 7  | loss: 0.38631 | val_0_auc: 0.86515 |  0:00:55s\n",
      "epoch 8  | loss: 0.37844 | val_0_auc: 0.86524 |  0:01:02s\n",
      "epoch 9  | loss: 0.37555 | val_0_auc: 0.86557 |  0:01:09s\n",
      "epoch 10 | loss: 0.37296 | val_0_auc: 0.8762  |  0:01:17s\n",
      "epoch 11 | loss: 0.37161 | val_0_auc: 0.87079 |  0:01:23s\n",
      "epoch 12 | loss: 0.37227 | val_0_auc: 0.874   |  0:01:31s\n",
      "epoch 13 | loss: 0.37052 | val_0_auc: 0.87151 |  0:01:37s\n",
      "epoch 14 | loss: 0.3718  | val_0_auc: 0.87711 |  0:01:44s\n",
      "epoch 15 | loss: 0.36831 | val_0_auc: 0.87364 |  0:01:51s\n",
      "epoch 16 | loss: 0.36858 | val_0_auc: 0.87962 |  0:01:58s\n",
      "epoch 17 | loss: 0.36377 | val_0_auc: 0.88017 |  0:02:05s\n",
      "epoch 18 | loss: 0.36531 | val_0_auc: 0.88174 |  0:02:12s\n",
      "epoch 19 | loss: 0.36261 | val_0_auc: 0.87807 |  0:02:18s\n",
      "epoch 20 | loss: 0.36307 | val_0_auc: 0.879   |  0:02:25s\n",
      "epoch 21 | loss: 0.36321 | val_0_auc: 0.87628 |  0:02:32s\n",
      "epoch 22 | loss: 0.36306 | val_0_auc: 0.87614 |  0:02:39s\n",
      "epoch 23 | loss: 0.36362 | val_0_auc: 0.8813  |  0:02:46s\n",
      "epoch 24 | loss: 0.36151 | val_0_auc: 0.8765  |  0:02:52s\n",
      "epoch 25 | loss: 0.35817 | val_0_auc: 0.87794 |  0:02:59s\n",
      "epoch 26 | loss: 0.36095 | val_0_auc: 0.87419 |  0:03:06s\n",
      "epoch 27 | loss: 0.36129 | val_0_auc: 0.87991 |  0:03:13s\n",
      "epoch 28 | loss: 0.35772 | val_0_auc: 0.87429 |  0:03:20s\n",
      "\n",
      "Early stopping occurred at epoch 28 with best_epoch = 18 and best_val_0_auc = 0.88174\n",
      "Best weights from best epoch are automatically used!\n",
      "AUC:  0.881737  of boosting iteration \n",
      "Iteration No: 3 ended. Evaluation done at random point.\n",
      "Time taken: 202.0919\n",
      "Function value obtained: -0.8817\n",
      "Current minimum: -0.8927\n",
      "Iteration No: 4 started. Evaluating function at random point.\n",
      "\n",
      "Testing next set of paramaters... {'seed': 42, 'verbose': True, 'gamma': 1.9120243608633047, 'lambda_sparse': 0.07114188308445338, 'n_steps': 6, 'n_a': 64, 'n_d': 64}\n",
      "Device used : cpu\n",
      "epoch 0  | loss: 0.70059 | val_0_auc: 0.65548 |  0:00:19s\n",
      "epoch 1  | loss: 0.44655 | val_0_auc: 0.53989 |  0:00:39s\n",
      "epoch 2  | loss: 0.41354 | val_0_auc: 0.49831 |  0:00:58s\n",
      "epoch 3  | loss: 0.3916  | val_0_auc: 0.59098 |  0:01:17s\n",
      "epoch 4  | loss: 0.38883 | val_0_auc: 0.77032 |  0:01:36s\n",
      "epoch 5  | loss: 0.38952 | val_0_auc: 0.7782  |  0:01:55s\n",
      "epoch 6  | loss: 0.39473 | val_0_auc: 0.83115 |  0:02:14s\n",
      "epoch 7  | loss: 0.40099 | val_0_auc: 0.82848 |  0:02:34s\n",
      "epoch 8  | loss: 0.40494 | val_0_auc: 0.85053 |  0:02:54s\n",
      "epoch 9  | loss: 0.39415 | val_0_auc: 0.85881 |  0:03:14s\n",
      "epoch 10 | loss: 0.39207 | val_0_auc: 0.85506 |  0:03:33s\n",
      "epoch 11 | loss: 0.38789 | val_0_auc: 0.86425 |  0:03:52s\n",
      "epoch 12 | loss: 0.3806  | val_0_auc: 0.87079 |  0:04:12s\n",
      "epoch 13 | loss: 0.38268 | val_0_auc: 0.86519 |  0:04:32s\n",
      "epoch 14 | loss: 0.37831 | val_0_auc: 0.86621 |  0:04:52s\n",
      "epoch 15 | loss: 0.37787 | val_0_auc: 0.85672 |  0:05:12s\n"
     ]
    },
    {
     "name": "stdout",
     "output_type": "stream",
     "text": [
      "epoch 16 | loss: 0.3826  | val_0_auc: 0.86069 |  0:05:32s\n",
      "epoch 17 | loss: 0.37512 | val_0_auc: 0.86676 |  0:05:51s\n",
      "epoch 18 | loss: 0.37579 | val_0_auc: 0.87034 |  0:06:11s\n",
      "epoch 19 | loss: 0.37847 | val_0_auc: 0.86391 |  0:06:30s\n",
      "epoch 20 | loss: 0.37103 | val_0_auc: 0.87225 |  0:06:50s\n",
      "epoch 21 | loss: 0.36957 | val_0_auc: 0.87376 |  0:07:10s\n",
      "epoch 22 | loss: 0.36933 | val_0_auc: 0.86758 |  0:07:30s\n",
      "epoch 23 | loss: 0.36571 | val_0_auc: 0.8714  |  0:07:50s\n",
      "epoch 24 | loss: 0.36259 | val_0_auc: 0.86988 |  0:08:09s\n",
      "epoch 25 | loss: 0.35884 | val_0_auc: 0.87799 |  0:08:29s\n",
      "epoch 26 | loss: 0.36124 | val_0_auc: 0.87255 |  0:08:49s\n",
      "epoch 27 | loss: 0.3607  | val_0_auc: 0.86874 |  0:09:09s\n",
      "epoch 28 | loss: 0.36316 | val_0_auc: 0.87337 |  0:09:28s\n",
      "epoch 29 | loss: 0.36106 | val_0_auc: 0.87423 |  0:09:48s\n",
      "Stop training because you reached max_epochs = 30 with best_epoch = 25 and best_val_0_auc = 0.87799\n",
      "Best weights from best epoch are automatically used!\n",
      "AUC:  0.877993  of boosting iteration \n",
      "Iteration No: 4 ended. Evaluation done at random point.\n",
      "Time taken: 592.7601\n",
      "Function value obtained: -0.8780\n",
      "Current minimum: -0.8927\n",
      "Iteration No: 5 started. Evaluating function at random point.\n",
      "\n",
      "Testing next set of paramaters... {'seed': 42, 'verbose': True, 'gamma': 1.2804945367137772, 'lambda_sparse': 0.09139269443614799, 'n_steps': 8, 'n_a': 16, 'n_d': 16}\n",
      "Device used : cpu\n",
      "epoch 0  | loss: 0.75235 | val_0_auc: 0.61649 |  0:00:13s\n",
      "epoch 1  | loss: 0.46694 | val_0_auc: 0.57362 |  0:00:27s\n",
      "epoch 2  | loss: 0.42697 | val_0_auc: 0.7058  |  0:00:40s\n",
      "epoch 3  | loss: 0.4215  | val_0_auc: 0.79667 |  0:00:53s\n",
      "epoch 4  | loss: 0.41129 | val_0_auc: 0.78796 |  0:01:06s\n",
      "epoch 5  | loss: 0.4058  | val_0_auc: 0.83187 |  0:01:19s\n",
      "epoch 6  | loss: 0.39825 | val_0_auc: 0.84434 |  0:01:32s\n",
      "epoch 7  | loss: 0.38816 | val_0_auc: 0.85185 |  0:01:45s\n",
      "epoch 8  | loss: 0.38325 | val_0_auc: 0.87183 |  0:01:57s\n",
      "epoch 9  | loss: 0.39161 | val_0_auc: 0.87586 |  0:02:10s\n",
      "epoch 10 | loss: 0.38187 | val_0_auc: 0.87801 |  0:02:22s\n",
      "epoch 11 | loss: 0.37169 | val_0_auc: 0.88144 |  0:02:34s\n",
      "epoch 12 | loss: 0.37431 | val_0_auc: 0.88762 |  0:02:47s\n",
      "epoch 13 | loss: 0.37126 | val_0_auc: 0.88514 |  0:02:59s\n",
      "epoch 14 | loss: 0.36654 | val_0_auc: 0.89507 |  0:03:11s\n",
      "epoch 15 | loss: 0.35725 | val_0_auc: 0.89468 |  0:03:23s\n",
      "epoch 16 | loss: 0.3583  | val_0_auc: 0.89432 |  0:03:36s\n",
      "epoch 17 | loss: 0.36154 | val_0_auc: 0.88764 |  0:03:48s\n",
      "epoch 18 | loss: 0.36762 | val_0_auc: 0.88961 |  0:04:01s\n",
      "epoch 19 | loss: 0.36582 | val_0_auc: 0.89248 |  0:04:13s\n",
      "epoch 20 | loss: 0.36169 | val_0_auc: 0.89155 |  0:04:25s\n",
      "epoch 21 | loss: 0.35972 | val_0_auc: 0.88831 |  0:04:38s\n",
      "epoch 22 | loss: 0.36364 | val_0_auc: 0.88755 |  0:04:50s\n",
      "epoch 23 | loss: 0.3538  | val_0_auc: 0.89119 |  0:05:02s\n",
      "epoch 24 | loss: 0.35445 | val_0_auc: 0.8893  |  0:05:14s\n",
      "\n",
      "Early stopping occurred at epoch 24 with best_epoch = 14 and best_val_0_auc = 0.89507\n",
      "Best weights from best epoch are automatically used!\n",
      "AUC:  0.895066  of boosting iteration \n",
      "Iteration No: 5 ended. Evaluation done at random point.\n",
      "Time taken: 317.4948\n",
      "Function value obtained: -0.8951\n",
      "Current minimum: -0.8951\n",
      "Iteration No: 6 started. Evaluating function at random point.\n",
      "\n",
      "Testing next set of paramaters... {'seed': 42, 'verbose': True, 'gamma': 1.4814261253955472, 'lambda_sparse': 0.016786650634552185, 'n_steps': 9, 'n_a': 32, 'n_d': 32}\n",
      "Device used : cpu\n",
      "epoch 0  | loss: 0.61707 | val_0_auc: 0.41235 |  0:00:17s\n",
      "epoch 1  | loss: 0.45943 | val_0_auc: 0.61877 |  0:00:36s\n",
      "epoch 2  | loss: 0.3942  | val_0_auc: 0.55137 |  0:00:57s\n",
      "epoch 3  | loss: 0.38266 | val_0_auc: 0.7604  |  0:01:16s\n",
      "epoch 4  | loss: 0.40136 | val_0_auc: 0.78743 |  0:01:36s\n",
      "epoch 5  | loss: 0.38165 | val_0_auc: 0.80911 |  0:01:55s\n",
      "epoch 6  | loss: 0.37493 | val_0_auc: 0.83534 |  0:02:15s\n",
      "epoch 7  | loss: 0.36789 | val_0_auc: 0.8388  |  0:02:35s\n",
      "epoch 8  | loss: 0.36468 | val_0_auc: 0.86018 |  0:02:54s\n",
      "epoch 9  | loss: 0.37252 | val_0_auc: 0.86271 |  0:03:14s\n",
      "epoch 10 | loss: 0.36563 | val_0_auc: 0.87502 |  0:03:34s\n",
      "epoch 11 | loss: 0.35539 | val_0_auc: 0.87763 |  0:03:53s\n",
      "epoch 12 | loss: 0.36646 | val_0_auc: 0.88556 |  0:04:13s\n",
      "epoch 13 | loss: 0.35522 | val_0_auc: 0.88504 |  0:04:32s\n",
      "epoch 14 | loss: 0.3554  | val_0_auc: 0.88497 |  0:04:51s\n",
      "epoch 15 | loss: 0.35507 | val_0_auc: 0.89047 |  0:05:10s\n",
      "epoch 16 | loss: 0.35295 | val_0_auc: 0.88385 |  0:05:29s\n",
      "epoch 17 | loss: 0.35301 | val_0_auc: 0.88782 |  0:05:49s\n",
      "epoch 18 | loss: 0.35108 | val_0_auc: 0.88764 |  0:06:09s\n",
      "epoch 19 | loss: 0.35306 | val_0_auc: 0.88773 |  0:06:29s\n",
      "epoch 20 | loss: 0.35046 | val_0_auc: 0.88812 |  0:06:49s\n",
      "epoch 21 | loss: 0.35065 | val_0_auc: 0.89163 |  0:07:08s\n",
      "epoch 22 | loss: 0.3506  | val_0_auc: 0.89337 |  0:07:20s\n",
      "epoch 23 | loss: 0.3438  | val_0_auc: 0.89496 |  0:07:27s\n",
      "epoch 24 | loss: 0.3429  | val_0_auc: 0.89472 |  0:07:34s\n",
      "epoch 25 | loss: 0.34508 | val_0_auc: 0.89245 |  0:07:41s\n",
      "epoch 26 | loss: 0.34546 | val_0_auc: 0.88311 |  0:07:48s\n",
      "epoch 27 | loss: 0.34632 | val_0_auc: 0.89014 |  0:07:56s\n",
      "epoch 28 | loss: 0.34294 | val_0_auc: 0.89384 |  0:08:03s\n",
      "epoch 29 | loss: 0.34285 | val_0_auc: 0.89551 |  0:08:10s\n",
      "Stop training because you reached max_epochs = 30 with best_epoch = 29 and best_val_0_auc = 0.89551\n",
      "Best weights from best epoch are automatically used!\n",
      "AUC:  0.895508  of boosting iteration \n",
      "Iteration No: 6 ended. Evaluation done at random point.\n",
      "Time taken: 492.4756\n",
      "Function value obtained: -0.8955\n",
      "Current minimum: -0.8955\n",
      "Iteration No: 7 started. Evaluating function at random point.\n",
      "\n",
      "Testing next set of paramaters... {'seed': 42, 'verbose': True, 'gamma': 1.4571619704512286, 'lambda_sparse': 0.07217674486545664, 'n_steps': 7, 'n_a': 40, 'n_d': 40}\n",
      "Device used : cpu\n",
      "epoch 0  | loss: 0.57887 | val_0_auc: 0.57518 |  0:00:06s\n",
      "epoch 1  | loss: 0.47277 | val_0_auc: 0.56691 |  0:00:12s\n",
      "epoch 2  | loss: 0.44226 | val_0_auc: 0.68786 |  0:00:18s\n",
      "epoch 3  | loss: 0.4116  | val_0_auc: 0.72497 |  0:00:24s\n",
      "epoch 4  | loss: 0.39092 | val_0_auc: 0.78957 |  0:00:30s\n",
      "epoch 5  | loss: 0.39384 | val_0_auc: 0.80282 |  0:00:36s\n",
      "epoch 6  | loss: 0.39419 | val_0_auc: 0.83237 |  0:00:42s\n",
      "epoch 7  | loss: 0.38745 | val_0_auc: 0.83223 |  0:00:48s\n",
      "epoch 8  | loss: 0.38402 | val_0_auc: 0.83974 |  0:00:54s\n",
      "epoch 9  | loss: 0.38567 | val_0_auc: 0.85521 |  0:01:00s\n",
      "epoch 10 | loss: 0.37777 | val_0_auc: 0.86444 |  0:01:06s\n",
      "epoch 11 | loss: 0.37599 | val_0_auc: 0.87515 |  0:01:13s\n",
      "epoch 12 | loss: 0.37202 | val_0_auc: 0.88026 |  0:01:19s\n",
      "epoch 13 | loss: 0.36799 | val_0_auc: 0.8817  |  0:01:25s\n",
      "epoch 14 | loss: 0.36393 | val_0_auc: 0.87762 |  0:01:31s\n",
      "epoch 15 | loss: 0.35658 | val_0_auc: 0.88111 |  0:01:37s\n",
      "epoch 16 | loss: 0.35298 | val_0_auc: 0.89275 |  0:01:43s\n",
      "epoch 17 | loss: 0.35721 | val_0_auc: 0.88942 |  0:01:49s\n",
      "epoch 18 | loss: 0.34717 | val_0_auc: 0.8931  |  0:01:55s\n",
      "epoch 19 | loss: 0.3488  | val_0_auc: 0.88947 |  0:02:01s\n",
      "epoch 20 | loss: 0.34378 | val_0_auc: 0.89107 |  0:02:07s\n",
      "epoch 21 | loss: 0.34933 | val_0_auc: 0.88795 |  0:02:13s\n",
      "epoch 22 | loss: 0.34694 | val_0_auc: 0.89446 |  0:02:19s\n",
      "epoch 23 | loss: 0.33993 | val_0_auc: 0.89269 |  0:02:25s\n",
      "epoch 24 | loss: 0.34096 | val_0_auc: 0.89358 |  0:02:31s\n",
      "epoch 25 | loss: 0.338   | val_0_auc: 0.89501 |  0:02:38s\n",
      "epoch 26 | loss: 0.35238 | val_0_auc: 0.8875  |  0:02:44s\n",
      "epoch 27 | loss: 0.34701 | val_0_auc: 0.891   |  0:02:50s\n",
      "epoch 28 | loss: 0.34331 | val_0_auc: 0.88708 |  0:02:56s\n",
      "epoch 29 | loss: 0.34115 | val_0_auc: 0.89184 |  0:03:02s\n",
      "Stop training because you reached max_epochs = 30 with best_epoch = 25 and best_val_0_auc = 0.89501\n",
      "Best weights from best epoch are automatically used!\n",
      "AUC:  0.895014  of boosting iteration \n",
      "Iteration No: 7 ended. Evaluation done at random point.\n",
      "Time taken: 183.7541\n",
      "Function value obtained: -0.8950\n",
      "Current minimum: -0.8955\n",
      "Iteration No: 8 started. Evaluating function at random point.\n",
      "\n",
      "Testing next set of paramaters... {'seed': 42, 'verbose': True, 'gamma': 1.9900487083151042, 'lambda_sparse': 0.005463900585482856, 'n_steps': 4, 'n_a': 24, 'n_d': 24}\n",
      "Device used : cpu\n",
      "epoch 0  | loss: 0.49727 | val_0_auc: 0.54679 |  0:00:03s\n",
      "epoch 1  | loss: 0.4257  | val_0_auc: 0.53264 |  0:00:06s\n",
      "epoch 2  | loss: 0.40657 | val_0_auc: 0.70459 |  0:00:09s\n"
     ]
    },
    {
     "name": "stdout",
     "output_type": "stream",
     "text": [
      "epoch 3  | loss: 0.40436 | val_0_auc: 0.7631  |  0:00:12s\n",
      "epoch 4  | loss: 0.39635 | val_0_auc: 0.79378 |  0:00:15s\n",
      "epoch 5  | loss: 0.38629 | val_0_auc: 0.83297 |  0:00:19s\n",
      "epoch 6  | loss: 0.38298 | val_0_auc: 0.83208 |  0:00:22s\n",
      "epoch 7  | loss: 0.38507 | val_0_auc: 0.84727 |  0:00:25s\n",
      "epoch 8  | loss: 0.38727 | val_0_auc: 0.85891 |  0:00:28s\n",
      "epoch 9  | loss: 0.37795 | val_0_auc: 0.87538 |  0:00:32s\n",
      "epoch 10 | loss: 0.37398 | val_0_auc: 0.8736  |  0:00:35s\n",
      "epoch 11 | loss: 0.36905 | val_0_auc: 0.86463 |  0:00:38s\n",
      "epoch 12 | loss: 0.3743  | val_0_auc: 0.87755 |  0:00:41s\n",
      "epoch 13 | loss: 0.37721 | val_0_auc: 0.86956 |  0:00:44s\n",
      "epoch 14 | loss: 0.37638 | val_0_auc: 0.87182 |  0:00:48s\n",
      "epoch 15 | loss: 0.36973 | val_0_auc: 0.87519 |  0:00:51s\n",
      "epoch 16 | loss: 0.37141 | val_0_auc: 0.86805 |  0:00:54s\n",
      "epoch 17 | loss: 0.37196 | val_0_auc: 0.86258 |  0:00:57s\n",
      "epoch 18 | loss: 0.38002 | val_0_auc: 0.85084 |  0:01:00s\n",
      "epoch 19 | loss: 0.38511 | val_0_auc: 0.85759 |  0:01:03s\n",
      "epoch 20 | loss: 0.37654 | val_0_auc: 0.86963 |  0:01:06s\n",
      "epoch 21 | loss: 0.37796 | val_0_auc: 0.87052 |  0:01:09s\n",
      "epoch 22 | loss: 0.37161 | val_0_auc: 0.87451 |  0:01:13s\n",
      "\n",
      "Early stopping occurred at epoch 22 with best_epoch = 12 and best_val_0_auc = 0.87755\n",
      "Best weights from best epoch are automatically used!\n",
      "AUC:  0.877555  of boosting iteration \n",
      "Iteration No: 8 ended. Evaluation done at random point.\n",
      "Time taken: 74.0010\n",
      "Function value obtained: -0.8776\n",
      "Current minimum: -0.8955\n",
      "Iteration No: 9 started. Evaluating function at random point.\n",
      "\n",
      "Testing next set of paramaters... {'seed': 42, 'verbose': True, 'gamma': 1.0275681410783957, 'lambda_sparse': 0.09254457993630594, 'n_steps': 8, 'n_a': 40, 'n_d': 40}\n",
      "Device used : cpu\n",
      "epoch 0  | loss: 0.71974 | val_0_auc: 0.48312 |  0:00:06s\n",
      "epoch 1  | loss: 0.47659 | val_0_auc: 0.45341 |  0:00:13s\n",
      "epoch 2  | loss: 0.43816 | val_0_auc: 0.66102 |  0:00:20s\n",
      "epoch 3  | loss: 0.42724 | val_0_auc: 0.7473  |  0:00:28s\n",
      "epoch 4  | loss: 0.41343 | val_0_auc: 0.81151 |  0:00:35s\n",
      "epoch 5  | loss: 0.40591 | val_0_auc: 0.83447 |  0:00:41s\n",
      "epoch 6  | loss: 0.39719 | val_0_auc: 0.85212 |  0:00:48s\n",
      "epoch 7  | loss: 0.38734 | val_0_auc: 0.8565  |  0:00:56s\n",
      "epoch 8  | loss: 0.3789  | val_0_auc: 0.85944 |  0:01:03s\n",
      "epoch 9  | loss: 0.37457 | val_0_auc: 0.86234 |  0:01:11s\n",
      "epoch 10 | loss: 0.37362 | val_0_auc: 0.87893 |  0:01:18s\n",
      "epoch 11 | loss: 0.36771 | val_0_auc: 0.88306 |  0:01:26s\n",
      "epoch 12 | loss: 0.36296 | val_0_auc: 0.88938 |  0:01:34s\n",
      "epoch 13 | loss: 0.36298 | val_0_auc: 0.89211 |  0:01:42s\n",
      "epoch 14 | loss: 0.36208 | val_0_auc: 0.89237 |  0:01:49s\n",
      "epoch 15 | loss: 0.35866 | val_0_auc: 0.89031 |  0:01:57s\n",
      "epoch 16 | loss: 0.35991 | val_0_auc: 0.89181 |  0:02:04s\n",
      "epoch 17 | loss: 0.36102 | val_0_auc: 0.89304 |  0:02:12s\n",
      "epoch 18 | loss: 0.36047 | val_0_auc: 0.8925  |  0:02:20s\n",
      "epoch 19 | loss: 0.35503 | val_0_auc: 0.89272 |  0:02:27s\n",
      "epoch 20 | loss: 0.34848 | val_0_auc: 0.89254 |  0:02:36s\n",
      "epoch 21 | loss: 0.35311 | val_0_auc: 0.88416 |  0:02:44s\n",
      "epoch 22 | loss: 0.35368 | val_0_auc: 0.89204 |  0:02:51s\n",
      "epoch 23 | loss: 0.35385 | val_0_auc: 0.88886 |  0:02:58s\n",
      "epoch 24 | loss: 0.3541  | val_0_auc: 0.89577 |  0:03:06s\n",
      "epoch 25 | loss: 0.35742 | val_0_auc: 0.89019 |  0:03:13s\n",
      "epoch 26 | loss: 0.36085 | val_0_auc: 0.88927 |  0:03:20s\n",
      "epoch 27 | loss: 0.35722 | val_0_auc: 0.89599 |  0:03:27s\n",
      "epoch 28 | loss: 0.3475  | val_0_auc: 0.89469 |  0:03:34s\n",
      "epoch 29 | loss: 0.34809 | val_0_auc: 0.8944  |  0:03:41s\n",
      "Stop training because you reached max_epochs = 30 with best_epoch = 27 and best_val_0_auc = 0.89599\n",
      "Best weights from best epoch are automatically used!\n",
      "AUC:  0.895994  of boosting iteration \n",
      "Iteration No: 9 ended. Evaluation done at random point.\n",
      "Time taken: 223.0976\n",
      "Function value obtained: -0.8960\n",
      "Current minimum: -0.8960\n",
      "Iteration No: 10 started. Evaluating function at random point.\n",
      "\n",
      "Testing next set of paramaters... {'seed': 42, 'verbose': True, 'gamma': 1.787060238571004, 'lambda_sparse': 0.04993688338905366, 'n_steps': 6, 'n_a': 54, 'n_d': 54}\n",
      "Device used : cpu\n",
      "epoch 0  | loss: 0.64096 | val_0_auc: 0.63917 |  0:00:05s\n",
      "epoch 1  | loss: 0.43219 | val_0_auc: 0.39447 |  0:00:11s\n",
      "epoch 2  | loss: 0.40929 | val_0_auc: 0.71073 |  0:00:17s\n",
      "epoch 3  | loss: 0.40501 | val_0_auc: 0.64657 |  0:00:22s\n",
      "epoch 4  | loss: 0.39878 | val_0_auc: 0.75365 |  0:00:28s\n",
      "epoch 5  | loss: 0.39689 | val_0_auc: 0.77869 |  0:00:33s\n",
      "epoch 6  | loss: 0.39221 | val_0_auc: 0.8377  |  0:00:39s\n",
      "epoch 7  | loss: 0.38516 | val_0_auc: 0.85257 |  0:00:45s\n",
      "epoch 8  | loss: 0.38354 | val_0_auc: 0.85064 |  0:00:50s\n",
      "epoch 9  | loss: 0.38688 | val_0_auc: 0.861   |  0:00:56s\n",
      "epoch 10 | loss: 0.39229 | val_0_auc: 0.85535 |  0:01:01s\n",
      "epoch 11 | loss: 0.39437 | val_0_auc: 0.85935 |  0:01:07s\n",
      "epoch 12 | loss: 0.39222 | val_0_auc: 0.86825 |  0:01:13s\n",
      "epoch 13 | loss: 0.37933 | val_0_auc: 0.87534 |  0:01:18s\n",
      "epoch 14 | loss: 0.37099 | val_0_auc: 0.88128 |  0:01:24s\n",
      "epoch 15 | loss: 0.37206 | val_0_auc: 0.88162 |  0:01:29s\n",
      "epoch 16 | loss: 0.3669  | val_0_auc: 0.8808  |  0:01:35s\n",
      "epoch 17 | loss: 0.37105 | val_0_auc: 0.88174 |  0:01:41s\n",
      "epoch 18 | loss: 0.37031 | val_0_auc: 0.88351 |  0:01:46s\n",
      "epoch 19 | loss: 0.36092 | val_0_auc: 0.87855 |  0:01:52s\n",
      "epoch 20 | loss: 0.36647 | val_0_auc: 0.88174 |  0:01:57s\n",
      "epoch 21 | loss: 0.36504 | val_0_auc: 0.88338 |  0:02:03s\n",
      "epoch 22 | loss: 0.36921 | val_0_auc: 0.88255 |  0:02:09s\n",
      "epoch 23 | loss: 0.36016 | val_0_auc: 0.88347 |  0:02:14s\n",
      "epoch 24 | loss: 0.35301 | val_0_auc: 0.88497 |  0:02:20s\n",
      "epoch 25 | loss: 0.35475 | val_0_auc: 0.88891 |  0:02:25s\n",
      "epoch 26 | loss: 0.35182 | val_0_auc: 0.88913 |  0:02:31s\n",
      "epoch 27 | loss: 0.35033 | val_0_auc: 0.88292 |  0:02:36s\n",
      "epoch 28 | loss: 0.3556  | val_0_auc: 0.88476 |  0:02:42s\n",
      "epoch 29 | loss: 0.35596 | val_0_auc: 0.88218 |  0:02:48s\n",
      "Stop training because you reached max_epochs = 30 with best_epoch = 26 and best_val_0_auc = 0.88913\n",
      "Best weights from best epoch are automatically used!\n",
      "AUC:  0.889132  of boosting iteration \n",
      "Iteration No: 10 ended. Evaluation done at random point.\n",
      "Time taken: 172.3001\n",
      "Function value obtained: -0.8891\n",
      "Current minimum: -0.8960\n",
      "Iteration No: 11 started. Searching for the next optimal point.\n",
      "\n",
      "Testing next set of paramaters... {'seed': 42, 'verbose': True, 'gamma': 1.9845391438065991, 'lambda_sparse': 0.001, 'n_steps': 10, 'n_a': 40, 'n_d': 40}\n",
      "Device used : cpu\n",
      "epoch 0  | loss: 0.65402 | val_0_auc: 0.66556 |  0:00:08s\n",
      "epoch 1  | loss: 0.63066 | val_0_auc: 0.52519 |  0:00:16s\n",
      "epoch 2  | loss: 0.57041 | val_0_auc: 0.55865 |  0:00:24s\n",
      "epoch 3  | loss: 0.42294 | val_0_auc: 0.72229 |  0:00:33s\n",
      "epoch 4  | loss: 0.39615 | val_0_auc: 0.79871 |  0:00:41s\n",
      "epoch 5  | loss: 0.38345 | val_0_auc: 0.81287 |  0:00:49s\n",
      "epoch 6  | loss: 0.38306 | val_0_auc: 0.85382 |  0:00:57s\n",
      "epoch 7  | loss: 0.39212 | val_0_auc: 0.84902 |  0:01:06s\n",
      "epoch 8  | loss: 0.3969  | val_0_auc: 0.84408 |  0:01:14s\n",
      "epoch 9  | loss: 0.38813 | val_0_auc: 0.85088 |  0:01:22s\n",
      "epoch 10 | loss: 0.38326 | val_0_auc: 0.85785 |  0:01:30s\n",
      "epoch 11 | loss: 0.37717 | val_0_auc: 0.86137 |  0:01:38s\n",
      "epoch 12 | loss: 0.37607 | val_0_auc: 0.86142 |  0:01:46s\n",
      "epoch 13 | loss: 0.37441 | val_0_auc: 0.8693  |  0:01:55s\n",
      "epoch 14 | loss: 0.37201 | val_0_auc: 0.86928 |  0:02:03s\n",
      "epoch 15 | loss: 0.36882 | val_0_auc: 0.87134 |  0:02:11s\n",
      "epoch 16 | loss: 0.36751 | val_0_auc: 0.87355 |  0:02:19s\n",
      "epoch 17 | loss: 0.36409 | val_0_auc: 0.88043 |  0:02:27s\n",
      "epoch 18 | loss: 0.36225 | val_0_auc: 0.88083 |  0:02:36s\n",
      "epoch 19 | loss: 0.36037 | val_0_auc: 0.8813  |  0:02:44s\n",
      "epoch 20 | loss: 0.36147 | val_0_auc: 0.87798 |  0:02:52s\n",
      "epoch 21 | loss: 0.35839 | val_0_auc: 0.8806  |  0:03:01s\n",
      "epoch 22 | loss: 0.35797 | val_0_auc: 0.87901 |  0:03:09s\n",
      "epoch 23 | loss: 0.35776 | val_0_auc: 0.88282 |  0:03:17s\n",
      "epoch 24 | loss: 0.35636 | val_0_auc: 0.87515 |  0:03:25s\n",
      "epoch 25 | loss: 0.35682 | val_0_auc: 0.88166 |  0:03:33s\n",
      "epoch 26 | loss: 0.35905 | val_0_auc: 0.88185 |  0:03:41s\n",
      "epoch 27 | loss: 0.35525 | val_0_auc: 0.882   |  0:03:50s\n",
      "epoch 28 | loss: 0.35283 | val_0_auc: 0.87929 |  0:03:58s\n",
      "epoch 29 | loss: 0.35451 | val_0_auc: 0.88013 |  0:04:06s\n",
      "Stop training because you reached max_epochs = 30 with best_epoch = 23 and best_val_0_auc = 0.88282\n",
      "Best weights from best epoch are automatically used!\n"
     ]
    },
    {
     "name": "stdout",
     "output_type": "stream",
     "text": [
      "AUC:  0.882825  of boosting iteration \n",
      "Iteration No: 11 ended. Search finished for the next optimal point.\n",
      "Time taken: 249.5357\n",
      "Function value obtained: -0.8828\n",
      "Current minimum: -0.8960\n",
      "Iteration No: 12 started. Searching for the next optimal point.\n",
      "\n",
      "Testing next set of paramaters... {'seed': 42, 'verbose': True, 'gamma': 1.0, 'lambda_sparse': 0.001, 'n_steps': 10, 'n_a': 8, 'n_d': 8}\n",
      "Device used : cpu\n",
      "epoch 0  | loss: 0.55038 | val_0_auc: 0.51015 |  0:00:04s\n",
      "epoch 1  | loss: 0.4125  | val_0_auc: 0.60838 |  0:00:09s\n",
      "epoch 2  | loss: 0.39406 | val_0_auc: 0.68138 |  0:00:13s\n",
      "epoch 3  | loss: 0.39734 | val_0_auc: 0.77699 |  0:00:18s\n",
      "epoch 4  | loss: 0.3746  | val_0_auc: 0.77833 |  0:00:23s\n",
      "epoch 5  | loss: 0.36878 | val_0_auc: 0.78183 |  0:00:27s\n",
      "epoch 6  | loss: 0.36299 | val_0_auc: 0.85283 |  0:00:32s\n",
      "epoch 7  | loss: 0.35981 | val_0_auc: 0.87288 |  0:00:36s\n",
      "epoch 8  | loss: 0.36031 | val_0_auc: 0.88242 |  0:00:41s\n",
      "epoch 9  | loss: 0.35597 | val_0_auc: 0.88643 |  0:00:46s\n",
      "epoch 10 | loss: 0.34995 | val_0_auc: 0.88546 |  0:00:50s\n",
      "epoch 11 | loss: 0.34762 | val_0_auc: 0.8945  |  0:00:55s\n",
      "epoch 12 | loss: 0.34217 | val_0_auc: 0.89645 |  0:00:59s\n",
      "epoch 13 | loss: 0.34672 | val_0_auc: 0.89468 |  0:01:04s\n",
      "epoch 14 | loss: 0.34648 | val_0_auc: 0.89949 |  0:01:09s\n",
      "epoch 15 | loss: 0.34262 | val_0_auc: 0.89629 |  0:01:13s\n",
      "epoch 16 | loss: 0.33986 | val_0_auc: 0.90013 |  0:01:18s\n",
      "epoch 17 | loss: 0.33979 | val_0_auc: 0.89943 |  0:01:23s\n",
      "epoch 18 | loss: 0.33552 | val_0_auc: 0.89918 |  0:01:28s\n",
      "epoch 19 | loss: 0.33503 | val_0_auc: 0.90043 |  0:01:32s\n",
      "epoch 20 | loss: 0.33573 | val_0_auc: 0.90069 |  0:01:37s\n",
      "epoch 21 | loss: 0.33201 | val_0_auc: 0.90309 |  0:01:41s\n",
      "epoch 22 | loss: 0.33623 | val_0_auc: 0.90333 |  0:01:46s\n",
      "epoch 23 | loss: 0.33083 | val_0_auc: 0.90474 |  0:01:51s\n",
      "epoch 24 | loss: 0.32743 | val_0_auc: 0.90315 |  0:01:55s\n",
      "epoch 25 | loss: 0.33169 | val_0_auc: 0.89826 |  0:02:00s\n",
      "epoch 26 | loss: 0.32786 | val_0_auc: 0.90236 |  0:02:04s\n",
      "epoch 27 | loss: 0.32824 | val_0_auc: 0.89995 |  0:02:09s\n",
      "epoch 28 | loss: 0.3261  | val_0_auc: 0.90367 |  0:02:13s\n",
      "epoch 29 | loss: 0.32942 | val_0_auc: 0.9043  |  0:02:18s\n",
      "Stop training because you reached max_epochs = 30 with best_epoch = 23 and best_val_0_auc = 0.90474\n",
      "Best weights from best epoch are automatically used!\n",
      "AUC:  0.904745  of boosting iteration \n",
      "Iteration No: 12 ended. Search finished for the next optimal point.\n",
      "Time taken: 140.3961\n",
      "Function value obtained: -0.9047\n",
      "Current minimum: -0.9047\n",
      "Iteration No: 13 started. Searching for the next optimal point.\n",
      "\n",
      "Testing next set of paramaters... {'seed': 42, 'verbose': True, 'gamma': 1.0050235848485114, 'lambda_sparse': 0.0016974069639833509, 'n_steps': 10, 'n_a': 54, 'n_d': 54}\n",
      "Device used : cpu\n",
      "epoch 0  | loss: 0.86451 | val_0_auc: 0.40136 |  0:00:09s\n",
      "epoch 1  | loss: 0.50017 | val_0_auc: 0.56023 |  0:00:19s\n",
      "epoch 2  | loss: 0.37765 | val_0_auc: 0.72973 |  0:00:29s\n",
      "epoch 3  | loss: 0.36747 | val_0_auc: 0.77734 |  0:00:38s\n",
      "epoch 4  | loss: 0.36269 | val_0_auc: 0.82516 |  0:00:48s\n",
      "epoch 5  | loss: 0.36486 | val_0_auc: 0.83749 |  0:00:57s\n",
      "epoch 6  | loss: 0.35783 | val_0_auc: 0.86288 |  0:01:06s\n",
      "epoch 7  | loss: 0.35799 | val_0_auc: 0.86934 |  0:01:15s\n",
      "epoch 8  | loss: 0.35709 | val_0_auc: 0.88232 |  0:01:25s\n",
      "epoch 9  | loss: 0.3473  | val_0_auc: 0.88048 |  0:01:34s\n",
      "epoch 10 | loss: 0.34563 | val_0_auc: 0.88738 |  0:01:43s\n",
      "epoch 11 | loss: 0.34572 | val_0_auc: 0.89681 |  0:01:53s\n",
      "epoch 12 | loss: 0.33835 | val_0_auc: 0.89844 |  0:02:02s\n",
      "epoch 13 | loss: 0.33747 | val_0_auc: 0.89623 |  0:02:11s\n",
      "epoch 14 | loss: 0.34076 | val_0_auc: 0.89699 |  0:02:20s\n",
      "epoch 15 | loss: 0.33974 | val_0_auc: 0.90046 |  0:02:29s\n",
      "epoch 16 | loss: 0.33103 | val_0_auc: 0.89992 |  0:02:38s\n",
      "epoch 17 | loss: 0.33328 | val_0_auc: 0.89985 |  0:02:47s\n",
      "epoch 18 | loss: 0.33289 | val_0_auc: 0.89591 |  0:02:55s\n",
      "epoch 19 | loss: 0.34253 | val_0_auc: 0.89999 |  0:03:04s\n",
      "epoch 20 | loss: 0.33353 | val_0_auc: 0.90141 |  0:03:13s\n",
      "epoch 21 | loss: 0.32708 | val_0_auc: 0.9034  |  0:03:22s\n",
      "epoch 22 | loss: 0.333   | val_0_auc: 0.90366 |  0:03:31s\n",
      "epoch 23 | loss: 0.32686 | val_0_auc: 0.90381 |  0:03:39s\n",
      "epoch 24 | loss: 0.32486 | val_0_auc: 0.90473 |  0:03:48s\n",
      "epoch 25 | loss: 0.32788 | val_0_auc: 0.90396 |  0:03:57s\n",
      "epoch 26 | loss: 0.32592 | val_0_auc: 0.90522 |  0:04:06s\n",
      "epoch 27 | loss: 0.32654 | val_0_auc: 0.90622 |  0:04:15s\n",
      "epoch 28 | loss: 0.32836 | val_0_auc: 0.90259 |  0:04:24s\n",
      "epoch 29 | loss: 0.32948 | val_0_auc: 0.89704 |  0:04:32s\n",
      "Stop training because you reached max_epochs = 30 with best_epoch = 27 and best_val_0_auc = 0.90622\n",
      "Best weights from best epoch are automatically used!\n",
      "AUC:  0.906224  of boosting iteration \n",
      "Iteration No: 13 ended. Search finished for the next optimal point.\n",
      "Time taken: 275.7940\n",
      "Function value obtained: -0.9062\n",
      "Current minimum: -0.9062\n",
      "Iteration No: 14 started. Searching for the next optimal point.\n",
      "\n",
      "Testing next set of paramaters... {'seed': 42, 'verbose': True, 'gamma': 1.0, 'lambda_sparse': 0.001, 'n_steps': 10, 'n_a': 8, 'n_d': 8}\n",
      "Device used : cpu\n"
     ]
    },
    {
     "name": "stderr",
     "output_type": "stream",
     "text": [
      "/home/marinamandarina_07/anaconda3/lib/python3.8/site-packages/skopt/optimizer/optimizer.py:449: UserWarning: The objective has been evaluated at this point before.\n",
      "  warnings.warn(\"The objective has been evaluated \"\n"
     ]
    },
    {
     "name": "stdout",
     "output_type": "stream",
     "text": [
      "epoch 0  | loss: 0.55038 | val_0_auc: 0.51015 |  0:00:04s\n",
      "epoch 1  | loss: 0.4125  | val_0_auc: 0.60838 |  0:00:09s\n",
      "epoch 2  | loss: 0.39406 | val_0_auc: 0.68138 |  0:00:14s\n",
      "epoch 3  | loss: 0.39734 | val_0_auc: 0.77699 |  0:00:19s\n",
      "epoch 4  | loss: 0.3746  | val_0_auc: 0.77833 |  0:00:24s\n",
      "epoch 5  | loss: 0.36878 | val_0_auc: 0.78183 |  0:00:28s\n",
      "epoch 6  | loss: 0.36299 | val_0_auc: 0.85283 |  0:00:33s\n",
      "epoch 7  | loss: 0.35981 | val_0_auc: 0.87288 |  0:00:37s\n",
      "epoch 8  | loss: 0.36031 | val_0_auc: 0.88242 |  0:00:42s\n",
      "epoch 9  | loss: 0.35597 | val_0_auc: 0.88643 |  0:00:47s\n",
      "epoch 10 | loss: 0.34995 | val_0_auc: 0.88546 |  0:00:51s\n",
      "epoch 11 | loss: 0.34762 | val_0_auc: 0.8945  |  0:00:56s\n",
      "epoch 12 | loss: 0.34217 | val_0_auc: 0.89645 |  0:01:00s\n",
      "epoch 13 | loss: 0.34672 | val_0_auc: 0.89468 |  0:01:05s\n",
      "epoch 14 | loss: 0.34648 | val_0_auc: 0.89949 |  0:01:09s\n",
      "epoch 15 | loss: 0.34262 | val_0_auc: 0.89629 |  0:01:14s\n",
      "epoch 16 | loss: 0.33986 | val_0_auc: 0.90013 |  0:01:18s\n",
      "epoch 17 | loss: 0.33979 | val_0_auc: 0.89943 |  0:01:23s\n",
      "epoch 18 | loss: 0.33552 | val_0_auc: 0.89918 |  0:01:27s\n",
      "epoch 19 | loss: 0.33503 | val_0_auc: 0.90043 |  0:01:32s\n",
      "epoch 20 | loss: 0.33573 | val_0_auc: 0.90069 |  0:01:36s\n",
      "epoch 21 | loss: 0.33201 | val_0_auc: 0.90309 |  0:01:41s\n",
      "epoch 22 | loss: 0.33623 | val_0_auc: 0.90333 |  0:01:45s\n",
      "epoch 23 | loss: 0.33083 | val_0_auc: 0.90474 |  0:01:50s\n",
      "epoch 24 | loss: 0.32743 | val_0_auc: 0.90315 |  0:01:54s\n",
      "epoch 25 | loss: 0.33169 | val_0_auc: 0.89826 |  0:01:59s\n",
      "epoch 26 | loss: 0.32786 | val_0_auc: 0.90236 |  0:02:03s\n",
      "epoch 27 | loss: 0.32824 | val_0_auc: 0.89995 |  0:02:08s\n",
      "epoch 28 | loss: 0.3261  | val_0_auc: 0.90367 |  0:02:12s\n",
      "epoch 29 | loss: 0.32942 | val_0_auc: 0.9043  |  0:02:17s\n",
      "Stop training because you reached max_epochs = 30 with best_epoch = 23 and best_val_0_auc = 0.90474\n",
      "Best weights from best epoch are automatically used!\n",
      "AUC:  0.904745  of boosting iteration \n",
      "Iteration No: 14 ended. Search finished for the next optimal point.\n",
      "Time taken: 139.0074\n",
      "Function value obtained: -0.9047\n",
      "Current minimum: -0.9062\n",
      "Iteration No: 15 started. Searching for the next optimal point.\n",
      "\n",
      "Testing next set of paramaters... {'seed': 42, 'verbose': True, 'gamma': 1.1501760560978056, 'lambda_sparse': 0.001, 'n_steps': 10, 'n_a': 64, 'n_d': 64}\n",
      "Device used : cpu\n",
      "epoch 0  | loss: 0.91072 | val_0_auc: 0.64814 |  0:00:10s\n",
      "epoch 1  | loss: 0.55407 | val_0_auc: 0.63561 |  0:00:20s\n",
      "epoch 2  | loss: 0.449   | val_0_auc: 0.5681  |  0:00:31s\n",
      "epoch 3  | loss: 0.40157 | val_0_auc: 0.73462 |  0:00:41s\n",
      "epoch 4  | loss: 0.39118 | val_0_auc: 0.834   |  0:00:52s\n",
      "epoch 5  | loss: 0.36765 | val_0_auc: 0.83036 |  0:01:02s\n",
      "epoch 6  | loss: 0.36974 | val_0_auc: 0.84344 |  0:01:13s\n",
      "epoch 7  | loss: 0.36514 | val_0_auc: 0.86064 |  0:01:23s\n",
      "epoch 8  | loss: 0.36356 | val_0_auc: 0.87346 |  0:01:34s\n",
      "epoch 9  | loss: 0.35885 | val_0_auc: 0.8741  |  0:01:44s\n",
      "epoch 10 | loss: 0.35871 | val_0_auc: 0.88288 |  0:01:55s\n",
      "epoch 11 | loss: 0.35545 | val_0_auc: 0.88586 |  0:02:05s\n",
      "epoch 12 | loss: 0.35063 | val_0_auc: 0.89456 |  0:02:16s\n",
      "epoch 13 | loss: 0.34647 | val_0_auc: 0.88897 |  0:02:26s\n",
      "epoch 14 | loss: 0.34847 | val_0_auc: 0.88553 |  0:02:37s\n",
      "epoch 15 | loss: 0.35078 | val_0_auc: 0.88871 |  0:02:47s\n",
      "epoch 16 | loss: 0.34839 | val_0_auc: 0.88825 |  0:02:58s\n",
      "epoch 17 | loss: 0.34471 | val_0_auc: 0.88892 |  0:03:09s\n",
      "epoch 18 | loss: 0.34554 | val_0_auc: 0.8915  |  0:03:19s\n",
      "epoch 19 | loss: 0.34721 | val_0_auc: 0.89058 |  0:03:30s\n",
      "epoch 20 | loss: 0.3463  | val_0_auc: 0.89434 |  0:03:40s\n",
      "epoch 21 | loss: 0.34195 | val_0_auc: 0.89744 |  0:03:50s\n",
      "epoch 22 | loss: 0.33548 | val_0_auc: 0.90229 |  0:04:00s\n",
      "epoch 23 | loss: 0.33388 | val_0_auc: 0.8989  |  0:04:11s\n",
      "epoch 24 | loss: 0.33948 | val_0_auc: 0.90128 |  0:04:21s\n",
      "epoch 25 | loss: 0.33261 | val_0_auc: 0.90029 |  0:04:32s\n",
      "epoch 26 | loss: 0.33049 | val_0_auc: 0.90226 |  0:04:42s\n",
      "epoch 27 | loss: 0.33202 | val_0_auc: 0.89982 |  0:04:53s\n",
      "epoch 28 | loss: 0.32946 | val_0_auc: 0.9044  |  0:05:03s\n",
      "epoch 29 | loss: 0.32752 | val_0_auc: 0.90227 |  0:05:14s\n",
      "Stop training because you reached max_epochs = 30 with best_epoch = 28 and best_val_0_auc = 0.9044\n",
      "Best weights from best epoch are automatically used!\n",
      "AUC:  0.904401  of boosting iteration \n",
      "Iteration No: 15 ended. Search finished for the next optimal point.\n",
      "Time taken: 319.1435\n",
      "Function value obtained: -0.9044\n",
      "Current minimum: -0.9062\n",
      "Iteration No: 16 started. Searching for the next optimal point.\n",
      "\n",
      "Testing next set of paramaters... {'seed': 42, 'verbose': True, 'gamma': 1.0, 'lambda_sparse': 0.001, 'n_steps': 6, 'n_a': 64, 'n_d': 64}\n",
      "Device used : cpu\n",
      "epoch 0  | loss: 0.59553 | val_0_auc: 0.51913 |  0:00:06s\n",
      "epoch 1  | loss: 0.39036 | val_0_auc: 0.72156 |  0:00:13s\n",
      "epoch 2  | loss: 0.37    | val_0_auc: 0.7182  |  0:00:20s\n",
      "epoch 3  | loss: 0.36149 | val_0_auc: 0.79855 |  0:00:26s\n",
      "epoch 4  | loss: 0.36232 | val_0_auc: 0.82074 |  0:00:33s\n",
      "epoch 5  | loss: 0.3605  | val_0_auc: 0.83434 |  0:00:39s\n",
      "epoch 6  | loss: 0.35885 | val_0_auc: 0.8542  |  0:00:46s\n",
      "epoch 7  | loss: 0.35373 | val_0_auc: 0.86148 |  0:00:53s\n",
      "epoch 8  | loss: 0.35321 | val_0_auc: 0.86742 |  0:00:59s\n",
      "epoch 9  | loss: 0.35412 | val_0_auc: 0.88075 |  0:01:06s\n",
      "epoch 10 | loss: 0.34811 | val_0_auc: 0.88307 |  0:01:13s\n",
      "epoch 11 | loss: 0.34815 | val_0_auc: 0.88929 |  0:01:19s\n",
      "epoch 12 | loss: 0.3494  | val_0_auc: 0.88655 |  0:01:26s\n",
      "epoch 13 | loss: 0.3447  | val_0_auc: 0.89112 |  0:01:33s\n",
      "epoch 14 | loss: 0.34037 | val_0_auc: 0.89654 |  0:01:39s\n",
      "epoch 15 | loss: 0.34234 | val_0_auc: 0.89406 |  0:01:46s\n",
      "epoch 16 | loss: 0.34035 | val_0_auc: 0.8962  |  0:01:53s\n",
      "epoch 17 | loss: 0.34147 | val_0_auc: 0.8953  |  0:01:59s\n",
      "epoch 18 | loss: 0.34875 | val_0_auc: 0.88967 |  0:02:06s\n",
      "epoch 19 | loss: 0.3503  | val_0_auc: 0.89187 |  0:02:13s\n",
      "epoch 20 | loss: 0.34479 | val_0_auc: 0.89329 |  0:02:19s\n",
      "epoch 21 | loss: 0.33758 | val_0_auc: 0.89433 |  0:02:26s\n",
      "epoch 22 | loss: 0.33861 | val_0_auc: 0.89659 |  0:02:33s\n",
      "epoch 23 | loss: 0.33509 | val_0_auc: 0.89432 |  0:02:39s\n",
      "epoch 24 | loss: 0.33579 | val_0_auc: 0.89367 |  0:02:46s\n",
      "epoch 25 | loss: 0.33775 | val_0_auc: 0.89044 |  0:02:53s\n",
      "epoch 26 | loss: 0.3435  | val_0_auc: 0.89385 |  0:03:00s\n",
      "epoch 27 | loss: 0.33536 | val_0_auc: 0.89321 |  0:03:06s\n",
      "epoch 28 | loss: 0.33503 | val_0_auc: 0.89545 |  0:03:13s\n",
      "epoch 29 | loss: 0.33537 | val_0_auc: 0.89631 |  0:03:20s\n",
      "Stop training because you reached max_epochs = 30 with best_epoch = 22 and best_val_0_auc = 0.89659\n",
      "Best weights from best epoch are automatically used!\n",
      "AUC:  0.896591  of boosting iteration \n",
      "Iteration No: 16 ended. Search finished for the next optimal point.\n",
      "Time taken: 202.5014\n",
      "Function value obtained: -0.8966\n",
      "Current minimum: -0.9062\n",
      "Iteration No: 17 started. Searching for the next optimal point.\n",
      "\n",
      "Testing next set of paramaters... {'seed': 42, 'verbose': True, 'gamma': 1.5778095189284014, 'lambda_sparse': 0.005940724462869768, 'n_steps': 3, 'n_a': 16, 'n_d': 16}\n",
      "Device used : cpu\n",
      "epoch 0  | loss: 0.56255 | val_0_auc: 0.76021 |  0:00:02s\n",
      "epoch 1  | loss: 0.40188 | val_0_auc: 0.74704 |  0:00:04s\n",
      "epoch 2  | loss: 0.38219 | val_0_auc: 0.67348 |  0:00:06s\n",
      "epoch 3  | loss: 0.3756  | val_0_auc: 0.75988 |  0:00:09s\n",
      "epoch 4  | loss: 0.36596 | val_0_auc: 0.83649 |  0:00:11s\n",
      "epoch 5  | loss: 0.36372 | val_0_auc: 0.83796 |  0:00:13s\n",
      "epoch 6  | loss: 0.35627 | val_0_auc: 0.83479 |  0:00:16s\n",
      "epoch 7  | loss: 0.36372 | val_0_auc: 0.84104 |  0:00:18s\n",
      "epoch 8  | loss: 0.3644  | val_0_auc: 0.87013 |  0:00:20s\n",
      "epoch 9  | loss: 0.354   | val_0_auc: 0.88167 |  0:00:23s\n",
      "epoch 10 | loss: 0.35357 | val_0_auc: 0.88377 |  0:00:25s\n",
      "epoch 11 | loss: 0.35267 | val_0_auc: 0.88605 |  0:00:27s\n",
      "epoch 12 | loss: 0.35115 | val_0_auc: 0.88077 |  0:00:30s\n",
      "epoch 13 | loss: 0.35052 | val_0_auc: 0.88808 |  0:00:32s\n",
      "epoch 14 | loss: 0.35545 | val_0_auc: 0.88799 |  0:00:34s\n",
      "epoch 15 | loss: 0.35104 | val_0_auc: 0.89057 |  0:00:37s\n",
      "epoch 16 | loss: 0.3514  | val_0_auc: 0.88736 |  0:00:39s\n",
      "epoch 17 | loss: 0.35236 | val_0_auc: 0.89305 |  0:00:41s\n",
      "epoch 18 | loss: 0.35012 | val_0_auc: 0.8861  |  0:00:43s\n",
      "epoch 19 | loss: 0.34513 | val_0_auc: 0.89184 |  0:00:46s\n",
      "epoch 20 | loss: 0.34845 | val_0_auc: 0.89038 |  0:00:48s\n",
      "epoch 21 | loss: 0.3503  | val_0_auc: 0.89121 |  0:00:50s\n"
     ]
    },
    {
     "name": "stdout",
     "output_type": "stream",
     "text": [
      "epoch 22 | loss: 0.34266 | val_0_auc: 0.89346 |  0:00:53s\n",
      "epoch 23 | loss: 0.33983 | val_0_auc: 0.89322 |  0:00:55s\n",
      "epoch 24 | loss: 0.34222 | val_0_auc: 0.89574 |  0:00:57s\n",
      "epoch 25 | loss: 0.34099 | val_0_auc: 0.89491 |  0:01:00s\n",
      "epoch 26 | loss: 0.34324 | val_0_auc: 0.89643 |  0:01:02s\n",
      "epoch 27 | loss: 0.33873 | val_0_auc: 0.89592 |  0:01:04s\n",
      "epoch 28 | loss: 0.33744 | val_0_auc: 0.89619 |  0:01:06s\n",
      "epoch 29 | loss: 0.33628 | val_0_auc: 0.89663 |  0:01:09s\n",
      "Stop training because you reached max_epochs = 30 with best_epoch = 29 and best_val_0_auc = 0.89663\n",
      "Best weights from best epoch are automatically used!\n",
      "AUC:  0.896633  of boosting iteration \n",
      "Iteration No: 17 ended. Search finished for the next optimal point.\n",
      "Time taken: 70.0645\n",
      "Function value obtained: -0.8966\n",
      "Current minimum: -0.9062\n",
      "Iteration No: 18 started. Searching for the next optimal point.\n",
      "\n",
      "Testing next set of paramaters... {'seed': 42, 'verbose': True, 'gamma': 1.0530211946353565, 'lambda_sparse': 0.001, 'n_steps': 9, 'n_a': 64, 'n_d': 64}\n",
      "Device used : cpu\n",
      "epoch 0  | loss: 0.82791 | val_0_auc: 0.52573 |  0:00:09s\n",
      "epoch 1  | loss: 0.42626 | val_0_auc: 0.5828  |  0:00:19s\n",
      "epoch 2  | loss: 0.38987 | val_0_auc: 0.64536 |  0:00:28s\n",
      "epoch 3  | loss: 0.37504 | val_0_auc: 0.75475 |  0:00:38s\n",
      "epoch 4  | loss: 0.36754 | val_0_auc: 0.80428 |  0:00:47s\n",
      "epoch 5  | loss: 0.36211 | val_0_auc: 0.82576 |  0:00:57s\n",
      "epoch 6  | loss: 0.35421 | val_0_auc: 0.85753 |  0:01:06s\n",
      "epoch 7  | loss: 0.34608 | val_0_auc: 0.86457 |  0:01:16s\n",
      "epoch 8  | loss: 0.34707 | val_0_auc: 0.87537 |  0:01:25s\n",
      "epoch 9  | loss: 0.34305 | val_0_auc: 0.88485 |  0:01:35s\n",
      "epoch 10 | loss: 0.35214 | val_0_auc: 0.88618 |  0:01:45s\n",
      "epoch 11 | loss: 0.34884 | val_0_auc: 0.88479 |  0:01:54s\n",
      "epoch 12 | loss: 0.35219 | val_0_auc: 0.88575 |  0:02:04s\n",
      "epoch 13 | loss: 0.34462 | val_0_auc: 0.88803 |  0:02:15s\n",
      "epoch 14 | loss: 0.34419 | val_0_auc: 0.8952  |  0:02:25s\n",
      "epoch 15 | loss: 0.34196 | val_0_auc: 0.89729 |  0:02:35s\n",
      "epoch 16 | loss: 0.33968 | val_0_auc: 0.89437 |  0:02:45s\n",
      "epoch 17 | loss: 0.33773 | val_0_auc: 0.89705 |  0:02:54s\n",
      "epoch 18 | loss: 0.34002 | val_0_auc: 0.89587 |  0:03:04s\n",
      "epoch 19 | loss: 0.33451 | val_0_auc: 0.89622 |  0:03:14s\n",
      "epoch 20 | loss: 0.33347 | val_0_auc: 0.90108 |  0:03:24s\n",
      "epoch 21 | loss: 0.33033 | val_0_auc: 0.90211 |  0:03:35s\n",
      "epoch 22 | loss: 0.33086 | val_0_auc: 0.90208 |  0:03:45s\n",
      "epoch 23 | loss: 0.32678 | val_0_auc: 0.90489 |  0:03:55s\n",
      "epoch 24 | loss: 0.32869 | val_0_auc: 0.90537 |  0:04:05s\n",
      "epoch 25 | loss: 0.32763 | val_0_auc: 0.90638 |  0:04:15s\n",
      "epoch 26 | loss: 0.32678 | val_0_auc: 0.90455 |  0:04:25s\n",
      "epoch 27 | loss: 0.32672 | val_0_auc: 0.90593 |  0:04:35s\n",
      "epoch 28 | loss: 0.32385 | val_0_auc: 0.90456 |  0:04:45s\n",
      "epoch 29 | loss: 0.3233  | val_0_auc: 0.90525 |  0:04:54s\n",
      "Stop training because you reached max_epochs = 30 with best_epoch = 25 and best_val_0_auc = 0.90638\n",
      "Best weights from best epoch are automatically used!\n",
      "AUC:  0.906376  of boosting iteration \n",
      "Iteration No: 18 ended. Search finished for the next optimal point.\n",
      "Time taken: 297.5942\n",
      "Function value obtained: -0.9064\n",
      "Current minimum: -0.9064\n",
      "Iteration No: 19 started. Searching for the next optimal point.\n",
      "\n",
      "Testing next set of paramaters... {'seed': 42, 'verbose': True, 'gamma': 1.6183093780114206, 'lambda_sparse': 0.09901131108906239, 'n_steps': 10, 'n_a': 40, 'n_d': 40}\n",
      "Device used : cpu\n",
      "epoch 0  | loss: 0.79772 | val_0_auc: 0.72968 |  0:00:08s\n",
      "epoch 1  | loss: 0.62888 | val_0_auc: 0.64197 |  0:00:17s\n",
      "epoch 2  | loss: 0.5042  | val_0_auc: 0.68184 |  0:00:26s\n",
      "epoch 3  | loss: 0.41147 | val_0_auc: 0.69784 |  0:00:34s\n",
      "epoch 4  | loss: 0.40915 | val_0_auc: 0.79009 |  0:00:43s\n",
      "epoch 5  | loss: 0.40003 | val_0_auc: 0.80674 |  0:00:52s\n",
      "epoch 6  | loss: 0.39776 | val_0_auc: 0.83348 |  0:01:01s\n",
      "epoch 7  | loss: 0.38424 | val_0_auc: 0.86636 |  0:01:10s\n",
      "epoch 8  | loss: 0.37769 | val_0_auc: 0.86335 |  0:01:19s\n",
      "epoch 9  | loss: 0.38337 | val_0_auc: 0.85508 |  0:01:27s\n",
      "epoch 10 | loss: 0.37775 | val_0_auc: 0.87397 |  0:01:36s\n",
      "epoch 11 | loss: 0.36757 | val_0_auc: 0.87035 |  0:01:45s\n",
      "epoch 12 | loss: 0.36759 | val_0_auc: 0.86798 |  0:01:54s\n",
      "epoch 13 | loss: 0.38058 | val_0_auc: 0.87953 |  0:02:02s\n",
      "epoch 14 | loss: 0.37388 | val_0_auc: 0.87918 |  0:02:11s\n",
      "epoch 15 | loss: 0.36855 | val_0_auc: 0.88174 |  0:02:20s\n",
      "epoch 16 | loss: 0.36912 | val_0_auc: 0.87929 |  0:02:29s\n",
      "epoch 17 | loss: 0.37126 | val_0_auc: 0.87562 |  0:02:38s\n",
      "epoch 18 | loss: 0.3765  | val_0_auc: 0.87078 |  0:02:47s\n",
      "epoch 19 | loss: 0.37018 | val_0_auc: 0.88515 |  0:02:55s\n",
      "epoch 20 | loss: 0.3699  | val_0_auc: 0.8828  |  0:03:05s\n",
      "epoch 21 | loss: 0.35561 | val_0_auc: 0.88931 |  0:03:14s\n",
      "epoch 22 | loss: 0.35728 | val_0_auc: 0.85886 |  0:03:23s\n",
      "epoch 23 | loss: 0.38199 | val_0_auc: 0.87472 |  0:03:32s\n",
      "epoch 24 | loss: 0.36846 | val_0_auc: 0.87793 |  0:03:40s\n",
      "epoch 25 | loss: 0.36713 | val_0_auc: 0.88137 |  0:03:49s\n",
      "epoch 26 | loss: 0.37074 | val_0_auc: 0.87988 |  0:03:58s\n",
      "epoch 27 | loss: 0.36081 | val_0_auc: 0.88138 |  0:04:07s\n",
      "epoch 28 | loss: 0.35939 | val_0_auc: 0.88566 |  0:04:16s\n",
      "epoch 29 | loss: 0.35898 | val_0_auc: 0.88579 |  0:04:25s\n",
      "Stop training because you reached max_epochs = 30 with best_epoch = 21 and best_val_0_auc = 0.88931\n",
      "Best weights from best epoch are automatically used!\n",
      "AUC:  0.889316  of boosting iteration \n",
      "Iteration No: 19 ended. Search finished for the next optimal point.\n",
      "Time taken: 267.9022\n",
      "Function value obtained: -0.8893\n",
      "Current minimum: -0.9064\n",
      "Iteration No: 20 started. Searching for the next optimal point.\n",
      "\n",
      "Testing next set of paramaters... {'seed': 42, 'verbose': True, 'gamma': 1.6767309719377095, 'lambda_sparse': 0.0996484446727651, 'n_steps': 3, 'n_a': 40, 'n_d': 40}\n",
      "Device used : cpu\n",
      "epoch 0  | loss: 0.52569 | val_0_auc: 0.68662 |  0:00:03s\n",
      "epoch 1  | loss: 0.41799 | val_0_auc: 0.51325 |  0:00:06s\n",
      "epoch 2  | loss: 0.4003  | val_0_auc: 0.63295 |  0:00:10s\n",
      "epoch 3  | loss: 0.39337 | val_0_auc: 0.7836  |  0:00:13s\n",
      "epoch 4  | loss: 0.38693 | val_0_auc: 0.82828 |  0:00:17s\n",
      "epoch 5  | loss: 0.38409 | val_0_auc: 0.83277 |  0:00:20s\n",
      "epoch 6  | loss: 0.37074 | val_0_auc: 0.8464  |  0:00:23s\n",
      "epoch 7  | loss: 0.37526 | val_0_auc: 0.85543 |  0:00:26s\n",
      "epoch 8  | loss: 0.37481 | val_0_auc: 0.85669 |  0:00:30s\n",
      "epoch 9  | loss: 0.36999 | val_0_auc: 0.86974 |  0:00:33s\n",
      "epoch 10 | loss: 0.36703 | val_0_auc: 0.87423 |  0:00:36s\n",
      "epoch 11 | loss: 0.36473 | val_0_auc: 0.87991 |  0:00:39s\n",
      "epoch 12 | loss: 0.36612 | val_0_auc: 0.88036 |  0:00:43s\n",
      "epoch 13 | loss: 0.36529 | val_0_auc: 0.88326 |  0:00:46s\n",
      "epoch 14 | loss: 0.36273 | val_0_auc: 0.88103 |  0:00:49s\n",
      "epoch 15 | loss: 0.36145 | val_0_auc: 0.87905 |  0:00:53s\n",
      "epoch 16 | loss: 0.3645  | val_0_auc: 0.88573 |  0:00:56s\n",
      "epoch 17 | loss: 0.36357 | val_0_auc: 0.88006 |  0:00:59s\n",
      "epoch 18 | loss: 0.36265 | val_0_auc: 0.8874  |  0:01:03s\n",
      "epoch 19 | loss: 0.35661 | val_0_auc: 0.88688 |  0:01:06s\n",
      "epoch 20 | loss: 0.35705 | val_0_auc: 0.8877  |  0:01:10s\n",
      "epoch 21 | loss: 0.35531 | val_0_auc: 0.89067 |  0:01:13s\n",
      "epoch 22 | loss: 0.34933 | val_0_auc: 0.88995 |  0:01:16s\n",
      "epoch 23 | loss: 0.34982 | val_0_auc: 0.89276 |  0:01:20s\n",
      "epoch 24 | loss: 0.34508 | val_0_auc: 0.89205 |  0:01:23s\n",
      "epoch 25 | loss: 0.34663 | val_0_auc: 0.89249 |  0:01:26s\n",
      "epoch 26 | loss: 0.3492  | val_0_auc: 0.88961 |  0:01:29s\n",
      "epoch 27 | loss: 0.34773 | val_0_auc: 0.89137 |  0:01:32s\n",
      "epoch 28 | loss: 0.34579 | val_0_auc: 0.88987 |  0:01:36s\n",
      "epoch 29 | loss: 0.34536 | val_0_auc: 0.89277 |  0:01:39s\n",
      "Stop training because you reached max_epochs = 30 with best_epoch = 29 and best_val_0_auc = 0.89277\n",
      "Best weights from best epoch are automatically used!\n",
      "AUC:  0.892784  of boosting iteration \n",
      "Iteration No: 20 ended. Search finished for the next optimal point.\n",
      "Time taken: 100.6840\n",
      "Function value obtained: -0.8928\n",
      "Current minimum: -0.9064\n"
     ]
    }
   ],
   "source": [
    "results = dict()\n",
    "for clf_name, clf, search_range, params in classificators:\n",
    "    res_gp = gp_minimize(BayesianOptimization(clf, params, search_range, clf_name), search_range, n_jobs=-1, verbose=True, n_random_starts=10, n_calls=20)\n",
    "    results[clf_name] = res_gp\n",
    "    with open('{}_res_gp_shap_census.pickle'.format(clf_name), 'wb') as f:\n",
    "        pickle.dump(data, f)"
   ]
  },
  {
   "cell_type": "markdown",
   "metadata": {},
   "source": [
    "# Partial dataset (with no fnlwgt and education_num)"
   ]
  },
  {
   "cell_type": "code",
   "execution_count": 9,
   "metadata": {},
   "outputs": [
    {
     "data": {
      "text/plain": [
       "<AxesSubplot:title={'center':'Convergence plot'}, xlabel='Number of calls $n$', ylabel='$\\\\min f(x)$ after $n$ calls'>"
      ]
     },
     "execution_count": 9,
     "metadata": {},
     "output_type": "execute_result"
    },
    {
     "data": {
      "image/png": "[encoded data removed]",
      "text/plain": [
       "<Figure size 432x288 with 1 Axes>"
      ]
     },
     "metadata": {
      "needs_background": "light"
     },
     "output_type": "display_data"
    }
   ],
   "source": [
    "plot_convergence(results[\"XGBClassifier\"])"
   ]
  },
  {
   "cell_type": "code",
   "execution_count": 10,
   "metadata": {},
   "outputs": [
    {
     "data": {
      "text/plain": [
       "<AxesSubplot:title={'center':'Convergence plot'}, xlabel='Number of calls $n$', ylabel='$\\\\min f(x)$ after $n$ calls'>"
      ]
     },
     "execution_count": 10,
     "metadata": {},
     "output_type": "execute_result"
    },
    {
     "data": {
      "image/png": "[encoded data removed]",
      "text/plain": [
       "<Figure size 432x288 with 1 Axes>"
      ]
     },
     "metadata": {
      "needs_background": "light"
     },
     "output_type": "display_data"
    }
   ],
   "source": [
    "plot_convergence(results[\"LGBMClassifier\"])"
   ]
  },
  {
   "cell_type": "code",
   "execution_count": 11,
   "metadata": {},
   "outputs": [
    {
     "data": {
      "text/plain": [
       "<AxesSubplot:title={'center':'Convergence plot'}, xlabel='Number of calls $n$', ylabel='$\\\\min f(x)$ after $n$ calls'>"
      ]
     },
     "execution_count": 11,
     "metadata": {},
     "output_type": "execute_result"
    },
    {
     "data": {
      "image/png": "[encoded data removed]",
      "text/plain": [
       "<Figure size 432x288 with 1 Axes>"
      ]
     },
     "metadata": {
      "needs_background": "light"
     },
     "output_type": "display_data"
    }
   ],
   "source": [
    "plot_convergence(results[\"TABNETClassifier\"])"
   ]
  },
  {
   "cell_type": "code",
   "execution_count": 12,
   "metadata": {},
   "outputs": [
    {
     "data": {
      "text/plain": [
       "[0.13757478161712752, 7, 311]"
      ]
     },
     "execution_count": 12,
     "metadata": {},
     "output_type": "execute_result"
    }
   ],
   "source": [
    "results[\"LGBMClassifier\"].x"
   ]
  },
  {
   "cell_type": "code",
   "execution_count": 13,
   "metadata": {},
   "outputs": [
    {
     "data": {
      "text/plain": [
       "[0.13409869155637594, 7, 429]"
      ]
     },
     "execution_count": 13,
     "metadata": {},
     "output_type": "execute_result"
    }
   ],
   "source": [
    "results[\"XGBClassifier\"].x"
   ]
  },
  {
   "cell_type": "code",
   "execution_count": 14,
   "metadata": {},
   "outputs": [
    {
     "data": {
      "text/plain": [
       "[1.0530211946353565, 0.001, 9, 64]"
      ]
     },
     "execution_count": 14,
     "metadata": {},
     "output_type": "execute_result"
    }
   ],
   "source": [
    "results[\"TABNETClassifier\"].x"
   ]
  },
  {
   "cell_type": "markdown",
   "metadata": {},
   "source": [
    "# Full dataset"
   ]
  },
  {
   "cell_type": "code",
   "execution_count": 13,
   "metadata": {
    "_uuid": "51a34238757440c706d13ccb0cd7fb187d3fee53"
   },
   "outputs": [
    {
     "data": {
      "text/plain": [
       "<AxesSubplot:title={'center':'Convergence plot'}, xlabel='Number of calls $n$', ylabel='$\\\\min f(x)$ after $n$ calls'>"
      ]
     },
     "execution_count": 13,
     "metadata": {},
     "output_type": "execute_result"
    },
    {
     "data": {
      "image/png": "[encoded data removed]",
      "text/plain": [
       "<Figure size 432x288 with 1 Axes>"
      ]
     },
     "metadata": {
      "needs_background": "light"
     },
     "output_type": "display_data"
    }
   ],
   "source": [
    "plot_convergence(results[\"XGBClassifier\"])"
   ]
  },
  {
   "cell_type": "code",
   "execution_count": 14,
   "metadata": {},
   "outputs": [
    {
     "data": {
      "text/plain": [
       "<AxesSubplot:title={'center':'Convergence plot'}, xlabel='Number of calls $n$', ylabel='$\\\\min f(x)$ after $n$ calls'>"
      ]
     },
     "execution_count": 14,
     "metadata": {},
     "output_type": "execute_result"
    },
    {
     "data": {
      "image/png": "[encoded data removed]",
      "text/plain": [
       "<Figure size 432x288 with 1 Axes>"
      ]
     },
     "metadata": {
      "needs_background": "light"
     },
     "output_type": "display_data"
    }
   ],
   "source": [
    "plot_convergence(results[\"LGBMClassifier\"])"
   ]
  },
  {
   "cell_type": "code",
   "execution_count": 15,
   "metadata": {
    "scrolled": true
   },
   "outputs": [
    {
     "data": {
      "text/plain": [
       "<AxesSubplot:title={'center':'Convergence plot'}, xlabel='Number of calls $n$', ylabel='$\\\\min f(x)$ after $n$ calls'>"
      ]
     },
     "execution_count": 15,
     "metadata": {},
     "output_type": "execute_result"
    },
    {
     "data": {
      "image/png": "[encoded data removed]",
      "text/plain": [
       "<Figure size 432x288 with 1 Axes>"
      ]
     },
     "metadata": {
      "needs_background": "light"
     },
     "output_type": "display_data"
    }
   ],
   "source": [
    "plot_convergence(results[\"TABNETClassifier\"])"
   ]
  },
  {
   "cell_type": "code",
   "execution_count": 15,
   "metadata": {},
   "outputs": [
    {
     "data": {
      "text/plain": [
       "[0.10284216487315759, 4, 955]"
      ]
     },
     "execution_count": 15,
     "metadata": {},
     "output_type": "execute_result"
    }
   ],
   "source": [
    "results[\"LGBMClassifier\"].x"
   ]
  },
  {
   "cell_type": "code",
   "execution_count": 16,
   "metadata": {},
   "outputs": [
    {
     "data": {
      "text/plain": [
       "[0.3317433223693123, 4, 772]"
      ]
     },
     "execution_count": 16,
     "metadata": {},
     "output_type": "execute_result"
    }
   ],
   "source": [
    "results[\"XGBClassifier\"].x"
   ]
  },
  {
   "cell_type": "code",
   "execution_count": 16,
   "metadata": {},
   "outputs": [
    {
     "data": {
      "text/plain": [
       "[1.0131059206061017, 0.0051151725754103195, 10, 54]"
      ]
     },
     "execution_count": 16,
     "metadata": {},
     "output_type": "execute_result"
    }
   ],
   "source": [
    "results[\"TABNETClassifier\"].x"
   ]
  }
 ],
 "metadata": {
  "kernelspec": {
   "display_name": "Python 3",
   "language": "python",
   "name": "python3"
  },
  "language_info": {
   "codemirror_mode": {
    "name": "ipython",
    "version": 3
   },
   "file_extension": ".py",
   "mimetype": "text/x-python",
   "name": "python",
   "nbconvert_exporter": "python",
   "pygments_lexer": "ipython3",
   "version": "3.8.5"
  }
 },
 "nbformat": 4,
 "nbformat_minor": 1
}
