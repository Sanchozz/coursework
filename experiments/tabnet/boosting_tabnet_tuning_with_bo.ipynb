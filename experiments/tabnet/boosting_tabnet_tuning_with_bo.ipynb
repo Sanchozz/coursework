{
 "cells": [
  {
   "cell_type": "code",
   "execution_count": 8,
   "metadata": {
    "_cell_guid": "b1076dfc-b9ad-4769-8c92-a6c4dae69d19",
    "_uuid": "8f2839f25d086af736a60e9eeb907d3b93b6e0e5"
   },
   "outputs": [],
   "source": [
    "import numpy as np\n",
    "import pandas as pd\n",
    "import gc\n",
    "from lightgbm import LGBMClassifier\n",
    "from xgboost import XGBClassifier\n",
    "import lightgbm as lgb\n",
    "import xgboost as xgb\n",
    "from pytorch_tabnet.tab_model import TabNetClassifier\n",
    "import pickle\n",
    "\n",
    "from sklearn.preprocessing import LabelEncoder\n",
    "from sklearn.metrics import accuracy_score, roc_auc_score, confusion_matrix\n",
    "from sklearn.feature_selection import VarianceThreshold\n",
    "from sklearn.model_selection import train_test_split\n",
    "\n",
    "from functools import partial\n",
    "\n",
    "from skopt.space import Real, Integer, Categorical\n",
    "from skopt.utils import use_named_args\n",
    "from skopt import gp_minimize\n",
    "from skopt.plots import plot_convergence\n",
    "\n",
    "from bo_parameters import *"
   ]
  },
  {
   "cell_type": "code",
   "execution_count": 9,
   "metadata": {},
   "outputs": [],
   "source": [
    "classificators = [\n",
    "#     (\"LGBMClassifier\", LGBMClassifier, SEARCH_SPACE_LGBM, LIGHTGBM_PARAMS),\n",
    "#     (\"XGBClassifier\", XGBClassifier, SEARCH_SPACE_XGB, XGBOOST_PARAMS),\n",
    "    (\"TABNETClassifier\", TabNetClassifier, SEARCH_SPACE_TABNET, TABNET_PARAMS),\n",
    "]"
   ]
  },
  {
   "cell_type": "code",
   "execution_count": 10,
   "metadata": {},
   "outputs": [],
   "source": [
    "data = pd.read_csv(\"data/census_income/train.csv\")"
   ]
  },
  {
   "cell_type": "code",
   "execution_count": 11,
   "metadata": {},
   "outputs": [],
   "source": [
    "X = data.drop([\"TARGET\"], axis=1).values\n",
    "y = data[\"TARGET\"].values"
   ]
  },
  {
   "cell_type": "code",
   "execution_count": 12,
   "metadata": {},
   "outputs": [],
   "source": [
    "train_x, valid_x, train_y, valid_y = train_test_split(X, y, test_size=0.2, shuffle=True)"
   ]
  },
  {
   "cell_type": "code",
   "execution_count": 13,
   "metadata": {},
   "outputs": [],
   "source": [
    "def BayesianOptimization(clf, params, search_range, model_name):\n",
    "    def func_gb(values):\n",
    "        for i, param in enumerate(search_range):\n",
    "            params[param.name] = values[i]\n",
    "            if param.name == \"n_a\":\n",
    "                params[\"n_d\"] = values[i]\n",
    "        print('\\nTesting next set of paramaters...', params)\n",
    "\n",
    "        model = clf(**params)\n",
    "        model.fit(train_x, train_y, eval_set=[(valid_x, valid_y)], eval_metric=[\"auc\"], early_stopping_rounds=10, verbose=0)\n",
    "        neg_auc = round(-roc_auc_score(valid_y, model.predict_proba(valid_x)[:, 1]), 6)\n",
    "\n",
    "        print('AUC: ', -neg_auc, ' of boosting iteration ')\n",
    "        return neg_auc\n",
    "    \n",
    "    def func_tabnet(values):\n",
    "        for i, param in enumerate(search_range):\n",
    "            params[param.name] = values[i]\n",
    "            if param.name == \"n_a\":\n",
    "                params[\"n_d\"] = values[i]\n",
    "        print('\\nTesting next set of paramaters...', params)\n",
    "\n",
    "        model = clf(**params)\n",
    "        model.fit(train_x, train_y, eval_set=[(valid_x, valid_y)], eval_metric=[\"auc\"], max_epochs=30)\n",
    "        neg_auc = round(-roc_auc_score(valid_y, model.predict_proba(valid_x)[:, 1]), 6)\n",
    "\n",
    "        print('AUC: ', -neg_auc, ' of boosting iteration ')\n",
    "        return neg_auc\n",
    "    \n",
    "    return func_gb if model_name != \"TABNETClassifier\" else func_tabnet"
   ]
  },
  {
   "cell_type": "code",
   "execution_count": 14,
   "metadata": {
    "scrolled": true
   },
   "outputs": [
    {
     "name": "stdout",
     "output_type": "stream",
     "text": [
      "Iteration No: 1 started. Evaluating function at random point.\n",
      "\n",
      "Testing next set of paramaters... {'seed': 42, 'verbose': False, 'gamma': 1.0376772020454097, 'lambda_sparse': 0.039928237624156156, 'n_steps': 4, 'n_a': 32, 'n_d': 32}\n",
      "\n",
      "Early stopping occurred at epoch 20 with best_epoch = 10 and best_val_0_auc = 0.90822\n",
      "Best weights from best epoch are automatically used!\n",
      "AUC:  0.908223  of boosting iteration \n",
      "Iteration No: 1 ended. Evaluation done at random point.\n",
      "Time taken: 83.5610\n",
      "Function value obtained: -0.9082\n",
      "Current minimum: -0.9082\n",
      "Iteration No: 2 started. Evaluating function at random point.\n",
      "\n",
      "Testing next set of paramaters... {'seed': 42, 'verbose': False, 'gamma': 1.506890211137065, 'lambda_sparse': 0.04358101743892918, 'n_steps': 5, 'n_a': 40, 'n_d': 40}\n",
      "Stop training because you reached max_epochs = 30 with best_epoch = 27 and best_val_0_auc = 0.9055\n",
      "Best weights from best epoch are automatically used!\n",
      "AUC:  0.9055  of boosting iteration \n",
      "Iteration No: 2 ended. Evaluation done at random point.\n",
      "Time taken: 146.9328\n",
      "Function value obtained: -0.9055\n",
      "Current minimum: -0.9082\n",
      "Iteration No: 3 started. Evaluating function at random point.\n",
      "\n",
      "Testing next set of paramaters... {'seed': 42, 'verbose': False, 'gamma': 1.0603658945789454, 'lambda_sparse': 0.08257932112957014, 'n_steps': 4, 'n_a': 64, 'n_d': 64}\n",
      "Stop training because you reached max_epochs = 30 with best_epoch = 23 and best_val_0_auc = 0.90548\n",
      "Best weights from best epoch are automatically used!\n",
      "AUC:  0.905473  of boosting iteration \n",
      "Iteration No: 3 ended. Evaluation done at random point.\n",
      "Time taken: 149.2380\n",
      "Function value obtained: -0.9055\n",
      "Current minimum: -0.9082\n",
      "Iteration No: 4 started. Evaluating function at random point.\n",
      "\n",
      "Testing next set of paramaters... {'seed': 42, 'verbose': False, 'gamma': 1.1099085960544444, 'lambda_sparse': 0.02838330067391736, 'n_steps': 4, 'n_a': 24, 'n_d': 24}\n",
      "Stop training because you reached max_epochs = 30 with best_epoch = 24 and best_val_0_auc = 0.9072\n",
      "Best weights from best epoch are automatically used!\n",
      "AUC:  0.907198  of boosting iteration \n",
      "Iteration No: 4 ended. Evaluation done at random point.\n",
      "Time taken: 103.8873\n",
      "Function value obtained: -0.9072\n",
      "Current minimum: -0.9082\n",
      "Iteration No: 5 started. Evaluating function at random point.\n",
      "\n",
      "Testing next set of paramaters... {'seed': 42, 'verbose': False, 'gamma': 1.1436580097054696, 'lambda_sparse': 0.05084062002291607, 'n_steps': 6, 'n_a': 40, 'n_d': 40}\n",
      "Stop training because you reached max_epochs = 30 with best_epoch = 28 and best_val_0_auc = 0.90922\n",
      "Best weights from best epoch are automatically used!\n",
      "AUC:  0.909221  of boosting iteration \n",
      "Iteration No: 5 ended. Evaluation done at random point.\n",
      "Time taken: 170.2514\n",
      "Function value obtained: -0.9092\n",
      "Current minimum: -0.9092\n",
      "Iteration No: 6 started. Evaluating function at random point.\n",
      "\n",
      "Testing next set of paramaters... {'seed': 42, 'verbose': False, 'gamma': 1.600558612239774, 'lambda_sparse': 0.08798376020985063, 'n_steps': 3, 'n_a': 24, 'n_d': 24}\n",
      "\n",
      "Early stopping occurred at epoch 29 with best_epoch = 19 and best_val_0_auc = 0.90475\n",
      "Best weights from best epoch are automatically used!\n",
      "AUC:  0.904745  of boosting iteration \n",
      "Iteration No: 6 ended. Evaluation done at random point.\n",
      "Time taken: 84.1871\n",
      "Function value obtained: -0.9047\n",
      "Current minimum: -0.9092\n",
      "Iteration No: 7 started. Evaluating function at random point.\n",
      "\n",
      "Testing next set of paramaters... {'seed': 42, 'verbose': False, 'gamma': 1.5120150425109116, 'lambda_sparse': 0.06819789865727716, 'n_steps': 10, 'n_a': 48, 'n_d': 48}\n",
      "\n",
      "Early stopping occurred at epoch 27 with best_epoch = 17 and best_val_0_auc = 0.90259\n",
      "Best weights from best epoch are automatically used!\n",
      "AUC:  0.902588  of boosting iteration \n",
      "Iteration No: 7 ended. Evaluation done at random point.\n",
      "Time taken: 265.0326\n",
      "Function value obtained: -0.9026\n",
      "Current minimum: -0.9092\n",
      "Iteration No: 8 started. Evaluating function at random point.\n",
      "\n",
      "Testing next set of paramaters... {'seed': 42, 'verbose': False, 'gamma': 1.524741059539195, 'lambda_sparse': 0.05578568194408987, 'n_steps': 7, 'n_a': 40, 'n_d': 40}\n",
      "Stop training because you reached max_epochs = 30 with best_epoch = 25 and best_val_0_auc = 0.90335\n",
      "Best weights from best epoch are automatically used!\n",
      "AUC:  0.903352  of boosting iteration \n",
      "Iteration No: 8 ended. Evaluation done at random point.\n",
      "Time taken: 193.6035\n",
      "Function value obtained: -0.9034\n",
      "Current minimum: -0.9092\n",
      "Iteration No: 9 started. Evaluating function at random point.\n",
      "\n",
      "Testing next set of paramaters... {'seed': 42, 'verbose': False, 'gamma': 1.7616633378621298, 'lambda_sparse': 0.023376621840471717, 'n_steps': 5, 'n_a': 24, 'n_d': 24}\n",
      "Stop training because you reached max_epochs = 30 with best_epoch = 28 and best_val_0_auc = 0.89822\n",
      "Best weights from best epoch are automatically used!\n",
      "AUC:  0.898218  of boosting iteration \n",
      "Iteration No: 9 ended. Evaluation done at random point.\n",
      "Time taken: 123.6944\n",
      "Function value obtained: -0.8982\n",
      "Current minimum: -0.9092\n",
      "Iteration No: 10 started. Evaluating function at random point.\n",
      "\n",
      "Testing next set of paramaters... {'seed': 42, 'verbose': False, 'gamma': 1.4096305667097755, 'lambda_sparse': 0.0958986859246896, 'n_steps': 5, 'n_a': 32, 'n_d': 32}\n",
      "Stop training because you reached max_epochs = 30 with best_epoch = 26 and best_val_0_auc = 0.90547\n",
      "Best weights from best epoch are automatically used!\n",
      "AUC:  0.905466  of boosting iteration \n",
      "Iteration No: 10 ended. Evaluation done at random point.\n",
      "Time taken: 143.3011\n",
      "Function value obtained: -0.9055\n",
      "Current minimum: -0.9092\n",
      "Iteration No: 11 started. Searching for the next optimal point.\n",
      "\n",
      "Testing next set of paramaters... {'seed': 42, 'verbose': False, 'gamma': 1.0131059206061017, 'lambda_sparse': 0.0051151725754103195, 'n_steps': 10, 'n_a': 54, 'n_d': 54}\n",
      "Stop training because you reached max_epochs = 30 with best_epoch = 21 and best_val_0_auc = 0.91273\n",
      "Best weights from best epoch are automatically used!\n",
      "AUC:  0.912734  of boosting iteration \n",
      "Iteration No: 11 ended. Search finished for the next optimal point.\n",
      "Time taken: 267.9692\n",
      "Function value obtained: -0.9127\n",
      "Current minimum: -0.9127\n",
      "Iteration No: 12 started. Searching for the next optimal point.\n",
      "\n",
      "Testing next set of paramaters... {'seed': 42, 'verbose': False, 'gamma': 1.150584616523619, 'lambda_sparse': 0.001, 'n_steps': 10, 'n_a': 24, 'n_d': 24}\n",
      "Stop training because you reached max_epochs = 30 with best_epoch = 26 and best_val_0_auc = 0.90917\n",
      "Best weights from best epoch are automatically used!\n",
      "AUC:  0.909175  of boosting iteration \n",
      "Iteration No: 12 ended. Search finished for the next optimal point.\n",
      "Time taken: 224.4724\n",
      "Function value obtained: -0.9092\n",
      "Current minimum: -0.9127\n",
      "Iteration No: 13 started. Searching for the next optimal point.\n",
      "\n",
      "Testing next set of paramaters... {'seed': 42, 'verbose': False, 'gamma': 1.9812754992808146, 'lambda_sparse': 0.09977650013817695, 'n_steps': 10, 'n_a': 54, 'n_d': 54}\n",
      "Stop training because you reached max_epochs = 30 with best_epoch = 27 and best_val_0_auc = 0.90579\n",
      "Best weights from best epoch are automatically used!\n",
      "AUC:  0.905787  of boosting iteration \n",
      "Iteration No: 13 ended. Search finished for the next optimal point.\n",
      "Time taken: 268.3281\n",
      "Function value obtained: -0.9058\n",
      "Current minimum: -0.9127\n",
      "Iteration No: 14 started. Searching for the next optimal point.\n",
      "\n",
      "Testing next set of paramaters... {'seed': 42, 'verbose': False, 'gamma': 1.010955599089463, 'lambda_sparse': 0.0904931599290141, 'n_steps': 10, 'n_a': 16, 'n_d': 16}\n",
      "Stop training because you reached max_epochs = 30 with best_epoch = 26 and best_val_0_auc = 0.90914\n",
      "Best weights from best epoch are automatically used!\n",
      "AUC:  0.909136  of boosting iteration \n",
      "Iteration No: 14 ended. Search finished for the next optimal point.\n",
      "Time taken: 197.7789\n",
      "Function value obtained: -0.9091\n",
      "Current minimum: -0.9127\n",
      "Iteration No: 15 started. Searching for the next optimal point.\n",
      "\n",
      "Testing next set of paramaters... {'seed': 42, 'verbose': False, 'gamma': 1.997935628640341, 'lambda_sparse': 0.006774447988400915, 'n_steps': 3, 'n_a': 54, 'n_d': 54}\n",
      "Stop training because you reached max_epochs = 30 with best_epoch = 22 and best_val_0_auc = 0.91066\n",
      "Best weights from best epoch are automatically used!\n"
     ]
    },
    {
     "name": "stdout",
     "output_type": "stream",
     "text": [
      "AUC:  0.910661  of boosting iteration \n",
      "Iteration No: 15 ended. Search finished for the next optimal point.\n",
      "Time taken: 99.9303\n",
      "Function value obtained: -0.9107\n",
      "Current minimum: -0.9127\n",
      "Iteration No: 16 started. Searching for the next optimal point.\n",
      "\n",
      "Testing next set of paramaters... {'seed': 42, 'verbose': False, 'gamma': 1.2625191437210406, 'lambda_sparse': 0.011940600659062026, 'n_steps': 3, 'n_a': 32, 'n_d': 32}\n",
      "Stop training because you reached max_epochs = 30 with best_epoch = 28 and best_val_0_auc = 0.91098\n",
      "Best weights from best epoch are automatically used!\n",
      "AUC:  0.910976  of boosting iteration \n",
      "Iteration No: 16 ended. Search finished for the next optimal point.\n",
      "Time taken: 95.6978\n",
      "Function value obtained: -0.9110\n",
      "Current minimum: -0.9127\n",
      "Iteration No: 17 started. Searching for the next optimal point.\n",
      "\n",
      "Testing next set of paramaters... {'seed': 42, 'verbose': False, 'gamma': 1.2657371678860991, 'lambda_sparse': 0.0978158176104867, 'n_steps': 10, 'n_a': 16, 'n_d': 16}\n",
      "Stop training because you reached max_epochs = 30 with best_epoch = 26 and best_val_0_auc = 0.91077\n",
      "Best weights from best epoch are automatically used!\n",
      "AUC:  0.910767  of boosting iteration \n",
      "Iteration No: 17 ended. Search finished for the next optimal point.\n",
      "Time taken: 197.1809\n",
      "Function value obtained: -0.9108\n",
      "Current minimum: -0.9127\n",
      "Iteration No: 18 started. Searching for the next optimal point.\n",
      "\n",
      "Testing next set of paramaters... {'seed': 42, 'verbose': False, 'gamma': 1.2192280191041323, 'lambda_sparse': 0.1, 'n_steps': 3, 'n_a': 54, 'n_d': 54}\n",
      "Stop training because you reached max_epochs = 30 with best_epoch = 21 and best_val_0_auc = 0.90774\n",
      "Best weights from best epoch are automatically used!\n",
      "AUC:  0.907741  of boosting iteration \n",
      "Iteration No: 18 ended. Search finished for the next optimal point.\n",
      "Time taken: 99.8651\n",
      "Function value obtained: -0.9077\n",
      "Current minimum: -0.9127\n",
      "Iteration No: 19 started. Searching for the next optimal point.\n",
      "\n",
      "Testing next set of paramaters... {'seed': 42, 'verbose': False, 'gamma': 1.3494060061262352, 'lambda_sparse': 0.002148259888197917, 'n_steps': 10, 'n_a': 54, 'n_d': 54}\n",
      "Stop training because you reached max_epochs = 30 with best_epoch = 22 and best_val_0_auc = 0.90316\n",
      "Best weights from best epoch are automatically used!\n",
      "AUC:  0.903162  of boosting iteration \n",
      "Iteration No: 19 ended. Search finished for the next optimal point.\n",
      "Time taken: 267.6565\n",
      "Function value obtained: -0.9032\n",
      "Current minimum: -0.9127\n",
      "Iteration No: 20 started. Searching for the next optimal point.\n",
      "\n",
      "Testing next set of paramaters... {'seed': 42, 'verbose': False, 'gamma': 1.9998682655905573, 'lambda_sparse': 0.06326661364617037, 'n_steps': 5, 'n_a': 8, 'n_d': 8}\n",
      "\n",
      "Early stopping occurred at epoch 21 with best_epoch = 11 and best_val_0_auc = 0.89469\n",
      "Best weights from best epoch are automatically used!\n",
      "AUC:  0.894686  of boosting iteration \n",
      "Iteration No: 20 ended. Search finished for the next optimal point.\n",
      "Time taken: 60.4223\n",
      "Function value obtained: -0.8947\n",
      "Current minimum: -0.9127\n",
      "Iteration No: 21 started. Searching for the next optimal point.\n",
      "\n",
      "Testing next set of paramaters... {'seed': 42, 'verbose': False, 'gamma': 1.683054545509051, 'lambda_sparse': 0.08691118149151411, 'n_steps': 3, 'n_a': 64, 'n_d': 64}\n",
      "Stop training because you reached max_epochs = 30 with best_epoch = 29 and best_val_0_auc = 0.90914\n",
      "Best weights from best epoch are automatically used!\n",
      "AUC:  0.909138  of boosting iteration \n",
      "Iteration No: 21 ended. Search finished for the next optimal point.\n",
      "Time taken: 121.5904\n",
      "Function value obtained: -0.9091\n",
      "Current minimum: -0.9127\n",
      "Iteration No: 22 started. Searching for the next optimal point.\n",
      "\n",
      "Testing next set of paramaters... {'seed': 42, 'verbose': False, 'gamma': 1.0, 'lambda_sparse': 0.06267065762488216, 'n_steps': 8, 'n_a': 64, 'n_d': 64}\n",
      "Stop training because you reached max_epochs = 30 with best_epoch = 26 and best_val_0_auc = 0.91021\n",
      "Best weights from best epoch are automatically used!\n",
      "AUC:  0.910209  of boosting iteration \n",
      "Iteration No: 22 ended. Search finished for the next optimal point.\n",
      "Time taken: 264.7500\n",
      "Function value obtained: -0.9102\n",
      "Current minimum: -0.9127\n",
      "Iteration No: 23 started. Searching for the next optimal point.\n",
      "\n",
      "Testing next set of paramaters... {'seed': 42, 'verbose': False, 'gamma': 1.0, 'lambda_sparse': 0.09686178271350572, 'n_steps': 9, 'n_a': 48, 'n_d': 48}\n",
      "Stop training because you reached max_epochs = 30 with best_epoch = 29 and best_val_0_auc = 0.90897\n",
      "Best weights from best epoch are automatically used!\n",
      "AUC:  0.908972  of boosting iteration \n",
      "Iteration No: 23 ended. Search finished for the next optimal point.\n",
      "Time taken: 259.3004\n",
      "Function value obtained: -0.9090\n",
      "Current minimum: -0.9127\n",
      "Iteration No: 24 started. Searching for the next optimal point.\n",
      "\n",
      "Testing next set of paramaters... {'seed': 42, 'verbose': False, 'gamma': 2.0, 'lambda_sparse': 0.1, 'n_steps': 3, 'n_a': 64, 'n_d': 64}\n",
      "Stop training because you reached max_epochs = 30 with best_epoch = 22 and best_val_0_auc = 0.89733\n",
      "Best weights from best epoch are automatically used!\n",
      "AUC:  0.897348  of boosting iteration \n",
      "Iteration No: 24 ended. Search finished for the next optimal point.\n",
      "Time taken: 121.3482\n",
      "Function value obtained: -0.8973\n",
      "Current minimum: -0.9127\n",
      "Iteration No: 25 started. Searching for the next optimal point.\n",
      "\n",
      "Testing next set of paramaters... {'seed': 42, 'verbose': False, 'gamma': 1.7598309023145247, 'lambda_sparse': 0.09957010660791883, 'n_steps': 10, 'n_a': 54, 'n_d': 54}\n",
      "\n",
      "Early stopping occurred at epoch 25 with best_epoch = 15 and best_val_0_auc = 0.89064\n",
      "Best weights from best epoch are automatically used!\n",
      "AUC:  0.890639  of boosting iteration \n",
      "Iteration No: 25 ended. Search finished for the next optimal point.\n",
      "Time taken: 234.0946\n",
      "Function value obtained: -0.8906\n",
      "Current minimum: -0.9127\n",
      "Iteration No: 26 started. Searching for the next optimal point.\n",
      "\n",
      "Testing next set of paramaters... {'seed': 42, 'verbose': False, 'gamma': 1.3946253857106836, 'lambda_sparse': 0.005088245012925866, 'n_steps': 3, 'n_a': 54, 'n_d': 54}\n",
      "Stop training because you reached max_epochs = 30 with best_epoch = 26 and best_val_0_auc = 0.91248\n",
      "Best weights from best epoch are automatically used!\n",
      "AUC:  0.91248  of boosting iteration \n",
      "Iteration No: 26 ended. Search finished for the next optimal point.\n",
      "Time taken: 100.7660\n",
      "Function value obtained: -0.9125\n",
      "Current minimum: -0.9127\n",
      "Iteration No: 27 started. Searching for the next optimal point.\n",
      "\n",
      "Testing next set of paramaters... {'seed': 42, 'verbose': False, 'gamma': 1.0, 'lambda_sparse': 0.001, 'n_steps': 8, 'n_a': 8, 'n_d': 8}\n",
      "Stop training because you reached max_epochs = 30 with best_epoch = 28 and best_val_0_auc = 0.91079\n",
      "Best weights from best epoch are automatically used!\n",
      "AUC:  0.91079  of boosting iteration \n",
      "Iteration No: 27 ended. Search finished for the next optimal point.\n",
      "Time taken: 120.2278\n",
      "Function value obtained: -0.9108\n",
      "Current minimum: -0.9127\n",
      "Iteration No: 28 started. Searching for the next optimal point.\n",
      "\n",
      "Testing next set of paramaters... {'seed': 42, 'verbose': False, 'gamma': 2.0, 'lambda_sparse': 0.001, 'n_steps': 10, 'n_a': 40, 'n_d': 40}\n",
      "\n",
      "Early stopping occurred at epoch 29 with best_epoch = 19 and best_val_0_auc = 0.89698\n",
      "Best weights from best epoch are automatically used!\n",
      "AUC:  0.896983  of boosting iteration \n",
      "Iteration No: 28 ended. Search finished for the next optimal point.\n",
      "Time taken: 266.6604\n",
      "Function value obtained: -0.8970\n",
      "Current minimum: -0.9127\n",
      "Iteration No: 29 started. Searching for the next optimal point.\n",
      "\n",
      "Testing next set of paramaters... {'seed': 42, 'verbose': False, 'gamma': 1.1538774767344684, 'lambda_sparse': 0.07446902399683324, 'n_steps': 10, 'n_a': 64, 'n_d': 64}\n",
      "Stop training because you reached max_epochs = 30 with best_epoch = 24 and best_val_0_auc = 0.90676\n",
      "Best weights from best epoch are automatically used!\n",
      "AUC:  0.906756  of boosting iteration \n",
      "Iteration No: 29 ended. Search finished for the next optimal point.\n",
      "Time taken: 327.7998\n",
      "Function value obtained: -0.9068\n",
      "Current minimum: -0.9127\n",
      "Iteration No: 30 started. Searching for the next optimal point.\n",
      "\n",
      "Testing next set of paramaters... {'seed': 42, 'verbose': False, 'gamma': 1.3389723208698463, 'lambda_sparse': 0.041611930181800004, 'n_steps': 3, 'n_a': 16, 'n_d': 16}\n"
     ]
    },
    {
     "name": "stdout",
     "output_type": "stream",
     "text": [
      "Stop training because you reached max_epochs = 30 with best_epoch = 29 and best_val_0_auc = 0.90421\n",
      "Best weights from best epoch are automatically used!\n",
      "AUC:  0.904207  of boosting iteration \n",
      "Iteration No: 30 ended. Search finished for the next optimal point.\n",
      "Time taken: 77.1369\n",
      "Function value obtained: -0.9042\n",
      "Current minimum: -0.9127\n"
     ]
    }
   ],
   "source": [
    "results = dict()\n",
    "for clf_name, clf, search_range, params in classificators:\n",
    "    res_gp = gp_minimize(BayesianOptimization(clf, params, search_range, clf_name), search_range, n_jobs=-1, verbose=True, n_random_starts=10, n_calls=30)\n",
    "    results[clf_name] = res_gp\n",
    "    with open('{}_res_gp.pickle'.format(clf_name), 'wb') as f:\n",
    "        pickle.dump(data, f)"
   ]
  },
  {
   "cell_type": "code",
   "execution_count": 13,
   "metadata": {
    "_uuid": "51a34238757440c706d13ccb0cd7fb187d3fee53"
   },
   "outputs": [
    {
     "data": {
      "text/plain": [
       "<AxesSubplot:title={'center':'Convergence plot'}, xlabel='Number of calls $n$', ylabel='$\\\\min f(x)$ after $n$ calls'>"
      ]
     },
     "execution_count": 13,
     "metadata": {},
     "output_type": "execute_result"
    },
    {
     "data": {
      "image/png": "[encoded data removed]",
      "text/plain": [
       "<Figure size 432x288 with 1 Axes>"
      ]
     },
     "metadata": {
      "needs_background": "light"
     },
     "output_type": "display_data"
    }
   ],
   "source": [
    "plot_convergence(results[\"XGBClassifier\"])"
   ]
  },
  {
   "cell_type": "code",
   "execution_count": 14,
   "metadata": {},
   "outputs": [
    {
     "data": {
      "text/plain": [
       "<AxesSubplot:title={'center':'Convergence plot'}, xlabel='Number of calls $n$', ylabel='$\\\\min f(x)$ after $n$ calls'>"
      ]
     },
     "execution_count": 14,
     "metadata": {},
     "output_type": "execute_result"
    },
    {
     "data": {
      "image/png": "[encoded data removed]",
      "text/plain": [
       "<Figure size 432x288 with 1 Axes>"
      ]
     },
     "metadata": {
      "needs_background": "light"
     },
     "output_type": "display_data"
    }
   ],
   "source": [
    "plot_convergence(results[\"LGBMClassifier\"])"
   ]
  },
  {
   "cell_type": "code",
   "execution_count": 15,
   "metadata": {},
   "outputs": [
    {
     "data": {
      "text/plain": [
       "<AxesSubplot:title={'center':'Convergence plot'}, xlabel='Number of calls $n$', ylabel='$\\\\min f(x)$ after $n$ calls'>"
      ]
     },
     "execution_count": 15,
     "metadata": {},
     "output_type": "execute_result"
    },
    {
     "data": {
      "image/png": "[encoded data removed]",
      "text/plain": [
       "<Figure size 432x288 with 1 Axes>"
      ]
     },
     "metadata": {
      "needs_background": "light"
     },
     "output_type": "display_data"
    }
   ],
   "source": [
    "plot_convergence(results[\"TABNETClassifier\"])"
   ]
  },
  {
   "cell_type": "code",
   "execution_count": 15,
   "metadata": {},
   "outputs": [
    {
     "data": {
      "text/plain": [
       "[0.10284216487315759, 4, 955]"
      ]
     },
     "execution_count": 15,
     "metadata": {},
     "output_type": "execute_result"
    }
   ],
   "source": [
    "results[\"LGBMClassifier\"].x"
   ]
  },
  {
   "cell_type": "code",
   "execution_count": 16,
   "metadata": {},
   "outputs": [
    {
     "data": {
      "text/plain": [
       "[0.3317433223693123, 4, 772]"
      ]
     },
     "execution_count": 16,
     "metadata": {},
     "output_type": "execute_result"
    }
   ],
   "source": [
    "results[\"XGBClassifier\"].x"
   ]
  },
  {
   "cell_type": "code",
   "execution_count": 16,
   "metadata": {},
   "outputs": [
    {
     "data": {
      "text/plain": [
       "[1.0131059206061017, 0.0051151725754103195, 10, 54]"
      ]
     },
     "execution_count": 16,
     "metadata": {},
     "output_type": "execute_result"
    }
   ],
   "source": [
    "results[\"TABNETClassifier\"].x"
   ]
  }
 ],
 "metadata": {
  "kernelspec": {
   "display_name": "Python 3",
   "language": "python",
   "name": "python3"
  },
  "language_info": {
   "codemirror_mode": {
    "name": "ipython",
    "version": 3
   },
   "file_extension": ".py",
   "mimetype": "text/x-python",
   "name": "python",
   "nbconvert_exporter": "python",
   "pygments_lexer": "ipython3",
   "version": "3.8.5"
  }
 },
 "nbformat": 4,
 "nbformat_minor": 1
}
