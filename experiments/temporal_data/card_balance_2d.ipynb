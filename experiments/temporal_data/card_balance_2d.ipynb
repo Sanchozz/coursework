{
 "cells": [
  {
   "cell_type": "code",
   "execution_count": 19,
   "metadata": {},
   "outputs": [
    {
     "data": {
      "text/plain": [
       "<module 'classifiers.resnet' from '/home/aasleptsov98/Coursework/cnn_vs_rnn/classifiers/resnet.py'>"
      ]
     },
     "execution_count": 19,
     "metadata": {},
     "output_type": "execute_result"
    }
   ],
   "source": [
    "import numpy as np\n",
    "import pandas as pd\n",
    "import importlib\n",
    "import sys\n",
    "# import keras\n",
    "from tqdm import tqdm\n",
    "import pickle\n",
    "from sklearn import preprocessing\n",
    "from sklearn.model_selection import train_test_split\n",
    "from keras.utils import to_categorical\n",
    "from keras.optimizers import SGD\n",
    "from sklearn.preprocessing import StandardScaler\n",
    "from sklearn.metrics import roc_auc_score\n",
    "from sklearn.utils import class_weight\n",
    "from sklearn.utils import resample\n",
    "from collections import defaultdict\n",
    "from collections import Counter\n",
    "\n",
    "from classifiers.cnn2d import Classifier_CNN2D\n",
    "from classifiers.fcn2d import Classifier_FCN2D\n",
    "from classifiers.resnet import Classifier_RESNET\n",
    "importlib.reload(sys.modules[Classifier_CNN2D.__module__])\n",
    "importlib.reload(sys.modules[Classifier_FCN2D.__module__])\n",
    "importlib.reload(sys.modules[Classifier_RESNET.__module__])"
   ]
  },
  {
   "cell_type": "code",
   "execution_count": 3,
   "metadata": {},
   "outputs": [],
   "source": [
    "data_name = \"balance_2d.data.pkl\""
   ]
  },
  {
   "cell_type": "code",
   "execution_count": 4,
   "metadata": {},
   "outputs": [],
   "source": [
    "app_train = pd.read_csv(\"input/application_train.csv\")\n",
    "credit_balance = pd.read_csv(\"input/credit_card_balance.csv\")"
   ]
  },
  {
   "cell_type": "code",
   "execution_count": 5,
   "metadata": {},
   "outputs": [],
   "source": [
    "credit_balance = credit_balance.fillna(0)"
   ]
  },
  {
   "cell_type": "code",
   "execution_count": 6,
   "metadata": {},
   "outputs": [
    {
     "data": {
      "text/plain": [
       "OneHotEncoder()"
      ]
     },
     "execution_count": 6,
     "metadata": {},
     "output_type": "execute_result"
    }
   ],
   "source": [
    "ohe = preprocessing.OneHotEncoder()\n",
    "categories = np.array(list(set(credit_balance[\"NAME_CONTRACT_STATUS\"].astype(str).values))).reshape(-1,1)\n",
    "ohe.fit(categories)"
   ]
  },
  {
   "cell_type": "code",
   "execution_count": 7,
   "metadata": {},
   "outputs": [],
   "source": [
    "encoded = np.array(ohe.transform(credit_balance[\"NAME_CONTRACT_STATUS\"].values.reshape(-1,1)).todense())\n",
    "temp_df = pd.DataFrame(encoded, columns=range(encoded.shape[1]))"
   ]
  },
  {
   "cell_type": "code",
   "execution_count": 8,
   "metadata": {},
   "outputs": [],
   "source": [
    "credit_balance = pd.concat([credit_balance.drop([\"NAME_CONTRACT_STATUS\"], axis=1), temp_df], axis=1)"
   ]
  },
  {
   "cell_type": "code",
   "execution_count": 9,
   "metadata": {},
   "outputs": [],
   "source": [
    "n_timesteps = 80\n",
    "n_features = credit_balance.shape[1] - 2\n",
    "n_credits = 3"
   ]
  },
  {
   "cell_type": "code",
   "execution_count": 10,
   "metadata": {},
   "outputs": [
    {
     "name": "stderr",
     "output_type": "stream",
     "text": [
      "307511it [00:29, 10361.50it/s]\n"
     ]
    }
   ],
   "source": [
    "targets = dict()\n",
    "for index, row in tqdm(app_train.iterrows()):\n",
    "    targets[row[\"SK_ID_CURR\"]] = row[\"TARGET\"]"
   ]
  },
  {
   "cell_type": "code",
   "execution_count": 11,
   "metadata": {
    "scrolled": false
   },
   "outputs": [
    {
     "name": "stderr",
     "output_type": "stream",
     "text": [
      "100%|██████████| 104307/104307 [02:07<00:00, 819.98it/s]\n"
     ]
    }
   ],
   "source": [
    "credits_X = defaultdict(list)\n",
    "credits_y = defaultdict(int)\n",
    "\n",
    "for id_cur, df_id_cur in tqdm(credit_balance.groupby(by=[\"SK_ID_PREV\", \"SK_ID_CURR\"])):\n",
    "    if len(df_id_cur) > 0 and id_cur[1] in targets:\n",
    "#         X.append(df_id_cur.sort_values(by=['MONTHS_BALANCE'])[-n_timesteps:].drop([\"SK_ID_PREV\", \"SK_ID_CURR\"], axis=1).values)\n",
    "#         y.append(targets[id_cur[1]])\n",
    "        \n",
    "        credits_X[id_cur[1]].append(df_id_cur.sort_values(by=['MONTHS_BALANCE'])[-n_timesteps:].drop([\"SK_ID_PREV\", \"SK_ID_CURR\"], axis=1).values)\n",
    "        credits_y[id_cur[1]] = targets[id_cur[1]]"
   ]
  },
  {
   "cell_type": "code",
   "execution_count": 12,
   "metadata": {},
   "outputs": [],
   "source": [
    "X = []\n",
    "y = []\n",
    "\n",
    "for key in credits_X.keys():\n",
    "    X.append(credits_X[key])\n",
    "    y.append(credits_y[key])"
   ]
  },
  {
   "cell_type": "code",
   "execution_count": 12,
   "metadata": {},
   "outputs": [],
   "source": [
    "with open(data_name, \"wb\") as f:\n",
    "    pickle.dump((X, y), f)"
   ]
  },
  {
   "cell_type": "code",
   "execution_count": 19,
   "metadata": {},
   "outputs": [
    {
     "name": "stdout",
     "output_type": "stream",
     "text": [
      "80 1 34.376675204683714\n"
     ]
    }
   ],
   "source": [
    "lens = []\n",
    "for data in X:\n",
    "    lens.append(len(data))\n",
    "print(max(lens), min(lens), sum(lens) / len(lens))"
   ]
  },
  {
   "cell_type": "code",
   "execution_count": 13,
   "metadata": {},
   "outputs": [],
   "source": [
    "for i in range(len(X)):\n",
    "    for j in range(len(X[i])):\n",
    "        X[i][j] = np.append(np.zeros((max(n_timesteps - X[i][j].shape[0], 0), X[i][j].shape[1]), dtype=int), X[i][j], axis=0)\n",
    "    for j in range(n_credits - len(X[i])):\n",
    "        X[i].append(np.zeros((n_timesteps, n_features), dtype=int))\n",
    "    if len(X[i]) > n_credits:\n",
    "        X[i] = X[i][:n_credits]"
   ]
  },
  {
   "cell_type": "code",
   "execution_count": 14,
   "metadata": {},
   "outputs": [],
   "source": [
    "X = np.rollaxis(np.array(X), 1, 4)\n",
    "y = np.array(y)\n",
    "bincount_classes = np.bincount(y)\n",
    "weights = {0: bincount_classes[0] / np.max(bincount_classes), 1: bincount_classes[1] / np.max(bincount_classes)}"
   ]
  },
  {
   "cell_type": "code",
   "execution_count": null,
   "metadata": {},
   "outputs": [],
   "source": [
    "#upsample\n",
    "minority_class = X[y==1]\n",
    "bc = np.bincount(y)\n",
    "upsampled_minority_class = resample(minority_class, replace=True, n_samples=bc[0]-bc[1], random_state=123)\n",
    "upsampled_X = np.append(X, upsampled_minority_class, axis=0)\n",
    "upsampled_y = np.append(y, np.ones(bc[0]-bc[1], dtype=int))\n",
    "weights = {0: 1, 1: 1}"
   ]
  },
  {
   "cell_type": "code",
   "execution_count": 205,
   "metadata": {},
   "outputs": [
    {
     "data": {
      "text/plain": [
       "(86905, 3, 27, 80)"
      ]
     },
     "execution_count": 205,
     "metadata": {},
     "output_type": "execute_result"
    }
   ],
   "source": [
    "np.rollaxis(X, 3, 2).shape"
   ]
  },
  {
   "cell_type": "code",
   "execution_count": 15,
   "metadata": {},
   "outputs": [],
   "source": [
    "train_ratio = 0.8\n",
    "validation_ratio = 0.1\n",
    "test_ratio = 0.1\n",
    "\n",
    "X_train, X_test, y_train, y_test = train_test_split(X, y, test_size=1 - train_ratio)\n",
    "X_val, X_test, y_val, y_test = train_test_split(X_test, y_test, test_size=test_ratio/(test_ratio + validation_ratio))"
   ]
  },
  {
   "cell_type": "code",
   "execution_count": 16,
   "metadata": {},
   "outputs": [],
   "source": [
    "batch_size = 64\n",
    "epochs = 30"
   ]
  },
  {
   "cell_type": "code",
   "execution_count": 215,
   "metadata": {},
   "outputs": [
    {
     "data": {
      "text/plain": [
       "(80, 27, 3)"
      ]
     },
     "execution_count": 215,
     "metadata": {},
     "output_type": "execute_result"
    }
   ],
   "source": [
    "X[0].shape"
   ]
  },
  {
   "cell_type": "code",
   "execution_count": null,
   "metadata": {},
   "outputs": [],
   "source": [
    "model_cnn = Classifier_CNN2D(X[0].shape, nb_classes=2, verbose=True)\n",
    "model_cnn.fit(X_train, y_train, X_val, y_val, batch_size=batch_size, epochs=epochs)"
   ]
  },
  {
   "cell_type": "markdown",
   "metadata": {},
   "source": [
    "# FCN"
   ]
  },
  {
   "cell_type": "code",
   "execution_count": null,
   "metadata": {
    "scrolled": true
   },
   "outputs": [
    {
     "name": "stdout",
     "output_type": "stream",
     "text": [
      "Model: \"functional_1\"\n",
      "_________________________________________________________________\n",
      "Layer (type)                 Output Shape              Param #   \n",
      "=================================================================\n",
      "input_2 (InputLayer)         [(None, 80, 27, 3)]       0         \n",
      "_________________________________________________________________\n",
      "conv2d (Conv2D)              (None, 80, 27, 128)       24704     \n",
      "_________________________________________________________________\n",
      "batch_normalization (BatchNo (None, 80, 27, 128)       512       \n",
      "_________________________________________________________________\n",
      "activation (Activation)      (None, 80, 27, 128)       0         \n",
      "_________________________________________________________________\n",
      "conv2d_1 (Conv2D)            (None, 80, 27, 256)       819456    \n",
      "_________________________________________________________________\n",
      "batch_normalization_1 (Batch (None, 80, 27, 256)       1024      \n",
      "_________________________________________________________________\n",
      "activation_1 (Activation)    (None, 80, 27, 256)       0         \n",
      "_________________________________________________________________\n",
      "conv2d_2 (Conv2D)            (None, 80, 27, 128)       295040    \n",
      "_________________________________________________________________\n",
      "batch_normalization_2 (Batch (None, 80, 27, 128)       512       \n",
      "_________________________________________________________________\n",
      "activation_2 (Activation)    (None, 80, 27, 128)       0         \n",
      "_________________________________________________________________\n",
      "global_average_pooling2d (Gl (None, 128)               0         \n",
      "_________________________________________________________________\n",
      "dense (Dense)                (None, 1)                 129       \n",
      "=================================================================\n",
      "Total params: 1,141,377\n",
      "Trainable params: 1,140,353\n",
      "Non-trainable params: 1,024\n",
      "_________________________________________________________________\n",
      "Epoch 1/30\n",
      " 118/1087 [==>...........................] - ETA: 38:10 - loss: 0.3329 - auc: 0.5498"
     ]
    }
   ],
   "source": [
    "model_fcn = Classifier_FCN2D(X[0].shape, nb_classes=2)\n",
    "model_fcn.fit(X_train, y_train, X_val, y_val, batch_size=batch_size, epochs=epochs)"
   ]
  },
  {
   "cell_type": "code",
   "execution_count": 31,
   "metadata": {},
   "outputs": [
    {
     "data": {
      "text/plain": [
       "0.6727910449383746"
      ]
     },
     "execution_count": 31,
     "metadata": {},
     "output_type": "execute_result"
    }
   ],
   "source": [
    "y_pred_fcn = model_fcn.predict(X_test)\n",
    "roc_auc_score(y_test, y_pred_fcn) #0.6824 - imbalanced, 0.7854 - balanced (upsampled)"
   ]
  },
  {
   "cell_type": "markdown",
   "metadata": {},
   "source": [
    "# ResNet"
   ]
  },
  {
   "cell_type": "code",
   "execution_count": null,
   "metadata": {},
   "outputs": [],
   "source": [
    "model_resnet = Classifier_RESNET(X[0].shape, nb_classes=2, verbose=True)\n",
    "model_resnet.fit(X_train, y_train, X_val, y_val)"
   ]
  },
  {
   "cell_type": "code",
   "execution_count": null,
   "metadata": {},
   "outputs": [],
   "source": [
    "y_pred_resnet = model_resnet.predict(X_test)\n",
    "roc_auc_score(y_test, y_pred_resnet)"
   ]
  }
 ],
 "metadata": {
  "kernelspec": {
   "display_name": "Python 3",
   "language": "python",
   "name": "python3"
  },
  "language_info": {
   "codemirror_mode": {
    "name": "ipython",
    "version": 3
   },
   "file_extension": ".py",
   "mimetype": "text/x-python",
   "name": "python",
   "nbconvert_exporter": "python",
   "pygments_lexer": "ipython3",
   "version": "3.8.3"
  }
 },
 "nbformat": 4,
 "nbformat_minor": 4
}
