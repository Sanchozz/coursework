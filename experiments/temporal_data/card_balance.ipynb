{
 "cells": [
  {
   "cell_type": "code",
   "execution_count": 28,
   "metadata": {},
   "outputs": [
    {
     "data": {
      "text/plain": [
       "<module 'classifiers.resnet' from '/home/aasleptsov98/Coursework/cnn_vs_rnn/classifiers/resnet.py'>"
      ]
     },
     "execution_count": 28,
     "metadata": {},
     "output_type": "execute_result"
    }
   ],
   "source": [
    "import numpy as np\n",
    "import pandas as pd\n",
    "import importlib\n",
    "import sys\n",
    "# import keras\n",
    "from tqdm import tqdm\n",
    "import pickle\n",
    "from sklearn import preprocessing\n",
    "from sklearn.model_selection import train_test_split\n",
    "from keras.utils import to_categorical\n",
    "from keras.optimizers import SGD\n",
    "from sklearn.preprocessing import StandardScaler\n",
    "from sklearn.metrics import roc_auc_score\n",
    "from sklearn.utils import class_weight\n",
    "from sklearn.utils import resample\n",
    "from collections import defaultdict\n",
    "\n",
    "from classifiers.cnn import Classifier_CNN\n",
    "from classifiers.fcn import Classifier_FCN\n",
    "from classifiers.resnet import Classifier_RESNET\n",
    "importlib.reload(sys.modules[Classifier_CNN.__module__])\n",
    "importlib.reload(sys.modules[Classifier_FCN.__module__])\n",
    "importlib.reload(sys.modules[Classifier_RESNET.__module__])"
   ]
  },
  {
   "cell_type": "code",
   "execution_count": 17,
   "metadata": {},
   "outputs": [],
   "source": [
    "data_name = \"balance.data.pkl\""
   ]
  },
  {
   "cell_type": "code",
   "execution_count": 2,
   "metadata": {},
   "outputs": [],
   "source": [
    "app_train = pd.read_csv(\"input/application_train.csv\")\n",
    "credit_balance = pd.read_csv(\"input/credit_card_balance.csv\")"
   ]
  },
  {
   "cell_type": "code",
   "execution_count": 3,
   "metadata": {},
   "outputs": [],
   "source": [
    "credit_balance = credit_balance.fillna(0)"
   ]
  },
  {
   "cell_type": "code",
   "execution_count": 4,
   "metadata": {},
   "outputs": [
    {
     "data": {
      "text/plain": [
       "OneHotEncoder()"
      ]
     },
     "execution_count": 4,
     "metadata": {},
     "output_type": "execute_result"
    }
   ],
   "source": [
    "ohe = preprocessing.OneHotEncoder()\n",
    "categories = np.array(list(set(credit_balance[\"NAME_CONTRACT_STATUS\"].astype(str).values))).reshape(-1,1)\n",
    "ohe.fit(categories)"
   ]
  },
  {
   "cell_type": "code",
   "execution_count": 5,
   "metadata": {},
   "outputs": [],
   "source": [
    "encoded = np.array(ohe.transform(credit_balance[\"NAME_CONTRACT_STATUS\"].values.reshape(-1,1)).todense())\n",
    "temp_df = pd.DataFrame(encoded, columns=range(encoded.shape[1]))"
   ]
  },
  {
   "cell_type": "code",
   "execution_count": 6,
   "metadata": {},
   "outputs": [],
   "source": [
    "credit_balance = pd.concat([credit_balance.drop([\"NAME_CONTRACT_STATUS\"], axis=1), temp_df], axis=1)"
   ]
  },
  {
   "cell_type": "code",
   "execution_count": 7,
   "metadata": {},
   "outputs": [],
   "source": [
    "n_timesteps = 80\n",
    "n_features = credit_balance.shape[1]"
   ]
  },
  {
   "cell_type": "code",
   "execution_count": 9,
   "metadata": {},
   "outputs": [
    {
     "name": "stderr",
     "output_type": "stream",
     "text": [
      "307511it [00:41, 7345.82it/s]\n"
     ]
    }
   ],
   "source": [
    "targets = dict()\n",
    "for index, row in tqdm(app_train.iterrows()):\n",
    "    targets[row[\"SK_ID_CURR\"]] = row[\"TARGET\"]"
   ]
  },
  {
   "cell_type": "code",
   "execution_count": 16,
   "metadata": {
    "scrolled": false
   },
   "outputs": [
    {
     "name": "stderr",
     "output_type": "stream",
     "text": [
      "100%|██████████| 104307/104307 [02:29<00:00, 699.52it/s]\n"
     ]
    }
   ],
   "source": [
    "X = []\n",
    "y = []\n",
    "\n",
    "for id_cur, df_id_cur in tqdm(credit_balance.groupby(by=[\"SK_ID_PREV\", \"SK_ID_CURR\"])):\n",
    "    if len(df_id_cur) > 0 and id_cur[1] in targets:\n",
    "        X.append(df_id_cur.sort_values(by=['MONTHS_BALANCE'])[-n_timesteps:].drop([\"SK_ID_PREV\", \"SK_ID_CURR\"], axis=1).values)\n",
    "        y.append(targets[id_cur[1]])"
   ]
  },
  {
   "cell_type": "code",
   "execution_count": 18,
   "metadata": {},
   "outputs": [],
   "source": [
    "with open(data_name, \"wb\") as f:\n",
    "    pickle.dump((X, y), f)"
   ]
  },
  {
   "cell_type": "code",
   "execution_count": 19,
   "metadata": {},
   "outputs": [
    {
     "name": "stdout",
     "output_type": "stream",
     "text": [
      "80 1 34.376675204683714\n"
     ]
    }
   ],
   "source": [
    "lens = []\n",
    "for data in X:\n",
    "    lens.append(len(data))\n",
    "print(max(lens), min(lens), sum(lens) / len(lens))"
   ]
  },
  {
   "cell_type": "code",
   "execution_count": 20,
   "metadata": {},
   "outputs": [],
   "source": [
    "for i in range(len(X)):\n",
    "    X[i] = np.append(np.zeros((max(n_timesteps - X[i].shape[0], 0), X[i].shape[1]), dtype=int), X[i], axis=0)"
   ]
  },
  {
   "cell_type": "code",
   "execution_count": 21,
   "metadata": {},
   "outputs": [],
   "source": [
    "X = np.array(X)\n",
    "y = np.array(y)\n",
    "bincount_classes = np.bincount(y)\n",
    "weights = {0: bincount_classes[0] / np.max(bincount_classes), 1: bincount_classes[1] / np.max(bincount_classes)}"
   ]
  },
  {
   "cell_type": "code",
   "execution_count": null,
   "metadata": {},
   "outputs": [],
   "source": [
    "#upsample\n",
    "minority_class = X[y==1]\n",
    "bc = np.bincount(y)\n",
    "upsampled_minority_class = resample(minority_class, replace=True, n_samples=bc[0]-bc[1], random_state=123)\n",
    "upsampled_X = np.append(X, upsampled_minority_class, axis=0)\n",
    "upsampled_y = np.append(y, np.ones(bc[0]-bc[1], dtype=int))\n",
    "weights = {0: 1, 1: 1}"
   ]
  },
  {
   "cell_type": "code",
   "execution_count": 22,
   "metadata": {},
   "outputs": [],
   "source": [
    "train_ratio = 0.8\n",
    "validation_ratio = 0.1\n",
    "test_ratio = 0.1\n",
    "\n",
    "X_train, X_test, y_train, y_test = train_test_split(X, y, test_size=1 - train_ratio)\n",
    "X_val, X_test, y_val, y_test = train_test_split(X_test, y_test, test_size=test_ratio/(test_ratio + validation_ratio))"
   ]
  },
  {
   "cell_type": "code",
   "execution_count": 29,
   "metadata": {},
   "outputs": [],
   "source": [
    "batch_size = 64\n",
    "epochs = 30"
   ]
  },
  {
   "cell_type": "markdown",
   "metadata": {},
   "source": [
    "# FCN"
   ]
  },
  {
   "cell_type": "code",
   "execution_count": 30,
   "metadata": {
    "scrolled": true
   },
   "outputs": [
    {
     "name": "stdout",
     "output_type": "stream",
     "text": [
      "Model: \"functional_7\"\n",
      "_________________________________________________________________\n",
      "Layer (type)                 Output Shape              Param #   \n",
      "=================================================================\n",
      "input_4 (InputLayer)         [(None, 80, 27)]          0         \n",
      "_________________________________________________________________\n",
      "conv1d_7 (Conv1D)            (None, 80, 128)           27776     \n",
      "_________________________________________________________________\n",
      "batch_normalization_3 (Batch (None, 80, 128)           512       \n",
      "_________________________________________________________________\n",
      "activation_3 (Activation)    (None, 80, 128)           0         \n",
      "_________________________________________________________________\n",
      "conv1d_8 (Conv1D)            (None, 80, 256)           164096    \n",
      "_________________________________________________________________\n",
      "batch_normalization_4 (Batch (None, 80, 256)           1024      \n",
      "_________________________________________________________________\n",
      "activation_4 (Activation)    (None, 80, 256)           0         \n",
      "_________________________________________________________________\n",
      "conv1d_9 (Conv1D)            (None, 80, 128)           98432     \n",
      "_________________________________________________________________\n",
      "batch_normalization_5 (Batch (None, 80, 128)           512       \n",
      "_________________________________________________________________\n",
      "activation_5 (Activation)    (None, 80, 128)           0         \n",
      "_________________________________________________________________\n",
      "global_average_pooling1d_1 ( (None, 128)               0         \n",
      "_________________________________________________________________\n",
      "dense_3 (Dense)              (None, 1)                 129       \n",
      "=================================================================\n",
      "Total params: 292,481\n",
      "Trainable params: 291,457\n",
      "Non-trainable params: 1,024\n",
      "_________________________________________________________________\n",
      "Epoch 1/30\n",
      "1094/1094 [==============================] - 51s 47ms/step - loss: 0.2885 - auc: 0.6214 - val_loss: 0.2920 - val_auc: 0.6542\n",
      "Epoch 2/30\n",
      "1094/1094 [==============================] - 53s 49ms/step - loss: 0.2840 - auc: 0.6403 - val_loss: 0.2886 - val_auc: 0.6494\n",
      "Epoch 3/30\n",
      "1094/1094 [==============================] - 51s 47ms/step - loss: 0.2825 - auc: 0.6469 - val_loss: 0.2907 - val_auc: 0.6611\n",
      "Epoch 4/30\n",
      "1094/1094 [==============================] - 51s 47ms/step - loss: 0.2822 - auc: 0.6464 - val_loss: 0.2879 - val_auc: 0.6621\n",
      "Epoch 5/30\n",
      "1094/1094 [==============================] - 51s 47ms/step - loss: 0.2816 - auc: 0.6503 - val_loss: 0.2876 - val_auc: 0.6725\n",
      "Epoch 6/30\n",
      "1094/1094 [==============================] - 51s 46ms/step - loss: 0.2808 - auc: 0.6533 - val_loss: 0.3893 - val_auc: 0.6619\n",
      "Epoch 7/30\n",
      "1094/1094 [==============================] - 52s 47ms/step - loss: 0.2801 - auc: 0.6592 - val_loss: 0.2957 - val_auc: 0.6724\n",
      "Epoch 8/30\n",
      "1094/1094 [==============================] - 53s 49ms/step - loss: 0.2799 - auc: 0.6576 - val_loss: 0.2944 - val_auc: 0.6673\n",
      "Epoch 9/30\n",
      "1094/1094 [==============================] - 51s 46ms/step - loss: 0.2794 - auc: 0.6601 - val_loss: 0.3023 - val_auc: 0.6683\n",
      "Epoch 10/30\n",
      "1094/1094 [==============================] - 51s 47ms/step - loss: 0.2793 - auc: 0.6612 - val_loss: 0.3843 - val_auc: 0.6626\n",
      "Epoch 11/30\n",
      "1094/1094 [==============================] - 51s 47ms/step - loss: 0.2788 - auc: 0.6650 - val_loss: 0.2853 - val_auc: 0.6746\n",
      "Epoch 12/30\n",
      "1094/1094 [==============================] - 52s 48ms/step - loss: 0.2791 - auc: 0.6615 - val_loss: 0.2835 - val_auc: 0.6730\n",
      "Epoch 13/30\n",
      "1094/1094 [==============================] - 52s 48ms/step - loss: 0.2785 - auc: 0.6644 - val_loss: 0.2829 - val_auc: 0.6780\n",
      "Epoch 14/30\n",
      "1094/1094 [==============================] - 55s 50ms/step - loss: 0.2785 - auc: 0.6654 - val_loss: 0.2823 - val_auc: 0.6756\n",
      "Epoch 15/30\n",
      "1094/1094 [==============================] - 52s 48ms/step - loss: 0.2780 - auc: 0.6660 - val_loss: 0.2826 - val_auc: 0.6773\n",
      "Epoch 16/30\n",
      "1094/1094 [==============================] - 52s 47ms/step - loss: 0.2776 - auc: 0.6692 - val_loss: 0.2846 - val_auc: 0.6738\n",
      "Epoch 17/30\n",
      "1094/1094 [==============================] - 53s 48ms/step - loss: 0.2779 - auc: 0.6664 - val_loss: 0.2961 - val_auc: 0.6517\n",
      "Epoch 18/30\n",
      "1094/1094 [==============================] - 52s 48ms/step - loss: 0.2775 - auc: 0.6696 - val_loss: 0.2824 - val_auc: 0.6826\n",
      "Epoch 19/30\n",
      "1094/1094 [==============================] - 54s 50ms/step - loss: 0.2773 - auc: 0.6694 - val_loss: 0.2838 - val_auc: 0.6811\n",
      "Epoch 20/30\n",
      "1094/1094 [==============================] - 55s 51ms/step - loss: 0.2770 - auc: 0.6716 - val_loss: 0.2858 - val_auc: 0.6643\n",
      "Epoch 21/30\n",
      "1094/1094 [==============================] - 53s 48ms/step - loss: 0.2769 - auc: 0.6726 - val_loss: 0.2911 - val_auc: 0.6673\n",
      "Epoch 22/30\n",
      "1094/1094 [==============================] - 53s 48ms/step - loss: 0.2767 - auc: 0.6724 - val_loss: 0.2871 - val_auc: 0.6786\n",
      "Epoch 23/30\n",
      "1094/1094 [==============================] - 52s 48ms/step - loss: 0.2764 - auc: 0.6738 - val_loss: 0.2881 - val_auc: 0.6817\n",
      "Epoch 24/30\n",
      "1094/1094 [==============================] - 52s 48ms/step - loss: 0.2762 - auc: 0.6751 - val_loss: 0.3618 - val_auc: 0.6518\n",
      "Epoch 25/30\n",
      "1094/1094 [==============================] - 54s 49ms/step - loss: 0.2756 - auc: 0.6767 - val_loss: 0.3231 - val_auc: 0.6700\n",
      "Epoch 26/30\n",
      "1094/1094 [==============================] - 54s 50ms/step - loss: 0.2760 - auc: 0.6753 - val_loss: 0.2861 - val_auc: 0.6677\n",
      "Epoch 27/30\n",
      "1094/1094 [==============================] - 52s 48ms/step - loss: 0.2758 - auc: 0.6783 - val_loss: 0.2822 - val_auc: 0.6821\n",
      "Epoch 28/30\n",
      "1094/1094 [==============================] - 52s 48ms/step - loss: 0.2753 - auc: 0.6782 - val_loss: 0.2842 - val_auc: 0.6760\n",
      "Epoch 29/30\n",
      "1094/1094 [==============================] - 52s 48ms/step - loss: 0.2756 - auc: 0.6787 - val_loss: 0.2944 - val_auc: 0.6702\n",
      "Epoch 30/30\n",
      "1094/1094 [==============================] - 52s 48ms/step - loss: 0.2754 - auc: 0.6769 - val_loss: 0.2829 - val_auc: 0.6831\n"
     ]
    }
   ],
   "source": [
    "model_fcn = Classifier_FCN(X[0].shape, nb_classes=2)\n",
    "model_fcn.fit(X_train, y_train, X_val, y_val, batch_size=batch_size, epochs=epochs)"
   ]
  },
  {
   "cell_type": "code",
   "execution_count": 31,
   "metadata": {},
   "outputs": [
    {
     "data": {
      "text/plain": [
       "0.6727910449383746"
      ]
     },
     "execution_count": 31,
     "metadata": {},
     "output_type": "execute_result"
    }
   ],
   "source": [
    "y_pred_fcn = model_fcn.predict(X_test)\n",
    "roc_auc_score(y_test, y_pred_fcn) #0.6824 - imbalanced, 0.7854 - balanced (upsampled)"
   ]
  },
  {
   "cell_type": "markdown",
   "metadata": {},
   "source": [
    "# ResNet"
   ]
  },
  {
   "cell_type": "code",
   "execution_count": null,
   "metadata": {},
   "outputs": [],
   "source": [
    "model_resnet = Classifier_RESNET(X[0].shape, nb_classes=2, verbose=True)\n",
    "model_resnet.fit(X_train, y_train, X_val, y_val)"
   ]
  },
  {
   "cell_type": "code",
   "execution_count": null,
   "metadata": {},
   "outputs": [],
   "source": [
    "y_pred_resnet = model_resnet.predict(X_test)\n",
    "roc_auc_score(y_test, y_pred_resnet)"
   ]
  }
 ],
 "metadata": {
  "kernelspec": {
   "display_name": "Python 3",
   "language": "python",
   "name": "python3"
  },
  "language_info": {
   "codemirror_mode": {
    "name": "ipython",
    "version": 3
   },
   "file_extension": ".py",
   "mimetype": "text/x-python",
   "name": "python",
   "nbconvert_exporter": "python",
   "pygments_lexer": "ipython3",
   "version": "3.8.3"
  }
 },
 "nbformat": 4,
 "nbformat_minor": 4
}
