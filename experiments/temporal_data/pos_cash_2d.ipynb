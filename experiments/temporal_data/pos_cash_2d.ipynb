{
 "cells": [
  {
   "cell_type": "code",
   "execution_count": 1,
   "metadata": {},
   "outputs": [
    {
     "data": {
      "text/plain": [
       "<module 'classifiers.resnet' from '/home/aasleptsov98/Coursework/cnn_vs_rnn/classifiers/resnet.py'>"
      ]
     },
     "execution_count": 1,
     "metadata": {},
     "output_type": "execute_result"
    }
   ],
   "source": [
    "import numpy as np\n",
    "import pandas as pd\n",
    "import importlib\n",
    "import sys\n",
    "# import keras\n",
    "from tqdm import tqdm\n",
    "import pickle\n",
    "from sklearn import preprocessing\n",
    "from sklearn.model_selection import train_test_split\n",
    "from keras.utils import to_categorical\n",
    "from keras.optimizers import SGD\n",
    "from sklearn.preprocessing import StandardScaler\n",
    "from sklearn.metrics import roc_auc_score\n",
    "from sklearn.utils import class_weight\n",
    "from sklearn.utils import resample\n",
    "from collections import defaultdict\n",
    "from collections import Counter\n",
    "\n",
    "from classifiers.cnn2d import Classifier_CNN2D\n",
    "from classifiers.fcn2d import Classifier_FCN2D\n",
    "from classifiers.resnet import Classifier_RESNET\n",
    "importlib.reload(sys.modules[Classifier_CNN2D.__module__])\n",
    "importlib.reload(sys.modules[Classifier_FCN2D.__module__])\n",
    "importlib.reload(sys.modules[Classifier_RESNET.__module__])"
   ]
  },
  {
   "cell_type": "code",
   "execution_count": 2,
   "metadata": {},
   "outputs": [],
   "source": [
    "data_name = \"pos_cash.data.pkl\""
   ]
  },
  {
   "cell_type": "code",
   "execution_count": 3,
   "metadata": {},
   "outputs": [],
   "source": [
    "app_train = pd.read_csv(\"input/application_train.csv\")\n",
    "pos_cash_balance = pd.read_csv(\"input/POS_CASH_balance.csv\")"
   ]
  },
  {
   "cell_type": "code",
   "execution_count": 4,
   "metadata": {},
   "outputs": [],
   "source": [
    "pos_cash_balance = pos_cash_balance.fillna(0)"
   ]
  },
  {
   "cell_type": "code",
   "execution_count": 5,
   "metadata": {},
   "outputs": [
    {
     "data": {
      "text/plain": [
       "OneHotEncoder()"
      ]
     },
     "execution_count": 5,
     "metadata": {},
     "output_type": "execute_result"
    }
   ],
   "source": [
    "ohe = preprocessing.OneHotEncoder()\n",
    "categories = np.array(list(set(pos_cash_balance[\"NAME_CONTRACT_STATUS\"].astype(str).values))).reshape(-1,1)\n",
    "ohe.fit(categories)"
   ]
  },
  {
   "cell_type": "code",
   "execution_count": 6,
   "metadata": {},
   "outputs": [],
   "source": [
    "encoded = np.array(ohe.transform(pos_cash_balance[\"NAME_CONTRACT_STATUS\"].values.reshape(-1,1)).todense())\n",
    "temp_df = pd.DataFrame(encoded, columns=range(encoded.shape[1]))"
   ]
  },
  {
   "cell_type": "code",
   "execution_count": 7,
   "metadata": {},
   "outputs": [],
   "source": [
    "pos_cash_balance = pd.concat([pos_cash_balance.drop([\"NAME_CONTRACT_STATUS\"], axis=1), temp_df], axis=1)"
   ]
  },
  {
   "cell_type": "code",
   "execution_count": 11,
   "metadata": {},
   "outputs": [],
   "source": [
    "n_timesteps = 40\n",
    "n_credits = 5\n",
    "n_features = pos_cash_balance.shape[1] - 2"
   ]
  },
  {
   "cell_type": "code",
   "execution_count": 9,
   "metadata": {},
   "outputs": [
    {
     "name": "stderr",
     "output_type": "stream",
     "text": [
      "307511it [00:54, 5596.45it/s]\n"
     ]
    }
   ],
   "source": [
    "targets = dict()\n",
    "for index, row in tqdm(app_train.iterrows()):\n",
    "    targets[row[\"SK_ID_CURR\"]] = row[\"TARGET\"]"
   ]
  },
  {
   "cell_type": "code",
   "execution_count": 13,
   "metadata": {
    "scrolled": false
   },
   "outputs": [
    {
     "name": "stderr",
     "output_type": "stream",
     "text": [
      "100%|██████████| 936325/936325 [24:37<00:00, 633.59it/s] \n"
     ]
    }
   ],
   "source": [
    "credits_X = defaultdict(list)\n",
    "credits_y = defaultdict(int)\n",
    "\n",
    "for id_cur, df_id_cur in tqdm(pos_cash_balance.groupby(by=[\"SK_ID_PREV\", \"SK_ID_CURR\"])):\n",
    "    if len(df_id_cur) > 0 and id_cur[1] in targets:\n",
    "        credits_X[id_cur[1]].append(df_id_cur.sort_values(by=['MONTHS_BALANCE'])[-n_timesteps:].drop([\"SK_ID_PREV\", \"SK_ID_CURR\"], axis=1).values)\n",
    "        credits_y[id_cur[1]] = targets[id_cur[1]]"
   ]
  },
  {
   "cell_type": "code",
   "execution_count": null,
   "metadata": {},
   "outputs": [],
   "source": [
    "X = []\n",
    "y = []\n",
    "\n",
    "for key in credits_X.keys():\n",
    "    X.append(credits_X[key])\n",
    "    y.append(credits_y[key])"
   ]
  },
  {
   "cell_type": "code",
   "execution_count": 18,
   "metadata": {},
   "outputs": [],
   "source": [
    "with open(data_name, \"wb\") as f:\n",
    "    pickle.dump((X, y), f)"
   ]
  },
  {
   "cell_type": "code",
   "execution_count": 20,
   "metadata": {},
   "outputs": [],
   "source": [
    "for i in range(len(X)):\n",
    "    for j in range(len(X[i])):\n",
    "        X[i][j] = np.append(np.zeros((max(n_timesteps - X[i][j].shape[0], 0), X[i][j].shape[1]), dtype=int), X[i][j], axis=0)\n",
    "    for j in range(n_credits - len(X[i])):\n",
    "        X[i].append(np.zeros((n_timesteps, n_features), dtype=int))\n",
    "    if len(X[i]) > n_credits:\n",
    "        X[i] = X[i][:n_credits]"
   ]
  },
  {
   "cell_type": "code",
   "execution_count": 21,
   "metadata": {},
   "outputs": [],
   "source": [
    "X = np.array(X)\n",
    "y = np.array(y)\n",
    "bincount_classes = np.bincount(y)\n",
    "weights = {0: bincount_classes[0] / np.max(bincount_classes), 1: bincount_classes[1] / np.max(bincount_classes)}"
   ]
  },
  {
   "cell_type": "code",
   "execution_count": null,
   "metadata": {},
   "outputs": [],
   "source": [
    "#upsample\n",
    "minority_class = X[y==1]\n",
    "bc = np.bincount(y)\n",
    "upsampled_minority_class = resample(minority_class, replace=True, n_samples=bc[0]-bc[1], random_state=123)\n",
    "upsampled_X = np.append(X, upsampled_minority_class, axis=0)\n",
    "upsampled_y = np.append(y, np.ones(bc[0]-bc[1], dtype=int))\n",
    "weights = {0: 1, 1: 1}"
   ]
  },
  {
   "cell_type": "code",
   "execution_count": 22,
   "metadata": {},
   "outputs": [],
   "source": [
    "train_ratio = 0.8\n",
    "validation_ratio = 0.1\n",
    "test_ratio = 0.1\n",
    "\n",
    "X_train, X_test, y_train, y_test = train_test_split(X, y, test_size=1 - train_ratio)\n",
    "X_val, X_test, y_val, y_test = train_test_split(X_test, y_test, test_size=test_ratio/(test_ratio + validation_ratio))"
   ]
  },
  {
   "cell_type": "code",
   "execution_count": 29,
   "metadata": {},
   "outputs": [],
   "source": [
    "batch_size = 64\n",
    "epochs = 30"
   ]
  },
  {
   "cell_type": "markdown",
   "metadata": {},
   "source": [
    "# FCN"
   ]
  },
  {
   "cell_type": "code",
   "execution_count": null,
   "metadata": {
    "scrolled": true
   },
   "outputs": [
    {
     "name": "stdout",
     "output_type": "stream",
     "text": [
      "Model: \"functional_7\"\n",
      "_________________________________________________________________\n",
      "Layer (type)                 Output Shape              Param #   \n",
      "=================================================================\n",
      "input_4 (InputLayer)         [(None, 80, 27)]          0         \n",
      "_________________________________________________________________\n",
      "conv1d_7 (Conv1D)            (None, 80, 128)           27776     \n",
      "_________________________________________________________________\n",
      "batch_normalization_3 (Batch (None, 80, 128)           512       \n",
      "_________________________________________________________________\n",
      "activation_3 (Activation)    (None, 80, 128)           0         \n",
      "_________________________________________________________________\n",
      "conv1d_8 (Conv1D)            (None, 80, 256)           164096    \n",
      "_________________________________________________________________\n",
      "batch_normalization_4 (Batch (None, 80, 256)           1024      \n",
      "_________________________________________________________________\n",
      "activation_4 (Activation)    (None, 80, 256)           0         \n",
      "_________________________________________________________________\n",
      "conv1d_9 (Conv1D)            (None, 80, 128)           98432     \n",
      "_________________________________________________________________\n",
      "batch_normalization_5 (Batch (None, 80, 128)           512       \n",
      "_________________________________________________________________\n",
      "activation_5 (Activation)    (None, 80, 128)           0         \n",
      "_________________________________________________________________\n",
      "global_average_pooling1d_1 ( (None, 128)               0         \n",
      "_________________________________________________________________\n",
      "dense_3 (Dense)              (None, 1)                 129       \n",
      "=================================================================\n",
      "Total params: 292,481\n",
      "Trainable params: 291,457\n",
      "Non-trainable params: 1,024\n",
      "_________________________________________________________________\n",
      "Epoch 1/30\n",
      "1094/1094 [==============================] - 51s 47ms/step - loss: 0.2885 - auc: 0.6214 - val_loss: 0.2920 - val_auc: 0.6542\n",
      "Epoch 2/30\n",
      "1094/1094 [==============================] - 53s 49ms/step - loss: 0.2840 - auc: 0.6403 - val_loss: 0.2886 - val_auc: 0.6494\n",
      "Epoch 3/30\n",
      " 585/1094 [===============>..............] - ETA: 22s - loss: 0.2852 - auc: 0.6471"
     ]
    }
   ],
   "source": [
    "model_fcn = Classifier_FCN2D(X[0].shape, nb_classes=2)\n",
    "model_fcn.fit(X_train, y_train, X_val, y_val, batch_size=batch_size, epochs=epochs)"
   ]
  },
  {
   "cell_type": "code",
   "execution_count": null,
   "metadata": {},
   "outputs": [],
   "source": [
    "y_pred_fcn = model_fcn.predict(X_test)\n",
    "roc_auc_score(y_test, y_pred_fcn)"
   ]
  },
  {
   "cell_type": "markdown",
   "metadata": {},
   "source": [
    "# ResNet"
   ]
  },
  {
   "cell_type": "code",
   "execution_count": null,
   "metadata": {},
   "outputs": [],
   "source": [
    "model_resnet = Classifier_RESNET(X[0].shape, nb_classes=2, verbose=True)\n",
    "model_resnet.fit(X_train, y_train, X_val, y_val)"
   ]
  },
  {
   "cell_type": "code",
   "execution_count": null,
   "metadata": {},
   "outputs": [],
   "source": [
    "y_pred_resnet = model_resnet.predict(X_test)\n",
    "roc_auc_score(y_test, y_pred_resnet)"
   ]
  }
 ],
 "metadata": {
  "kernelspec": {
   "display_name": "Python 3",
   "language": "python",
   "name": "python3"
  },
  "language_info": {
   "codemirror_mode": {
    "name": "ipython",
    "version": 3
   },
   "file_extension": ".py",
   "mimetype": "text/x-python",
   "name": "python",
   "nbconvert_exporter": "python",
   "pygments_lexer": "ipython3",
   "version": "3.8.3"
  }
 },
 "nbformat": 4,
 "nbformat_minor": 4
}
